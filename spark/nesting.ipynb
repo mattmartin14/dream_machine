{
 "cells": [
  {
   "cell_type": "code",
   "execution_count": null,
   "metadata": {},
   "outputs": [],
   "source": [
    "\"\"\"\n",
    "Author: Matt Martin\n",
    "Date: 2/26/24\n",
    "Desc: Demonstrates how to nest rows in the same table in spark using array_agg/struct\n",
    "\"\"\""
   ]
  },
  {
   "cell_type": "code",
   "execution_count": null,
   "metadata": {},
   "outputs": [],
   "source": [
    "import os\n",
    "dw_path = os.path.expanduser(\"~\")+'/test_dummy_data/spark/test_dw'\n",
    "\n",
    "## create the spark connection/instance\n",
    "from pyspark.sql import SparkSession\n",
    "spark = SparkSession.builder.appName(\"test\") \\\n",
    "    .config(\"spark.sql.warehouse.dir\", dw_path) \\\n",
    "    .config(\"spark.driver.memory\", \"2g\") \\\n",
    "    .config(\"spark.executor.memory\", \"8g\") \\\n",
    "    .config(\"spark.executor.instances\", 10) \\\n",
    "    .getOrCreate()"
   ]
  },
  {
   "cell_type": "code",
   "execution_count": 5,
   "metadata": {},
   "outputs": [],
   "source": [
    "#1: generate some data\n",
    "data = [\n",
    "    {'dept_id':1,'name':'Bill','title':'manager'},\n",
    "    {'dept_id':1,'name':'Fred','title':'Director'},\n",
    "    {'dept_id':2,'name':'Ted','title':'Analyst'},\n",
    "    {'dept_id':2,'name':'Amy','title':'Snr Analyst'}\n",
    "]\n",
    "df = spark.createDataFrame(data)"
   ]
  },
  {
   "cell_type": "code",
   "execution_count": 10,
   "metadata": {},
   "outputs": [],
   "source": [
    "#2: Nest the groupable columns together\n",
    "sql = \"\"\"\n",
    "select dept_id\n",
    "    , array_agg(struct(name, title)) as emp_dtl\n",
    "from {df}\n",
    "group by 1\n",
    "\"\"\"\n",
    "dfn = spark.sql(sql, df=df)"
   ]
  },
  {
   "cell_type": "code",
   "execution_count": 11,
   "metadata": {},
   "outputs": [],
   "source": [
    "dfn.write.mode('overwrite').saveAsTable('employee_dept_hier')"
   ]
  },
  {
   "cell_type": "code",
   "execution_count": 18,
   "metadata": {},
   "outputs": [
    {
     "name": "stdout",
     "output_type": "stream",
     "text": [
      "+-------+----+-----------+\n",
      "|dept_id|name|      title|\n",
      "+-------+----+-----------+\n",
      "|      1|Bill|    manager|\n",
      "|      1|Fred|   Director|\n",
      "|      2| Ted|    Analyst|\n",
      "|      2| Amy|Snr Analyst|\n",
      "+-------+----+-----------+\n",
      "\n"
     ]
    }
   ],
   "source": [
    "#3: using the \"lateral view explode\", unnest the data so it shows all in the same row as the header info\n",
    "sql = \"\"\"\n",
    "select\n",
    "    hdr.dept_id\n",
    "    ,dtl.name\n",
    "    ,dtl.title\n",
    "from employee_dept_hier as hdr\n",
    "    lateral view explode(emp_dtl) as dtl\n",
    "\"\"\"\n",
    "spark.sql(sql).show()"
   ]
  }
 ],
 "metadata": {
  "kernelspec": {
   "display_name": ".venv",
   "language": "python",
   "name": "python3"
  },
  "language_info": {
   "codemirror_mode": {
    "name": "ipython",
    "version": 3
   },
   "file_extension": ".py",
   "mimetype": "text/x-python",
   "name": "python",
   "nbconvert_exporter": "python",
   "pygments_lexer": "ipython3",
   "version": "3.12.0"
  }
 },
 "nbformat": 4,
 "nbformat_minor": 2
}
