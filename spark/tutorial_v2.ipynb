{
 "cells": [
  {
   "cell_type": "code",
   "execution_count": null,
   "metadata": {},
   "outputs": [],
   "source": [
    "\"\"\"\n",
    "Author: Matt Martin\n",
    "Date: 2/8/24\n",
    "Desc: Demo using spark to transform data\n",
    "\"\"\"\n",
    "\n",
    "## create the spark connection/instance\n",
    "from pyspark.sql import SparkSession\n",
    "spark = SparkSession.builder.appName(\"test\") \\\n",
    "    .config(\"spark.sql.warehouse.dir\", \"./test_dw\") \\\n",
    "    .getOrCreate()"
   ]
  },
  {
   "cell_type": "code",
   "execution_count": null,
   "metadata": {},
   "outputs": [],
   "source": [
    "## generate some dummy data and write to parquet\n",
    "#%pip install Faker\n",
    "\n",
    "from faker import Faker\n",
    "fake = Faker()\n",
    "data = []\n",
    "for i in range(0,1001):\n",
    "    data.append({'first_name':fake.first_name(), 'last_name':fake.last_name(),'street_adrs':fake.street_address()\n",
    "                 ,'zip_cd':fake.zipcode(), 'state_abrv':fake.state_abbr()})\n",
    "\n",
    "df = spark.createDataFrame(data)\n",
    "\n",
    "df.write.parquet('./dummy_data.parquet')"
   ]
  },
  {
   "cell_type": "code",
   "execution_count": 11,
   "metadata": {},
   "outputs": [],
   "source": [
    "#task: Combine first and last name to one field and combine the address to one field separated by a dash\n",
    "\n",
    "df1 = spark.read.parquet('./dummy_data.parquet')\n",
    "df1.createOrReplaceTempView('people')\n"
   ]
  },
  {
   "cell_type": "code",
   "execution_count": null,
   "metadata": {},
   "outputs": [],
   "source": [
    "## transform and write out\n",
    "sql = \"\"\"\n",
    "    select concat(first_name, ' ',last_name) as full_name\n",
    "        ,concat(street_adrs,'-',zip_cd,'-',state_abrv) as full_adrs\n",
    "    from people\n",
    "\"\"\"\n",
    "dft = spark.sql(sql)\n",
    "dft.show(5)"
   ]
  },
  {
   "cell_type": "code",
   "execution_count": 17,
   "metadata": {},
   "outputs": [],
   "source": [
    "dft.write.parquet('./people_tsfm.parquet')"
   ]
  },
  {
   "cell_type": "code",
   "execution_count": 20,
   "metadata": {},
   "outputs": [],
   "source": [
    "spark.stop()"
   ]
  }
 ],
 "metadata": {
  "kernelspec": {
   "display_name": ".venv",
   "language": "python",
   "name": "python3"
  },
  "language_info": {
   "codemirror_mode": {
    "name": "ipython",
    "version": 3
   },
   "file_extension": ".py",
   "mimetype": "text/x-python",
   "name": "python",
   "nbconvert_exporter": "python",
   "pygments_lexer": "ipython3",
   "version": "3.12.0"
  }
 },
 "nbformat": 4,
 "nbformat_minor": 2
}
