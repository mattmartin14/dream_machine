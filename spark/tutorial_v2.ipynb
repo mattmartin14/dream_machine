{
 "cells": [
  {
   "cell_type": "code",
   "execution_count": 10,
   "metadata": {},
   "outputs": [],
   "source": [
    "\"\"\"\n",
    "Author: Matt Martin\n",
    "Date: 2/8/24\n",
    "Desc: Demo using spark to transform data\n",
    "\"\"\"\n",
    "\n",
    "## create the spark connection/instance\n",
    "from pyspark.sql import SparkSession\n",
    "spark = SparkSession.builder.appName(\"test\").getOrCreate()"
   ]
  },
  {
   "cell_type": "code",
   "execution_count": 22,
   "metadata": {},
   "outputs": [],
   "source": [
    "## generate some dummy data and write to parquet\n",
    "#%pip install Faker\n",
    "\n",
    "from faker import Faker\n",
    "fake = Faker()\n",
    "data = []\n",
    "for i in range(0,1001):\n",
    "    data.append({'first_name':fake.first_name(), 'last_name':fake.last_name(),'street_adrs':fake.street_address()\n",
    "                 ,'zip_cd':fake.zipcode(), 'state_abrv':fake.state_abbr()})\n",
    "\n",
    "df = spark.createDataFrame(data)\n",
    "\n",
    "df.write.mode('overwrite').parquet('./dummy_data/')"
   ]
  },
  {
   "cell_type": "code",
   "execution_count": 19,
   "metadata": {},
   "outputs": [
    {
     "name": "stdout",
     "output_type": "stream",
     "text": [
      "1001\n"
     ]
    }
   ],
   "source": [
    "#task: Combine first and last name to one field and combine the address to one field separated by a dash\n",
    "\n",
    "df1 = spark.read.parquet('./dummy_data')\n",
    "df1.createOrReplaceTempView('people')\n"
   ]
  },
  {
   "cell_type": "code",
   "execution_count": null,
   "metadata": {},
   "outputs": [],
   "source": [
    "## transform and write out\n",
    "sql = \"\"\"\n",
    "    select concat(first_name, ' ',last_name) as full_name\n",
    "        ,concat(street_adrs,'-',zip_cd,'-',state_abrv) as full_adrs\n",
    "    from people\n",
    "\"\"\"\n",
    "dft = spark.sql(sql)\n",
    "dft.show(5)"
   ]
  },
  {
   "cell_type": "code",
   "execution_count": null,
   "metadata": {},
   "outputs": [],
   "source": [
    "dft.write.mode('overwrite').parquet('./people_tsfm/')"
   ]
  },
  {
   "cell_type": "code",
   "execution_count": 23,
   "metadata": {},
   "outputs": [],
   "source": [
    "spark.stop()"
   ]
  }
 ],
 "metadata": {
  "kernelspec": {
   "display_name": ".venv",
   "language": "python",
   "name": "python3"
  },
  "language_info": {
   "codemirror_mode": {
    "name": "ipython",
    "version": 3
   },
   "file_extension": ".py",
   "mimetype": "text/x-python",
   "name": "python",
   "nbconvert_exporter": "python",
   "pygments_lexer": "ipython3",
   "version": "3.12.0"
  }
 },
 "nbformat": 4,
 "nbformat_minor": 2
}
