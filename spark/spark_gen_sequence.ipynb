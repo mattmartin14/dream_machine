{
 "cells": [
  {
   "cell_type": "code",
   "execution_count": null,
   "metadata": {},
   "outputs": [],
   "source": [
    "\"\"\"\n",
    "Author: Matt Martin\n",
    "Date: 1/27/24\n",
    "Desc: Shows a few ways to generate a sequential list of integers for a dataframe/table\n",
    "\"\"\"\n",
    "\n",
    "## create the spark connection/instance\n",
    "from pyspark.sql import SparkSession\n",
    "spark = SparkSession.builder.appName(\"sequence\").getOrCreate()\n",
    "tot_rows = 1_000_000"
   ]
  },
  {
   "cell_type": "code",
   "execution_count": null,
   "metadata": {},
   "outputs": [],
   "source": [
    "#method 1: a loop\n",
    "ints = []\n",
    "for i in range(1,tot_rows+1):\n",
    "    ints.append({'row_id':i})\n",
    "df1 = spark.createDataFrame(ints)\n",
    "df1.write.mode('overwrite').parquet('./numbers1.parquet')"
   ]
  },
  {
   "cell_type": "code",
   "execution_count": null,
   "metadata": {},
   "outputs": [],
   "source": [
    "#method 2: built in spark range iterator\n",
    "df2 = spark.range(1,tot_rows+1).toDF('row_id')\n",
    "df2.write.mode('overwrite').parquet('./numbers2.parquet')"
   ]
  },
  {
   "cell_type": "code",
   "execution_count": null,
   "metadata": {},
   "outputs": [],
   "source": [
    "spark.sql(\"select count(*) as row_cnt from {df}\", df=df2).show()\n",
    "spark.sql(\"select count(*) as row_cnt from {df}\", df=df1).show()"
   ]
  },
  {
   "cell_type": "code",
   "execution_count": null,
   "metadata": {},
   "outputs": [],
   "source": [
    "spark.stop"
   ]
  }
 ],
 "metadata": {
  "kernelspec": {
   "display_name": ".venv",
   "language": "python",
   "name": "python3"
  },
  "language_info": {
   "codemirror_mode": {
    "name": "ipython",
    "version": 3
   },
   "file_extension": ".py",
   "mimetype": "text/x-python",
   "name": "python",
   "nbconvert_exporter": "python",
   "pygments_lexer": "ipython3",
   "version": "3.10.13"
  }
 },
 "nbformat": 4,
 "nbformat_minor": 2
}
