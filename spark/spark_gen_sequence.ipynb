{
 "cells": [
  {
   "cell_type": "code",
   "execution_count": 2,
   "metadata": {},
   "outputs": [
    {
     "name": "stderr",
     "output_type": "stream",
     "text": [
      "24/01/27 06:30:07 WARN SparkSession: Using an existing Spark session; only runtime SQL configurations will take effect.\n"
     ]
    }
   ],
   "source": [
    "\"\"\"\n",
    "Author: Matt Martin\n",
    "Date: 1/27/24\n",
    "Desc: Shows a few ways to generate a sequential list of integers for a dataframe/table\n",
    "\"\"\"\n",
    "\n",
    "## create the spark connection/instance\n",
    "from pyspark.sql import SparkSession\n",
    "spark = SparkSession.builder.appName(\"test\") \\\n",
    "    .config(\"spark.sql.warehouse.dir\", \"./test_dw\") \\\n",
    "    .getOrCreate()\n",
    "\n",
    "tot_rows = 1_000_000"
   ]
  },
  {
   "cell_type": "code",
   "execution_count": 5,
   "metadata": {},
   "outputs": [],
   "source": [
    "#method 1: a loop\n",
    "ints = []\n",
    "for i in range(1,tot_rows+1):\n",
    "    ints.append({'row_id':i})\n",
    "df = spark.createDataFrame(ints)"
   ]
  },
  {
   "cell_type": "code",
   "execution_count": 6,
   "metadata": {},
   "outputs": [],
   "source": [
    "#method 2: built in spark range iterator\n",
    "df2 = spark.range(1,tot_rows+1).toDF('row_id')"
   ]
  }
 ],
 "metadata": {
  "kernelspec": {
   "display_name": ".venv",
   "language": "python",
   "name": "python3"
  },
  "language_info": {
   "codemirror_mode": {
    "name": "ipython",
    "version": 3
   },
   "file_extension": ".py",
   "mimetype": "text/x-python",
   "name": "python",
   "nbconvert_exporter": "python",
   "pygments_lexer": "ipython3",
   "version": "3.10.13"
  }
 },
 "nbformat": 4,
 "nbformat_minor": 2
}
