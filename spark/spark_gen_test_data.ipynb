{
 "cells": [
  {
   "cell_type": "code",
   "execution_count": null,
   "metadata": {},
   "outputs": [],
   "source": [
    "\"\"\"\n",
    "Author: Matt Martin\n",
    "Date: 1/27/24\n",
    "Desc: Various techniques to generate test data in spark\n",
    "\"\"\"\n",
    "\n",
    "## create the spark connection/instance\n",
    "from pyspark.sql import SparkSession\n",
    "spark = SparkSession.builder \\\n",
    "    .appName(\"sequence\") \\\n",
    "    .config(\"spark.driver.memory\", \"2g\") \\\n",
    "    .config(\"spark.executor.memory\", \"8g\") \\\n",
    "    .config(\"spark.executor.instances\", 10) \\\n",
    "    .getOrCreate()"
   ]
  },
  {
   "cell_type": "code",
   "execution_count": 4,
   "metadata": {},
   "outputs": [],
   "source": [
    "#generate row sequence\n",
    "df = spark.range(1,1_000_001).toDF('row_id')\n",
    "#generate a list of dates\n",
    "start_dt = \"2001-01-01\"\n",
    "end_dt = \"2024-05-10\"\n",
    "dates = spark.sql(f\"SELECT explode(sequence(to_date('{start_dt}'), to_date('{end_dt}'), interval 1 day)) as date\")"
   ]
  },
  {
   "cell_type": "code",
   "execution_count": 5,
   "metadata": {},
   "outputs": [],
   "source": [
    "df.createOrReplaceTempView('numbers')\n",
    "dates.createOrReplaceTempView('dates')"
   ]
  },
  {
   "cell_type": "code",
   "execution_count": 6,
   "metadata": {},
   "outputs": [
    {
     "name": "stdout",
     "output_type": "stream",
     "text": [
      "+------+----------+\n",
      "|row_id|      date|\n",
      "+------+----------+\n",
      "|     1|2001-01-01|\n",
      "|     1|2001-01-02|\n",
      "|     1|2001-01-03|\n",
      "|     1|2001-01-04|\n",
      "|     1|2001-01-05|\n",
      "|     1|2001-01-06|\n",
      "|     1|2001-01-07|\n",
      "|     1|2001-01-08|\n",
      "|     1|2001-01-09|\n",
      "|     1|2001-01-10|\n",
      "+------+----------+\n",
      "only showing top 10 rows\n",
      "\n"
     ]
    }
   ],
   "source": [
    "sql = \"\"\"\n",
    "select n.row_id, d.date\n",
    "from numbers as n, dates as d\n",
    "limit 10000\n",
    "\"\"\"\n",
    "spark.sql(sql).show(10)"
   ]
  },
  {
   "cell_type": "code",
   "execution_count": null,
   "metadata": {},
   "outputs": [],
   "source": [
    "spark.stop"
   ]
  }
 ],
 "metadata": {
  "kernelspec": {
   "display_name": ".venv",
   "language": "python",
   "name": "python3"
  },
  "language_info": {
   "codemirror_mode": {
    "name": "ipython",
    "version": 3
   },
   "file_extension": ".py",
   "mimetype": "text/x-python",
   "name": "python",
   "nbconvert_exporter": "python",
   "pygments_lexer": "ipython3",
   "version": "3.12.0"
  }
 },
 "nbformat": 4,
 "nbformat_minor": 2
}
