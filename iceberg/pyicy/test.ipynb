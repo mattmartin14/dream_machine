{
 "cells": [
  {
   "cell_type": "markdown",
   "metadata": {},
   "source": [
    "### Notes\n",
    "\n",
    "the iceberg extension in duckdb still seems like it needs work. the iceberg_scan function seems to be looking for files like \"version-hint.txt\" which pyiceberg does not generate\n",
    "best to stick with using pyiceberg table objects for duckdb to read from"
   ]
  },
  {
   "cell_type": "code",
   "execution_count": 74,
   "metadata": {},
   "outputs": [],
   "source": [
    "import duckdb\n",
    "import polars as pl\n",
    "from pyiceberg.catalog.sql import SqlCatalog\n",
    "import uuid\n",
    "from datetime import date\n",
    "import numpy as np"
   ]
  },
  {
   "cell_type": "code",
   "execution_count": 71,
   "metadata": {},
   "outputs": [],
   "source": [
    "cn = duckdb.connect()"
   ]
  },
  {
   "cell_type": "code",
   "execution_count": 72,
   "metadata": {},
   "outputs": [],
   "source": [
    "warehouse_path = \"./icehouse\"\n",
    "catalog = SqlCatalog(\n",
    "    \"default\",\n",
    "    **{\n",
    "        \"uri\": f\"sqlite:///{warehouse_path}/icyhot.db\",\n",
    "        \"warehouse\": f\"file://{warehouse_path}\",\n",
    "    },\n",
    ")"
   ]
  },
  {
   "cell_type": "code",
   "execution_count": 73,
   "metadata": {},
   "outputs": [],
   "source": [
    "catalog.create_namespace(\"dummy_data\")"
   ]
  },
  {
   "cell_type": "markdown",
   "metadata": {},
   "source": [
    "### Generate Datasets in DuckDB and Polars"
   ]
  },
  {
   "cell_type": "code",
   "execution_count": 76,
   "metadata": {},
   "outputs": [],
   "source": [
    "rows = 5000\n",
    "\n",
    "#duckdb\n",
    "sql = f\"\"\"\n",
    "    select t.row_id, uuid() as txn_key, current_date as rpt_dt\n",
    "        ,round(random() * 100,2) as some_val\n",
    "    from generate_series(1,{rows}) t(row_id)\n",
    "\"\"\"\n",
    "\n",
    "duck_df = cn.execute(sql).arrow()\n",
    "\n",
    "#polars\n",
    "polars_df = pl.DataFrame({\n",
    "    'row_id': pl.arange(0, rows, eager=True),\n",
    "    'rpt_dt': pl.Series([date.today()] * rows),\n",
    "    'some_val': pl.Series(np.floor(np.random.rand(rows) * 100).astype(int)),\n",
    "    'txn_key': pl.Series([str(uuid.uuid4()) for _ in range(rows)])\n",
    "}).to_arrow()"
   ]
  },
  {
   "cell_type": "code",
   "execution_count": 77,
   "metadata": {},
   "outputs": [],
   "source": [
    "#create the empty tables\n",
    "table_ducks = catalog.create_table(\"dummy_data.duckdb_data\",schema = duck_df.schema)\n",
    "table_polars = catalog.create_table(\"dummy_data.polars_data\", schema = polars_df.schema)"
   ]
  },
  {
   "cell_type": "code",
   "execution_count": 78,
   "metadata": {},
   "outputs": [],
   "source": [
    "#append the data to each\n",
    "table_ducks.append(duck_df)\n",
    "table_polars.append(polars_df)"
   ]
  },
  {
   "cell_type": "code",
   "execution_count": 82,
   "metadata": {},
   "outputs": [
    {
     "name": "stdout",
     "output_type": "stream",
     "text": [
      "duckdb table has 5000 rows\n",
      "polars table has 5000 rows\n"
     ]
    }
   ],
   "source": [
    "#validate\n",
    "print('duckdb table has {0} rows'.format(len(table_ducks.scan().to_arrow())))\n",
    "print('polars table has {0} rows'.format(len(table_polars.scan().to_arrow())))"
   ]
  },
  {
   "cell_type": "code",
   "execution_count": 94,
   "metadata": {},
   "outputs": [
    {
     "name": "stdout",
     "output_type": "stream",
     "text": [
      "┌──────────┬───────────────────┐\n",
      "│ tot_rows │      agg_val      │\n",
      "│  int64   │      double       │\n",
      "├──────────┼───────────────────┤\n",
      "│     5000 │ 250860.8700000002 │\n",
      "└──────────┴───────────────────┘\n",
      "\n"
     ]
    }
   ],
   "source": [
    "#read back in duckdb\n",
    "cn = table_ducks.scan().to_duckdb(table_name=\"duck_back\")\n",
    "cn.sql(\"select count(row_id) as tot_rows, sum(some_val) as agg_val from duck_back\").show()"
   ]
  },
  {
   "cell_type": "code",
   "execution_count": 85,
   "metadata": {},
   "outputs": [
    {
     "data": {
      "text/html": [
       "<div><style>\n",
       ".dataframe > thead > tr,\n",
       ".dataframe > tbody > tr {\n",
       "  text-align: right;\n",
       "  white-space: pre-wrap;\n",
       "}\n",
       "</style>\n",
       "<small>shape: (1, 2)</small><table border=\"1\" class=\"dataframe\"><thead><tr><th>tot_rows</th><th>agg_val</th></tr><tr><td>u32</td><td>i64</td></tr></thead><tbody><tr><td>5000</td><td>246610</td></tr></tbody></table></div>"
      ],
      "text/plain": [
       "shape: (1, 2)\n",
       "┌──────────┬─────────┐\n",
       "│ tot_rows ┆ agg_val │\n",
       "│ ---      ┆ ---     │\n",
       "│ u32      ┆ i64     │\n",
       "╞══════════╪═════════╡\n",
       "│ 5000     ┆ 246610  │\n",
       "└──────────┴─────────┘"
      ]
     },
     "execution_count": 85,
     "metadata": {},
     "output_type": "execute_result"
    }
   ],
   "source": [
    "# read back in polars\n",
    "df = pl.scan_iceberg(table_polars).collect()\n",
    "\n",
    "df.select(\n",
    "    pl.col('row_id').count().alias(\"tot_rows\")\n",
    "    , pl.col('some_val').sum().alias('agg_val')\n",
    ")\n"
   ]
  }
 ],
 "metadata": {
  "kernelspec": {
   "display_name": ".venv",
   "language": "python",
   "name": "python3"
  },
  "language_info": {
   "codemirror_mode": {
    "name": "ipython",
    "version": 3
   },
   "file_extension": ".py",
   "mimetype": "text/x-python",
   "name": "python",
   "nbconvert_exporter": "python",
   "pygments_lexer": "ipython3",
   "version": "3.11.5"
  }
 },
 "nbformat": 4,
 "nbformat_minor": 2
}
