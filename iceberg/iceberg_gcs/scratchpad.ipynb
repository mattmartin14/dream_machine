{
 "cells": [
  {
   "cell_type": "code",
   "execution_count": 4,
   "metadata": {},
   "outputs": [],
   "source": [
    "#%pip install pyspark"
   ]
  },
  {
   "cell_type": "code",
   "execution_count": 5,
   "metadata": {},
   "outputs": [],
   "source": [
    "#%pip install google-cloud-storage"
   ]
  },
  {
   "cell_type": "markdown",
   "metadata": {},
   "source": [
    "TO DO:\n",
    "\n",
    "- clean up code\n",
    "- might want to not point to the latest gsc connector but an actual version for compatability\n",
    "- write post on it"
   ]
  },
  {
   "cell_type": "code",
   "execution_count": null,
   "metadata": {},
   "outputs": [
    {
     "name": "stderr",
     "output_type": "stream",
     "text": [
      "Setting default log level to \"WARN\".\n",
      "To adjust logging level use sc.setLogLevel(newLevel). For SparkR, use setLogLevel(newLevel).\n",
      "24/12/27 06:24:15 WARN NativeCodeLoader: Unable to load native-hadoop library for your platform... using builtin-java classes where applicable\n"
     ]
    }
   ],
   "source": [
    "from pyspark.sql import SparkSession\n",
    "import os\n",
    "\n",
    "# .config(\"spark.hadoop.gooogle.cloud.auth.null.credential.enabled\", \"true\") \\\n",
    "# .config(\"spark.hadoop.google.cloud.auth.service.account.enable\",\"true\") \\\n",
    "#.config(\"spark.hadoop.google.cloud.auth.type\",\"APPLICATION_DEFAULT\") \\\n",
    "#.config(\"spark.jars.packages\",\"com.google.cloud.bigdataoss:gcs-connector:hadoop3-2.2.26\") \\\n",
    "\n",
    "\"\"\"\n",
    "This works for spark to write directly to gcs in parquet; if i try to go via ivy with spark.jars.packages, it blows up and doesnt work\n",
    "\"\"\"\n",
    "\n",
    "spark = SparkSession.builder \\\n",
    "    .appName(\"GCSTest\") \\\n",
    "    .config(\"spark.jars\", \"https://storage.googleapis.com/hadoop-lib/gcs/gcs-connector-hadoop3-latest.jar\") \\\n",
    "    .config(\"spark.hadoop.google.cloud.auth.service.account.enable\",\"true\") \\\n",
    "    .getOrCreate()\n",
    "\n",
    "\n",
    "gcs_path = f\"gs://{os.getenv(\"GCS_BUCKET\")}/data_output2\"\n",
    "\n",
    "# Create a DataFrame with dummy data\n",
    "data = [(\"Alice\", 25), (\"Bob\", 30), (\"Cathy\", 35)]\n",
    "columns = [\"Name\", \"Age\"]\n",
    "\n",
    "df = spark.createDataFrame(data, columns)\n",
    "#print(df)\n",
    "df.write.mode(\"overwrite\").parquet(gcs_path)\n"
   ]
  },
  {
   "cell_type": "code",
   "execution_count": 1,
   "metadata": {},
   "outputs": [],
   "source": [
    "## This works using a google service account\n",
    "from pyspark.sql import SparkSession\n",
    "import os\n",
    "catalog_name = \"iceberg\"\n",
    "\n",
    "def get_spark_instance_via_gsa(catalog_name) -> SparkSession:\n",
    "\n",
    "    spark_version = \"3.5\"\n",
    "    scala_version = \"2.12\"\n",
    "    iceberg_version = \"1.7.0\"\n",
    "\n",
    "    import os\n",
    "    from pyspark.sql import SparkSession\n",
    "    from pyspark.sql.functions import current_date, rand, floor, expr\n",
    "\n",
    "    #catalog_name = \"iceberg\"\n",
    "    #warehouse_path = \"./icehouse\"\n",
    "\n",
    "    warehouse_path = f\"gs://{os.getenv(\"GCS_BUCKET\")}/icehouse\"\n",
    "    #print(gcs_path)\n",
    "\n",
    "    return SparkSession.builder \\\n",
    "        .appName(\"local_iceberg_example\") \\\n",
    "        .config(\"spark.sql.extensions\", \"org.apache.iceberg.spark.extensions.IcebergSparkSessionExtensions\") \\\n",
    "        .config(f\"spark.sql.catalog.{catalog_name}\", \"org.apache.iceberg.spark.SparkCatalog\") \\\n",
    "        .config(f\"spark.sql.catalog.{catalog_name}.type\", \"hadoop\") \\\n",
    "        .config(f\"spark.sql.catalog.{catalog_name}.warehouse\", warehouse_path) \\\n",
    "        .config(\"spark.sql.warehouse.dir\", warehouse_path) \\\n",
    "        .config(\"spark.jars.packages\", f\"org.apache.iceberg:iceberg-spark-runtime-{spark_version}_{scala_version}:{iceberg_version},com.google.guava:guava:30.1.1-jre\") \\\n",
    "        .config(\"spark.jars\", \"https://storage.googleapis.com/hadoop-lib/gcs/gcs-connector-hadoop3-latest.jar\") \\\n",
    "        .config(\"spark.hadoop.google.cloud.auth.service.account.enable\",\"true\") \\\n",
    "        .config(\"spark.hadoop.fs.gs.impl\", \"com.google.cloud.hadoop.fs.gcs.GoogleHadoopFileSystem\") \\\n",
    "        .config(\"spark.hadoop.fs.AbstractFileSystem.gs.impl\", \"com.google.cloud.hadoop.fs.gcs.GoogleHadoopFS\") \\\n",
    "        .config(\"spark.hadoop.google.cloud.auth.service.account.json.keyfile\", os.getenv(\"GOOGLE_APPLICATION_CREDENTIALS\")) \\\n",
    "        .getOrCreate()"
   ]
  },
  {
   "cell_type": "code",
   "execution_count": null,
   "metadata": {},
   "outputs": [],
   "source": [
    "spark = get_spark_instance_via_gsa(catalog_name)"
   ]
  },
  {
   "cell_type": "code",
   "execution_count": 3,
   "metadata": {},
   "outputs": [
    {
     "name": "stdout",
     "output_type": "stream",
     "text": [
      "DataFrame[Name: string, Age: bigint]\n"
     ]
    }
   ],
   "source": [
    "# Create a DataFrame with dummy data\n",
    "data = [(\"Alice\", 25), (\"Bob\", 30), (\"Cathy\", 35)]\n",
    "columns = [\"Name\", \"Age\"]\n",
    "\n",
    "df = spark.createDataFrame(data, columns)\n",
    "print(df)\n"
   ]
  },
  {
   "cell_type": "code",
   "execution_count": 4,
   "metadata": {},
   "outputs": [],
   "source": [
    "namespace = \"dummy_ns\"\n",
    "\n",
    "## not needed\n",
    "#spark.sql(f\"create namespace {namespace}\")"
   ]
  },
  {
   "cell_type": "code",
   "execution_count": null,
   "metadata": {},
   "outputs": [],
   "source": [
    "table_name = \"dummy_data5\"\n",
    "\n",
    "df.writeTo(f\"{catalog_name}.{namespace}.{table_name}\") \\\n",
    "    .using(\"iceberg\") \\\n",
    "    .createOrReplace()"
   ]
  }
 ],
 "metadata": {
  "kernelspec": {
   "display_name": ".venv",
   "language": "python",
   "name": "python3"
  },
  "language_info": {
   "codemirror_mode": {
    "name": "ipython",
    "version": 3
   },
   "file_extension": ".py",
   "mimetype": "text/x-python",
   "name": "python",
   "nbconvert_exporter": "python",
   "pygments_lexer": "ipython3",
   "version": "3.13.1"
  }
 },
 "nbformat": 4,
 "nbformat_minor": 2
}
