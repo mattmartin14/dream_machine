{
 "cells": [
  {
   "cell_type": "code",
   "execution_count": null,
   "metadata": {},
   "outputs": [],
   "source": [
    "\"\"\"\n",
    "    Author: Matt Martin\n",
    "    Date: 2023-11-07\n",
    "    Desc: Pyspark Iceberg Demo\n",
    "\"\"\"\n",
    "\n",
    "import pyspark\n",
    "from pyspark.sql import SparkSession\n",
    "import os\n",
    "\n",
    "spark = SparkSession.builder \\\n",
    "    .master(\"local\") \\\n",
    "    .config(\"spark.sql.extensions\",\"org.apache.iceberg.spark.extensions.IcebergSparkSessionExtensions\") \\\n",
    "    .config(\"spark.sql.catalog.spark_catalog\",\"org.apache.iceberg.spark.SparkSessionCatalog\") \\\n",
    "    .config(\"spark.sql.catalog.spark_catalog.type\", \"hive\") \\\n",
    "    .config(\"spark.sql.catalog.local\", \"org.apache.iceberg.spark.SparkCatalog\") \\\n",
    "    .config(\"spark.sql.catalog.local.type\", \"hadoop\") \\\n",
    "    .config(\"spark.sql.catalog.local.warehouse\", \"./warehouse\") \\\n",
    "    .config(\"spark.sql.defaultCatalog\", \"local\") \\\n",
    "    .getOrCreate()\n"
   ]
  },
  {
   "cell_type": "code",
   "execution_count": null,
   "metadata": {},
   "outputs": [],
   "source": [
    "# create a table\n",
    "sql = \"\"\"\n",
    "CREATE or replace TABLE local.b1.employees (first_name string, last_name string, age int) using iceberg\n",
    "\"\"\"\n",
    "spark.sql(sql).show()"
   ]
  },
  {
   "cell_type": "code",
   "execution_count": null,
   "metadata": {},
   "outputs": [],
   "source": [
    "sql = \"\"\"\n",
    "CREATE or replace TABLE local.b1.employees2 (first_name string, last_name string, age int) using iceberg\n",
    "\"\"\"\n",
    "spark.sql(sql).show()"
   ]
  },
  {
   "cell_type": "code",
   "execution_count": null,
   "metadata": {},
   "outputs": [],
   "source": [
    "#load some dummy data\n",
    "sql = \"\"\"\n",
    "INSERT INTO local.b1.employees VALUES ('Tom', 'Brady', 44)\n",
    "\"\"\"\n",
    "spark.sql(sql)\n",
    "\n",
    "sql = \"\"\"\n",
    "INSERT INTO local.b1.employees2 \n",
    "    VALUES \n",
    "         ('Aaron', 'Rodgers', 39)\n",
    "        ,('Tom', 'Brady', 45)\n",
    "\"\"\"\n",
    "spark.sql(sql)"
   ]
  },
  {
   "cell_type": "code",
   "execution_count": null,
   "metadata": {},
   "outputs": [],
   "source": [
    "#merge example\n",
    "sql = \"\"\"\n",
    "MERGE INTO local.b1.employees as tgt\n",
    "    using local.b1.employees2 as src\n",
    "        on tgt.first_name = src.first_name and tgt.last_name = src.last_name\n",
    "    when matched then update set tgt.age = src.age\n",
    "    when not matched then \n",
    "        insert *\n",
    "\"\"\"\n",
    "\n",
    "spark.sql(sql)"
   ]
  },
  {
   "cell_type": "code",
   "execution_count": null,
   "metadata": {},
   "outputs": [],
   "source": [
    "#validate\n",
    "spark.sql(\"select * from local.b1.employees\").show()"
   ]
  },
  {
   "cell_type": "code",
   "execution_count": null,
   "metadata": {},
   "outputs": [],
   "source": [
    "#delete example\n",
    "spark.sql(\"delete from local.b1.employees where age > 41\")"
   ]
  },
  {
   "cell_type": "code",
   "execution_count": null,
   "metadata": {},
   "outputs": [],
   "source": [
    "#validate again\n",
    "spark.sql(\"select * from local.b1.employees\").show()"
   ]
  }
 ],
 "metadata": {
  "language_info": {
   "name": "python"
  }
 },
 "nbformat": 4,
 "nbformat_minor": 2
}
