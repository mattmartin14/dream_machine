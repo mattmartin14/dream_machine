{
 "cells": [
  {
   "cell_type": "code",
   "execution_count": null,
   "metadata": {},
   "outputs": [],
   "source": [
    "\"\"\"\n",
    "Author: Matt Martin\n",
    "Date: 11/2/2023\n",
    "Desc: Demo's duckdb capabilities\n",
    "\"\"\""
   ]
  },
  {
   "cell_type": "code",
   "execution_count": 6,
   "metadata": {},
   "outputs": [
    {
     "ename": "ModuleNotFoundError",
     "evalue": "No module named 'duckdb'",
     "output_type": "error",
     "traceback": [
      "\u001b[0;31m---------------------------------------------------------------------------\u001b[0m",
      "\u001b[0;31mModuleNotFoundError\u001b[0m                       Traceback (most recent call last)",
      "Cell \u001b[0;32mIn[6], line 1\u001b[0m\n\u001b[0;32m----> 1\u001b[0m \u001b[38;5;28;01mimport\u001b[39;00m \u001b[38;5;21;01mduckdb\u001b[39;00m\n",
      "\u001b[0;31mModuleNotFoundError\u001b[0m: No module named 'duckdb'"
     ]
    }
   ],
   "source": [
    "import duckdb"
   ]
  },
  {
   "cell_type": "code",
   "execution_count": 7,
   "metadata": {},
   "outputs": [
    {
     "ename": "ModuleNotFoundError",
     "evalue": "No module named 'duckdb'",
     "output_type": "error",
     "traceback": [
      "\u001b[0;31m---------------------------------------------------------------------------\u001b[0m",
      "\u001b[0;31mModuleNotFoundError\u001b[0m                       Traceback (most recent call last)",
      "Cell \u001b[0;32mIn[7], line 2\u001b[0m\n\u001b[1;32m      1\u001b[0m \u001b[38;5;66;03m#%pip install duckdb\u001b[39;00m\n\u001b[0;32m----> 2\u001b[0m \u001b[38;5;28;01mimport\u001b[39;00m \u001b[38;5;21;01mduckdb\u001b[39;00m\n\u001b[1;32m      4\u001b[0m \u001b[38;5;66;03m#create the database\u001b[39;00m\n\u001b[1;32m      5\u001b[0m cn \u001b[38;5;241m=\u001b[39m duckdb\u001b[38;5;241m.\u001b[39mconnect(\u001b[38;5;124m\"\u001b[39m\u001b[38;5;124mmighty_ducks.db\u001b[39m\u001b[38;5;124m\"\u001b[39m)\n",
      "\u001b[0;31mModuleNotFoundError\u001b[0m: No module named 'duckdb'"
     ]
    }
   ],
   "source": [
    "#%pip install duckdb\n",
    "import duckdb\n",
    "\n",
    "#create the database\n",
    "cn = duckdb.connect(\"mighty_ducks.db\")"
   ]
  },
  {
   "cell_type": "code",
   "execution_count": 4,
   "metadata": {},
   "outputs": [
    {
     "ename": "NameError",
     "evalue": "name 'cn' is not defined",
     "output_type": "error",
     "traceback": [
      "\u001b[0;31m---------------------------------------------------------------------------\u001b[0m",
      "\u001b[0;31mNameError\u001b[0m                                 Traceback (most recent call last)",
      "Cell \u001b[0;32mIn[4], line 3\u001b[0m\n\u001b[1;32m      1\u001b[0m \u001b[38;5;66;03m#create table and load some data\u001b[39;00m\n\u001b[0;32m----> 3\u001b[0m \u001b[43mcn\u001b[49m\u001b[38;5;241m.\u001b[39msql(\u001b[38;5;124m\"\u001b[39m\u001b[38;5;124mcreate or replace table roster (name string, age int, position string)\u001b[39m\u001b[38;5;124m\"\u001b[39m)\n\u001b[1;32m      5\u001b[0m \u001b[38;5;66;03m#load data\u001b[39;00m\n\u001b[1;32m      6\u001b[0m sql \u001b[38;5;241m=\u001b[39m \u001b[38;5;124m\"\"\"\u001b[39m\n\u001b[1;32m      7\u001b[0m \u001b[38;5;124m    insert into roster (name, age, position)\u001b[39m\n\u001b[1;32m      8\u001b[0m \u001b[38;5;124m    values\u001b[39m\n\u001b[0;32m   (...)\u001b[0m\n\u001b[1;32m     12\u001b[0m \u001b[38;5;124m        ,(\u001b[39m\u001b[38;5;124m'\u001b[39m\u001b[38;5;124mFulton\u001b[39m\u001b[38;5;124m'\u001b[39m\u001b[38;5;124m, 16, \u001b[39m\u001b[38;5;124m'\u001b[39m\u001b[38;5;124menforcer\u001b[39m\u001b[38;5;124m'\u001b[39m\u001b[38;5;124m)\u001b[39m\n\u001b[1;32m     13\u001b[0m \u001b[38;5;124m\"\"\"\u001b[39m\n",
      "\u001b[0;31mNameError\u001b[0m: name 'cn' is not defined"
     ]
    }
   ],
   "source": [
    "#create table and load some data\n",
    "\n",
    "cn.sql(\"create or replace table roster (name string, age int, position string)\")\n",
    "\n",
    "#load data\n",
    "sql = \"\"\"\n",
    "    insert into roster (name, age, position)\n",
    "    values\n",
    "         ('Gordon', 51, 'coach')\n",
    "        ,('Charlie', 14, 'center')\n",
    "        ,('Golberg', 15, 'goalie')\n",
    "        ,('Fulton', 16, 'enforcer')\n",
    "\"\"\"\n",
    "cn.sql(sql)"
   ]
  },
  {
   "cell_type": "code",
   "execution_count": 17,
   "metadata": {},
   "outputs": [],
   "source": [
    "# update some data\n",
    "cn.sql(\"update roster set age = 52 where name = 'Gordon'\")"
   ]
  },
  {
   "cell_type": "code",
   "execution_count": 16,
   "metadata": {},
   "outputs": [
    {
     "name": "stdout",
     "output_type": "stream",
     "text": [
      "┌─────────┬───────┬──────────┐\n",
      "│  name   │  age  │ position │\n",
      "│ varchar │ int32 │ varchar  │\n",
      "├─────────┼───────┼──────────┤\n",
      "│ Gordon  │    52 │ coach    │\n",
      "│ Charlie │    14 │ center   │\n",
      "│ Golberg │    15 │ goalie   │\n",
      "│ Fulton  │    16 │ enforcer │\n",
      "└─────────┴───────┴──────────┘\n",
      "\n"
     ]
    }
   ],
   "source": [
    "#view results\n",
    "cn.sql(\"select * from roster\").show()"
   ]
  },
  {
   "cell_type": "code",
   "execution_count": 15,
   "metadata": {},
   "outputs": [],
   "source": [
    "#expoert to parquet\n",
    "cn.sql(\"select * from roster\").to_parquet('roster.parquet')"
   ]
  },
  {
   "cell_type": "code",
   "execution_count": 14,
   "metadata": {},
   "outputs": [],
   "source": [
    "cn.sql(\"create or replace table roster2 as SELECT * from 'roster.parquet'\")"
   ]
  },
  {
   "cell_type": "code",
   "execution_count": 20,
   "metadata": {},
   "outputs": [],
   "source": [
    "cn.close()"
   ]
  }
 ],
 "metadata": {
  "kernelspec": {
   "display_name": "Python 3 (ipykernel)",
   "language": "python",
   "name": "python3"
  },
  "language_info": {
   "codemirror_mode": {
    "name": "ipython",
    "version": 3
   },
   "file_extension": ".py",
   "mimetype": "text/x-python",
   "name": "python",
   "nbconvert_exporter": "python",
   "pygments_lexer": "ipython3",
   "version": "3.12.0"
  }
 },
 "nbformat": 4,
 "nbformat_minor": 4
}
