{
 "cells": [
  {
   "cell_type": "code",
   "execution_count": null,
   "metadata": {},
   "outputs": [],
   "source": [
    "#https://duckdb.org/community_extensions/extensions/bigquery.html"
   ]
  },
  {
   "cell_type": "code",
   "execution_count": null,
   "metadata": {},
   "outputs": [],
   "source": [
    "%pip install duckdb"
   ]
  },
  {
   "cell_type": "markdown",
   "metadata": {},
   "source": [
    "#### Testing Using DuckDB To Query Google BigQuery\n",
    "- works fine when dealing with a single project for read/write bq tables\n",
    "- tried the biglake iceberg tables and you had to use the bigquery_execute function which is effectively a passthrough\n",
    "- did not like when i tried to co-mingle a duckdb query to load to a bigquery external table"
   ]
  },
  {
   "cell_type": "code",
   "execution_count": 1,
   "metadata": {},
   "outputs": [
    {
     "data": {
      "text/plain": [
       "<duckdb.duckdb.DuckDBPyConnection at 0x1042e9f30>"
      ]
     },
     "execution_count": 1,
     "metadata": {},
     "output_type": "execute_result"
    }
   ],
   "source": [
    "import duckdb\n",
    "\n",
    "cn = duckdb.connect()\n",
    "\n",
    "cn.execute(\"\"\"\n",
    "    INSTALL bigquery FROM community;\n",
    "    LOAD bigquery;\n",
    "\"\"\")"
   ]
  },
  {
   "cell_type": "code",
   "execution_count": 2,
   "metadata": {},
   "outputs": [
    {
     "data": {
      "text/plain": [
       "<duckdb.duckdb.DuckDBPyConnection at 0x1042e9f30>"
      ]
     },
     "execution_count": 2,
     "metadata": {},
     "output_type": "execute_result"
    }
   ],
   "source": [
    "import os\n",
    "bq_project = os.getenv(\"GOOGLE_CLOUD_PROJECT\")\n",
    "cn.execute(f\"ATTACH 'project={bq_project}' as bq (TYPE bigquery)\")"
   ]
  },
  {
   "cell_type": "code",
   "execution_count": 5,
   "metadata": {},
   "outputs": [
    {
     "name": "stdout",
     "output_type": "stream",
     "text": [
      "┌─────────────────────────────┬───────────────┬────────────┐\n",
      "│            Path             │     Value     │  filename  │\n",
      "│           varchar           │    varchar    │  varchar   │\n",
      "├─────────────────────────────┼───────────────┼────────────┤\n",
      "│ states/state/name/@nickname │ Granola State │ California │\n",
      "│ states/state/name/#text     │ California    │ California │\n",
      "│ states/state/population     │ 39538223      │ California │\n",
      "└─────────────────────────────┴───────────────┴────────────┘\n",
      "\n"
     ]
    }
   ],
   "source": [
    "sql = \"\"\"\n",
    "SELECT *\n",
    "FROM bq.test_ds.states_flat\n",
    "LIMIT 3\n",
    "\"\"\"\n",
    "\n",
    "cn.sql(sql).show()"
   ]
  },
  {
   "cell_type": "code",
   "execution_count": null,
   "metadata": {},
   "outputs": [
    {
     "data": {
      "text/plain": [
       "<duckdb.duckdb.DuckDBPyConnection at 0x1056a97b0>"
      ]
     },
     "execution_count": 6,
     "metadata": {},
     "output_type": "execute_result"
    }
   ],
   "source": [
    "#create a standard table\n",
    "row_cnt = 5_000\n",
    "sql = f\"\"\"\n",
    "    CREATE OR REPLACE TABLE bq.test_ds.duck_table\n",
    "    as\n",
    "    select t.row_id, uuid() as txn_key, current_date as rpt_dt\n",
    "        ,round(random() * 100,2) as some_val\n",
    "    from generate_series(1,{row_cnt}) t(row_id)\n",
    "\"\"\"\n",
    "\n",
    "cn.execute(sql)"
   ]
  },
  {
   "cell_type": "code",
   "execution_count": 5,
   "metadata": {},
   "outputs": [
    {
     "data": {
      "text/plain": [
       "<duckdb.duckdb.DuckDBPyConnection at 0x1042e9f30>"
      ]
     },
     "execution_count": 5,
     "metadata": {},
     "output_type": "execute_result"
    }
   ],
   "source": [
    "#create an iceberg table\n",
    "row_cnt = 5_000\n",
    "gcs_bucket = os.getenv(\"GCS_BUCKET\")\n",
    "sql = f\"\"\"\n",
    "CALL bigquery_execute('bq','\n",
    "CREATE OR REPLACE TABLE test_ds.iceyhot1 (\n",
    "    row_id INT, txn_key STRING, rpt_dt DATE, some_val FLOAT64\n",
    ")\n",
    "WITH CONNECTION us.test_cn_matt\n",
    "OPTIONS (\n",
    "    file_format = ''PARQUET'',\n",
    "    table_format = ''ICEBERG'',\n",
    "    storage_uri = ''gs://{gcs_bucket}/icehouse1/iceyhot1''\n",
    ")\n",
    "')\n",
    "\"\"\"\n",
    "#print(sql)\n",
    "cn.execute(sql)"
   ]
  },
  {
   "cell_type": "code",
   "execution_count": 4,
   "metadata": {},
   "outputs": [
    {
     "ename": "",
     "evalue": "",
     "output_type": "error",
     "traceback": [
      "\u001b[1;31mThe Kernel crashed while executing code in the current cell or a previous cell. \n",
      "\u001b[1;31mPlease review the code in the cell(s) to identify a possible cause of the failure. \n",
      "\u001b[1;31mClick <a href='https://aka.ms/vscodeJupyterKernelCrash'>here</a> for more info. \n",
      "\u001b[1;31mView Jupyter <a href='command:jupyter.viewOutput'>log</a> for further details."
     ]
    }
   ],
   "source": [
    "row_cnt = 5_000\n",
    "sql = f\"\"\"\n",
    "INSERT INTO bq.test_ds.duck_table (row_id, txn_key, rpt_dt, some_val)\n",
    "select t.row_id, uuid() as txn_key, current_date as rpt_dt\n",
    "    ,round(random() * 100,2) as some_val\n",
    "from generate_series(1,{row_cnt}) t(row_id)\n",
    "\"\"\"\n",
    "\n",
    "cn.execute(sql)"
   ]
  },
  {
   "cell_type": "code",
   "execution_count": 4,
   "metadata": {},
   "outputs": [
    {
     "ename": "CatalogException",
     "evalue": "Catalog Error: Table with name icyhot1 does not exist!\nDid you mean \"iceyhot1\"?",
     "output_type": "error",
     "traceback": [
      "\u001b[0;31m---------------------------------------------------------------------------\u001b[0m",
      "\u001b[0;31mCatalogException\u001b[0m                          Traceback (most recent call last)",
      "Cell \u001b[0;32mIn[4], line 1\u001b[0m\n\u001b[0;32m----> 1\u001b[0m \u001b[43mcn\u001b[49m\u001b[38;5;241;43m.\u001b[39;49m\u001b[43msql\u001b[49m\u001b[43m(\u001b[49m\u001b[38;5;124;43m\"\u001b[39;49m\u001b[38;5;124;43mSelect * from bq.test_ds.icyhot1 limit 5\u001b[39;49m\u001b[38;5;124;43m\"\u001b[39;49m\u001b[43m)\u001b[49m\n",
      "\u001b[0;31mCatalogException\u001b[0m: Catalog Error: Table with name icyhot1 does not exist!\nDid you mean \"iceyhot1\"?"
     ]
    }
   ],
   "source": [
    "cn.sql(\"Select * from bq.test_ds.icyhot1 limit 5\")"
   ]
  },
  {
   "cell_type": "code",
   "execution_count": null,
   "metadata": {},
   "outputs": [],
   "source": [
    "### duckdb extension doesnt handle bigquery external tables well\n",
    "## might want to result to the standard google bq api and use a pyarrow dataframe to transfer over"
   ]
  }
 ],
 "metadata": {
  "kernelspec": {
   "display_name": ".venv",
   "language": "python",
   "name": "python3"
  },
  "language_info": {
   "codemirror_mode": {
    "name": "ipython",
    "version": 3
   },
   "file_extension": ".py",
   "mimetype": "text/x-python",
   "name": "python",
   "nbconvert_exporter": "python",
   "pygments_lexer": "ipython3",
   "version": "3.12.3"
  }
 },
 "nbformat": 4,
 "nbformat_minor": 2
}
