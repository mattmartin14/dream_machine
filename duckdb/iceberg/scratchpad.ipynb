{
 "cells": [
  {
   "cell_type": "code",
   "execution_count": null,
   "id": "3a86bf14",
   "metadata": {},
   "outputs": [],
   "source": [
    "%pip install fsspec gcsfs"
   ]
  },
  {
   "cell_type": "code",
   "execution_count": 1,
   "id": "d7133e80",
   "metadata": {},
   "outputs": [],
   "source": [
    "import duckdb\n",
    "import os\n",
    "from fsspec import filesystem\n",
    "\n"
   ]
  },
  {
   "cell_type": "code",
   "execution_count": 2,
   "id": "fa4d5d18",
   "metadata": {},
   "outputs": [
    {
     "name": "stderr",
     "output_type": "stream",
     "text": [
      "/Users/matthewmartin/dream_machine/duckdb/iceberg/.venv/lib/python3.13/site-packages/google/auth/_default.py:76: UserWarning: Your application has authenticated using end user credentials from Google Cloud SDK without a quota project. You might receive a \"quota exceeded\" or \"API not enabled\" error. See the following page for troubleshooting: https://cloud.google.com/docs/authentication/adc-troubleshooting/user-creds. \n",
      "  warnings.warn(_CLOUD_SDK_CREDENTIALS_WARNING)\n"
     ]
    }
   ],
   "source": [
    "cn = duckdb.connect()\n",
    "cn.execute(\"INSTALL iceberg; INSTALL httpfs;\")\n",
    "cn.execute(\"LOAD iceberg;\")\n",
    "cn.register_filesystem(filesystem('gcs'))\n",
    "endpoint = \"https://biglake.googleapis.com/iceberg/v1beta/restcatalog\""
   ]
  },
  {
   "cell_type": "code",
   "execution_count": 3,
   "id": "ae0826f3",
   "metadata": {},
   "outputs": [
    {
     "name": "stderr",
     "output_type": "stream",
     "text": [
      "/Users/matthewmartin/dream_machine/duckdb/iceberg/.venv/lib/python3.13/site-packages/google/auth/_default.py:76: UserWarning: Your application has authenticated using end user credentials from Google Cloud SDK without a quota project. You might receive a \"quota exceeded\" or \"API not enabled\" error. See the following page for troubleshooting: https://cloud.google.com/docs/authentication/adc-troubleshooting/user-creds. \n",
      "  warnings.warn(_CLOUD_SDK_CREDENTIALS_WARNING)\n"
     ]
    },
    {
     "name": "stdout",
     "output_type": "stream",
     "text": [
      "<google.oauth2.credentials.Credentials object at 0x120449d10>\n"
     ]
    }
   ],
   "source": [
    "import gcs_auth\n",
    "gcs = gcs_auth.BigLakeAuthHelper(cn)\n",
    "token = gcs.get_token()"
   ]
  },
  {
   "cell_type": "code",
   "execution_count": 4,
   "id": "df7676ad",
   "metadata": {},
   "outputs": [
    {
     "data": {
      "text/plain": [
       "<_duckdb.DuckDBPyConnection at 0x10644f470>"
      ]
     },
     "execution_count": 4,
     "metadata": {},
     "output_type": "execute_result"
    }
   ],
   "source": [
    "cn.execute(f\"\"\"\n",
    "    CREATE or replace SECRET gcs_auth (\n",
    "        TYPE gcs,\n",
    "        KEY_ID '{os.getenv(\"GCS_KEY\")}',\n",
    "        SECRET '{os.getenv(\"GCS_SECRET\")}'\n",
    "    );        \n",
    "\"\"\")"
   ]
  },
  {
   "cell_type": "code",
   "execution_count": null,
   "id": "b2ead095",
   "metadata": {},
   "outputs": [],
   "source": []
  },
  {
   "cell_type": "code",
   "execution_count": 5,
   "id": "020f15b3",
   "metadata": {},
   "outputs": [
    {
     "name": "stdout",
     "output_type": "stream",
     "text": [
      "data-mattm-test-sbx\n"
     ]
    }
   ],
   "source": [
    "\n",
    "\n",
    "bucket = os.getenv(\"GCS_BUCKET\")\n",
    "\n",
    "print(bucket)"
   ]
  },
  {
   "cell_type": "code",
   "execution_count": 8,
   "id": "6b935a21",
   "metadata": {},
   "outputs": [
    {
     "data": {
      "text/plain": [
       "┌───────┬─────────┐\n",
       "│  id   │  name   │\n",
       "│ int32 │ varchar │\n",
       "├───────┼─────────┤\n",
       "│     1 │ Alice   │\n",
       "│     2 │ Bob     │\n",
       "└───────┴─────────┘"
      ]
     },
     "execution_count": 8,
     "metadata": {},
     "output_type": "execute_result"
    }
   ],
   "source": [
    "cn.sql(f\"\"\"\n",
    "   select *\n",
    "       from read_parquet('gcs://{bucket}/my_new_flock/*.parquet')    \n",
    "\"\"\")"
   ]
  },
  {
   "cell_type": "code",
   "execution_count": null,
   "id": "70b6df04",
   "metadata": {},
   "outputs": [
    {
     "ename": "Error",
     "evalue": "Request to 'https://biglake.googleapis.com/iceberg/v1beta/restcatalog/v1/config?warehouse=gcs%3A%2F%2Fdata-mattm-test-sbx%2Fice_ice_baby' returned a non-200 status code (Forbidden_403), with reason: Forbidden",
     "output_type": "error",
     "traceback": [
      "\u001b[31m---------------------------------------------------------------------------\u001b[39m",
      "\u001b[31mError\u001b[39m                                     Traceback (most recent call last)",
      "\u001b[36mCell\u001b[39m\u001b[36m \u001b[39m\u001b[32mIn[7]\u001b[39m\u001b[32m, line 4\u001b[39m\n\u001b[32m      1\u001b[39m \u001b[38;5;66;03m# wonder if its a duckdb thing or something els\u001b[39;00m\n\u001b[32m      2\u001b[39m \u001b[38;5;66;03m#/ this is the spark example google has: https://cloud.google.com/bigquery/docs/blms-rest-catalog#required_roles\u001b[39;00m\n\u001b[32m      3\u001b[39m \u001b[38;5;66;03m# maybe try it first?\u001b[39;00m\n\u001b[32m----> \u001b[39m\u001b[32m4\u001b[39m \u001b[43mcn\u001b[49m\u001b[43m.\u001b[49m\u001b[43mexecute\u001b[49m\u001b[43m(\u001b[49m\u001b[33;43mf\u001b[39;49m\u001b[33;43m\"\"\"\u001b[39;49m\n\u001b[32m      5\u001b[39m \u001b[33;43m    ATTACH \u001b[39;49m\u001b[33;43m'\u001b[39;49m\u001b[33;43mgcs://\u001b[39;49m\u001b[38;5;132;43;01m{\u001b[39;49;00m\u001b[43mbucket\u001b[49m\u001b[38;5;132;43;01m}\u001b[39;49;00m\u001b[33;43m/ice_ice_baby\u001b[39;49m\u001b[33;43m'\u001b[39;49m\u001b[33;43m \u001b[39;49m\n\u001b[32m      6\u001b[39m \u001b[33;43m    AS biglake\u001b[39;49m\n\u001b[32m      7\u001b[39m \u001b[33;43m        (\u001b[39;49m\n\u001b[32m      8\u001b[39m \u001b[33;43m            TYPE ICEBERG,\u001b[39;49m\n\u001b[32m      9\u001b[39m \u001b[33;43m            ENDPOINT \u001b[39;49m\u001b[33;43m'\u001b[39;49m\u001b[38;5;132;43;01m{\u001b[39;49;00m\u001b[43mendpoint\u001b[49m\u001b[38;5;132;43;01m}\u001b[39;49;00m\u001b[33;43m'\u001b[39;49m\u001b[33;43m,\u001b[39;49m\n\u001b[32m     10\u001b[39m \u001b[33;43m            AUTHORIZATION_TYPE oauth2,\u001b[39;49m\n\u001b[32m     11\u001b[39m \u001b[33;43m            token \u001b[39;49m\u001b[33;43m'\u001b[39;49m\u001b[38;5;132;43;01m{\u001b[39;49;00m\u001b[43mtoken\u001b[49m\u001b[38;5;132;43;01m}\u001b[39;49;00m\u001b[33;43m'\u001b[39;49m\n\u001b[32m     12\u001b[39m \u001b[33;43m        )\u001b[39;49m\n\u001b[32m     13\u001b[39m \u001b[33;43m\"\"\"\u001b[39;49m\u001b[43m)\u001b[49m\n",
      "\u001b[31mError\u001b[39m: Request to 'https://biglake.googleapis.com/iceberg/v1beta/restcatalog/v1/config?warehouse=gcs%3A%2F%2Fdata-mattm-test-sbx%2Fice_ice_baby' returned a non-200 status code (Forbidden_403), with reason: Forbidden"
     ]
    }
   ],
   "source": [
    "\n",
    "# wonder if its a duckdb thing or something els\n",
    "#/ this is the spark example google has: https://cloud.google.com/bigquery/docs/blms-rest-catalog#required_roles\n",
    "# maybe try it first?\n",
    "cn.execute(f\"\"\"\n",
    "    ATTACH 'gcs://{bucket}/ice_ice_baby' \n",
    "    AS biglake\n",
    "        (\n",
    "            TYPE ICEBERG,\n",
    "            ENDPOINT '{endpoint}',\n",
    "            AUTHORIZATION_TYPE oauth2,\n",
    "            token '{token}'\n",
    "        )\n",
    "\"\"\")\n"
   ]
  },
  {
   "cell_type": "code",
   "execution_count": null,
   "id": "9ec74d09",
   "metadata": {},
   "outputs": [],
   "source": [
    "#CREATE TABLE biglake.`myproject.mydataset`.duckdb_test (...)"
   ]
  }
 ],
 "metadata": {
  "kernelspec": {
   "display_name": ".venv (3.13.5)",
   "language": "python",
   "name": "python3"
  },
  "language_info": {
   "codemirror_mode": {
    "name": "ipython",
    "version": 3
   },
   "file_extension": ".py",
   "mimetype": "text/x-python",
   "name": "python",
   "nbconvert_exporter": "python",
   "pygments_lexer": "ipython3",
   "version": "3.13.5"
  }
 },
 "nbformat": 4,
 "nbformat_minor": 5
}
