{
 "cells": [
  {
   "cell_type": "code",
   "execution_count": null,
   "metadata": {},
   "outputs": [],
   "source": [
    "\"\"\"\n",
    "Author: Matt Martin\n",
    "Date: 11/2/2023\n",
    "Desc: Demo's duckdb capabilities\n",
    "\"\"\""
   ]
  },
  {
   "cell_type": "code",
   "execution_count": 9,
   "metadata": {},
   "outputs": [],
   "source": [
    "#%pip install duckdb\n",
    "import duckdb\n",
    "\n",
    "#create the database\n",
    "cn = duckdb.connect(\"mighty_ducks.db\")"
   ]
  },
  {
   "cell_type": "code",
   "execution_count": 19,
   "metadata": {},
   "outputs": [],
   "source": [
    "#create table and load some data\n",
    "\n",
    "cn.sql(\"create or replace table roster (name string, age int, position string)\")\n",
    "\n",
    "#load data\n",
    "sql = \"\"\"\n",
    "    insert into roster (name, age, position)\n",
    "    values\n",
    "         ('Gordon', 51, 'coach')\n",
    "        ,('Charlie', 14, 'center')\n",
    "        ,('Golberg', 15, 'goalie')\n",
    "        ,('Fulton', 16, 'enforcer')\n",
    "\"\"\"\n",
    "cn.sql(sql)"
   ]
  },
  {
   "cell_type": "code",
   "execution_count": 17,
   "metadata": {},
   "outputs": [],
   "source": [
    "# update some data\n",
    "cn.sql(\"update roster set age = 52 where name = 'Gordon'\")"
   ]
  },
  {
   "cell_type": "code",
   "execution_count": 16,
   "metadata": {},
   "outputs": [
    {
     "name": "stdout",
     "output_type": "stream",
     "text": [
      "┌─────────┬───────┬──────────┐\n",
      "│  name   │  age  │ position │\n",
      "│ varchar │ int32 │ varchar  │\n",
      "├─────────┼───────┼──────────┤\n",
      "│ Gordon  │    52 │ coach    │\n",
      "│ Charlie │    14 │ center   │\n",
      "│ Golberg │    15 │ goalie   │\n",
      "│ Fulton  │    16 │ enforcer │\n",
      "└─────────┴───────┴──────────┘\n",
      "\n"
     ]
    }
   ],
   "source": [
    "#view results\n",
    "cn.sql(\"select * from roster\").show()"
   ]
  },
  {
   "cell_type": "code",
   "execution_count": 15,
   "metadata": {},
   "outputs": [],
   "source": [
    "#expoert to parquet\n",
    "cn.sql(\"select * from roster\").to_parquet('roster.parquet')"
   ]
  },
  {
   "cell_type": "code",
   "execution_count": 14,
   "metadata": {},
   "outputs": [],
   "source": [
    "cn.sql(\"create or replace table roster2 as SELECT * from 'roster.parquet'\")"
   ]
  },
  {
   "cell_type": "code",
   "execution_count": 20,
   "metadata": {},
   "outputs": [],
   "source": [
    "cn.close()"
   ]
  }
 ],
 "metadata": {
  "kernelspec": {
   "display_name": ".venv",
   "language": "python",
   "name": "python3"
  },
  "language_info": {
   "codemirror_mode": {
    "name": "ipython",
    "version": 3
   },
   "file_extension": ".py",
   "mimetype": "text/x-python",
   "name": "python",
   "nbconvert_exporter": "python",
   "pygments_lexer": "ipython3",
   "version": "3.11.5"
  }
 },
 "nbformat": 4,
 "nbformat_minor": 2
}
