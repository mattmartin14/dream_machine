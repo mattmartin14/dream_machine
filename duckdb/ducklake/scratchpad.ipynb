{
 "cells": [
  {
   "cell_type": "code",
   "execution_count": null,
   "id": "a7b9cb8c",
   "metadata": {},
   "outputs": [],
   "source": [
    "%pip install duckdb fsspec gcsfs"
   ]
  },
  {
   "cell_type": "code",
   "execution_count": 1,
   "id": "49ecf52d",
   "metadata": {},
   "outputs": [],
   "source": [
    "import duckdb\n",
    "from fsspec import filesystem\n",
    "import os"
   ]
  },
  {
   "cell_type": "code",
   "execution_count": null,
   "id": "a21fbb15",
   "metadata": {},
   "outputs": [],
   "source": [
    "cn = duckdb.connect()\n",
    "cn.register_filesystem(filesystem('gcs'))\n",
    "cn.execute(\"INSTALL ducklake\")"
   ]
  },
  {
   "cell_type": "code",
   "execution_count": null,
   "id": "b935032e",
   "metadata": {},
   "outputs": [],
   "source": [
    "GCS_BUCKET = os.environ.get('GCS_BUCKET')\n",
    "cn.execute(f\"ATTACH 'ducklake:my_new_flock.ducklake' as my_flock (DATA_PATH 'gs://{GCS_BUCKET}/my_new_flock')\")\n",
    "cn.execute(\"USE my_flock\")"
   ]
  },
  {
   "cell_type": "code",
   "execution_count": null,
   "id": "e7fce170",
   "metadata": {},
   "outputs": [
    {
     "name": "stdout",
     "output_type": "stream",
     "text": [
      "┌───────┬─────────┐\n",
      "│  id   │  name   │\n",
      "│ int32 │ varchar │\n",
      "├───────┼─────────┤\n",
      "│     1 │ Alice   │\n",
      "│     2 │ Bob     │\n",
      "└───────┴─────────┘\n",
      "\n"
     ]
    }
   ],
   "source": [
    "cn.execute(\"CREATE TABLE my_table (id INTEGER, name VARCHAR)\")\n",
    "cn.execute(\"INSERT INTO my_table VALUES (1, 'Alice'), (2, 'Bob')\")\n",
    "cn.sql(\"SELECT * FROM my_table\").show()"
   ]
  }
 ],
 "metadata": {
  "kernelspec": {
   "display_name": ".venv",
   "language": "python",
   "name": "python3"
  },
  "language_info": {
   "codemirror_mode": {
    "name": "ipython",
    "version": 3
   },
   "file_extension": ".py",
   "mimetype": "text/x-python",
   "name": "python",
   "nbconvert_exporter": "python",
   "pygments_lexer": "ipython3",
   "version": "3.13.1"
  }
 },
 "nbformat": 4,
 "nbformat_minor": 5
}
