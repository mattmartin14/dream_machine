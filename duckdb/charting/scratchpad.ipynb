{
 "cells": [
  {
   "cell_type": "code",
   "execution_count": null,
   "id": "40d302a3",
   "metadata": {},
   "outputs": [],
   "source": []
  },
  {
   "cell_type": "code",
   "execution_count": 2,
   "id": "297b2475",
   "metadata": {},
   "outputs": [
    {
     "data": {
      "text/plain": [
       "<duckdb.duckdb.DuckDBPyConnection at 0x1182a5cb0>"
      ]
     },
     "execution_count": 2,
     "metadata": {},
     "output_type": "execute_result"
    }
   ],
   "source": [
    "import duckdb\n",
    "cn = duckdb.connect()\n",
    "cn.execute(\"install tpch; load tpch\")"
   ]
  },
  {
   "cell_type": "code",
   "execution_count": 3,
   "id": "300d7608",
   "metadata": {},
   "outputs": [
    {
     "data": {
      "text/plain": [
       "<duckdb.duckdb.DuckDBPyConnection at 0x1182a5cb0>"
      ]
     },
     "execution_count": 3,
     "metadata": {},
     "output_type": "execute_result"
    }
   ],
   "source": [
    "cn.execute(\"call dbgen(sf=1)\")"
   ]
  },
  {
   "cell_type": "code",
   "execution_count": 5,
   "id": "dab55609",
   "metadata": {},
   "outputs": [
    {
     "name": "stdout",
     "output_type": "stream",
     "text": [
      "┌────────────┬───────────┬───────────────┬───────────────┬─────────────┬─────────────────┬─────────────────┬────────────────┬───────────────────────────────────────────────────────────────────────────┐\n",
      "│ o_orderkey │ o_custkey │ o_orderstatus │ o_totalprice  │ o_orderdate │ o_orderpriority │     o_clerk     │ o_shippriority │                                 o_comment                                 │\n",
      "│   int64    │   int64   │    varchar    │ decimal(15,2) │    date     │     varchar     │     varchar     │     int32      │                                  varchar                                  │\n",
      "├────────────┼───────────┼───────────────┼───────────────┼─────────────┼─────────────────┼─────────────────┼────────────────┼───────────────────────────────────────────────────────────────────────────┤\n",
      "│          1 │     36901 │ O             │     173665.47 │ 1996-01-02  │ 5-LOW           │ Clerk#000000951 │              0 │ ly express platelets. deposits acc                                        │\n",
      "│          2 │     78002 │ O             │      46929.18 │ 1996-12-01  │ 1-URGENT        │ Clerk#000000880 │              0 │ ve the furiously fluffy dependencies. carefully regular                   │\n",
      "│          3 │    123314 │ F             │     193846.25 │ 1993-10-14  │ 5-LOW           │ Clerk#000000955 │              0 │  after the asymptotes. instructions cajole after the foxes. carefully unu │\n",
      "│          4 │    136777 │ O             │      32151.78 │ 1995-10-11  │ 5-LOW           │ Clerk#000000124 │              0 │ st the furiously bold pinto beans. furiously pending theodolites cajol    │\n",
      "│          5 │     44485 │ F             │     144659.20 │ 1994-07-30  │ 5-LOW           │ Clerk#000000925 │              0 │ onic requests. carefully daring foxes among the carefu                    │\n",
      "└────────────┴───────────┴───────────────┴───────────────┴─────────────┴─────────────────┴─────────────────┴────────────────┴───────────────────────────────────────────────────────────────────────────┘\n",
      "\n"
     ]
    }
   ],
   "source": [
    "cn.sql(\"from orders limit 5\").show()"
   ]
  },
  {
   "cell_type": "code",
   "execution_count": null,
   "id": "29264d50",
   "metadata": {},
   "outputs": [],
   "source": [
    "import matplotlib.pyplot as plt"
   ]
  },
  {
   "cell_type": "code",
   "execution_count": null,
   "id": "1b3dc271",
   "metadata": {},
   "outputs": [
    {
     "data": {
      "text/plain": [
       "<Figure size 640x480 with 0 Axes>"
      ]
     },
     "metadata": {},
     "output_type": "display_data"
    },
    {
     "data": {
      "image/png": "[encoded data removed]",
      "text/plain": [
       "<Figure size 640x480 with 1 Axes>"
      ]
     },
     "metadata": {},
     "output_type": "display_data"
    }
   ],
   "source": [
    "sql = \"\"\"\n",
    "    select month(o_orderdate) as ord_mth\n",
    "        ,count(distinct o_orderkey) as ord_cnt\n",
    "    from orders\n",
    "    group by all\n",
    "\"\"\"\n",
    "\n",
    "# Get the result as a DataFrame\n",
    "df = cn.sql(sql).df()\n",
    "\n",
    "# Plot bar chart\n",
    "plt.bar(df['ord_mth'], df['ord_cnt'], color='skyblue', label='Order Count')\n",
    "\n",
    "# Plot average trendline\n",
    "avg = df['ord_cnt'].mean()\n",
    "plt.axhline(avg, color='red', linestyle='--', label='Average')\n",
    "\n",
    "plt.clf()\n",
    "fig, ax = plt.subplots()\n",
    "ax.bar(df['ord_mth'], df['ord_cnt'], color='skyblue', label='Order Count')\n",
    "ax.axhline(avg, color='red', linestyle='--', label='Average')\n",
    "ax.set_xlabel('Order Month')\n",
    "ax.set_ylabel('Order Count')\n",
    "ax.set_title('Order Counts by Month')\n",
    "ax.legend(loc='center left', bbox_to_anchor=(1, 0.5))\n",
    "fig.tight_layout()\n",
    "plt.show()"
   ]
  }
 ],
 "metadata": {
  "kernelspec": {
   "display_name": ".venv (3.13.5)",
   "language": "python",
   "name": "python3"
  },
  "language_info": {
   "codemirror_mode": {
    "name": "ipython",
    "version": 3
   },
   "file_extension": ".py",
   "mimetype": "text/x-python",
   "name": "python",
   "nbconvert_exporter": "python",
   "pygments_lexer": "ipython3",
   "version": "3.13.5"
  }
 },
 "nbformat": 4,
 "nbformat_minor": 5
}
