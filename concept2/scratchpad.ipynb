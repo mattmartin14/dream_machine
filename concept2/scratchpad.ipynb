{
 "cells": [
  {
   "cell_type": "code",
   "execution_count": null,
   "id": "829dddd8",
   "metadata": {},
   "outputs": [],
   "source": []
  },
  {
   "cell_type": "code",
   "execution_count": null,
   "id": "6be03e25",
   "metadata": {},
   "outputs": [],
   "source": [
    "%pip install duckdb"
   ]
  },
  {
   "cell_type": "code",
   "execution_count": 7,
   "id": "676e814b",
   "metadata": {},
   "outputs": [],
   "source": [
    "import duckdb"
   ]
  },
  {
   "cell_type": "code",
   "execution_count": 8,
   "id": "f9243111",
   "metadata": {},
   "outputs": [],
   "source": [
    "cn = duckdb.connect()\n",
    "cn.sql(\"create or replace view v_detail_workouts as select * from read_csv_auto('~/concept2/workouts/*detail*.csv')\")\n",
    "cn.sql(\"create or replace view v_summary_workouts as select * from read_csv_auto('~/concept2/workouts/*summary*.csv')\")"
   ]
  },
  {
   "cell_type": "code",
   "execution_count": 9,
   "id": "fdb99e3d",
   "metadata": {},
   "outputs": [
    {
     "name": "stdout",
     "output_type": "stream",
     "text": [
      "┌────────┬────────────────┬───────────────────┬────────────────┬───────┬────────┬─────────────┬────────────┬────────┬────────────┬──────────────┐\n",
      "│ Number │ Time (seconds) │ Distance (meters) │ Pace (seconds) │ Watts │ Cal/Hr │ Stroke Rate │ Heart Rate │ season │    date    │ machine_type │\n",
      "│ int64  │     double     │      double       │     double     │ int64 │ int64  │    int64    │   int64    │ int64  │    date    │   varchar    │\n",
      "├────────┼────────────────┼───────────────────┼────────────────┼───────┼────────┼─────────────┼────────────┼────────┼────────────┼──────────────┤\n",
      "│      1 │            0.7 │               2.1 │            0.0 │  NULL │   NULL │        NULL │       NULL │   2024 │ 2024-04-03 │ rowerg       │\n",
      "│      2 │            2.7 │               8.8 │          169.5 │    72 │    547 │        NULL │       NULL │   2024 │ 2024-04-03 │ rowerg       │\n",
      "│      3 │            5.2 │              17.1 │          150.1 │   103 │    656 │          27 │       NULL │   2024 │ 2024-04-03 │ rowerg       │\n",
      "└────────┴────────────────┴───────────────────┴────────────────┴───────┴────────┴─────────────┴────────────┴────────┴────────────┴──────────────┘\n",
      "\n",
      "┌──────────────┬────────────┬─────────────────┐\n",
      "│ machine_type │ stroke_cnt │ avg_stroke_rate │\n",
      "│   varchar    │   int64    │     double      │\n",
      "├──────────────┼────────────┼─────────────────┤\n",
      "│ skierg       │       8414 │           42.07 │\n",
      "│ rowerg       │      88892 │           26.67 │\n",
      "└──────────────┴────────────┴─────────────────┘\n",
      "\n"
     ]
    }
   ],
   "source": [
    "cn.sql(\"from v_detail_workouts limit 3\").show()\n",
    "\n",
    "sql = \"\"\"\n",
    "    select machine_type, count(*) as stroke_cnt\n",
    "    , round(avg(\"stroke rate\"),2) as avg_stroke_rate\n",
    "    from v_detail_workouts\n",
    "    group by 1\n",
    "\"\"\"\n",
    "cn.sql(sql).show()\n"
   ]
  },
  {
   "cell_type": "code",
   "execution_count": 16,
   "id": "7dd7a756",
   "metadata": {},
   "outputs": [
    {
     "name": "stdout",
     "output_type": "stream",
     "text": [
      "┌─────────────┬──────────────┬──────────────┬─────────────────┬─────────────────┬───────────────┬────────────────────┬────────────────┬────────────────────┐\n",
      "│ season_year │ machine_type │ total_meters │ avg_drag_factor │ avg_stroke_rate │ total_strokes │   total_seconds    │ total_calories │   fat_lbs_burned   │\n",
      "│   varchar   │   varchar    │    int128    │     double      │     double      │    int128     │       double       │     int128     │       double       │\n",
      "├─────────────┼──────────────┼──────────────┼─────────────────┼─────────────────┼───────────────┼────────────────────┼────────────────┼────────────────────┤\n",
      "│ 2026        │ SkiErg       │        31100 │            76.9 │            41.6 │          5517 │             8042.8 │           1871 │ 0.5345714285714286 │\n",
      "│ Grand Total │ All Machines │      1150452 │          121.46 │           28.33 │         97306 │ 274550.30000000005 │          76601 │             21.886 │\n",
      "│ 2025        │ RowErg       │       864733 │          129.89 │           26.06 │         72427 │ 205310.50000000003 │          57916 │ 16.547428571428572 │\n",
      "│ 2025        │ SkiErg       │        15522 │            80.4 │            41.6 │          2897 │             4134.8 │            910 │               0.26 │\n",
      "│ Sub Total   │ All Machines │        85997 │          124.13 │            25.0 │          1322 │ 20906.399999999994 │           5612 │ 1.6034285714285714 │\n",
      "│ 2024        │ RowErg       │        85997 │          124.13 │            25.0 │          1322 │ 20906.399999999994 │           5612 │ 1.6034285714285714 │\n",
      "│ 2026        │ RowErg       │       153100 │           130.0 │           25.93 │         15143 │ 36155.799999999996 │          10292 │ 2.9405714285714284 │\n",
      "│ Sub Total   │ All Machines │       880255 │          126.14 │           27.23 │         75324 │ 209445.30000000005 │          58826 │  16.80742857142857 │\n",
      "│ Sub Total   │ All Machines │       184200 │           107.4 │            32.6 │         20660 │            44198.6 │          12163 │  3.475142857142857 │\n",
      "└─────────────┴──────────────┴──────────────┴─────────────────┴─────────────────┴───────────────┴────────────────────┴────────────────┴────────────────────┘\n",
      "\n",
      "┌──────────┬─────────────────────┬─────────────┬───────────────────────┬─────────────────────┬───────────────────────┬─────────────────────┬───────────────┬───────────────┬─────────────────────┬──────────────┬─────────┬───────────┬──────────┬───────────┬────────────────┬─────────────┬───────┬─────────┬─────────┬─────────┬───────────────────────────────────────────────────────────────────────────────────────────────────────────────────────────────────────────────────────────────────────────────────────┬─────────────────────┬────────┐\n",
      "│  Log ID  │        Date         │ Description │ Work Time (Formatted) │ Work Time (Seconds) │ Rest Time (Formatted) │ Rest Time (Seconds) │ Work Distance │ Rest Distance │ Stroke Rate/Cadence │ Stroke Count │  Pace   │ Avg Watts │ Cal/Hour │ Total Cal │ Avg Heart Rate │ Drag Factor │  Age  │ Weight  │  Type   │ Ranked  │                                                                                       Comments                                                                                        │    Date Entered     │ season │\n",
      "│  int64   │      timestamp      │   varchar   │        varchar        │       double        │        varchar        │        int64        │     int64     │     int64     │        int64        │    int64     │ varchar │   int64   │  int64   │   int64   │     int64      │    int64    │ int64 │ varchar │ varchar │ boolean │                                                                                        varchar                                                                                        │      timestamp      │ int64  │\n",
      "├──────────┼─────────────────────┼─────────────┼───────────────────────┼─────────────────────┼───────────────────────┼─────────────────────┼───────────────┼───────────────┼─────────────────────┼──────────────┼─────────┼───────────┼──────────┼───────────┼────────────────┼─────────────┼───────┼─────────┼─────────┼─────────┼───────────────────────────────────────────────────────────────────────────────────────────────────────────────────────────────────────────────────────────────────────────────────────┼─────────────────────┼────────┤\n",
      "│ 87665739 │ 2024-04-28 05:49:00 │ 10000m row  │ 40:32.1               │              2432.1 │ NULL                  │                NULL │         10000 │          NULL │                  26 │         NULL │ 2:01.6  │       195 │      969 │       653 │           NULL │         126 │    38 │ Hwt     │ RowErg  │ true    │ NULL                                                                                                                                                                                  │ 2024-04-28 09:52:53 │   2024 │\n",
      "│ 87610264 │ 2024-04-26 05:43:00 │ 10:06 row   │ 10:06.6               │               606.6 │ NULL                  │                NULL │          2540 │          NULL │                  24 │         NULL │ 1:59.4  │       206 │     1007 │       169 │           NULL │         126 │    38 │ Hwt     │ RowErg  │ false   │ felt kind of off this morning and was hard to get out of bed. just need to keep working on it. this isn't a setback. I've been going up and up every time and finally needed a reset. │ 2024-04-26 10:03:51 │   2024 │\n",
      "│ 87541549 │ 2024-04-24 05:59:00 │ 9000m row   │ 36:33.4               │              2193.4 │ NULL                  │                NULL │          9000 │          NULL │                  25 │         NULL │ 2:01.8  │       193 │      965 │       586 │           NULL │         125 │    38 │ Hwt     │ RowErg  │ false   │ NULL                                                                                                                                                                                  │ 2024-04-24 10:02:46 │   2024 │\n",
      "│ 87433057 │ 2024-04-21 06:13:00 │ 35:00 row   │ 35:00.0               │              2100.0 │ NULL                  │                NULL │          8737 │          NULL │                  24 │         NULL │ 2:00.1  │       202 │      993 │       578 │           NULL │         125 │    38 │ Hwt     │ RowErg  │ false   │ NULL                                                                                                                                                                                  │ 2024-04-21 10:16:38 │   2024 │\n",
      "│ 87375708 │ 2024-04-19 06:04:00 │ 8000m row   │ 31:49.3               │              1909.3 │ NULL                  │                NULL │          8000 │          NULL │                  25 │         NULL │ 1:59.3  │       206 │     1008 │       533 │           NULL │         125 │    38 │ Hwt     │ RowErg  │ false   │ NULL                                                                                                                                                                                  │ 2024-04-19 10:07:50 │   2024 │\n",
      "└──────────┴─────────────────────┴─────────────┴───────────────────────┴─────────────────────┴───────────────────────┴─────────────────────┴───────────────┴───────────────┴─────────────────────┴──────────────┴─────────┴───────────┴──────────┴───────────┴────────────────┴─────────────┴───────┴─────────┴─────────┴─────────┴───────────────────────────────────────────────────────────────────────────────────────────────────────────────────────────────────────────────────────────────────────────────────────┴─────────────────────┴────────┘\n",
      "\n"
     ]
    }
   ],
   "source": [
    "sql = \"\"\"\n",
    "    select \n",
    "        case \n",
    "            when grouping(season) = 1 and grouping(type) = 1 then 'Grand Total'\n",
    "            when grouping(season) = 0 and grouping(type) = 1 then 'Sub Total'\n",
    "            else cast(season as varchar)\n",
    "        end as season_year,\n",
    "        case \n",
    "            when grouping(type) = 1 then 'All Machines'\n",
    "            else type\n",
    "        end as machine_type,\n",
    "        sum(\"Work Distance\") as total_meters,\n",
    "        round(avg(\"Drag Factor\"),2) as avg_drag_factor,\n",
    "        round(avg(\"Stroke Rate/Cadence\"),2) as avg_stroke_rate\n",
    "        ,sum(\"Stroke Count\") as total_strokes\n",
    "        ,sum(\"Work Time (Seconds)\") as total_seconds\n",
    "        ,sum(\"Total Cal\") as total_calories\n",
    "        ,sum(\"Total Cal\")/3500 as fat_lbs_burned\n",
    "    from v_summary_workouts\n",
    "    group by rollup(season, type)\n",
    "\"\"\"\n",
    "cn.sql(sql).show()\n",
    "\n",
    "cn.sql(\"from v_summary_workouts limit 5\").show()"
   ]
  }
 ],
 "metadata": {
  "kernelspec": {
   "display_name": "venv",
   "language": "python",
   "name": "python3"
  },
  "language_info": {
   "codemirror_mode": {
    "name": "ipython",
    "version": 3
   },
   "file_extension": ".py",
   "mimetype": "text/x-python",
   "name": "python",
   "nbconvert_exporter": "python",
   "pygments_lexer": "ipython3",
   "version": "3.13.5"
  }
 },
 "nbformat": 4,
 "nbformat_minor": 5
}
