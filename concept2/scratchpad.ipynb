{
 "cells": [
  {
   "cell_type": "code",
   "execution_count": null,
   "id": "829dddd8",
   "metadata": {},
   "outputs": [],
   "source": []
  },
  {
   "cell_type": "code",
   "execution_count": null,
   "id": "6be03e25",
   "metadata": {},
   "outputs": [],
   "source": [
    "%pip install duckdb"
   ]
  },
  {
   "cell_type": "code",
   "execution_count": 3,
   "id": "676e814b",
   "metadata": {},
   "outputs": [],
   "source": [
    "import duckdb"
   ]
  },
  {
   "cell_type": "code",
   "execution_count": null,
   "id": "3d128bea",
   "metadata": {},
   "outputs": [],
   "source": []
  },
  {
   "cell_type": "code",
   "execution_count": 11,
   "id": "f9243111",
   "metadata": {},
   "outputs": [],
   "source": [
    "cn = duckdb.connect()\n",
    "cn.sql(\"create or replace view v_workouts as select *, filename from read_csv_auto('~/concept2/workouts/*.csv', filename=True)\")"
   ]
  },
  {
   "cell_type": "code",
   "execution_count": 7,
   "id": "fdb99e3d",
   "metadata": {},
   "outputs": [
    {
     "name": "stdout",
     "output_type": "stream",
     "text": [
      "┌────────┬────────────────┬───────────────────┬────────────────┬───────┬────────┬─────────────┬────────────┬───────────────────────────────────────────────────────────────────────────────┐\n",
      "│ Number │ Time (seconds) │ Distance (meters) │ Pace (seconds) │ Watts │ Cal/Hr │ Stroke Rate │ Heart Rate │                                   filename                                    │\n",
      "│ int64  │     double     │      double       │     double     │ int64 │ int64  │    int64    │  varchar   │                                    varchar                                    │\n",
      "├────────┼────────────────┼───────────────────┼────────────────┼───────┼────────┼─────────────┼────────────┼───────────────────────────────────────────────────────────────────────────────┤\n",
      "│      1 │            0.8 │               3.2 │            0.0 │  NULL │   NULL │        NULL │ NULL       │ /Users/matthewmartin/concept2/workouts/2024-05-03_rowerg_workout_87842857.csv │\n",
      "│      2 │            2.8 │              11.8 │          130.8 │   156 │    838 │        NULL │ NULL       │ /Users/matthewmartin/concept2/workouts/2024-05-03_rowerg_workout_87842857.csv │\n",
      "│      3 │            4.8 │              20.4 │          115.7 │   226 │   1077 │          27 │ NULL       │ /Users/matthewmartin/concept2/workouts/2024-05-03_rowerg_workout_87842857.csv │\n",
      "│      4 │            6.8 │              29.0 │          116.8 │   220 │   1055 │          29 │ NULL       │ /Users/matthewmartin/concept2/workouts/2024-05-03_rowerg_workout_87842857.csv │\n",
      "│      5 │            8.8 │              37.8 │          118.3 │   211 │   1027 │          25 │ NULL       │ /Users/matthewmartin/concept2/workouts/2024-05-03_rowerg_workout_87842857.csv │\n",
      "└────────┴────────────────┴───────────────────┴────────────────┴───────┴────────┴─────────────┴────────────┴───────────────────────────────────────────────────────────────────────────────┘\n",
      "\n"
     ]
    }
   ],
   "source": [
    "cn.sql(\"from v_workouts limit 5\").show()"
   ]
  }
 ],
 "metadata": {
  "kernelspec": {
   "display_name": "venv",
   "language": "python",
   "name": "python3"
  },
  "language_info": {
   "codemirror_mode": {
    "name": "ipython",
    "version": 3
   },
   "file_extension": ".py",
   "mimetype": "text/x-python",
   "name": "python",
   "nbconvert_exporter": "python",
   "pygments_lexer": "ipython3",
   "version": "3.13.5"
  }
 },
 "nbformat": 4,
 "nbformat_minor": 5
}
