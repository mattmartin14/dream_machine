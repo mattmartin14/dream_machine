{
 "cells": [
  {
   "cell_type": "code",
   "execution_count": 1,
   "id": "6be03e25",
   "metadata": {},
   "outputs": [],
   "source": [
    "#%pip install duckdb"
   ]
  },
  {
   "cell_type": "code",
   "execution_count": null,
   "id": "4e7bfbfc",
   "metadata": {},
   "outputs": [],
   "source": [
    "#%run generate_report.py --season-year 2026 --no-logbook-fetch\n",
    "%run generate_report.py --season-year 2026"
   ]
  },
  {
   "cell_type": "code",
   "execution_count": 4,
   "id": "f9243111",
   "metadata": {},
   "outputs": [],
   "source": [
    "import duckdb\n",
    "cn = duckdb.connect()\n",
    "cn.sql(\"create or replace view v_detail_workouts as select * from read_csv_auto('~/concept2/workouts/*detail*.csv')\")\n",
    "cn.sql(\"create or replace view v_summary_workouts as select * from read_csv_auto('~/concept2/workouts/*summary*.csv')\")    "
   ]
  },
  {
   "cell_type": "code",
   "execution_count": 5,
   "id": "85ca97c5",
   "metadata": {},
   "outputs": [
    {
     "data": {
      "text/plain": [
       "┌──────────────┬───────┐\n",
       "│ Description  │  cnt  │\n",
       "│   varchar    │ int64 │\n",
       "├──────────────┼───────┤\n",
       "│ 6000m row    │    25 │\n",
       "│ 30:00 row    │    22 │\n",
       "│ 8000m row    │    20 │\n",
       "│ 7000m row    │    12 │\n",
       "│ 10000m row   │    11 │\n",
       "│ 1000m SkiErg │     8 │\n",
       "│ 9000m row    │     7 │\n",
       "│ 3000m row    │     7 │\n",
       "│ 5000m row    │     7 │\n",
       "│ 2000m SkiErg │     6 │\n",
       "│      ·       │     · │\n",
       "│      ·       │     · │\n",
       "│      ·       │     · │\n",
       "│ 23:00 SkiErg │     1 │\n",
       "│ 1000m row    │     1 │\n",
       "│ 1300m SkiErg │     1 │\n",
       "│ 4:20 row     │     1 │\n",
       "│ 19:08 row    │     1 │\n",
       "│ 23:01 row    │     1 │\n",
       "│ 20:13 row    │     1 │\n",
       "│ 25:00 SkiErg │     1 │\n",
       "│ 40:44 row    │     1 │\n",
       "│ 22:00 SkiErg │     1 │\n",
       "├──────────────┴───────┤\n",
       "│  88 rows (20 shown)  │\n",
       "└──────────────────────┘"
      ]
     },
     "execution_count": 5,
     "metadata": {},
     "output_type": "execute_result"
    }
   ],
   "source": [
    "sql = \"\"\"\n",
    "    select \"Description\", count(*) as cnt\n",
    "    from v_summary_workouts\n",
    "    group by all\n",
    "    order by 2 desc \n",
    "\"\"\"\n",
    "cn.sql(sql)"
   ]
  }
 ],
 "metadata": {
  "kernelspec": {
   "display_name": "venv (3.13.7)",
   "language": "python",
   "name": "python3"
  },
  "language_info": {
   "codemirror_mode": {
    "name": "ipython",
    "version": 3
   },
   "file_extension": ".py",
   "mimetype": "text/x-python",
   "name": "python",
   "nbconvert_exporter": "python",
   "pygments_lexer": "ipython3",
   "version": "3.13.7"
  }
 },
 "nbformat": 4,
 "nbformat_minor": 5
}
