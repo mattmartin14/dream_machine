{
 "cells": [
  {
   "cell_type": "code",
   "execution_count": null,
   "id": "6be03e25",
   "metadata": {},
   "outputs": [],
   "source": [
    "%pip install duckdb"
   ]
  },
  {
   "cell_type": "code",
   "execution_count": 1,
   "id": "676e814b",
   "metadata": {},
   "outputs": [],
   "source": [
    "import duckdb"
   ]
  },
  {
   "cell_type": "code",
   "execution_count": 2,
   "id": "f9243111",
   "metadata": {},
   "outputs": [],
   "source": [
    "cn = duckdb.connect()\n",
    "cn.sql(\"create or replace view v_detail_workouts as select * from read_csv_auto('~/concept2/workouts/*detail*.csv')\")\n",
    "cn.sql(\"create or replace view v_summary_workouts as select * from read_csv_auto('~/concept2/workouts/*summary*.csv')\")"
   ]
  },
  {
   "cell_type": "code",
   "execution_count": 3,
   "id": "fdb99e3d",
   "metadata": {},
   "outputs": [
    {
     "name": "stdout",
     "output_type": "stream",
     "text": [
      "┌────────┬────────────────┬───────────────────┬────────────────┬───────┬────────┬─────────────┬────────────┬────────┬────────────┬──────────────┐\n",
      "│ Number │ Time (seconds) │ Distance (meters) │ Pace (seconds) │ Watts │ Cal/Hr │ Stroke Rate │ Heart Rate │ season │    date    │ machine_type │\n",
      "│ int64  │     double     │      double       │     double     │ int64 │ int64  │    int64    │   int64    │ int64  │    date    │   varchar    │\n",
      "├────────┼────────────────┼───────────────────┼────────────────┼───────┼────────┼─────────────┼────────────┼────────┼────────────┼──────────────┤\n",
      "│      1 │            0.7 │               2.1 │            0.0 │  NULL │   NULL │        NULL │       NULL │   2024 │ 2024-04-03 │ rowerg       │\n",
      "│      2 │            2.7 │               8.8 │          169.5 │    72 │    547 │        NULL │       NULL │   2024 │ 2024-04-03 │ rowerg       │\n",
      "│      3 │            5.2 │              17.1 │          150.1 │   103 │    656 │          27 │       NULL │   2024 │ 2024-04-03 │ rowerg       │\n",
      "└────────┴────────────────┴───────────────────┴────────────────┴───────┴────────┴─────────────┴────────────┴────────┴────────────┴──────────────┘\n",
      "\n",
      "┌──────────────┬────────────┬─────────────────┐\n",
      "│ machine_type │ stroke_cnt │ avg_stroke_rate │\n",
      "│   varchar    │   int64    │     double      │\n",
      "├──────────────┼────────────┼─────────────────┤\n",
      "│ rowerg       │      88892 │           26.67 │\n",
      "│ skierg       │       8414 │           42.07 │\n",
      "└──────────────┴────────────┴─────────────────┘\n",
      "\n"
     ]
    }
   ],
   "source": [
    "cn.sql(\"from v_detail_workouts limit 3\").show()\n",
    "\n",
    "sql = \"\"\"\n",
    "    select machine_type, count(*) as stroke_cnt\n",
    "    , round(avg(\"stroke rate\"),2) as avg_stroke_rate\n",
    "    from v_detail_workouts\n",
    "    group by 1\n",
    "\"\"\"\n",
    "cn.sql(sql).show()\n"
   ]
  },
  {
   "cell_type": "code",
   "execution_count": null,
   "id": "7dd7a756",
   "metadata": {},
   "outputs": [
    {
     "name": "stdout",
     "output_type": "stream",
     "text": [
      "┌─────────────┬──────────────┬──────────────┬───────────────┬─────────────────┬─────────────────┬───────────────┬───────────────┬────────────────┬────────────────┐\n",
      "│   season    │     type     │ total_meters │  total_miles  │ avg_drag_factor │ avg_stroke_rate │ total_strokes │ total_seconds │ total_calories │ fat_lbs_burned │\n",
      "│   varchar   │   varchar    │    int128    │ decimal(38,0) │     double      │     double      │    int128     │    double     │     int128     │     double     │\n",
      "├─────────────┼──────────────┼──────────────┼───────────────┼─────────────────┼─────────────────┼───────────────┼───────────────┼────────────────┼────────────────┤\n",
      "│ 2024        │ All Machines │        85997 │            53 │          124.13 │            25.0 │          1322 │       20906.0 │           5612 │            2.0 │\n",
      "│ 2024        │ RowErg       │        85997 │            53 │          124.13 │            25.0 │          1322 │       20906.0 │           5612 │            2.0 │\n",
      "│ 2025        │ All Machines │       880255 │           547 │          126.14 │           27.23 │         75324 │      209445.0 │          58826 │           17.0 │\n",
      "│ 2025        │ RowErg       │       864733 │           537 │          129.89 │           26.06 │         72427 │      205311.0 │          57916 │           17.0 │\n",
      "│ 2025        │ SkiErg       │        15522 │            10 │            80.4 │            41.6 │          2897 │        4135.0 │            910 │            0.0 │\n",
      "│ 2026        │ All Machines │       184200 │           114 │           107.4 │            32.6 │         20660 │       44199.0 │          12163 │            3.0 │\n",
      "│ 2026        │ RowErg       │       153100 │            95 │           130.0 │           25.93 │         15143 │       36156.0 │          10292 │            3.0 │\n",
      "│ 2026        │ SkiErg       │        31100 │            19 │            76.9 │            41.6 │          5517 │        8043.0 │           1871 │            1.0 │\n",
      "│ All Seasons │ All Machines │      1150452 │           715 │          121.46 │           28.33 │         97306 │      274550.0 │          76601 │           22.0 │\n",
      "│ All Seasons │ RowErg       │      1103830 │           686 │          129.35 │           25.93 │         88892 │      262373.0 │          73820 │           21.0 │\n",
      "│ All Seasons │ SkiErg       │        46622 │            29 │           78.07 │            41.6 │          8414 │       12178.0 │           2781 │            1.0 │\n",
      "├─────────────┴──────────────┴──────────────┴───────────────┴─────────────────┴─────────────────┴───────────────┴───────────────┴────────────────┴────────────────┤\n",
      "│ 11 rows                                                                                                                                              10 columns │\n",
      "└─────────────────────────────────────────────────────────────────────────────────────────────────────────────────────────────────────────────────────────────────┘\n",
      "\n"
     ]
    }
   ],
   "source": [
    "## need to update to use the \"grouping\" function to tag totals and sub totals\n",
    "\n",
    "\n",
    "sql = \"\"\"\n",
    "    select \n",
    "        coalesce(\n",
    "            cast(season as varchar(30)),\n",
    "            case \n",
    "                when season is null then 'All Seasons'\n",
    "                else cast(season as varchar(30))\n",
    "            end\n",
    "        ) as season,\n",
    "        coalesce(\n",
    "            type,\n",
    "            case \n",
    "                when type is null then 'All Machines'\n",
    "                else type\n",
    "            end\n",
    "        ) as type,\n",
    "        sum(\"Work Distance\") as total_meters,\n",
    "        round(sum(\"Work Distance\")*0.000621371,0) as total_miles,\n",
    "        round(avg(\"Drag Factor\"),2) as avg_drag_factor,\n",
    "        round(avg(\"Stroke Rate/Cadence\"),2) as avg_stroke_rate,\n",
    "        sum(\"Stroke Count\") as total_strokes,\n",
    "        round(sum(\"Work Time (Seconds)\"),0) as total_seconds,\n",
    "        sum(\"Total Cal\") as total_calories,\n",
    "        round(sum(\"Total Cal\")/3500,0) as fat_lbs_burned\n",
    "    from v_summary_workouts\n",
    "    group by grouping sets\n",
    "    (\n",
    "         (season, type)\n",
    "        ,(type)\n",
    "        ,(season)\n",
    "        ,()\n",
    "    )\n",
    "    order by season, type\n",
    "\"\"\"\n",
    "cn.sql(sql).show()\n"
   ]
  },
  {
   "cell_type": "code",
   "execution_count": null,
   "id": "f62841b1",
   "metadata": {},
   "outputs": [
    {
     "name": "stdout",
     "output_type": "stream",
     "text": [
      "┌──────────────┬──────────────┬─────────────────┬───────────┐\n",
      "│ workout_date │ time_seconds │ distance_meters │ time_mmss │\n",
      "│     date     │    double    │     double      │  varchar  │\n",
      "├──────────────┼──────────────┼─────────────────┼───────────┤\n",
      "│ 2024-08-08   │       1235.5 │          5000.0 │ 20:36     │\n",
      "│ 2024-09-18   │       1229.2 │          5005.1 │ 20:29     │\n",
      "│ 2024-08-01   │       1221.1 │          5002.8 │ 20:21     │\n",
      "│ 2025-01-09   │       1220.7 │          5007.1 │ 20:21     │\n",
      "│ 2024-08-15   │       1219.9 │          5007.9 │ 20:20     │\n",
      "│ 2024-04-03   │       1217.4 │          5006.5 │ 20:17     │\n",
      "│ 2024-09-23   │       1215.4 │          5002.7 │ 20:15     │\n",
      "│ 2024-09-09   │       1208.2 │          5006.0 │ 20:08     │\n",
      "│ 2024-08-22   │       1208.1 │          5003.4 │ 20:08     │\n",
      "│ 2024-08-13   │       1207.0 │          5012.1 │ 20:07     │\n",
      "├──────────────┴──────────────┴─────────────────┴───────────┤\n",
      "│ 10 rows                                         4 columns │\n",
      "└───────────────────────────────────────────────────────────┘\n",
      "\n"
     ]
    }
   ],
   "source": [
    "sql = \"\"\"\n",
    "\n",
    "    select \n",
    "        \"date\" as workout_date\n",
    "        , \"Time (seconds)\" as time_seconds\n",
    "        , \"Distance (meters)\" as distance_meters\n",
    "        ,format('{:02d}:{:02d}', \n",
    "            cast(floor(\"Time (seconds)\" / 60) as int), \n",
    "            cast(round(\"Time (seconds)\") % 60 as int)\n",
    "        ) as time_mmss\n",
    "    from v_detail_workouts\n",
    "    where 1=1\n",
    "        and machine_type = 'rowerg'\n",
    "        and \"Distance (meters)\" >= 5000\n",
    "    qualify 1 = rank() over(partition by \"date\" order by \"Number\")\n",
    "    order by \"Time (seconds)\" desc\n",
    "    limit 10\n",
    "\n",
    "\"\"\"\n",
    "cn.sql(sql).show()"
   ]
  },
  {
   "cell_type": "code",
   "execution_count": null,
   "id": "19e6faca",
   "metadata": {},
   "outputs": [],
   "source": [
    "sql = \"\"\"\n",
    "    select\n",
    "        year(\"date\") as year,\n",
    "        month(\"date\") as month,\n",
    "        sum(\"Work Distance\") as total_meters\n",
    "    from v_summary_workouts\n",
    "    group by all\n",
    "    order by year, month\n",
    "\n",
    "\"\"\"\n",
    "\n",
    "cn.sql(sql).show()"
   ]
  },
  {
   "cell_type": "code",
   "execution_count": 47,
   "id": "38c4582c",
   "metadata": {},
   "outputs": [
    {
     "data": {
      "image/png": "[encoded data removed]",
      "text/plain": [
       "<Figure size 1200x600 with 1 Axes>"
      ]
     },
     "metadata": {},
     "output_type": "display_data"
    }
   ],
   "source": [
    "import pandas as pd\n",
    "import matplotlib.pyplot as plt\n",
    "df = cn.sql(sql).df()\n",
    "df['year_month'] = df['year'].astype(str) + '-' + df['month'].astype(str).str.zfill(2)\n",
    "\n",
    "plt.figure(figsize=(12,6))\n",
    "plt.bar(df['year_month'], df['total_meters'])\n",
    "avg_total_meters = df['total_meters'].mean()\n",
    "\n",
    "# Add a dashed black line for the average\n",
    "plt.axhline(avg_total_meters, color='black', linestyle='dashed', linewidth=2, label=f'Average: {avg_total_meters:,.0f}')\n",
    "\n",
    "plt.xlabel('Year-Month')\n",
    "plt.ylabel('Total Meters')\n",
    "plt.title('Total Meters by Year and Month')\n",
    "plt.xticks(rotation=45)\n",
    "plt.legend()\n",
    "plt.tight_layout()\n",
    "plt.show()"
   ]
  }
 ],
 "metadata": {
  "kernelspec": {
   "display_name": "venv (3.13.5)",
   "language": "python",
   "name": "python3"
  },
  "language_info": {
   "codemirror_mode": {
    "name": "ipython",
    "version": 3
   },
   "file_extension": ".py",
   "mimetype": "text/x-python",
   "name": "python",
   "nbconvert_exporter": "python",
   "pygments_lexer": "ipython3",
   "version": "3.13.5"
  }
 },
 "nbformat": 4,
 "nbformat_minor": 5
}
