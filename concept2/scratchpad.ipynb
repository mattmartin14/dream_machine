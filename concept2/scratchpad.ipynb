{
 "cells": [
  {
   "cell_type": "code",
   "execution_count": null,
   "id": "829dddd8",
   "metadata": {},
   "outputs": [],
   "source": []
  },
  {
   "cell_type": "code",
   "execution_count": null,
   "id": "6be03e25",
   "metadata": {},
   "outputs": [],
   "source": [
    "%pip install duckdb"
   ]
  },
  {
   "cell_type": "code",
   "execution_count": 1,
   "id": "676e814b",
   "metadata": {},
   "outputs": [],
   "source": [
    "import duckdb"
   ]
  },
  {
   "cell_type": "code",
   "execution_count": 2,
   "id": "f9243111",
   "metadata": {},
   "outputs": [],
   "source": [
    "cn = duckdb.connect()\n",
    "cn.sql(\"create or replace view v_detail_workouts as select * from read_csv_auto('~/concept2/workouts/*detail*.csv')\")\n",
    "cn.sql(\"create or replace view v_summary_workouts as select * from read_csv_auto('~/concept2/workouts/*summary*.csv')\")"
   ]
  },
  {
   "cell_type": "code",
   "execution_count": 3,
   "id": "fdb99e3d",
   "metadata": {},
   "outputs": [
    {
     "name": "stdout",
     "output_type": "stream",
     "text": [
      "┌────────┬────────────────┬───────────────────┬────────────────┬───────┬────────┬─────────────┬────────────┬────────┬────────────┬──────────────┐\n",
      "│ Number │ Time (seconds) │ Distance (meters) │ Pace (seconds) │ Watts │ Cal/Hr │ Stroke Rate │ Heart Rate │ season │    date    │ machine_type │\n",
      "│ int64  │     double     │      double       │     double     │ int64 │ int64  │    int64    │   int64    │ int64  │    date    │   varchar    │\n",
      "├────────┼────────────────┼───────────────────┼────────────────┼───────┼────────┼─────────────┼────────────┼────────┼────────────┼──────────────┤\n",
      "│      1 │            0.7 │               2.1 │            0.0 │  NULL │   NULL │        NULL │       NULL │   2024 │ 2024-04-03 │ rowerg       │\n",
      "│      2 │            2.7 │               8.8 │          169.5 │    72 │    547 │        NULL │       NULL │   2024 │ 2024-04-03 │ rowerg       │\n",
      "│      3 │            5.2 │              17.1 │          150.1 │   103 │    656 │          27 │       NULL │   2024 │ 2024-04-03 │ rowerg       │\n",
      "└────────┴────────────────┴───────────────────┴────────────────┴───────┴────────┴─────────────┴────────────┴────────┴────────────┴──────────────┘\n",
      "\n",
      "┌──────────────┬────────────┬─────────────────┐\n",
      "│ machine_type │ stroke_cnt │ avg_stroke_rate │\n",
      "│   varchar    │   int64    │     double      │\n",
      "├──────────────┼────────────┼─────────────────┤\n",
      "│ skierg       │       8414 │           42.07 │\n",
      "│ rowerg       │      88169 │           26.67 │\n",
      "└──────────────┴────────────┴─────────────────┘\n",
      "\n"
     ]
    }
   ],
   "source": [
    "cn.sql(\"from v_detail_workouts limit 3\").show()\n",
    "\n",
    "sql = \"\"\"\n",
    "    select machine_type, count(*) as stroke_cnt\n",
    "    , round(avg(\"stroke rate\"),2) as avg_stroke_rate\n",
    "    from v_detail_workouts\n",
    "    group by 1\n",
    "\"\"\"\n",
    "cn.sql(sql).show()\n"
   ]
  },
  {
   "cell_type": "code",
   "execution_count": 6,
   "id": "3666554c",
   "metadata": {},
   "outputs": [
    {
     "name": "stdout",
     "output_type": "stream",
     "text": [
      "┌─────────────┬──────────────┬──────────────┬─────────────────┬─────────────────┐\n",
      "│ season_year │ machine_type │ total_meters │ avg_drag_factor │ avg_stroke_rate │\n",
      "│   varchar   │   varchar    │    int128    │     double      │     double      │\n",
      "├─────────────┼──────────────┼──────────────┼─────────────────┼─────────────────┤\n",
      "│ Sub Total   │ All Machines │       177200 │          106.91 │           32.74 │\n",
      "│ Grand Total │ All Machines │      1143452 │          121.41 │           28.34 │\n",
      "│ 2026        │ rowerg       │       146100 │           130.0 │           25.92 │\n",
      "│ Sub Total   │ All Machines │       880255 │          126.14 │           27.23 │\n",
      "│ Sub Total   │ All Machines │        85997 │          124.13 │            25.0 │\n",
      "│ 2025        │ skierg       │        15522 │            80.4 │            41.6 │\n",
      "│ 2024        │ rowerg       │        85997 │          124.13 │            25.0 │\n",
      "│ 2026        │ skierg       │        31100 │            76.9 │            41.6 │\n",
      "│ 2025        │ rowerg       │       864733 │          129.89 │           26.06 │\n",
      "└─────────────┴──────────────┴──────────────┴─────────────────┴─────────────────┘\n",
      "\n",
      "┌────────────┬──────────────┬───────┬────────┬─────────┬─────────┬──────────┬─────────────┬─────────────┬───────────────┐\n",
      "│    date    │ machine_type │ year  │ meters │  time   │  pace   │ calories │ drag_factor │ stroke_rate │ average_watts │\n",
      "│    date    │   varchar    │ int64 │ int64  │ varchar │ varchar │  int64   │    int64    │    int64    │     int64     │\n",
      "├────────────┼──────────────┼───────┼────────┼─────────┼─────────┼──────────┼─────────────┼─────────────┼───────────────┤\n",
      "│ 2024-04-03 │ rowerg       │  2024 │   6000 │ 24:15.6 │ 2:01.3  │      391 │         121 │          28 │           196 │\n",
      "│ 2024-04-05 │ rowerg       │  2024 │   5000 │ 20:11.1 │ 2:01.1  │      328 │         123 │          29 │           197 │\n",
      "│ 2024-04-07 │ rowerg       │  2024 │   5020 │ 21:15.9 │ 2:07.0  │      313 │         123 │          23 │           171 │\n",
      "│ 2024-04-07 │ rowerg       │  2024 │   2000 │ 8:14.6  │ 2:03.6  │      127 │         123 │          25 │           185 │\n",
      "│ 2024-04-08 │ rowerg       │  2024 │   1000 │ 4:05.0  │ 2:02.5  │       64 │         125 │          26 │           190 │\n",
      "└────────────┴──────────────┴───────┴────────┴─────────┴─────────┴──────────┴─────────────┴─────────────┴───────────────┘\n",
      "\n"
     ]
    }
   ],
   "source": [
    "sql = \"\"\"\n",
    "    select \n",
    "        case \n",
    "            when grouping(year) = 1 and grouping(machine_type) = 1 then 'Grand Total'\n",
    "            when grouping(year) = 0 and grouping(machine_type) = 1 then 'Sub Total'\n",
    "            else cast(year as varchar)\n",
    "        end as season_year,\n",
    "        case \n",
    "            when grouping(machine_type) = 1 then 'All Machines'\n",
    "            else machine_type\n",
    "        end as machine_type,\n",
    "        sum(meters) as total_meters,\n",
    "        round(avg(drag_factor),2) as avg_drag_factor,\n",
    "        round(avg(stroke_rate),2) as avg_stroke_rate\n",
    "    from v_summary_workouts\n",
    "    group by rollup(year, machine_type)\n",
    "\"\"\"\n",
    "cn.sql(sql).show()\n",
    "\n",
    "cn.sql(\"from v_summary_workouts limit 5\").show()"
   ]
  }
 ],
 "metadata": {
  "kernelspec": {
   "display_name": "venv",
   "language": "python",
   "name": "python3"
  },
  "language_info": {
   "codemirror_mode": {
    "name": "ipython",
    "version": 3
   },
   "file_extension": ".py",
   "mimetype": "text/x-python",
   "name": "python",
   "nbconvert_exporter": "python",
   "pygments_lexer": "ipython3",
   "version": "3.13.5"
  }
 },
 "nbformat": 4,
 "nbformat_minor": 5
}
