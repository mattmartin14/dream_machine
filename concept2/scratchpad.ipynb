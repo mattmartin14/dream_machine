{
 "cells": [
  {
   "cell_type": "code",
   "execution_count": null,
   "id": "6be03e25",
   "metadata": {},
   "outputs": [],
   "source": [
    "#%pip install duckdb"
   ]
  },
  {
   "cell_type": "code",
   "execution_count": 22,
   "id": "4f4bb669",
   "metadata": {},
   "outputs": [
    {
     "name": "stdout",
     "output_type": "stream",
     "text": [
      "Skipping data download (--no-logbook-fetch specified)\n",
      "Setting up database connection...\n",
      "Generating PDF report...\n",
      "Creating pace over time chart...\n",
      "Saving pace chart to PDF...\n",
      "Creating monthly meters chart...\n",
      "Generating PDF report...\n",
      "Creating pace over time chart...\n",
      "Saving pace chart to PDF...\n",
      "Creating monthly meters chart...\n",
      "PDF report generated successfully: concept2_workout_report.pdf\n",
      "PDF report generated successfully: concept2_workout_report.pdf\n"
     ]
    }
   ],
   "source": [
    "\n",
    "%run generate_report.py --season-year 2026 --no-logbook-fetch"
   ]
  },
  {
   "cell_type": "code",
   "execution_count": 2,
   "id": "f9243111",
   "metadata": {},
   "outputs": [],
   "source": [
    "import duckdb\n",
    "cn = duckdb.connect()\n",
    "cn.sql(\"create or replace view v_detail_workouts as select * from read_csv_auto('~/concept2/workouts/*detail*.csv')\")\n",
    "cn.sql(\"create or replace view v_summary_workouts as select * from read_csv_auto('~/concept2/workouts/*summary*.csv')\")    "
   ]
  },
  {
   "cell_type": "code",
   "execution_count": 8,
   "id": "f62841b1",
   "metadata": {},
   "outputs": [
    {
     "name": "stdout",
     "output_type": "stream",
     "text": [
      "┌──────────────┬──────────────┬─────────────────┬───────────┐\n",
      "│ workout_date │ time_seconds │ distance_meters │ time_mmss │\n",
      "│     date     │    double    │     double      │  varchar  │\n",
      "├──────────────┼──────────────┼─────────────────┼───────────┤\n",
      "│ 2025-03-13   │       1126.2 │          5005.3 │ 18:46     │\n",
      "│ 2025-06-19   │       1145.0 │          5002.6 │ 19:05     │\n",
      "│ 2025-03-04   │       1147.9 │          5000.0 │ 19:08     │\n",
      "│ 2025-05-14   │       1149.0 │          5008.8 │ 19:09     │\n",
      "│ 2025-04-04   │       1150.8 │          5003.9 │ 19:11     │\n",
      "│ 2024-11-04   │       1151.7 │          5006.1 │ 19:12     │\n",
      "│ 2025-01-25   │       1156.4 │          5008.6 │ 19:16     │\n",
      "│ 2025-01-07   │       1164.2 │          5005.5 │ 19:24     │\n",
      "│ 2025-01-23   │       1165.0 │          5002.6 │ 19:25     │\n",
      "│ 2025-02-20   │       1165.0 │          5007.0 │ 19:25     │\n",
      "│ 2025-03-17   │       1165.8 │          5005.8 │ 19:26     │\n",
      "│ 2024-12-04   │       1167.7 │          5002.5 │ 19:28     │\n",
      "│ 2024-11-15   │       1167.9 │          5005.7 │ 19:28     │\n",
      "│ 2024-07-23   │       1168.1 │          5001.7 │ 19:28     │\n",
      "│ 2025-05-22   │       1169.6 │          5001.9 │ 19:30     │\n",
      "│ 2024-10-21   │       1169.7 │          5005.2 │ 19:30     │\n",
      "│ 2024-12-21   │       1170.5 │          5007.8 │ 19:31     │\n",
      "│ 2024-10-10   │       1171.8 │          5002.1 │ 19:32     │\n",
      "│ 2025-04-14   │       1172.0 │          5002.3 │ 19:32     │\n",
      "│ 2025-01-21   │       1172.1 │          5002.6 │ 19:32     │\n",
      "├──────────────┴──────────────┴─────────────────┴───────────┤\n",
      "│ 20 rows                                         4 columns │\n",
      "└───────────────────────────────────────────────────────────┘\n",
      "\n"
     ]
    }
   ],
   "source": [
    "sql = \"\"\"\n",
    "\n",
    "    select \n",
    "        \"date\" as workout_date\n",
    "        , \"Time (seconds)\" as time_seconds\n",
    "        , \"Distance (meters)\" as distance_meters\n",
    "        ,format('{:02d}:{:02d}', \n",
    "            cast(floor(\"Time (seconds)\" / 60) as int), \n",
    "            cast(round(\"Time (seconds)\") % 60 as int)\n",
    "        ) as time_mmss\n",
    "    from v_detail_workouts\n",
    "    where 1=1\n",
    "        and machine_type = 'rowerg'\n",
    "        and \"Distance (meters)\" >= 5000\n",
    "    qualify 1 = rank() over(partition by \"date\" order by \"Number\")\n",
    "    order by \"Time (seconds)\" \n",
    "    limit 20\n",
    "\n",
    "\"\"\"\n",
    "cn.sql(sql).show()"
   ]
  }
 ],
 "metadata": {
  "kernelspec": {
   "display_name": "venv (3.13.5)",
   "language": "python",
   "name": "python3"
  },
  "language_info": {
   "codemirror_mode": {
    "name": "ipython",
    "version": 3
   },
   "file_extension": ".py",
   "mimetype": "text/x-python",
   "name": "python",
   "nbconvert_exporter": "python",
   "pygments_lexer": "ipython3",
   "version": "3.13.5"
  }
 },
 "nbformat": 4,
 "nbformat_minor": 5
}
