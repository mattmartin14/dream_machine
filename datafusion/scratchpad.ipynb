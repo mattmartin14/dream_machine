{
 "cells": [
  {
   "cell_type": "code",
   "execution_count": 3,
   "metadata": {},
   "outputs": [
    {
     "data": {
      "text/plain": [
       "<duckdb.duckdb.DuckDBPyConnection at 0x1061a26f0>"
      ]
     },
     "execution_count": 3,
     "metadata": {},
     "output_type": "execute_result"
    }
   ],
   "source": [
    "import duckdb\n",
    "duckdb.execute(\"copy (select 1 as x, 2 as y, 'bob' as z) to 'data.parquet'\")"
   ]
  },
  {
   "cell_type": "code",
   "execution_count": 5,
   "metadata": {},
   "outputs": [],
   "source": [
    "from datafusion import SessionContext\n",
    "import pyarrow as pa\n",
    "import pyarrow.dataset as ds"
   ]
  },
  {
   "cell_type": "code",
   "execution_count": 6,
   "metadata": {},
   "outputs": [],
   "source": [
    "ctx = SessionContext()"
   ]
  },
  {
   "cell_type": "code",
   "execution_count": 9,
   "metadata": {},
   "outputs": [],
   "source": [
    "ctx.register_parquet(\"data2\", \"data.parquet\")"
   ]
  },
  {
   "cell_type": "code",
   "execution_count": 10,
   "metadata": {},
   "outputs": [
    {
     "name": "stdout",
     "output_type": "stream",
     "text": [
      "DataFrame()\n",
      "+---+---+-----+\n",
      "| x | y | z   |\n",
      "+---+---+-----+\n",
      "| 1 | 2 | bob |\n",
      "+---+---+-----+\n"
     ]
    }
   ],
   "source": [
    "ctx.sql(\"select * from data2\").show()"
   ]
  },
  {
   "cell_type": "code",
   "execution_count": null,
   "metadata": {},
   "outputs": [],
   "source": [
    "dummy_data = {\n",
    "    \"id\": [1, 2, 3, 4],\n",
    "    \"name\": [\"Alice\", \"Bob\", \"Charlie\", \"Diana\"],\n",
    "    \"age\": [25, 30, 35, 40]\n",
    "}\n",
    "\n",
    "# Create a PyArrow table\n",
    "arrow_table = pa.Table.from_pydict(dummy_data)\n",
    "ctx.from_arrow(arrow_table, \"dummy_data1\")\n"
   ]
  },
  {
   "cell_type": "code",
   "execution_count": 19,
   "metadata": {},
   "outputs": [
    {
     "data": {
      "text/html": [
       "<table border='1'>\n",
       "<tr><th>id</td><th>name</td><th>age</td></tr>\n",
       "<tr><td>1</td><td>Alice</td><td>25</td></tr>\n",
       "<tr><td>2</td><td>Bob</td><td>30</td></tr>\n",
       "<tr><td>3</td><td>Charlie</td><td>35</td></tr>\n",
       "<tr><td>4</td><td>Diana</td><td>40</td></tr>\n",
       "</table>\n"
      ],
      "text/plain": [
       "DataFrame()\n",
       "+----+---------+-----+\n",
       "| id | name    | age |\n",
       "+----+---------+-----+\n",
       "| 1  | Alice   | 25  |\n",
       "| 2  | Bob     | 30  |\n",
       "| 3  | Charlie | 35  |\n",
       "| 4  | Diana   | 40  |\n",
       "+----+---------+-----+"
      ]
     },
     "execution_count": 19,
     "metadata": {},
     "output_type": "execute_result"
    }
   ],
   "source": [
    "ctx.sql(\"select * from dummy_data1\")"
   ]
  },
  {
   "cell_type": "code",
   "execution_count": 16,
   "metadata": {},
   "outputs": [
    {
     "data": {
      "text/html": [
       "<table border='1'>\n",
       "<tr><th>id</td><th>age_tot</td></tr>\n",
       "<tr><td>3</td><td>35</td></tr>\n",
       "<tr><td>2</td><td>30</td></tr>\n",
       "<tr><td>4</td><td>40</td></tr>\n",
       "<tr><td>1</td><td>25</td></tr>\n",
       "</table>\n"
      ],
      "text/plain": [
       "DataFrame()\n",
       "+----+---------+\n",
       "| id | age_tot |\n",
       "+----+---------+\n",
       "| 1  | 25      |\n",
       "| 2  | 30      |\n",
       "| 4  | 40      |\n",
       "| 3  | 35      |\n",
       "+----+---------+"
      ]
     },
     "execution_count": 16,
     "metadata": {},
     "output_type": "execute_result"
    }
   ],
   "source": [
    "sql = \"\"\"\n",
    "    select s.id, sum(t.age) as age_tot\n",
    "    from dummy_data1 as s\n",
    "        inner join dummy_data1 as t\n",
    "            using(id)\n",
    "    group by all\n",
    "\"\"\"\n",
    "ctx.sql(sql)"
   ]
  },
  {
   "cell_type": "code",
   "execution_count": 23,
   "metadata": {},
   "outputs": [],
   "source": [
    "from pyiceberg.catalog.sql import SqlCatalog\n",
    "warehouse_path = \"./warehouse\"\n",
    "catalog = SqlCatalog(\n",
    "    \"default\",\n",
    "    **{\n",
    "        \"uri\": f\"sqlite:///:memory:\",\n",
    "        \"warehouse\": f\"file://{warehouse_path}\",\n",
    "    },\n",
    ")"
   ]
  },
  {
   "cell_type": "code",
   "execution_count": 24,
   "metadata": {},
   "outputs": [],
   "source": [
    "namespace = \"test_ts\"\n",
    "catalog.create_namespace(namespace)"
   ]
  },
  {
   "cell_type": "code",
   "execution_count": 25,
   "metadata": {},
   "outputs": [],
   "source": [
    "rows = 5000\n",
    "\n",
    "#duckdb\n",
    "sql = f\"\"\"\n",
    "    select t.row_id, uuid() as txn_key, current_date as rpt_dt\n",
    "        ,round(random() * 100,2) as some_val\n",
    "    from generate_series(1,{rows}) t(row_id)\n",
    "\"\"\"\n",
    "\n",
    "duck_df = duckdb.execute(sql).arrow()\n"
   ]
  },
  {
   "cell_type": "code",
   "execution_count": 27,
   "metadata": {},
   "outputs": [],
   "source": [
    "table_ducks = catalog.create_table(f\"{namespace}.duckdb_data\",schema = duck_df.schema)\n",
    "table_ducks.append(duck_df)\n"
   ]
  },
  {
   "cell_type": "code",
   "execution_count": 32,
   "metadata": {},
   "outputs": [],
   "source": [
    "ice_table1 = catalog.load_table(f\"{namespace}.duckdb_data\").scan().to_arrow()"
   ]
  },
  {
   "cell_type": "code",
   "execution_count": 33,
   "metadata": {},
   "outputs": [
    {
     "data": {
      "text/html": [
       "<table border='1'>\n",
       "<tr><th>row_id</td><th>txn_key</td><th>rpt_dt</td><th>some_val</td></tr>\n",
       "<tr><td>1</td><td>92d9a4da-929e-40bd-9e43-0bb769679464</td><td>2025-01-04</td><td>52.66</td></tr>\n",
       "<tr><td>2</td><td>836b4ec5-be30-46ee-aa2e-56e014b930af</td><td>2025-01-04</td><td>21.97</td></tr>\n",
       "<tr><td>3</td><td>49d1820e-a843-490b-95c3-8b8bf6d34445</td><td>2025-01-04</td><td>71.74</td></tr>\n",
       "<tr><td>4</td><td>7abf44b2-1320-48c3-b70c-a08c2ff5be39</td><td>2025-01-04</td><td>60.26</td></tr>\n",
       "<tr><td>5</td><td>e2294a4a-48ac-462f-8908-a8f90432afa8</td><td>2025-01-04</td><td>38.09</td></tr>\n",
       "<tr><td>6</td><td>1c197542-23c6-48f2-a7ef-af8899e75a54</td><td>2025-01-04</td><td>18.2</td></tr>\n",
       "<tr><td>7</td><td>6e39f02c-73a1-4a5a-8e2c-6c28d6f292b9</td><td>2025-01-04</td><td>97.73</td></tr>\n",
       "<tr><td>8</td><td>c907bdf2-1c05-4adb-83db-db92ab519459</td><td>2025-01-04</td><td>72.29</td></tr>\n",
       "<tr><td>9</td><td>7b94639b-8112-481b-8a67-0d9f7241d4d9</td><td>2025-01-04</td><td>98.63</td></tr>\n",
       "<tr><td>10</td><td>a7f17e69-a9cd-4192-82e4-264b5b8b5593</td><td>2025-01-04</td><td>24.35</td></tr>\n",
       "</table>\n"
      ],
      "text/plain": [
       "DataFrame()\n",
       "+--------+--------------------------------------+------------+----------+\n",
       "| row_id | txn_key                              | rpt_dt     | some_val |\n",
       "+--------+--------------------------------------+------------+----------+\n",
       "| 1      | 92d9a4da-929e-40bd-9e43-0bb769679464 | 2025-01-04 | 52.66    |\n",
       "| 2      | 836b4ec5-be30-46ee-aa2e-56e014b930af | 2025-01-04 | 21.97    |\n",
       "| 3      | 49d1820e-a843-490b-95c3-8b8bf6d34445 | 2025-01-04 | 71.74    |\n",
       "| 4      | 7abf44b2-1320-48c3-b70c-a08c2ff5be39 | 2025-01-04 | 60.26    |\n",
       "| 5      | e2294a4a-48ac-462f-8908-a8f90432afa8 | 2025-01-04 | 38.09    |\n",
       "| 6      | 1c197542-23c6-48f2-a7ef-af8899e75a54 | 2025-01-04 | 18.2     |\n",
       "| 7      | 6e39f02c-73a1-4a5a-8e2c-6c28d6f292b9 | 2025-01-04 | 97.73    |\n",
       "| 8      | c907bdf2-1c05-4adb-83db-db92ab519459 | 2025-01-04 | 72.29    |\n",
       "| 9      | 7b94639b-8112-481b-8a67-0d9f7241d4d9 | 2025-01-04 | 98.63    |\n",
       "| 10     | a7f17e69-a9cd-4192-82e4-264b5b8b5593 | 2025-01-04 | 24.35    |\n",
       "+--------+--------------------------------------+------------+----------+"
      ]
     },
     "execution_count": 33,
     "metadata": {},
     "output_type": "execute_result"
    }
   ],
   "source": [
    "ctx.from_arrow(ice_table1, \"duck_data\")"
   ]
  },
  {
   "cell_type": "code",
   "execution_count": 34,
   "metadata": {},
   "outputs": [
    {
     "data": {
      "text/html": [
       "<table border='1'>\n",
       "<tr><th>rpt_dt</td><th>rec_cntm</td><th>tot_val</td></tr>\n",
       "<tr><td>2025-01-04</td><td>5000</td><td>249318.5700000003</td></tr>\n",
       "</table>\n"
      ],
      "text/plain": [
       "DataFrame()\n",
       "+------------+----------+-------------------+\n",
       "| rpt_dt     | rec_cntm | tot_val           |\n",
       "+------------+----------+-------------------+\n",
       "| 2025-01-04 | 5000     | 249318.5700000003 |\n",
       "+------------+----------+-------------------+"
      ]
     },
     "execution_count": 34,
     "metadata": {},
     "output_type": "execute_result"
    }
   ],
   "source": [
    "ctx.sql(\"select rpt_dt, count(*) as rec_cntm, sum(some_val) as tot_val from duck_data group by all\")"
   ]
  }
 ],
 "metadata": {
  "kernelspec": {
   "display_name": ".venv",
   "language": "python",
   "name": "python3"
  },
  "language_info": {
   "codemirror_mode": {
    "name": "ipython",
    "version": 3
   },
   "file_extension": ".py",
   "mimetype": "text/x-python",
   "name": "python",
   "nbconvert_exporter": "python",
   "pygments_lexer": "ipython3",
   "version": "3.13.1"
  }
 },
 "nbformat": 4,
 "nbformat_minor": 2
}
