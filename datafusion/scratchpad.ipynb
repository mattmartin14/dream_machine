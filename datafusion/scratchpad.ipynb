{
 "cells": [
  {
   "cell_type": "code",
   "execution_count": 3,
   "metadata": {},
   "outputs": [
    {
     "data": {
      "text/plain": [
       "<duckdb.duckdb.DuckDBPyConnection at 0x1061a26f0>"
      ]
     },
     "execution_count": 3,
     "metadata": {},
     "output_type": "execute_result"
    }
   ],
   "source": [
    "import duckdb\n",
    "duckdb.execute(\"copy (select 1 as x, 2 as y, 'bob' as z) to 'data.parquet'\")"
   ]
  },
  {
   "cell_type": "code",
   "execution_count": 1,
   "metadata": {},
   "outputs": [],
   "source": [
    "from datafusion import SessionContext\n",
    "import pyarrow as pa\n",
    "import pyarrow.dataset as ds"
   ]
  },
  {
   "cell_type": "code",
   "execution_count": 2,
   "metadata": {},
   "outputs": [],
   "source": [
    "ctx = SessionContext()"
   ]
  },
  {
   "cell_type": "code",
   "execution_count": 9,
   "metadata": {},
   "outputs": [],
   "source": [
    "ctx.register_parquet(\"data2\", \"data.parquet\")"
   ]
  },
  {
   "cell_type": "code",
   "execution_count": 10,
   "metadata": {},
   "outputs": [
    {
     "name": "stdout",
     "output_type": "stream",
     "text": [
      "DataFrame()\n",
      "+---+---+-----+\n",
      "| x | y | z   |\n",
      "+---+---+-----+\n",
      "| 1 | 2 | bob |\n",
      "+---+---+-----+\n"
     ]
    }
   ],
   "source": [
    "ctx.sql(\"select * from data2\").show()"
   ]
  },
  {
   "cell_type": "code",
   "execution_count": null,
   "metadata": {},
   "outputs": [],
   "source": [
    "dummy_data = {\n",
    "    \"id\": [1, 2, 3, 4],\n",
    "    \"name\": [\"Alice\", \"Bob\", \"Charlie\", \"Diana\"],\n",
    "    \"age\": [25, 30, 35, 40]\n",
    "}\n",
    "\n",
    "# Create a PyArrow table\n",
    "arrow_table = pa.Table.from_pydict(dummy_data)\n",
    "ctx.from_arrow(arrow_table, \"dummy_data1\")\n"
   ]
  },
  {
   "cell_type": "code",
   "execution_count": 19,
   "metadata": {},
   "outputs": [
    {
     "data": {
      "text/html": [
       "<table border='1'>\n",
       "<tr><th>id</td><th>name</td><th>age</td></tr>\n",
       "<tr><td>1</td><td>Alice</td><td>25</td></tr>\n",
       "<tr><td>2</td><td>Bob</td><td>30</td></tr>\n",
       "<tr><td>3</td><td>Charlie</td><td>35</td></tr>\n",
       "<tr><td>4</td><td>Diana</td><td>40</td></tr>\n",
       "</table>\n"
      ],
      "text/plain": [
       "DataFrame()\n",
       "+----+---------+-----+\n",
       "| id | name    | age |\n",
       "+----+---------+-----+\n",
       "| 1  | Alice   | 25  |\n",
       "| 2  | Bob     | 30  |\n",
       "| 3  | Charlie | 35  |\n",
       "| 4  | Diana   | 40  |\n",
       "+----+---------+-----+"
      ]
     },
     "execution_count": 19,
     "metadata": {},
     "output_type": "execute_result"
    }
   ],
   "source": [
    "ctx.sql(\"select * from dummy_data1\")"
   ]
  },
  {
   "cell_type": "code",
   "execution_count": 16,
   "metadata": {},
   "outputs": [
    {
     "data": {
      "text/html": [
       "<table border='1'>\n",
       "<tr><th>id</td><th>age_tot</td></tr>\n",
       "<tr><td>3</td><td>35</td></tr>\n",
       "<tr><td>2</td><td>30</td></tr>\n",
       "<tr><td>4</td><td>40</td></tr>\n",
       "<tr><td>1</td><td>25</td></tr>\n",
       "</table>\n"
      ],
      "text/plain": [
       "DataFrame()\n",
       "+----+---------+\n",
       "| id | age_tot |\n",
       "+----+---------+\n",
       "| 1  | 25      |\n",
       "| 2  | 30      |\n",
       "| 4  | 40      |\n",
       "| 3  | 35      |\n",
       "+----+---------+"
      ]
     },
     "execution_count": 16,
     "metadata": {},
     "output_type": "execute_result"
    }
   ],
   "source": [
    "sql = \"\"\"\n",
    "    select s.id, sum(t.age) as age_tot\n",
    "    from dummy_data1 as s\n",
    "        inner join dummy_data1 as t\n",
    "            using(id)\n",
    "    group by all\n",
    "\"\"\"\n",
    "ctx.sql(sql)"
   ]
  },
  {
   "cell_type": "code",
   "execution_count": 35,
   "metadata": {},
   "outputs": [],
   "source": []
  },
  {
   "cell_type": "code",
   "execution_count": 1,
   "metadata": {},
   "outputs": [],
   "source": [
    "from pyiceberg.catalog.sql import SqlCatalog\n",
    "warehouse_path = \"./warehouse\"\n",
    "catalog = SqlCatalog(\n",
    "    \"default\",\n",
    "    **{\n",
    "        \"uri\": f\"sqlite:///:memory:\",\n",
    "        \"warehouse\": f\"file://{warehouse_path}\",\n",
    "    },\n",
    ")"
   ]
  },
  {
   "cell_type": "code",
   "execution_count": 2,
   "metadata": {},
   "outputs": [],
   "source": [
    "namespace = \"test_ts\"\n",
    "catalog.create_namespace(namespace)"
   ]
  },
  {
   "cell_type": "code",
   "execution_count": 4,
   "metadata": {},
   "outputs": [],
   "source": [
    "import duckdb\n",
    "rows = 5000\n",
    "\n",
    "#duckdb\n",
    "sql = f\"\"\"\n",
    "    select t.row_id, uuid() as txn_key, current_date as rpt_dt\n",
    "        ,round(random() * 100,2) as some_val\n",
    "    from generate_series(1,{rows}) t(row_id)\n",
    "\"\"\"\n",
    "\n",
    "duck_df = duckdb.execute(sql).arrow()\n"
   ]
  },
  {
   "cell_type": "code",
   "execution_count": 5,
   "metadata": {},
   "outputs": [],
   "source": [
    "table_ducks = catalog.create_table(f\"{namespace}.duckdb_data\",schema = duck_df.schema)\n",
    "table_ducks.append(duck_df)\n"
   ]
  },
  {
   "cell_type": "code",
   "execution_count": 10,
   "metadata": {},
   "outputs": [],
   "source": [
    "ice_table1 = catalog.load_table(f\"{namespace}.duckdb_data\").scan().to_arrow()"
   ]
  },
  {
   "cell_type": "code",
   "execution_count": 11,
   "metadata": {},
   "outputs": [
    {
     "data": {
      "text/html": [
       "<table border='1'>\n",
       "<tr><th>row_id</td><th>txn_key</td><th>rpt_dt</td><th>some_val</td></tr>\n",
       "<tr><td>1</td><td>8a920983-df0d-4211-908c-78784dc548bf</td><td>2025-01-05</td><td>45.8</td></tr>\n",
       "<tr><td>2</td><td>636fc7aa-1a9b-46e1-ba7e-fd531ba2a716</td><td>2025-01-05</td><td>64.79</td></tr>\n",
       "<tr><td>3</td><td>ee1e45bc-e46b-4a55-aec2-0f0d38fa0c30</td><td>2025-01-05</td><td>73.56</td></tr>\n",
       "<tr><td>4</td><td>fcfa971d-76cd-41f0-935c-4bf5953afc72</td><td>2025-01-05</td><td>98.5</td></tr>\n",
       "<tr><td>5</td><td>9918932a-5f83-4f96-99b5-51660a4b88f9</td><td>2025-01-05</td><td>6.44</td></tr>\n",
       "<tr><td>6</td><td>b201ab6b-b8c6-4bba-bfc1-7b6a12042d97</td><td>2025-01-05</td><td>85.38</td></tr>\n",
       "<tr><td>7</td><td>100f7f65-84b7-4c53-929a-46934aed6e0a</td><td>2025-01-05</td><td>59.42</td></tr>\n",
       "<tr><td>8</td><td>7935af52-5374-44ac-bef8-f5197b4c20b0</td><td>2025-01-05</td><td>44.91</td></tr>\n",
       "<tr><td>9</td><td>0efcff37-bb77-4c05-a1ae-6050106ea138</td><td>2025-01-05</td><td>73.52</td></tr>\n",
       "<tr><td>10</td><td>8d438cea-2673-4443-bbe6-95518cd8eea8</td><td>2025-01-05</td><td>11.76</td></tr>\n",
       "</table>\n"
      ],
      "text/plain": [
       "DataFrame()\n",
       "+--------+--------------------------------------+------------+----------+\n",
       "| row_id | txn_key                              | rpt_dt     | some_val |\n",
       "+--------+--------------------------------------+------------+----------+\n",
       "| 1      | 8a920983-df0d-4211-908c-78784dc548bf | 2025-01-05 | 45.8     |\n",
       "| 2      | 636fc7aa-1a9b-46e1-ba7e-fd531ba2a716 | 2025-01-05 | 64.79    |\n",
       "| 3      | ee1e45bc-e46b-4a55-aec2-0f0d38fa0c30 | 2025-01-05 | 73.56    |\n",
       "| 4      | fcfa971d-76cd-41f0-935c-4bf5953afc72 | 2025-01-05 | 98.5     |\n",
       "| 5      | 9918932a-5f83-4f96-99b5-51660a4b88f9 | 2025-01-05 | 6.44     |\n",
       "| 6      | b201ab6b-b8c6-4bba-bfc1-7b6a12042d97 | 2025-01-05 | 85.38    |\n",
       "| 7      | 100f7f65-84b7-4c53-929a-46934aed6e0a | 2025-01-05 | 59.42    |\n",
       "| 8      | 7935af52-5374-44ac-bef8-f5197b4c20b0 | 2025-01-05 | 44.91    |\n",
       "| 9      | 0efcff37-bb77-4c05-a1ae-6050106ea138 | 2025-01-05 | 73.52    |\n",
       "| 10     | 8d438cea-2673-4443-bbe6-95518cd8eea8 | 2025-01-05 | 11.76    |\n",
       "+--------+--------------------------------------+------------+----------+"
      ]
     },
     "execution_count": 11,
     "metadata": {},
     "output_type": "execute_result"
    }
   ],
   "source": [
    "ctx.from_arrow(ice_table1, \"duck_data\")"
   ]
  },
  {
   "cell_type": "code",
   "execution_count": 12,
   "metadata": {},
   "outputs": [
    {
     "data": {
      "text/html": [
       "<table border='1'>\n",
       "<tr><th>rpt_dt</td><th>rec_cntm</td><th>tot_val</td></tr>\n",
       "<tr><td>2025-01-05</td><td>5000</td><td>251376.15999999983</td></tr>\n",
       "</table>\n"
      ],
      "text/plain": [
       "DataFrame()\n",
       "+------------+----------+--------------------+\n",
       "| rpt_dt     | rec_cntm | tot_val            |\n",
       "+------------+----------+--------------------+\n",
       "| 2025-01-05 | 5000     | 251376.15999999983 |\n",
       "+------------+----------+--------------------+"
      ]
     },
     "execution_count": 12,
     "metadata": {},
     "output_type": "execute_result"
    }
   ],
   "source": [
    "ctx.sql(\"select rpt_dt, count(*) as rec_cntm, sum(some_val) as tot_val from duck_data group by all\")"
   ]
  },
  {
   "cell_type": "code",
   "execution_count": 1,
   "metadata": {},
   "outputs": [
    {
     "name": "stdout",
     "output_type": "stream",
     "text": [
      "┌───────┐\n",
      "│   x   │\n",
      "│ int32 │\n",
      "├───────┤\n",
      "│    42 │\n",
      "└───────┘\n",
      "\n"
     ]
    }
   ],
   "source": [
    "import duckdb\n",
    "duckdb.sql(\"SELECT 42 as x\").show()"
   ]
  },
  {
   "cell_type": "code",
   "execution_count": 2,
   "metadata": {},
   "outputs": [
    {
     "name": "stdout",
     "output_type": "stream",
     "text": [
      "DataFrame()\n",
      "+----+\n",
      "| x  |\n",
      "+----+\n",
      "| 42 |\n",
      "+----+\n"
     ]
    }
   ],
   "source": [
    "from datafusion import SessionContext\n",
    "ctx = SessionContext()\n",
    "ctx.sql(\"select 42 as x\").show()\n"
   ]
  },
  {
   "cell_type": "code",
   "execution_count": 3,
   "metadata": {},
   "outputs": [
    {
     "data": {
      "text/plain": [
       "<duckdb.duckdb.DuckDBPyConnection at 0x106ad3c30>"
      ]
     },
     "execution_count": 3,
     "metadata": {},
     "output_type": "execute_result"
    }
   ],
   "source": [
    "duckdb.execute(\"copy (select 42 as x) to 'duck.parquet'\")"
   ]
  },
  {
   "cell_type": "code",
   "execution_count": 5,
   "metadata": {},
   "outputs": [
    {
     "data": {
      "text/html": [
       "<table border='1'>\n",
       "<tr><th>count</td></tr>\n",
       "<tr><td>1</td></tr>\n",
       "</table>\n"
      ],
      "text/plain": [
       "DataFrame()\n",
       "+-------+\n",
       "| count |\n",
       "+-------+\n",
       "| 1     |\n",
       "+-------+"
      ]
     },
     "execution_count": 5,
     "metadata": {},
     "output_type": "execute_result"
    }
   ],
   "source": [
    "ctx.sql(\"copy (select 42 as x) to 'fusion.parquet'\")"
   ]
  },
  {
   "cell_type": "code",
   "execution_count": 6,
   "metadata": {},
   "outputs": [
    {
     "name": "stdout",
     "output_type": "stream",
     "text": [
      "┌───────┐\n",
      "│   x   │\n",
      "│ int32 │\n",
      "├───────┤\n",
      "│    42 │\n",
      "└───────┘\n",
      "\n"
     ]
    }
   ],
   "source": [
    "duckdb.sql(\"select * from 'duck.parquet'\").show()"
   ]
  },
  {
   "cell_type": "code",
   "execution_count": 7,
   "metadata": {},
   "outputs": [
    {
     "name": "stdout",
     "output_type": "stream",
     "text": [
      "DataFrame()\n",
      "+----+\n",
      "| x  |\n",
      "+----+\n",
      "| 42 |\n",
      "+----+\n"
     ]
    }
   ],
   "source": [
    "ctx.register_parquet(\"my_parquet_table\", 'fusion.parquet')\n",
    "ctx.sql(\"select * from my_parquet_table\").show()"
   ]
  },
  {
   "cell_type": "code",
   "execution_count": 16,
   "metadata": {},
   "outputs": [
    {
     "data": {
      "text/html": [
       "<table border='1'>\n",
       "<tr><th>x</td><th>txn_key</td><th>rpt_dt</td><th>some_val</td></tr>\n",
       "<tr><td>1</td><td>0a484188-df64-4454-aed7-c6defd5ac7c2</td><td>2025-01-08</td><td>2.57</td></tr>\n",
       "<tr><td>2</td><td>00e21116-9652-46e7-bbaa-4a8db1e802c7</td><td>2025-01-08</td><td>67.02</td></tr>\n",
       "<tr><td>3</td><td>a13cd55c-1ea7-478b-967c-edeb744e4cc2</td><td>2025-01-08</td><td>23.5</td></tr>\n",
       "<tr><td>4</td><td>82cdf517-5aae-40d1-a729-41454c2ccf48</td><td>2025-01-08</td><td>11.84</td></tr>\n",
       "<tr><td>5</td><td>6cc9ec71-aa2d-4edb-9104-ef691a258eef</td><td>2025-01-08</td><td>3.99</td></tr>\n",
       "</table>\n"
      ],
      "text/plain": [
       "DataFrame()\n",
       "+---+--------------------------------------+------------+----------+\n",
       "| x | txn_key                              | rpt_dt     | some_val |\n",
       "+---+--------------------------------------+------------+----------+\n",
       "| 1 | f8fb8bbb-ec73-478b-a240-4a1823c50971 | 2025-01-08 | 53.37    |\n",
       "| 2 | 7b3d9789-472f-490a-8023-78e7c09fbcec | 2025-01-08 | 51.8     |\n",
       "| 3 | 2115a3ae-5f6c-461d-85b5-bc02e77a7c39 | 2025-01-08 | 70.22    |\n",
       "| 4 | 07355062-361c-45ea-9a10-4fcbbc126d1f | 2025-01-08 | 29.1     |\n",
       "| 5 | b61a5067-30f1-4a59-b433-7f4bdcf6fffc | 2025-01-08 | 13.03    |\n",
       "+---+--------------------------------------+------------+----------+"
      ]
     },
     "execution_count": 16,
     "metadata": {},
     "output_type": "execute_result"
    }
   ],
   "source": [
    "row_cnt = 5\n",
    "sql = f\"\"\"\n",
    "    with data as (select unnest(range(1,{row_cnt}+1)) as x)\n",
    "    select x, uuid() as txn_key, current_date as rpt_dt\n",
    "        ,round(random()*100 ,2) as some_val\n",
    "    from data\n",
    "\"\"\"\n",
    "ctx.sql(sql)"
   ]
  },
  {
   "cell_type": "code",
   "execution_count": 15,
   "metadata": {},
   "outputs": [
    {
     "data": {
      "text/plain": [
       "┌────────┬──────────────────────────────────────┬────────────┬──────────┐\n",
       "│ row_id │               txn_key                │   rpt_dt   │ some_val │\n",
       "│ int64  │                 uuid                 │    date    │  double  │\n",
       "├────────┼──────────────────────────────────────┼────────────┼──────────┤\n",
       "│      1 │ 084c3f7c-c125-42a3-9aaa-e34fdb073c4c │ 2025-01-08 │     97.4 │\n",
       "│      2 │ de5705bf-d11e-4b4f-8989-559f83790348 │ 2025-01-08 │    94.58 │\n",
       "│      3 │ bfa23440-acfd-4d85-8a4f-9fa74bad6624 │ 2025-01-08 │     5.16 │\n",
       "│      4 │ fda17bf5-82f7-4434-b550-6d45b9af8c8b │ 2025-01-08 │    90.76 │\n",
       "│      5 │ 2cb1ef9f-3aa4-4d07-94a1-0c91cf8fff03 │ 2025-01-08 │    93.13 │\n",
       "└────────┴──────────────────────────────────────┴────────────┴──────────┘"
      ]
     },
     "execution_count": 15,
     "metadata": {},
     "output_type": "execute_result"
    }
   ],
   "source": [
    "import duckdb\n",
    "sql =f\"\"\"\n",
    "    select t.row_id, uuid() as txn_key, current_date as rpt_dt\n",
    "        ,round(random() * 100,2) as some_val\n",
    "    from generate_series(1,{row_cnt}) t(row_id)\n",
    "\"\"\"\n",
    "duckdb.sql(sql)"
   ]
  }
 ],
 "metadata": {
  "kernelspec": {
   "display_name": ".venv",
   "language": "python",
   "name": "python3"
  },
  "language_info": {
   "codemirror_mode": {
    "name": "ipython",
    "version": 3
   },
   "file_extension": ".py",
   "mimetype": "text/x-python",
   "name": "python",
   "nbconvert_exporter": "python",
   "pygments_lexer": "ipython3",
   "version": "3.13.1"
  }
 },
 "nbformat": 4,
 "nbformat_minor": 2
}
