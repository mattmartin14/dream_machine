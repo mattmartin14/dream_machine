{
 "cells": [
  {
   "cell_type": "code",
   "execution_count": 3,
   "metadata": {},
   "outputs": [
    {
     "data": {
      "text/plain": [
       "<duckdb.duckdb.DuckDBPyConnection at 0x1061a26f0>"
      ]
     },
     "execution_count": 3,
     "metadata": {},
     "output_type": "execute_result"
    }
   ],
   "source": [
    "import duckdb\n",
    "duckdb.execute(\"copy (select 1 as x, 2 as y, 'bob' as z) to 'data.parquet'\")"
   ]
  },
  {
   "cell_type": "code",
   "execution_count": 5,
   "metadata": {},
   "outputs": [],
   "source": [
    "from datafusion import SessionContext\n",
    "import pyarrow as pa\n",
    "import pyarrow.dataset as ds"
   ]
  },
  {
   "cell_type": "code",
   "execution_count": 6,
   "metadata": {},
   "outputs": [],
   "source": [
    "ctx = SessionContext()"
   ]
  },
  {
   "cell_type": "code",
   "execution_count": 9,
   "metadata": {},
   "outputs": [],
   "source": [
    "ctx.register_parquet(\"data2\", \"data.parquet\")"
   ]
  },
  {
   "cell_type": "code",
   "execution_count": 10,
   "metadata": {},
   "outputs": [
    {
     "name": "stdout",
     "output_type": "stream",
     "text": [
      "DataFrame()\n",
      "+---+---+-----+\n",
      "| x | y | z   |\n",
      "+---+---+-----+\n",
      "| 1 | 2 | bob |\n",
      "+---+---+-----+\n"
     ]
    }
   ],
   "source": [
    "ctx.sql(\"select * from data2\").show()"
   ]
  },
  {
   "cell_type": "code",
   "execution_count": null,
   "metadata": {},
   "outputs": [],
   "source": [
    "dummy_data = {\n",
    "    \"id\": [1, 2, 3, 4],\n",
    "    \"name\": [\"Alice\", \"Bob\", \"Charlie\", \"Diana\"],\n",
    "    \"age\": [25, 30, 35, 40]\n",
    "}\n",
    "\n",
    "# Create a PyArrow table\n",
    "arrow_table = pa.Table.from_pydict(dummy_data)\n",
    "ctx.from_arrow(arrow_table, \"dummy_data1\")\n"
   ]
  },
  {
   "cell_type": "code",
   "execution_count": 19,
   "metadata": {},
   "outputs": [
    {
     "data": {
      "text/html": [
       "<table border='1'>\n",
       "<tr><th>id</td><th>name</td><th>age</td></tr>\n",
       "<tr><td>1</td><td>Alice</td><td>25</td></tr>\n",
       "<tr><td>2</td><td>Bob</td><td>30</td></tr>\n",
       "<tr><td>3</td><td>Charlie</td><td>35</td></tr>\n",
       "<tr><td>4</td><td>Diana</td><td>40</td></tr>\n",
       "</table>\n"
      ],
      "text/plain": [
       "DataFrame()\n",
       "+----+---------+-----+\n",
       "| id | name    | age |\n",
       "+----+---------+-----+\n",
       "| 1  | Alice   | 25  |\n",
       "| 2  | Bob     | 30  |\n",
       "| 3  | Charlie | 35  |\n",
       "| 4  | Diana   | 40  |\n",
       "+----+---------+-----+"
      ]
     },
     "execution_count": 19,
     "metadata": {},
     "output_type": "execute_result"
    }
   ],
   "source": [
    "ctx.sql(\"select * from dummy_data1\")"
   ]
  },
  {
   "cell_type": "code",
   "execution_count": 16,
   "metadata": {},
   "outputs": [
    {
     "data": {
      "text/html": [
       "<table border='1'>\n",
       "<tr><th>id</td><th>age_tot</td></tr>\n",
       "<tr><td>3</td><td>35</td></tr>\n",
       "<tr><td>2</td><td>30</td></tr>\n",
       "<tr><td>4</td><td>40</td></tr>\n",
       "<tr><td>1</td><td>25</td></tr>\n",
       "</table>\n"
      ],
      "text/plain": [
       "DataFrame()\n",
       "+----+---------+\n",
       "| id | age_tot |\n",
       "+----+---------+\n",
       "| 1  | 25      |\n",
       "| 2  | 30      |\n",
       "| 4  | 40      |\n",
       "| 3  | 35      |\n",
       "+----+---------+"
      ]
     },
     "execution_count": 16,
     "metadata": {},
     "output_type": "execute_result"
    }
   ],
   "source": [
    "sql = \"\"\"\n",
    "    select s.id, sum(t.age) as age_tot\n",
    "    from dummy_data1 as s\n",
    "        inner join dummy_data1 as t\n",
    "            using(id)\n",
    "    group by all\n",
    "\"\"\"\n",
    "ctx.sql(sql)"
   ]
  },
  {
   "cell_type": "markdown",
   "metadata": {},
   "source": [
    "next steps:\n",
    "- create an iceberg table via pyiceberg and see if datafusion can read it"
   ]
  }
 ],
 "metadata": {
  "kernelspec": {
   "display_name": ".venv",
   "language": "python",
   "name": "python3"
  },
  "language_info": {
   "codemirror_mode": {
    "name": "ipython",
    "version": 3
   },
   "file_extension": ".py",
   "mimetype": "text/x-python",
   "name": "python",
   "nbconvert_exporter": "python",
   "pygments_lexer": "ipython3",
   "version": "3.13.1"
  }
 },
 "nbformat": 4,
 "nbformat_minor": 2
}
