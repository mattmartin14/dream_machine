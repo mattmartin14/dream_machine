{
 "cells": [
  {
   "cell_type": "code",
   "execution_count": null,
   "metadata": {},
   "outputs": [],
   "source": [
    "#%pip install polars"
   ]
  },
  {
   "cell_type": "code",
   "execution_count": 2,
   "metadata": {},
   "outputs": [],
   "source": [
    "import polars as pl"
   ]
  },
  {
   "cell_type": "code",
   "execution_count": 3,
   "metadata": {},
   "outputs": [],
   "source": [
    "data = {'name': ['Alice', 'Bob', 'Charlie'],\n",
    "        'age': [25, 30, 35],\n",
    "        'city': ['New York', 'San Francisco', 'Los Angeles']}\n",
    "\n",
    "df = pl.DataFrame(data)\n"
   ]
  },
  {
   "cell_type": "code",
   "execution_count": 4,
   "metadata": {},
   "outputs": [
    {
     "name": "stdout",
     "output_type": "stream",
     "text": [
      "shape: (3, 3)\n",
      "┌─────────┬─────┬───────────────┐\n",
      "│ name    ┆ age ┆ city          │\n",
      "│ ---     ┆ --- ┆ ---           │\n",
      "│ str     ┆ i64 ┆ str           │\n",
      "╞═════════╪═════╪═══════════════╡\n",
      "│ Alice   ┆ 25  ┆ New York      │\n",
      "│ Bob     ┆ 30  ┆ San Francisco │\n",
      "│ Charlie ┆ 35  ┆ Los Angeles   │\n",
      "└─────────┴─────┴───────────────┘\n"
     ]
    }
   ],
   "source": [
    "print(df)"
   ]
  },
  {
   "cell_type": "code",
   "execution_count": 16,
   "metadata": {},
   "outputs": [
    {
     "name": "stdout",
     "output_type": "stream",
     "text": [
      "shape: (1, 3)\n",
      "┌─────────┬─────┬─────────────┐\n",
      "│ name    ┆ age ┆ city        │\n",
      "│ ---     ┆ --- ┆ ---         │\n",
      "│ str     ┆ i64 ┆ str         │\n",
      "╞═════════╪═════╪═════════════╡\n",
      "│ Charlie ┆ 35  ┆ Los Angeles │\n",
      "└─────────┴─────┴─────────────┘\n"
     ]
    }
   ],
   "source": [
    "#filtering\n",
    "filtered_df = df.filter(pl.col('age') > 30)\n",
    "print(filtered_df)"
   ]
  },
  {
   "cell_type": "code",
   "execution_count": 15,
   "metadata": {},
   "outputs": [
    {
     "name": "stdout",
     "output_type": "stream",
     "text": [
      "shape: (3, 2)\n",
      "┌───────────────┬──────┐\n",
      "│ city          ┆ age  │\n",
      "│ ---           ┆ ---  │\n",
      "│ str           ┆ f64  │\n",
      "╞═══════════════╪══════╡\n",
      "│ New York      ┆ 25.0 │\n",
      "│ Los Angeles   ┆ 35.0 │\n",
      "│ San Francisco ┆ 30.0 │\n",
      "└───────────────┴──────┘\n"
     ]
    }
   ],
   "source": [
    "#grouping\n",
    "grouped_df = df.group_by('city').agg(pl.col('age').mean())\n",
    "grouped_df.write_csv(file='test.csv', separator='|')\n",
    "grouped_df.write_parquet('test.parquet')\n",
    "print(grouped_df)\n"
   ]
  },
  {
   "cell_type": "code",
   "execution_count": 10,
   "metadata": {},
   "outputs": [
    {
     "name": "stdout",
     "output_type": "stream",
     "text": [
      "shape: (3, 3)\n",
      "┌─────────┬─────┬───────────────┐\n",
      "│ name    ┆ age ┆ city          │\n",
      "│ ---     ┆ --- ┆ ---           │\n",
      "│ str     ┆ i64 ┆ str           │\n",
      "╞═════════╪═════╪═══════════════╡\n",
      "│ Charlie ┆ 35  ┆ Los Angeles   │\n",
      "│ Bob     ┆ 30  ┆ San Francisco │\n",
      "│ Alice   ┆ 25  ┆ New York      │\n",
      "└─────────┴─────┴───────────────┘\n"
     ]
    }
   ],
   "source": [
    "#sorting\n",
    "sorted_df = df.sort('age', descending=True)\n",
    "print(sorted_df)"
   ]
  },
  {
   "cell_type": "code",
   "execution_count": 20,
   "metadata": {},
   "outputs": [
    {
     "name": "stdout",
     "output_type": "stream",
     "text": [
      "shape: (3, 3)\n",
      "┌─────┬───────┬────────┐\n",
      "│ id  ┆ value ┆ value2 │\n",
      "│ --- ┆ ---   ┆ ---    │\n",
      "│ i64 ┆ str   ┆ str    │\n",
      "╞═════╪═══════╪════════╡\n",
      "│ 1   ┆ A     ┆ null   │\n",
      "│ 2   ┆ B     ┆ X      │\n",
      "│ 3   ┆ C     ┆ Y      │\n",
      "└─────┴───────┴────────┘\n"
     ]
    }
   ],
   "source": [
    "#joins\n",
    "df1 = pl.DataFrame({'id': [1, 2, 3], 'value': ['A', 'B', 'C']})\n",
    "df2 = pl.DataFrame({'id': [2, 3, 4], 'value2': ['X', 'Y', 'Z']})\n",
    "\n",
    "merged_df = df1.join(df2, on='id',how='left')\n",
    "print(merged_df)"
   ]
  }
 ],
 "metadata": {
  "kernelspec": {
   "display_name": ".venv",
   "language": "python",
   "name": "python3"
  },
  "language_info": {
   "codemirror_mode": {
    "name": "ipython",
    "version": 3
   },
   "file_extension": ".py",
   "mimetype": "text/x-python",
   "name": "python",
   "nbconvert_exporter": "python",
   "pygments_lexer": "ipython3",
   "version": "3.11.5"
  }
 },
 "nbformat": 4,
 "nbformat_minor": 2
}
