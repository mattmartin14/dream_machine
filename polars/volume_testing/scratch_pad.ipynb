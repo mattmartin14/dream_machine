{
 "cells": [
  {
   "cell_type": "code",
   "execution_count": null,
   "metadata": {},
   "outputs": [],
   "source": [
    "# %pip install mimesis\n",
    "# %pip install polars"
   ]
  },
  {
   "cell_type": "code",
   "execution_count": 1,
   "metadata": {},
   "outputs": [],
   "source": [
    "import time \n",
    "import os\n",
    "from mimesis import Person, Address, Numeric\n",
    "import polars as pl\n",
    "from concurrent.futures import ThreadPoolExecutor\n",
    "import csv\n",
    "\n"
   ]
  },
  {
   "cell_type": "code",
   "execution_count": 21,
   "metadata": {},
   "outputs": [],
   "source": [
    "peep = Person()"
   ]
  },
  {
   "cell_type": "code",
   "execution_count": 26,
   "metadata": {},
   "outputs": [
    {
     "data": {
      "text/plain": [
       "'1.94'"
      ]
     },
     "execution_count": 26,
     "metadata": {},
     "output_type": "execute_result"
    }
   ],
   "source": [
    "#peep.birthdate()\n",
    "peep.gender()\n",
    "peep.weight()\n",
    "peep.height()"
   ]
  },
  {
   "cell_type": "code",
   "execution_count": 13,
   "metadata": {},
   "outputs": [
    {
     "name": "stdout",
     "output_type": "stream",
     "text": [
      "10000000\n"
     ]
    }
   ],
   "source": [
    "\n",
    "df = pl.read_csv('~/test_dummy_data/polars/data*.csv')\n",
    "\n",
    "\"\"\"\n",
    "    Update: Used the go fd fake data generator to generate 100M rows; it did it in about 5 minutes.\n",
    "        it generated 14 gb of data; this is the command i used:\n",
    "            ./fd create --filetype csv --maxworkers 6 --prefix fin_data_ --outputdir ~/test_dummy_data/polars --files 30 --rows 100000000\n",
    "\n",
    "    -- add a link for that to this test harness\n",
    "\"\"\"\n",
    "\n",
    "## TODO: Aggregate data up, add timestamp column, write to parquet\n"
   ]
  },
  {
   "cell_type": "code",
   "execution_count": 31,
   "metadata": {},
   "outputs": [],
   "source": [
    "df2 = df.group_by(\"zip_cd\").agg(\n",
    "     pl.col(\"net_worth\").sum().name.suffix(\"_tot\")\n",
    "    ,pl.col(\"first_name\").n_unique().name.suffix(\"_cnt\")\n",
    "    ,pl.col(\"city\").count().alias(\"city_cnt\")\n",
    ")\n",
    "\n",
    "df2.head(5)\n",
    "df2.write_csv(file=\"~/test.csv\",include_header=True, separator=\"|\")"
   ]
  },
  {
   "cell_type": "code",
   "execution_count": 2,
   "metadata": {},
   "outputs": [],
   "source": [
    "import polars as pl"
   ]
  },
  {
   "cell_type": "code",
   "execution_count": null,
   "metadata": {},
   "outputs": [],
   "source": [
    "df = pl.read_csv(\"/Users/matthewmartin/test_dummy_data/polars/*.csv\").lazy()"
   ]
  },
  {
   "cell_type": "code",
   "execution_count": 3,
   "metadata": {},
   "outputs": [],
   "source": [
    "#scan the csv and put it into a lazy frame so tit doesn't gobble up all the memory\n",
    "df = pl.scan_csv(\"/Users/matthewmartin/test_dummy_data/polars/data*.csv\").lazy()"
   ]
  },
  {
   "cell_type": "code",
   "execution_count": 13,
   "metadata": {},
   "outputs": [
    {
     "data": {
      "text/html": [
       "<div><style>\n",
       ".dataframe > thead > tr,\n",
       ".dataframe > tbody > tr {\n",
       "  text-align: right;\n",
       "  white-space: pre-wrap;\n",
       "}\n",
       "</style>\n",
       "<small>shape: (5, 4)</small><table border=\"1\" class=\"dataframe\"><thead><tr><th>state</th><th>zip_cd_cnt</th><th>unique_first_name_cnt</th><th>total_net_worth</th></tr><tr><td>str</td><td>u32</td><td>u32</td><td>i64</td></tr></thead><tbody><tr><td>&quot;Kansas&quot;</td><td>100000</td><td>3323</td><td>99934426481</td></tr><tr><td>&quot;Alaska&quot;</td><td>100000</td><td>3323</td><td>100052100663</td></tr><tr><td>&quot;Connecticut&quot;</td><td>100000</td><td>3323</td><td>99981562433</td></tr><tr><td>&quot;New Mexico&quot;</td><td>100000</td><td>3323</td><td>100023704980</td></tr><tr><td>&quot;Texas&quot;</td><td>100000</td><td>3323</td><td>100063440157</td></tr></tbody></table></div>"
      ],
      "text/plain": [
       "shape: (5, 4)\n",
       "┌─────────────┬────────────┬───────────────────────┬─────────────────┐\n",
       "│ state       ┆ zip_cd_cnt ┆ unique_first_name_cnt ┆ total_net_worth │\n",
       "│ ---         ┆ ---        ┆ ---                   ┆ ---             │\n",
       "│ str         ┆ u32        ┆ u32                   ┆ i64             │\n",
       "╞═════════════╪════════════╪═══════════════════════╪═════════════════╡\n",
       "│ Kansas      ┆ 100000     ┆ 3323                  ┆ 99934426481     │\n",
       "│ Alaska      ┆ 100000     ┆ 3323                  ┆ 100052100663    │\n",
       "│ Connecticut ┆ 100000     ┆ 3323                  ┆ 99981562433     │\n",
       "│ New Mexico  ┆ 100000     ┆ 3323                  ┆ 100023704980    │\n",
       "│ Texas       ┆ 100000     ┆ 3323                  ┆ 100063440157    │\n",
       "└─────────────┴────────────┴───────────────────────┴─────────────────┘"
      ]
     },
     "execution_count": 13,
     "metadata": {},
     "output_type": "execute_result"
    }
   ],
   "source": [
    "## aggregate up\n",
    "tsf = df2.group_by('state').agg(\n",
    "    pl.col(\"zip_cd\").n_unique().alias(\"zip_cd_cnt\"),\n",
    "    pl.col(\"first_name\").n_unique().alias(\"unique_first_name_cnt\"),\n",
    "    pl.col(\"net_worth\").sum().alias(\"total_net_worth\")\n",
    ").collect()\n",
    "\n",
    "tsf.head(5)"
   ]
  },
  {
   "cell_type": "code",
   "execution_count": 11,
   "metadata": {},
   "outputs": [
    {
     "data": {
      "text/html": [
       "<div><style>\n",
       ".dataframe > thead > tr,\n",
       ".dataframe > tbody > tr {\n",
       "  text-align: right;\n",
       "  white-space: pre-wrap;\n",
       "}\n",
       "</style>\n",
       "<small>shape: (50, 4)</small><table border=\"1\" class=\"dataframe\"><thead><tr><th>state</th><th>zip_cd_cnt</th><th>unique_first_name_cnt</th><th>process_ts</th></tr><tr><td>str</td><td>u32</td><td>u32</td><td>datetime[μs, America/New_York]</td></tr></thead><tbody><tr><td>&quot;California&quot;</td><td>100000</td><td>3323</td><td>2024-04-16 14:42:22.719050 EDT</td></tr><tr><td>&quot;Nebraska&quot;</td><td>100000</td><td>3323</td><td>2024-04-16 14:42:22.719050 EDT</td></tr><tr><td>&quot;Iowa&quot;</td><td>100000</td><td>3323</td><td>2024-04-16 14:42:22.719050 EDT</td></tr><tr><td>&quot;Arkansas&quot;</td><td>100000</td><td>3323</td><td>2024-04-16 14:42:22.719050 EDT</td></tr><tr><td>&quot;New Mexico&quot;</td><td>100000</td><td>3323</td><td>2024-04-16 14:42:22.719050 EDT</td></tr><tr><td>&hellip;</td><td>&hellip;</td><td>&hellip;</td><td>&hellip;</td></tr><tr><td>&quot;Florida&quot;</td><td>100000</td><td>3323</td><td>2024-04-16 14:42:22.719050 EDT</td></tr><tr><td>&quot;Ohio&quot;</td><td>100000</td><td>3323</td><td>2024-04-16 14:42:22.719050 EDT</td></tr><tr><td>&quot;Hawaii&quot;</td><td>100000</td><td>3323</td><td>2024-04-16 14:42:22.719050 EDT</td></tr><tr><td>&quot;New Hampshire&quot;</td><td>100000</td><td>3323</td><td>2024-04-16 14:42:22.719050 EDT</td></tr><tr><td>&quot;Missouri&quot;</td><td>100000</td><td>3323</td><td>2024-04-16 14:42:22.719050 EDT</td></tr></tbody></table></div>"
      ],
      "text/plain": [
       "shape: (50, 4)\n",
       "┌───────────────┬────────────┬───────────────────────┬────────────────────────────────┐\n",
       "│ state         ┆ zip_cd_cnt ┆ unique_first_name_cnt ┆ process_ts                     │\n",
       "│ ---           ┆ ---        ┆ ---                   ┆ ---                            │\n",
       "│ str           ┆ u32        ┆ u32                   ┆ datetime[μs, America/New_York] │\n",
       "╞═══════════════╪════════════╪═══════════════════════╪════════════════════════════════╡\n",
       "│ California    ┆ 100000     ┆ 3323                  ┆ 2024-04-16 14:42:22.719050 EDT │\n",
       "│ Nebraska      ┆ 100000     ┆ 3323                  ┆ 2024-04-16 14:42:22.719050 EDT │\n",
       "│ Iowa          ┆ 100000     ┆ 3323                  ┆ 2024-04-16 14:42:22.719050 EDT │\n",
       "│ Arkansas      ┆ 100000     ┆ 3323                  ┆ 2024-04-16 14:42:22.719050 EDT │\n",
       "│ New Mexico    ┆ 100000     ┆ 3323                  ┆ 2024-04-16 14:42:22.719050 EDT │\n",
       "│ …             ┆ …          ┆ …                     ┆ …                              │\n",
       "│ Florida       ┆ 100000     ┆ 3323                  ┆ 2024-04-16 14:42:22.719050 EDT │\n",
       "│ Ohio          ┆ 100000     ┆ 3323                  ┆ 2024-04-16 14:42:22.719050 EDT │\n",
       "│ Hawaii        ┆ 100000     ┆ 3323                  ┆ 2024-04-16 14:42:22.719050 EDT │\n",
       "│ New Hampshire ┆ 100000     ┆ 3323                  ┆ 2024-04-16 14:42:22.719050 EDT │\n",
       "│ Missouri      ┆ 100000     ┆ 3323                  ┆ 2024-04-16 14:42:22.719050 EDT │\n",
       "└───────────────┴────────────┴───────────────────────┴────────────────────────────────┘"
      ]
     },
     "execution_count": 11,
     "metadata": {},
     "output_type": "execute_result"
    }
   ],
   "source": [
    "import pytz\n",
    "from datetime import datetime\n",
    "\n",
    "est = pytz.timezone('America/New_York')\n",
    "current_time_et = datetime.now(est)\n",
    "\n",
    "tsf.with_columns(process_ts = pl.lit(current_time_et))"
   ]
  },
  {
   "cell_type": "code",
   "execution_count": 12,
   "metadata": {},
   "outputs": [],
   "source": [
    "tsf.write_parquet(\"~/test_dummy_data/polars/state_agg.parquet\")"
   ]
  },
  {
   "cell_type": "code",
   "execution_count": 2,
   "metadata": {},
   "outputs": [],
   "source": [
    "import polars as pl\n",
    "\n",
    "df = pl.read_parquet(\"~/test_dummy_data/polars/state_agg.parquet\")"
   ]
  },
  {
   "cell_type": "code",
   "execution_count": 4,
   "metadata": {},
   "outputs": [
    {
     "data": {
      "text/html": [
       "<div><style>\n",
       ".dataframe > thead > tr,\n",
       ".dataframe > tbody > tr {\n",
       "  text-align: right;\n",
       "  white-space: pre-wrap;\n",
       "}\n",
       "</style>\n",
       "<small>shape: (50, 4)</small><table border=\"1\" class=\"dataframe\"><thead><tr><th>state</th><th>zip_cd_cnt</th><th>unique_first_name_cnt</th><th>total_net_worth</th></tr><tr><td>str</td><td>u32</td><td>u32</td><td>i64</td></tr></thead><tbody><tr><td>&quot;Ohio&quot;</td><td>100000</td><td>3323</td><td>100058519329</td></tr><tr><td>&quot;Colorado&quot;</td><td>100000</td><td>3323</td><td>100008262375</td></tr><tr><td>&quot;Massachusetts&quot;</td><td>100000</td><td>3323</td><td>99979962509</td></tr><tr><td>&quot;Indiana&quot;</td><td>100000</td><td>3323</td><td>99951159961</td></tr><tr><td>&quot;North Carolina…</td><td>100000</td><td>3323</td><td>100062421209</td></tr><tr><td>&hellip;</td><td>&hellip;</td><td>&hellip;</td><td>&hellip;</td></tr><tr><td>&quot;Alabama&quot;</td><td>100000</td><td>3323</td><td>100032750413</td></tr><tr><td>&quot;Kansas&quot;</td><td>100000</td><td>3323</td><td>99934426481</td></tr><tr><td>&quot;Wyoming&quot;</td><td>100000</td><td>3323</td><td>99993652570</td></tr><tr><td>&quot;Rhode Island&quot;</td><td>100000</td><td>3323</td><td>99888027039</td></tr><tr><td>&quot;New Jersey&quot;</td><td>100000</td><td>3323</td><td>100044606098</td></tr></tbody></table></div>"
      ],
      "text/plain": [
       "shape: (50, 4)\n",
       "┌────────────────┬────────────┬───────────────────────┬─────────────────┐\n",
       "│ state          ┆ zip_cd_cnt ┆ unique_first_name_cnt ┆ total_net_worth │\n",
       "│ ---            ┆ ---        ┆ ---                   ┆ ---             │\n",
       "│ str            ┆ u32        ┆ u32                   ┆ i64             │\n",
       "╞════════════════╪════════════╪═══════════════════════╪═════════════════╡\n",
       "│ Ohio           ┆ 100000     ┆ 3323                  ┆ 100058519329    │\n",
       "│ Colorado       ┆ 100000     ┆ 3323                  ┆ 100008262375    │\n",
       "│ Massachusetts  ┆ 100000     ┆ 3323                  ┆ 99979962509     │\n",
       "│ Indiana        ┆ 100000     ┆ 3323                  ┆ 99951159961     │\n",
       "│ North Carolina ┆ 100000     ┆ 3323                  ┆ 100062421209    │\n",
       "│ …              ┆ …          ┆ …                     ┆ …               │\n",
       "│ Alabama        ┆ 100000     ┆ 3323                  ┆ 100032750413    │\n",
       "│ Kansas         ┆ 100000     ┆ 3323                  ┆ 99934426481     │\n",
       "│ Wyoming        ┆ 100000     ┆ 3323                  ┆ 99993652570     │\n",
       "│ Rhode Island   ┆ 100000     ┆ 3323                  ┆ 99888027039     │\n",
       "│ New Jersey     ┆ 100000     ┆ 3323                  ┆ 100044606098    │\n",
       "└────────────────┴────────────┴───────────────────────┴─────────────────┘"
      ]
     },
     "execution_count": 4,
     "metadata": {},
     "output_type": "execute_result"
    }
   ],
   "source": [
    "df.head(50)"
   ]
  }
 ],
 "metadata": {
  "kernelspec": {
   "display_name": ".venv",
   "language": "python",
   "name": "python3"
  },
  "language_info": {
   "codemirror_mode": {
    "name": "ipython",
    "version": 3
   },
   "file_extension": ".py",
   "mimetype": "text/x-python",
   "name": "python",
   "nbconvert_exporter": "python",
   "pygments_lexer": "ipython3",
   "version": "3.12.2"
  }
 },
 "nbformat": 4,
 "nbformat_minor": 2
}
