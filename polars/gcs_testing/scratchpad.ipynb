{
 "cells": [
  {
   "cell_type": "code",
   "execution_count": 1,
   "metadata": {},
   "outputs": [
    {
     "name": "stdout",
     "output_type": "stream",
     "text": [
      "Collecting polars\n",
      "  Downloading polars-1.17.1-cp39-abi3-macosx_11_0_arm64.whl.metadata (14 kB)\n",
      "Downloading polars-1.17.1-cp39-abi3-macosx_11_0_arm64.whl (28.8 MB)\n",
      "\u001b[2K   \u001b[90m━━━━━━━━━━━━━━━━━━━━━━━━━━━━━━━━━━━━━━━━\u001b[0m \u001b[32m28.8/28.8 MB\u001b[0m \u001b[31m43.7 MB/s\u001b[0m eta \u001b[36m0:00:00\u001b[0ma \u001b[36m0:00:01\u001b[0m\n",
      "\u001b[?25hInstalling collected packages: polars\n",
      "Successfully installed polars-1.17.1\n",
      "Note: you may need to restart the kernel to use updated packages.\n"
     ]
    }
   ],
   "source": [
    "%pip install polars"
   ]
  },
  {
   "cell_type": "code",
   "execution_count": 2,
   "metadata": {},
   "outputs": [],
   "source": [
    "import polars as pl, os"
   ]
  },
  {
   "cell_type": "code",
   "execution_count": 9,
   "metadata": {},
   "outputs": [],
   "source": [
    "warehouse = f\"gs://{os.getenv(\"GCS_BUCKET\")}/polars/\"\n"
   ]
  },
  {
   "cell_type": "code",
   "execution_count": 10,
   "metadata": {},
   "outputs": [],
   "source": [
    "df = pl.DataFrame({\n",
    "    \"id\": range(1, 501),\n",
    "    \"name\": [f\"Name_{i}\" for i in range(1, 501)],\n",
    "    \"age\": [i % 100 for i in range(1, 501)],\n",
    "    \"salary\": [round(50000 + i * 100, 2) for i in range(1, 501)],\n",
    "    \"is_active\": [i % 2 == 0 for i in range(1, 501)]\n",
    "})"
   ]
  },
  {
   "cell_type": "code",
   "execution_count": 11,
   "metadata": {},
   "outputs": [],
   "source": [
    "df.write_parquet(warehouse+\"data.parquet\")"
   ]
  },
  {
   "cell_type": "code",
   "execution_count": 12,
   "metadata": {},
   "outputs": [
    {
     "data": {
      "text/html": [
       "<div><style>\n",
       ".dataframe > thead > tr,\n",
       ".dataframe > tbody > tr {\n",
       "  text-align: right;\n",
       "  white-space: pre-wrap;\n",
       "}\n",
       "</style>\n",
       "<small>shape: (3, 5)</small><table border=\"1\" class=\"dataframe\"><thead><tr><th>id</th><th>name</th><th>age</th><th>salary</th><th>is_active</th></tr><tr><td>i64</td><td>str</td><td>i64</td><td>i64</td><td>bool</td></tr></thead><tbody><tr><td>1</td><td>&quot;Name_1&quot;</td><td>1</td><td>50100</td><td>false</td></tr><tr><td>2</td><td>&quot;Name_2&quot;</td><td>2</td><td>50200</td><td>true</td></tr><tr><td>3</td><td>&quot;Name_3&quot;</td><td>3</td><td>50300</td><td>false</td></tr></tbody></table></div>"
      ],
      "text/plain": [
       "shape: (3, 5)\n",
       "┌─────┬────────┬─────┬────────┬───────────┐\n",
       "│ id  ┆ name   ┆ age ┆ salary ┆ is_active │\n",
       "│ --- ┆ ---    ┆ --- ┆ ---    ┆ ---       │\n",
       "│ i64 ┆ str    ┆ i64 ┆ i64    ┆ bool      │\n",
       "╞═════╪════════╪═════╪════════╪═══════════╡\n",
       "│ 1   ┆ Name_1 ┆ 1   ┆ 50100  ┆ false     │\n",
       "│ 2   ┆ Name_2 ┆ 2   ┆ 50200  ┆ true      │\n",
       "│ 3   ┆ Name_3 ┆ 3   ┆ 50300  ┆ false     │\n",
       "└─────┴────────┴─────┴────────┴───────────┘"
      ]
     },
     "execution_count": 12,
     "metadata": {},
     "output_type": "execute_result"
    }
   ],
   "source": [
    "df2 = pl.read_parquet(warehouse+\"data.parquet\")\n",
    "df2.head(3)"
   ]
  }
 ],
 "metadata": {
  "kernelspec": {
   "display_name": ".venv",
   "language": "python",
   "name": "python3"
  },
  "language_info": {
   "codemirror_mode": {
    "name": "ipython",
    "version": 3
   },
   "file_extension": ".py",
   "mimetype": "text/x-python",
   "name": "python",
   "nbconvert_exporter": "python",
   "pygments_lexer": "ipython3",
   "version": "3.12.3"
  }
 },
 "nbformat": 4,
 "nbformat_minor": 2
}
