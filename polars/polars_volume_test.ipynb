{
 "cells": [
  {
   "cell_type": "code",
   "execution_count": null,
   "metadata": {},
   "outputs": [],
   "source": [
    "# %pip install mimesis\n",
    "# %pip install polars"
   ]
  },
  {
   "cell_type": "code",
   "execution_count": 2,
   "metadata": {},
   "outputs": [],
   "source": [
    "import time \n",
    "import os\n",
    "from mimesis import Person, Address, Numeric\n",
    "import polars as pl\n",
    "from concurrent.futures import ThreadPoolExecutor\n",
    "import csv\n",
    "\n"
   ]
  },
  {
   "cell_type": "code",
   "execution_count": 3,
   "metadata": {},
   "outputs": [],
   "source": [
    "#write out datasets\n",
    "ROW_CNT: int = 10_000_000\n",
    "BATCH_SIZE: int = 10000\n",
    "\n",
    "def generate_datasets(batch_nbr: int) -> None:\n",
    "    peep = Person()\n",
    "    adrs = Address()\n",
    "    num = Numeric()\n",
    "\n",
    "    f_path = os.path.expanduser(f'~/test_dummy_data/polars2/data{batch_nbr}.csv')\n",
    "    with open(f_path, 'w', newline='') as csvfile:\n",
    "        fieldnames = ['first_name', 'last_name', 'address_txt', 'zip_cd', 'city', 'state', 'net_worth']\n",
    "        writer = csv.DictWriter(csvfile, fieldnames=fieldnames)\n",
    "\n",
    "        writer.writeheader()\n",
    "        for _ in range(ROW_CNT // BATCH_SIZE):\n",
    "            rows = []\n",
    "            for _ in range(BATCH_SIZE):\n",
    "                rows.append({\n",
    "                    'first_name': peep.first_name(),\n",
    "                    'last_name': peep.last_name(),\n",
    "                    'address_txt': adrs.address(),\n",
    "                    'zip_cd': adrs.zip_code(),\n",
    "                    'city': adrs.city(),\n",
    "                    'state': adrs.state(),\n",
    "                    'net_worth': num.integer_number(0, 50000)\n",
    "                })\n",
    "            writer.writerows(rows)"
   ]
  },
  {
   "cell_type": "code",
   "execution_count": 4,
   "metadata": {},
   "outputs": [],
   "source": [
    "def generate_datasets_parallel(num_batches: int, max_workers: int) -> None:\n",
    "    with ThreadPoolExecutor(max_workers=max_workers) as executor:\n",
    "        executor.map(generate_datasets, range(num_batches))"
   ]
  },
  {
   "cell_type": "code",
   "execution_count": 5,
   "metadata": {},
   "outputs": [],
   "source": [
    "start_time = time.time() \n",
    "generate_datasets_parallel(10, 5)\n",
    "end_time = time.time()  # Record the end time\n",
    "total_time = end_time - start_time  # Calculate the total time taken\n",
    "print(f\"Total time taken: {total_time} seconds\")"
   ]
  },
  {
   "cell_type": "code",
   "execution_count": null,
   "metadata": {},
   "outputs": [],
   "source": []
  },
  {
   "cell_type": "code",
   "execution_count": 13,
   "metadata": {},
   "outputs": [
    {
     "name": "stdout",
     "output_type": "stream",
     "text": [
      "10000000\n"
     ]
    }
   ],
   "source": [
    "\n",
    "df = pl.read_csv('~/test_dummy_data/polars/data*.csv')\n",
    "\n",
    "\"\"\"\n",
    "    Update: Used the go fd fake data generator to generate 100M rows; it did it in about 5 minutes\n",
    "    -- add a link for that to this test harness\n",
    "\"\"\"\n",
    "\n",
    "## TODO: Aggregate data up, add timestamp column, write to parquet\n"
   ]
  },
  {
   "cell_type": "code",
   "execution_count": 31,
   "metadata": {},
   "outputs": [],
   "source": [
    "df2 = df.group_by(\"zip_cd\").agg(\n",
    "     pl.col(\"net_worth\").sum().name.suffix(\"_tot\")\n",
    "    ,pl.col(\"first_name\").n_unique().name.suffix(\"_cnt\")\n",
    "    ,pl.col(\"city\").count().alias(\"city_cnt\")\n",
    ")\n",
    "\n",
    "df2.head(5)\n",
    "df2.write_csv(file=\"~/test.csv\",include_header=True, separator=\"|\")"
   ]
  }
 ],
 "metadata": {
  "kernelspec": {
   "display_name": ".venv",
   "language": "python",
   "name": "python3"
  },
  "language_info": {
   "codemirror_mode": {
    "name": "ipython",
    "version": 3
   },
   "file_extension": ".py",
   "mimetype": "text/x-python",
   "name": "python",
   "nbconvert_exporter": "python",
   "pygments_lexer": "ipython3",
   "version": "3.12.2"
  }
 },
 "nbformat": 4,
 "nbformat_minor": 2
}
