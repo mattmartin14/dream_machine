{
 "cells": [
  {
   "cell_type": "code",
   "execution_count": null,
   "metadata": {},
   "outputs": [],
   "source": [
    "#%pip install polars\n",
    "\"\"\"\n",
    "Author: Matt Martin\n",
    "Date: 2023-11-12\n",
    "Desc: Polars Demo\n",
    "\"\"\""
   ]
  },
  {
   "cell_type": "code",
   "execution_count": 13,
   "metadata": {},
   "outputs": [],
   "source": [
    "import polars as pl\n",
    "from datetime import datetime"
   ]
  },
  {
   "cell_type": "code",
   "execution_count": 23,
   "metadata": {},
   "outputs": [
    {
     "name": "stdout",
     "output_type": "stream",
     "text": [
      "shape: (6, 3)\n",
      "┌───────────┬────────────┬────────────────┐\n",
      "│ user_name ┆ hire_date  ┆ title          │\n",
      "│ ---       ┆ ---        ┆ ---            │\n",
      "│ str       ┆ date       ┆ str            │\n",
      "╞═══════════╪════════════╪════════════════╡\n",
      "│ Bob       ┆ 2023-01-01 ┆ Senior Manager │\n",
      "│ Ted       ┆ 2022-02-02 ┆ Manager        │\n",
      "│ Amy       ┆ 2018-05-12 ┆ Director       │\n",
      "│ Nancy     ┆ 2019-07-08 ┆ Analyst        │\n",
      "│ Greg      ┆ 2022-04-05 ┆ Analyst        │\n",
      "│ Brittany  ┆ 2020-08-01 ┆ Manager        │\n",
      "└───────────┴────────────┴────────────────┘\n"
     ]
    }
   ],
   "source": [
    "#create some data\n",
    "dataset = {\n",
    "    'user_name': ['Bob','Ted','Amy','Nancy','Greg','Brittany'],\n",
    "    'hire_date': ['2023-01-01','2022-02-02','2018-05-12','2019-07-08','2022-04-05','2020-08-01'],\n",
    "    'title': ['Senior Manager','Manager','Director','Analyst','Analyst','Manager']\n",
    "}\n",
    "\n",
    "df = pl.DataFrame(dataset)\n",
    "\n",
    "#update date column from string to date\n",
    "df = df.with_columns(pl.col('hire_date').cast(pl.Date).alias('hire_date'))\n",
    "\n",
    "print(df)"
   ]
  },
  {
   "cell_type": "code",
   "execution_count": 24,
   "metadata": {},
   "outputs": [
    {
     "name": "stdout",
     "output_type": "stream",
     "text": [
      "shape: (3, 3)\n",
      "┌───────────┬────────────┬────────────────┐\n",
      "│ user_name ┆ hire_date  ┆ title          │\n",
      "│ ---       ┆ ---        ┆ ---            │\n",
      "│ str       ┆ date       ┆ str            │\n",
      "╞═══════════╪════════════╪════════════════╡\n",
      "│ Bob       ┆ 2023-01-01 ┆ Senior Manager │\n",
      "│ Ted       ┆ 2022-02-02 ┆ Manager        │\n",
      "│ Greg      ┆ 2022-04-05 ┆ Analyst        │\n",
      "└───────────┴────────────┴────────────────┘\n"
     ]
    }
   ],
   "source": [
    "#filtering\n",
    "df2 = df.filter(pl.col('hire_date') > datetime(2022,1,1))\n",
    "print(df2)"
   ]
  },
  {
   "cell_type": "code",
   "execution_count": 25,
   "metadata": {},
   "outputs": [
    {
     "name": "stdout",
     "output_type": "stream",
     "text": [
      "shape: (4, 2)\n",
      "┌────────────────┬─────────┐\n",
      "│ title          ┆ row_cnt │\n",
      "│ ---            ┆ ---     │\n",
      "│ str            ┆ u32     │\n",
      "╞════════════════╪═════════╡\n",
      "│ Manager        ┆ 2       │\n",
      "│ Analyst        ┆ 2       │\n",
      "│ Director       ┆ 1       │\n",
      "│ Senior Manager ┆ 1       │\n",
      "└────────────────┴─────────┘\n"
     ]
    }
   ],
   "source": [
    "#grouping\n",
    "df3 = df.group_by('title').agg(pl.col('user_name').count().alias('row_cnt'))\n",
    "print(df3.sort('row_cnt',descending=True))"
   ]
  },
  {
   "cell_type": "code",
   "execution_count": 26,
   "metadata": {},
   "outputs": [],
   "source": [
    "#writing to file\n",
    "df3.write_parquet('employee_counts.parquet')"
   ]
  },
  {
   "cell_type": "code",
   "execution_count": 27,
   "metadata": {},
   "outputs": [
    {
     "name": "stdout",
     "output_type": "stream",
     "text": [
      "shape: (4, 3)\n",
      "┌─────────┬─────────────┬────────────┐\n",
      "│ user_id ┆ curr_salary ┆ new_salary │\n",
      "│ ---     ┆ ---         ┆ ---        │\n",
      "│ str     ┆ i64         ┆ i64        │\n",
      "╞═════════╪═════════════╪════════════╡\n",
      "│ a       ┆ 20          ┆ null       │\n",
      "│ b       ┆ 22          ┆ null       │\n",
      "│ c       ┆ 24          ┆ 21         │\n",
      "│ d       ┆ 18          ┆ 19         │\n",
      "└─────────┴─────────────┴────────────┘\n"
     ]
    }
   ],
   "source": [
    "#joins\n",
    "df1 = pl.DataFrame({'user_id': ['a','b','c','d'], 'curr_salary': [20, 22, 24,18]})\n",
    "df2 = pl.DataFrame({'user_id': ['c','d','e','f'], 'new_salary': [21,19,26,32]})\n",
    "\n",
    "df3 = df1.join(df2, on='user_id',how='left')\n",
    "print(df3)"
   ]
  }
 ],
 "metadata": {
  "kernelspec": {
   "display_name": ".venv",
   "language": "python",
   "name": "python3"
  },
  "language_info": {
   "codemirror_mode": {
    "name": "ipython",
    "version": 3
   },
   "file_extension": ".py",
   "mimetype": "text/x-python",
   "name": "python",
   "nbconvert_exporter": "python",
   "pygments_lexer": "ipython3",
   "version": "3.11.5"
  }
 },
 "nbformat": 4,
 "nbformat_minor": 2
}
