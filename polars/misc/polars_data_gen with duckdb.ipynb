{
 "cells": [
  {
   "cell_type": "code",
   "execution_count": 1,
   "metadata": {},
   "outputs": [],
   "source": [
    "import polars as pl\n",
    "from mimesis import Person, Address, Numeric\n",
    "import duckdb\n",
    "import pyarrow"
   ]
  },
  {
   "cell_type": "code",
   "execution_count": 2,
   "metadata": {},
   "outputs": [],
   "source": [
    "peep = Person()\n",
    "adrs = Address()\n",
    "num = Numeric()"
   ]
  },
  {
   "cell_type": "code",
   "execution_count": 3,
   "metadata": {},
   "outputs": [],
   "source": [
    "data = []\n",
    "for _ in range(100_000):\n",
    "    data.append({'name':peep.full_name(), 'address':adrs.address(), 'zip_cd':adrs.zip_code()\n",
    "                 , 'state':adrs.state(), 'net_worth':num.integer_number(5000,50000)})"
   ]
  },
  {
   "cell_type": "code",
   "execution_count": 4,
   "metadata": {},
   "outputs": [],
   "source": [
    "df = pl.DataFrame(data)"
   ]
  },
  {
   "cell_type": "code",
   "execution_count": 17,
   "metadata": {},
   "outputs": [
    {
     "name": "stdout",
     "output_type": "stream",
     "text": [
      "┌─────────┬──────────┬─────────────┬───────────────┐\n",
      "│ zip_cd  │ name_cnt │ address_cnt │ net_worth_tot │\n",
      "│ varchar │  int64   │    int64    │    int128     │\n",
      "├─────────┼──────────┼─────────────┼───────────────┤\n",
      "│ 00001   │        2 │           2 │         59113 │\n",
      "│ 00004   │        1 │           1 │         10175 │\n",
      "│ 00005   │        2 │           2 │         33547 │\n",
      "│ 00006   │        2 │           2 │         46552 │\n",
      "│ 00008   │        1 │           1 │         26245 │\n",
      "└─────────┴──────────┴─────────────┴───────────────┘\n",
      "\n"
     ]
    }
   ],
   "source": [
    "sql = \"\"\"\n",
    "    select zip_cd, count(distinct name) as name_cnt\n",
    "        ,count(distinct address) as address_cnt\n",
    "        ,sum(net_worth) as net_worth_tot\n",
    "    from df\n",
    "    group by all\n",
    "    order by 1\n",
    "    limit 5\n",
    "\"\"\"\n",
    "duckdb.sql(sql).show()"
   ]
  },
  {
   "cell_type": "code",
   "execution_count": 16,
   "metadata": {},
   "outputs": [
    {
     "name": "stdout",
     "output_type": "stream",
     "text": [
      "shape: (5, 4)\n",
      "┌────────┬──────────┬─────────────┬───────────────┐\n",
      "│ zip_cd ┆ name_cnt ┆ address_cnt ┆ net_worth_tot │\n",
      "│ ---    ┆ ---      ┆ ---         ┆ ---           │\n",
      "│ str    ┆ u32      ┆ u32         ┆ i64           │\n",
      "╞════════╪══════════╪═════════════╪═══════════════╡\n",
      "│ 00001  ┆ 2        ┆ 2           ┆ 59113         │\n",
      "│ 00004  ┆ 1        ┆ 1           ┆ 10175         │\n",
      "│ 00005  ┆ 2        ┆ 2           ┆ 33547         │\n",
      "│ 00006  ┆ 2        ┆ 2           ┆ 46552         │\n",
      "│ 00008  ┆ 1        ┆ 1           ┆ 26245         │\n",
      "└────────┴──────────┴─────────────┴───────────────┘\n"
     ]
    }
   ],
   "source": [
    "#achive the same thing with polars syntax\n",
    "res = df.group_by(pl.col('zip_cd')).agg(pl.col('name').n_unique().name.suffix(\"_cnt\")\n",
    "                                        ,pl.col('address').n_unique().name.suffix(\"_cnt\")\n",
    "                                        ,pl.col('net_worth').sum().name.suffix(\"_tot\")\n",
    "                            ).sort(\"zip_cd\").limit(5)\n",
    "print(res)\n"
   ]
  }
 ],
 "metadata": {
  "kernelspec": {
   "display_name": ".venv",
   "language": "python",
   "name": "python3"
  },
  "language_info": {
   "codemirror_mode": {
    "name": "ipython",
    "version": 3
   },
   "file_extension": ".py",
   "mimetype": "text/x-python",
   "name": "python",
   "nbconvert_exporter": "python",
   "pygments_lexer": "ipython3",
   "version": "3.12.0"
  }
 },
 "nbformat": 4,
 "nbformat_minor": 2
}
