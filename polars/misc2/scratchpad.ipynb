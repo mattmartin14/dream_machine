{
 "cells": [
  {
   "cell_type": "code",
   "execution_count": 2,
   "metadata": {},
   "outputs": [],
   "source": [
    "import polars as pl"
   ]
  },
  {
   "cell_type": "code",
   "execution_count": 39,
   "metadata": {},
   "outputs": [],
   "source": [
    "ids = [1,2,3]\n",
    "id_vals = ['a','b','c']\n",
    "dts = ['2023-01-01','2023-02-05','2023-02-08']\n",
    "\n",
    "df = pl.DataFrame(\n",
    "    {'id': ids, 'vals': id_vals, 'dts': dts}, \n",
    "    schema={'id': pl.Int64, 'vals': pl.Utf8, 'dts': pl.Date}\n",
    ")\n",
    "\n",
    "ids = [2,3,4]\n",
    "id_vals = ['b','c','d']\n",
    "dts = ['2023-02-01','2023-03-05','2023-04-08']\n",
    "\n",
    "df2 = pl.DataFrame(\n",
    "   {'id': ids, 'vals': id_vals, 'dts': dts}, \n",
    "    schema={'id': pl.Int64, 'vals': pl.Utf8, 'dts': pl.Date}\n",
    ")\n"
   ]
  },
  {
   "cell_type": "markdown",
   "metadata": {},
   "source": [
    "#### Testing Unique Counts"
   ]
  },
  {
   "cell_type": "code",
   "execution_count": null,
   "metadata": {},
   "outputs": [
    {
     "data": {
      "text/html": [
       "<div><style>\n",
       ".dataframe > thead > tr,\n",
       ".dataframe > tbody > tr {\n",
       "  text-align: right;\n",
       "  white-space: pre-wrap;\n",
       "}\n",
       "</style>\n",
       "<small>shape: (3, 2)</small><table border=\"1\" class=\"dataframe\"><thead><tr><th>id</th><th>vals</th></tr><tr><td>i64</td><td>u32</td></tr></thead><tbody><tr><td>1</td><td>2</td></tr><tr><td>2</td><td>2</td></tr><tr><td>3</td><td>3</td></tr></tbody></table></div>"
      ],
      "text/plain": [
       "shape: (3, 2)\n",
       "┌─────┬──────┐\n",
       "│ id  ┆ vals │\n",
       "│ --- ┆ ---  │\n",
       "│ i64 ┆ u32  │\n",
       "╞═════╪══════╡\n",
       "│ 1   ┆ 2    │\n",
       "│ 2   ┆ 2    │\n",
       "│ 3   ┆ 3    │\n",
       "└─────┴──────┘"
      ]
     },
     "execution_count": 65,
     "metadata": {},
     "output_type": "execute_result"
    }
   ],
   "source": [
    "ids = [1,1,1,2,2,3,3,3,3]\n",
    "id_vals = ['a','b','b','x','y','z','a','a','b']\n",
    "dfx = pl.DataFrame(\n",
    "   {'id': ids, 'vals': id_vals}, \n",
    "    schema={'id': pl.Int64, 'vals': pl.Utf8}\n",
    ")\n",
    "\n",
    "dfx.group_by(\"id\").agg(pl.col(\"vals\").unique().count())\n",
    "\n"
   ]
  },
  {
   "cell_type": "code",
   "execution_count": 71,
   "metadata": {},
   "outputs": [],
   "source": [
    "df3 = pl.DataFrame([\n",
    "    {'order_id': 1, 'order_line_id':1, 'qty': 5, 'total_price': 20.35},\n",
    "    {'order_id': 1, 'order_line_id':2, 'qty': 4, 'total_price': 8.46},\n",
    "    {'order_id': 2, 'order_line_id':1, 'qty': 12, 'total_price': 51.44},\n",
    "    {'order_id': 2, 'order_line_id':2, 'qty': 7, 'total_price': 36.82}\n",
    "])\n",
    "res = df3.group_by(\"order_id\").agg([\n",
    "    pl.col(\"order_line_id\").unique().count().alias(\"line_cnt\"),\n",
    "    pl.col(\"qty\").sum().alias(\"total_qty\"),\n",
    "    pl.col(\"total_price\").sum().alias(\"total_price\")\n",
    "])"
   ]
  },
  {
   "cell_type": "code",
   "execution_count": 72,
   "metadata": {},
   "outputs": [],
   "source": [
    "res.write_clipboard()"
   ]
  },
  {
   "cell_type": "code",
   "execution_count": 34,
   "metadata": {},
   "outputs": [
    {
     "data": {
      "text/html": [
       "<div><style>\n",
       ".dataframe > thead > tr,\n",
       ".dataframe > tbody > tr {\n",
       "  text-align: right;\n",
       "  white-space: pre-wrap;\n",
       "}\n",
       "</style>\n",
       "<small>shape: (1, 2)</small><table border=\"1\" class=\"dataframe\"><thead><tr><th>blah</th><th>a</th></tr><tr><td>date</td><td>u32</td></tr></thead><tbody><tr><td>2023-01-01</td><td>3</td></tr></tbody></table></div>"
      ],
      "text/plain": [
       "shape: (1, 2)\n",
       "┌────────────┬─────┐\n",
       "│ blah       ┆ a   │\n",
       "│ ---        ┆ --- │\n",
       "│ date       ┆ u32 │\n",
       "╞════════════╪═════╡\n",
       "│ 2023-01-01 ┆ 3   │\n",
       "└────────────┴─────┘"
      ]
     },
     "execution_count": 34,
     "metadata": {},
     "output_type": "execute_result"
    }
   ],
   "source": [
    "df.select(pl.col(\"dts\").min().alias(\"blah\"), pl.col('id').count().unique().alias('a'))"
   ]
  },
  {
   "cell_type": "code",
   "execution_count": 43,
   "metadata": {},
   "outputs": [
    {
     "data": {
      "text/html": [
       "<div><style>\n",
       ".dataframe > thead > tr,\n",
       ".dataframe > tbody > tr {\n",
       "  text-align: right;\n",
       "  white-space: pre-wrap;\n",
       "}\n",
       "</style>\n",
       "<small>shape: (1, 3)</small><table border=\"1\" class=\"dataframe\"><thead><tr><th>id</th><th>vals</th><th>dts</th></tr><tr><td>i64</td><td>str</td><td>date</td></tr></thead><tbody><tr><td>1</td><td>&quot;a&quot;</td><td>2023-01-01</td></tr></tbody></table></div>"
      ],
      "text/plain": [
       "shape: (1, 3)\n",
       "┌─────┬──────┬────────────┐\n",
       "│ id  ┆ vals ┆ dts        │\n",
       "│ --- ┆ ---  ┆ ---        │\n",
       "│ i64 ┆ str  ┆ date       │\n",
       "╞═════╪══════╪════════════╡\n",
       "│ 1   ┆ a    ┆ 2023-01-01 │\n",
       "└─────┴──────┴────────────┘"
      ]
     },
     "execution_count": 43,
     "metadata": {},
     "output_type": "execute_result"
    }
   ],
   "source": [
    "# df2 = pl.DataFrame({'id':[i for i in range(0,9)]})\n",
    "\n",
    "# print(df2.select(pl.col('id').max()))\n",
    "\n",
    "df.join(df2, on=\"id\", how=\"anti\")\n",
    "\n"
   ]
  },
  {
   "cell_type": "markdown",
   "metadata": {},
   "source": [
    "### Fuzzy Match on Dates"
   ]
  },
  {
   "cell_type": "code",
   "execution_count": 19,
   "metadata": {},
   "outputs": [
    {
     "name": "stdout",
     "output_type": "stream",
     "text": [
      "shape: (3, 3)\n",
      "┌────────┬────────────┬──────────┐\n",
      "│ txn_id ┆ txn_dt     ┆ ord_type │\n",
      "│ ---    ┆ ---        ┆ ---      │\n",
      "│ i64    ┆ date       ┆ str      │\n",
      "╞════════╪════════════╪══════════╡\n",
      "│ 1      ┆ 2023-01-01 ┆ online   │\n",
      "│ 2      ┆ 2023-02-05 ┆ in-store │\n",
      "│ 3      ┆ 2023-02-08 ┆ online   │\n",
      "└────────┴────────────┴──────────┘\n",
      "shape: (3, 3)\n",
      "┌────────┬────────────┬───────────┐\n",
      "│ txn_id ┆ txn_dt     ┆ ord_price │\n",
      "│ ---    ┆ ---        ┆ ---       │\n",
      "│ i64    ┆ date       ┆ f32       │\n",
      "╞════════╪════════════╪═══════════╡\n",
      "│ 1      ┆ 2023-01-04 ┆ 21.389999 │\n",
      "│ 2      ┆ 2023-02-04 ┆ 26.459999 │\n",
      "│ 3      ┆ 2023-02-09 ┆ 34.330002 │\n",
      "└────────┴────────────┴───────────┘\n"
     ]
    }
   ],
   "source": [
    "txn_ids = [1,2,3]\n",
    "txn_dts = ['2023-01-01','2023-02-05','2023-02-08']\n",
    "ord_types = ['online','in-store','online']\n",
    "\n",
    "df = pl.DataFrame(\n",
    "    {'txn_id': txn_ids, 'txn_dt': txn_dts, 'ord_type': ord_types}, \n",
    "    schema={'txn_id': pl.Int64, 'txn_dt': pl.Date, 'ord_type': pl.Utf8, }\n",
    ")\n",
    "\n",
    "txn_ids = [1,2,3]\n",
    "txn_dts = ['2023-01-04','2023-02-04','2023-02-09']\n",
    "ord_prices = [21.39, 26.46, 34.33]\n",
    "\n",
    "df2 = pl.DataFrame(\n",
    "    {'txn_id': txn_ids, 'txn_dt': txn_dts, 'ord_price': ord_prices}, \n",
    "    schema={'txn_id': pl.Int64, 'txn_dt': pl.Date, 'ord_price': pl.Float32, }\n",
    ")\n",
    "print(df)\n",
    "print(df2)"
   ]
  },
  {
   "cell_type": "code",
   "execution_count": 20,
   "metadata": {},
   "outputs": [
    {
     "name": "stdout",
     "output_type": "stream",
     "text": [
      "shape: (2, 4)\n",
      "┌────────┬────────────┬──────────┬───────────┐\n",
      "│ txn_id ┆ txn_dt     ┆ ord_type ┆ ord_price │\n",
      "│ ---    ┆ ---        ┆ ---      ┆ ---       │\n",
      "│ i64    ┆ date       ┆ str      ┆ f32       │\n",
      "╞════════╪════════════╪══════════╪═══════════╡\n",
      "│ 2      ┆ 2023-02-05 ┆ in-store ┆ 26.459999 │\n",
      "│ 3      ┆ 2023-02-08 ┆ online   ┆ 34.330002 │\n",
      "└────────┴────────────┴──────────┴───────────┘\n"
     ]
    }
   ],
   "source": [
    "joined_df = (\n",
    "    df.join(df2, on=\"txn_id\", how=\"inner\", suffix=\"_right\")\n",
    "    .filter((pl.col(\"txn_dt_right\") - pl.col(\"txn_dt\")).abs() <= pl.duration(days=2))\n",
    "    .select(\"txn_id\", \"txn_dt\", \"ord_type\", \"ord_price\")\n",
    ")\n",
    "print(joined_df)"
   ]
  }
 ],
 "metadata": {
  "kernelspec": {
   "display_name": ".venv",
   "language": "python",
   "name": "python3"
  },
  "language_info": {
   "codemirror_mode": {
    "name": "ipython",
    "version": 3
   },
   "file_extension": ".py",
   "mimetype": "text/x-python",
   "name": "python",
   "nbconvert_exporter": "python",
   "pygments_lexer": "ipython3",
   "version": "3.13.1"
  }
 },
 "nbformat": 4,
 "nbformat_minor": 2
}
