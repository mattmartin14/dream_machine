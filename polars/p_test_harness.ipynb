{
 "cells": [
  {
   "cell_type": "code",
   "execution_count": null,
   "metadata": {},
   "outputs": [],
   "source": [
    "# %pip install mimesis\n",
    "# %pip install polars"
   ]
  },
  {
   "cell_type": "code",
   "execution_count": 14,
   "metadata": {},
   "outputs": [],
   "source": [
    "from mimesis import Person, Address, Numeric\n",
    "import polars as pl\n",
    "\n"
   ]
  },
  {
   "cell_type": "code",
   "execution_count": 18,
   "metadata": {},
   "outputs": [],
   "source": [
    "peep = Person()\n",
    "adrs = Address()\n",
    "num = Numeric()\n",
    "\n",
    "data = []\n",
    "for _ in range(1_000_000):\n",
    "    data.append({'first_name':peep.first_name(), 'last_name':peep.last_name()\n",
    "                 , 'address_txt':adrs.address(), 'zip_cd':adrs.zip_code()\n",
    "                 , 'city':adrs.city(), 'state':adrs.state()\n",
    "                 , 'net_worth': num.integer_number(0,50000)})\n",
    "\n",
    "\n",
    "df = pl.DataFrame(data)\n",
    "#df.head(5)\n",
    "df.write_parquet('~/test.parquet')\n",
    "\n",
    "\"\"\"\n",
    "    To do: \n",
    "        multi-thread 10 10M csv files out; \n",
    "        have polars read all the files in and aggregate\n",
    "        have polars add a timestamp column\n",
    "        have polars write to parquet\n",
    "\"\"\"\n"
   ]
  }
 ],
 "metadata": {
  "kernelspec": {
   "display_name": ".venv",
   "language": "python",
   "name": "python3"
  },
  "language_info": {
   "codemirror_mode": {
    "name": "ipython",
    "version": 3
   },
   "file_extension": ".py",
   "mimetype": "text/x-python",
   "name": "python",
   "nbconvert_exporter": "python",
   "pygments_lexer": "ipython3",
   "version": "3.12.2"
  }
 },
 "nbformat": 4,
 "nbformat_minor": 2
}
