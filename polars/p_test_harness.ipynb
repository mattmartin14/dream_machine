{
 "cells": [
  {
   "cell_type": "code",
   "execution_count": null,
   "metadata": {},
   "outputs": [],
   "source": [
    "# %pip install mimesis\n",
    "# %pip install polars"
   ]
  },
  {
   "cell_type": "code",
   "execution_count": 14,
   "metadata": {},
   "outputs": [],
   "source": [
    "from mimesis import Person, Address, Numeric\n",
    "import polars as pl\n",
    "\n"
   ]
  },
  {
   "cell_type": "code",
   "execution_count": 26,
   "metadata": {},
   "outputs": [
    {
     "data": {
      "text/plain": [
       "'\\n    To do: \\n        multi-thread 10 10M csv files out; \\n        have polars read all the files in and aggregate\\n        have polars add a timestamp column\\n        have polars write to parquet\\n'"
      ]
     },
     "execution_count": 26,
     "metadata": {},
     "output_type": "execute_result"
    }
   ],
   "source": [
    "peep = Person()\n",
    "adrs = Address()\n",
    "num = Numeric()\n",
    "\n",
    "data = []\n",
    "for _ in range(1_000_000):\n",
    "    data.append({'first_name':peep.first_name(), 'last_name':peep.last_name()\n",
    "                 , 'address_txt':adrs.address(), 'zip_cd':adrs.zip_code()\n",
    "                 , 'city':adrs.city(), 'state':adrs.state()\n",
    "                 , 'net_worth': num.integer_number(0,50000)})\n",
    "\n",
    "\n",
    "df = pl.DataFrame(data)\n",
    "\n",
    "\n",
    "\n",
    "#df.head(5)\n",
    "df.write_parquet('~/test.parquet')\n",
    "\n",
    "\"\"\"\n",
    "    To do: \n",
    "        multi-thread 10 10M csv files out; \n",
    "        have polars read all the files in and aggregate\n",
    "        have polars add a timestamp column\n",
    "        have polars write to parquet\n",
    "\"\"\"\n"
   ]
  },
  {
   "cell_type": "code",
   "execution_count": 31,
   "metadata": {},
   "outputs": [],
   "source": [
    "df2 = df.group_by(\"zip_cd\").agg(\n",
    "     pl.col(\"net_worth\").sum().name.suffix(\"_tot\")\n",
    "    ,pl.col(\"first_name\").n_unique().name.suffix(\"_cnt\")\n",
    "    ,pl.col(\"city\").count().alias(\"city_cnt\")\n",
    ")\n",
    "\n",
    "df2.head(5)\n",
    "df2.write_csv(file=\"~/test.csv\",include_header=True, separator=\"|\")"
   ]
  }
 ],
 "metadata": {
  "kernelspec": {
   "display_name": ".venv",
   "language": "python",
   "name": "python3"
  },
  "language_info": {
   "codemirror_mode": {
    "name": "ipython",
    "version": 3
   },
   "file_extension": ".py",
   "mimetype": "text/x-python",
   "name": "python",
   "nbconvert_exporter": "python",
   "pygments_lexer": "ipython3",
   "version": "3.12.2"
  }
 },
 "nbformat": 4,
 "nbformat_minor": 2
}
