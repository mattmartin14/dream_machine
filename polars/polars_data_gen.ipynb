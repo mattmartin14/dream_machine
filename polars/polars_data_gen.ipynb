{
 "cells": [
  {
   "cell_type": "code",
   "execution_count": 1,
   "metadata": {},
   "outputs": [],
   "source": [
    "import polars as pl\n",
    "from mimesis import Person, Address, Numeric\n",
    "import xlsxwriter\n",
    "import duckdb"
   ]
  },
  {
   "cell_type": "code",
   "execution_count": 2,
   "metadata": {},
   "outputs": [],
   "source": [
    "peep = Person()\n",
    "adrs = Address()\n",
    "num = Numeric()"
   ]
  },
  {
   "cell_type": "code",
   "execution_count": 3,
   "metadata": {},
   "outputs": [],
   "source": [
    "data = []\n",
    "for _ in range(100_000):\n",
    "    data.append({'name':peep.full_name(), 'address':adrs.address(), 'zip_cd':adrs.zip_code()\n",
    "                 , 'state':adrs.state(), 'net_worth':num.integer_number(5000,50000)})"
   ]
  },
  {
   "cell_type": "code",
   "execution_count": 4,
   "metadata": {},
   "outputs": [],
   "source": [
    "df = pl.DataFrame(data)"
   ]
  },
  {
   "cell_type": "code",
   "execution_count": 5,
   "metadata": {},
   "outputs": [
    {
     "data": {
      "text/html": [
       "<div><style>\n",
       ".dataframe > thead > tr,\n",
       ".dataframe > tbody > tr {\n",
       "  text-align: right;\n",
       "  white-space: pre-wrap;\n",
       "}\n",
       "</style>\n",
       "<small>shape: (5, 5)</small><table border=\"1\" class=\"dataframe\"><thead><tr><th>name</th><th>address</th><th>zip_cd</th><th>state</th><th>net_worth</th></tr><tr><td>str</td><td>str</td><td>str</td><td>str</td><td>i64</td></tr></thead><tbody><tr><td>&quot;Lynna Vang&quot;</td><td>&quot;1054 Miller Ce…</td><td>&quot;84769&quot;</td><td>&quot;Tennessee&quot;</td><td>26274</td></tr><tr><td>&quot;Moriah Harmon&quot;</td><td>&quot;1318 Jeopardy …</td><td>&quot;68278&quot;</td><td>&quot;Pennsylvania&quot;</td><td>36192</td></tr><tr><td>&quot;Kortney Burns&quot;</td><td>&quot;999 Saint Loui…</td><td>&quot;99648&quot;</td><td>&quot;Ohio&quot;</td><td>47950</td></tr><tr><td>&quot;Minna Fulton&quot;</td><td>&quot;477 Marvel Est…</td><td>&quot;65209&quot;</td><td>&quot;Texas&quot;</td><td>16183</td></tr><tr><td>&quot;Bobette Gallag…</td><td>&quot;86 Dunsmuir Ru…</td><td>&quot;31921&quot;</td><td>&quot;North Carolina…</td><td>12086</td></tr></tbody></table></div>"
      ],
      "text/plain": [
       "shape: (5, 5)\n",
       "┌───────────────────┬──────────────────────┬────────┬────────────────┬───────────┐\n",
       "│ name              ┆ address              ┆ zip_cd ┆ state          ┆ net_worth │\n",
       "│ ---               ┆ ---                  ┆ ---    ┆ ---            ┆ ---       │\n",
       "│ str               ┆ str                  ┆ str    ┆ str            ┆ i64       │\n",
       "╞═══════════════════╪══════════════════════╪════════╪════════════════╪═══════════╡\n",
       "│ Lynna Vang        ┆ 1054 Miller Center   ┆ 84769  ┆ Tennessee      ┆ 26274     │\n",
       "│ Moriah Harmon     ┆ 1318 Jeopardy Creek  ┆ 68278  ┆ Pennsylvania   ┆ 36192     │\n",
       "│ Kortney Burns     ┆ 999 Saint Louis Mews ┆ 99648  ┆ Ohio           ┆ 47950     │\n",
       "│ Minna Fulton      ┆ 477 Marvel Estate    ┆ 65209  ┆ Texas          ┆ 16183     │\n",
       "│ Bobette Gallagher ┆ 86 Dunsmuir Run      ┆ 31921  ┆ North Carolina ┆ 12086     │\n",
       "└───────────────────┴──────────────────────┴────────┴────────────────┴───────────┘"
      ]
     },
     "execution_count": 5,
     "metadata": {},
     "output_type": "execute_result"
    }
   ],
   "source": [
    "df.head(5)"
   ]
  },
  {
   "cell_type": "code",
   "execution_count": 57,
   "metadata": {},
   "outputs": [
    {
     "name": "stdout",
     "output_type": "stream",
     "text": [
      "shape: (63_168, 4)\n",
      "┌────────┬──────────┬─────────────┬───────────────┐\n",
      "│ zip_cd ┆ name_cnt ┆ address_cnt ┆ net_worth_tot │\n",
      "│ ---    ┆ ---      ┆ ---         ┆ ---           │\n",
      "│ str    ┆ u32      ┆ u32         ┆ i64           │\n",
      "╞════════╪══════════╪═════════════╪═══════════════╡\n",
      "│ 95887  ┆ 4        ┆ 4           ┆ 79981         │\n",
      "│ 78005  ┆ 1        ┆ 1           ┆ 13615         │\n",
      "│ 88794  ┆ 1        ┆ 1           ┆ 49062         │\n",
      "│ 40225  ┆ 1        ┆ 1           ┆ 31707         │\n",
      "│ 06088  ┆ 1        ┆ 1           ┆ 5785          │\n",
      "│ …      ┆ …        ┆ …           ┆ …             │\n",
      "│ 90521  ┆ 2        ┆ 2           ┆ 74368         │\n",
      "│ 46583  ┆ 1        ┆ 1           ┆ 47269         │\n",
      "│ 19442  ┆ 1        ┆ 1           ┆ 48631         │\n",
      "│ 32625  ┆ 2        ┆ 2           ┆ 72147         │\n",
      "│ 71798  ┆ 2        ┆ 2           ┆ 51017         │\n",
      "└────────┴──────────┴─────────────┴───────────────┘\n"
     ]
    }
   ],
   "source": [
    "res = df.group_by(pl.col('zip_cd')).agg(pl.col('name').n_unique().name.suffix(\"_cnt\")\n",
    "                                        ,pl.col('address').count().name.suffix(\"_cnt\")\n",
    "                                        ,pl.col('net_worth').sum().name.suffix(\"_tot\")\n",
    "                            )\n",
    "print(res)"
   ]
  },
  {
   "cell_type": "code",
   "execution_count": 62,
   "metadata": {},
   "outputs": [
    {
     "data": {
      "text/plain": [
       "<xlsxwriter.workbook.Workbook at 0x1136d5040>"
      ]
     },
     "execution_count": 62,
     "metadata": {},
     "output_type": "execute_result"
    }
   ],
   "source": [
    "res.write_parquet(\"./agg_pl.parquet\")\n",
    "res.write_excel(\"./test.xlsx\")"
   ]
  },
  {
   "cell_type": "code",
   "execution_count": 8,
   "metadata": {},
   "outputs": [
    {
     "name": "stdout",
     "output_type": "stream",
     "text": [
      "┌─────────┬──────────┬────────┬───────────────┐\n",
      "│ zip_cd  │ adrs_cnt │ nm_cnt │ net_worth_tot │\n",
      "│ varchar │  int64   │ int64  │    int128     │\n",
      "├─────────┼──────────┼────────┼───────────────┤\n",
      "│ 30464   │        1 │      1 │         49028 │\n",
      "│ 70790   │        2 │      2 │         93377 │\n",
      "│ 61547   │        3 │      3 │         63119 │\n",
      "│ 77274   │        1 │      1 │         14577 │\n",
      "│ 41876   │        2 │      2 │         49842 │\n",
      "│ 87568   │        1 │      1 │          7825 │\n",
      "│ 35258   │        2 │      2 │         72500 │\n",
      "│ 47701   │        1 │      1 │         23175 │\n",
      "│ 31944   │        2 │      2 │         38813 │\n",
      "│ 38623   │        1 │      1 │          8832 │\n",
      "│   ·     │        · │      · │            ·  │\n",
      "│   ·     │        · │      · │            ·  │\n",
      "│   ·     │        · │      · │            ·  │\n",
      "│ 46924   │        1 │      1 │         31305 │\n",
      "│ 69980   │        1 │      1 │          7908 │\n",
      "│ 56105   │        1 │      1 │         47937 │\n",
      "│ 52511   │        1 │      1 │         49199 │\n",
      "│ 61094   │        1 │      1 │         24056 │\n",
      "│ 64540   │        1 │      1 │         29795 │\n",
      "│ 99958   │        1 │      1 │         46240 │\n",
      "│ 05180   │        1 │      1 │         47504 │\n",
      "│ 49124   │        1 │      1 │         45961 │\n",
      "│ 23478   │        1 │      1 │          5846 │\n",
      "├─────────┴──────────┴────────┴───────────────┤\n",
      "│ ? rows (>9999 rows, 20 shown)     4 columns │\n",
      "└─────────────────────────────────────────────┘\n",
      "\n"
     ]
    }
   ],
   "source": [
    "sql = \"\"\"\n",
    "    select zip_cd, count(distinct address) as adrs_cnt\n",
    "        ,count(distinct name) as nm_cnt\n",
    "        ,sum(net_worth) as net_worth_tot\n",
    "    from df\n",
    "    group by 1\n",
    "\"\"\"\n",
    "\n",
    "duckdb.sql(sql).show()"
   ]
  }
 ],
 "metadata": {
  "kernelspec": {
   "display_name": ".venv",
   "language": "python",
   "name": "python3"
  },
  "language_info": {
   "codemirror_mode": {
    "name": "ipython",
    "version": 3
   },
   "file_extension": ".py",
   "mimetype": "text/x-python",
   "name": "python",
   "nbconvert_exporter": "python",
   "pygments_lexer": "ipython3",
   "version": "3.12.0"
  }
 },
 "nbformat": 4,
 "nbformat_minor": 2
}
