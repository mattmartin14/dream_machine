{
 "cells": [
  {
   "cell_type": "code",
   "execution_count": 1,
   "metadata": {},
   "outputs": [],
   "source": [
    "import polars as pl\n",
    "from mimesis import Person, Address, Numeric\n",
    "import xlsxwriter"
   ]
  },
  {
   "cell_type": "code",
   "execution_count": 2,
   "metadata": {},
   "outputs": [],
   "source": [
    "peep = Person()\n",
    "adrs = Address()\n",
    "num = Numeric()"
   ]
  },
  {
   "cell_type": "code",
   "execution_count": 3,
   "metadata": {},
   "outputs": [],
   "source": [
    "data = []\n",
    "for _ in range(100_000):\n",
    "    data.append({'name':peep.full_name(), 'address':adrs.address(), 'zip_cd':adrs.zip_code()\n",
    "                 , 'state':adrs.state(), 'net_worth':num.integer_number(5000,50000)})"
   ]
  },
  {
   "cell_type": "code",
   "execution_count": 4,
   "metadata": {},
   "outputs": [],
   "source": [
    "df = pl.DataFrame(data)"
   ]
  },
  {
   "cell_type": "code",
   "execution_count": 5,
   "metadata": {},
   "outputs": [
    {
     "data": {
      "text/html": [
       "<div><style>\n",
       ".dataframe > thead > tr,\n",
       ".dataframe > tbody > tr {\n",
       "  text-align: right;\n",
       "  white-space: pre-wrap;\n",
       "}\n",
       "</style>\n",
       "<small>shape: (5, 5)</small><table border=\"1\" class=\"dataframe\"><thead><tr><th>name</th><th>address</th><th>zip_cd</th><th>state</th><th>net_worth</th></tr><tr><td>str</td><td>str</td><td>str</td><td>str</td><td>i64</td></tr></thead><tbody><tr><td>&quot;Lynna Vang&quot;</td><td>&quot;1054 Miller Ce…</td><td>&quot;84769&quot;</td><td>&quot;Tennessee&quot;</td><td>26274</td></tr><tr><td>&quot;Moriah Harmon&quot;</td><td>&quot;1318 Jeopardy …</td><td>&quot;68278&quot;</td><td>&quot;Pennsylvania&quot;</td><td>36192</td></tr><tr><td>&quot;Kortney Burns&quot;</td><td>&quot;999 Saint Loui…</td><td>&quot;99648&quot;</td><td>&quot;Ohio&quot;</td><td>47950</td></tr><tr><td>&quot;Minna Fulton&quot;</td><td>&quot;477 Marvel Est…</td><td>&quot;65209&quot;</td><td>&quot;Texas&quot;</td><td>16183</td></tr><tr><td>&quot;Bobette Gallag…</td><td>&quot;86 Dunsmuir Ru…</td><td>&quot;31921&quot;</td><td>&quot;North Carolina…</td><td>12086</td></tr></tbody></table></div>"
      ],
      "text/plain": [
       "shape: (5, 5)\n",
       "┌───────────────────┬──────────────────────┬────────┬────────────────┬───────────┐\n",
       "│ name              ┆ address              ┆ zip_cd ┆ state          ┆ net_worth │\n",
       "│ ---               ┆ ---                  ┆ ---    ┆ ---            ┆ ---       │\n",
       "│ str               ┆ str                  ┆ str    ┆ str            ┆ i64       │\n",
       "╞═══════════════════╪══════════════════════╪════════╪════════════════╪═══════════╡\n",
       "│ Lynna Vang        ┆ 1054 Miller Center   ┆ 84769  ┆ Tennessee      ┆ 26274     │\n",
       "│ Moriah Harmon     ┆ 1318 Jeopardy Creek  ┆ 68278  ┆ Pennsylvania   ┆ 36192     │\n",
       "│ Kortney Burns     ┆ 999 Saint Louis Mews ┆ 99648  ┆ Ohio           ┆ 47950     │\n",
       "│ Minna Fulton      ┆ 477 Marvel Estate    ┆ 65209  ┆ Texas          ┆ 16183     │\n",
       "│ Bobette Gallagher ┆ 86 Dunsmuir Run      ┆ 31921  ┆ North Carolina ┆ 12086     │\n",
       "└───────────────────┴──────────────────────┴────────┴────────────────┴───────────┘"
      ]
     },
     "execution_count": 5,
     "metadata": {},
     "output_type": "execute_result"
    }
   ],
   "source": [
    "df.head(5)"
   ]
  },
  {
   "cell_type": "code",
   "execution_count": 9,
   "metadata": {},
   "outputs": [
    {
     "name": "stdout",
     "output_type": "stream",
     "text": [
      "shape: (63_091, 4)\n",
      "┌────────┬──────────┬─────────────┬───────────────┐\n",
      "│ zip_cd ┆ name_cnt ┆ address_cnt ┆ net_worth_tot │\n",
      "│ ---    ┆ ---      ┆ ---         ┆ ---           │\n",
      "│ str    ┆ u32      ┆ u32         ┆ i64           │\n",
      "╞════════╪══════════╪═════════════╪═══════════════╡\n",
      "│ 64934  ┆ 1        ┆ 1           ┆ 37000         │\n",
      "│ 82576  ┆ 1        ┆ 1           ┆ 35236         │\n",
      "│ 05687  ┆ 1        ┆ 1           ┆ 28699         │\n",
      "│ 80119  ┆ 2        ┆ 2           ┆ 44029         │\n",
      "│ 30331  ┆ 2        ┆ 2           ┆ 83101         │\n",
      "│ …      ┆ …        ┆ …           ┆ …             │\n",
      "│ 36826  ┆ 2        ┆ 2           ┆ 78335         │\n",
      "│ 61734  ┆ 2        ┆ 2           ┆ 20762         │\n",
      "│ 17027  ┆ 1        ┆ 1           ┆ 29030         │\n",
      "│ 64088  ┆ 1        ┆ 1           ┆ 6443          │\n",
      "│ 77732  ┆ 1        ┆ 1           ┆ 11726         │\n",
      "└────────┴──────────┴─────────────┴───────────────┘\n"
     ]
    }
   ],
   "source": [
    "res = df.group_by(pl.col('zip_cd')).agg(pl.col('name').n_unique().name.suffix(\"_cnt\")\n",
    "                                        ,pl.col('address').count().name.suffix(\"_cnt\")\n",
    "                                        ,pl.col('net_worth').sum().name.suffix(\"_tot\")\n",
    "                            )\n",
    "print(res)"
   ]
  },
  {
   "cell_type": "code",
   "execution_count": 62,
   "metadata": {},
   "outputs": [
    {
     "data": {
      "text/plain": [
       "<xlsxwriter.workbook.Workbook at 0x1136d5040>"
      ]
     },
     "execution_count": 62,
     "metadata": {},
     "output_type": "execute_result"
    }
   ],
   "source": [
    "res.write_parquet(\"./agg_pl.parquet\")\n",
    "res.write_excel(\"./test.xlsx\")"
   ]
  }
 ],
 "metadata": {
  "kernelspec": {
   "display_name": ".venv",
   "language": "python",
   "name": "python3"
  },
  "language_info": {
   "codemirror_mode": {
    "name": "ipython",
    "version": 3
   },
   "file_extension": ".py",
   "mimetype": "text/x-python",
   "name": "python",
   "nbconvert_exporter": "python",
   "pygments_lexer": "ipython3",
   "version": "3.12.0"
  }
 },
 "nbformat": 4,
 "nbformat_minor": 2
}
