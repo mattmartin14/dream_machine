{
 "cells": [
  {
   "cell_type": "code",
   "execution_count": 61,
   "metadata": {},
   "outputs": [],
   "source": [
    "import polars as pl\n",
    "from mimesis import Person, Address, Numeric\n",
    "import xlsxwriter"
   ]
  },
  {
   "cell_type": "code",
   "execution_count": 20,
   "metadata": {},
   "outputs": [],
   "source": [
    "peep = Person()\n",
    "adrs = Address()\n",
    "num = Numeric()"
   ]
  },
  {
   "cell_type": "code",
   "execution_count": 55,
   "metadata": {},
   "outputs": [],
   "source": [
    "data = []\n",
    "for _ in range(100_000):\n",
    "    data.append({'name':peep.full_name(), 'address':adrs.address(), 'zip_cd':adrs.zip_code()\n",
    "                 , 'state':adrs.state(), 'net_worth':num.integer_number(5000,50000)})"
   ]
  },
  {
   "cell_type": "code",
   "execution_count": 56,
   "metadata": {},
   "outputs": [],
   "source": [
    "df = pl.DataFrame(data)"
   ]
  },
  {
   "cell_type": "code",
   "execution_count": 52,
   "metadata": {},
   "outputs": [
    {
     "data": {
      "text/html": [
       "<div><style>\n",
       ".dataframe > thead > tr,\n",
       ".dataframe > tbody > tr {\n",
       "  text-align: right;\n",
       "  white-space: pre-wrap;\n",
       "}\n",
       "</style>\n",
       "<small>shape: (5, 5)</small><table border=\"1\" class=\"dataframe\"><thead><tr><th>name</th><th>address</th><th>zip_cd</th><th>state</th><th>net_worth</th></tr><tr><td>str</td><td>str</td><td>str</td><td>str</td><td>i64</td></tr></thead><tbody><tr><td>&quot;Dominque Sloan…</td><td>&quot;962 Auto Cross…</td><td>&quot;87605&quot;</td><td>&quot;Pennsylvania&quot;</td><td>46978</td></tr><tr><td>&quot;Glennie Ruiz&quot;</td><td>&quot;467 Minnesota …</td><td>&quot;50005&quot;</td><td>&quot;Virginia&quot;</td><td>24189</td></tr><tr><td>&quot;Theo Reese&quot;</td><td>&quot;896 Alhambra H…</td><td>&quot;36359&quot;</td><td>&quot;Hawaii&quot;</td><td>13333</td></tr><tr><td>&quot;Rogelio Conner…</td><td>&quot;233 Rio Ranch&quot;</td><td>&quot;79718&quot;</td><td>&quot;New Hampshire&quot;</td><td>49943</td></tr><tr><td>&quot;Kenia Mueller&quot;</td><td>&quot;779 Valdez Str…</td><td>&quot;56450&quot;</td><td>&quot;Hawaii&quot;</td><td>23592</td></tr></tbody></table></div>"
      ],
      "text/plain": [
       "shape: (5, 5)\n",
       "┌────────────────┬───────────────────────┬────────┬───────────────┬───────────┐\n",
       "│ name           ┆ address               ┆ zip_cd ┆ state         ┆ net_worth │\n",
       "│ ---            ┆ ---                   ┆ ---    ┆ ---           ┆ ---       │\n",
       "│ str            ┆ str                   ┆ str    ┆ str           ┆ i64       │\n",
       "╞════════════════╪═══════════════════════╪════════╪═══════════════╪═══════════╡\n",
       "│ Dominque Sloan ┆ 962 Auto Crossing     ┆ 87605  ┆ Pennsylvania  ┆ 46978     │\n",
       "│ Glennie Ruiz   ┆ 467 Minnesota Heights ┆ 50005  ┆ Virginia      ┆ 24189     │\n",
       "│ Theo Reese     ┆ 896 Alhambra Hills    ┆ 36359  ┆ Hawaii        ┆ 13333     │\n",
       "│ Rogelio Conner ┆ 233 Rio Ranch         ┆ 79718  ┆ New Hampshire ┆ 49943     │\n",
       "│ Kenia Mueller  ┆ 779 Valdez Street     ┆ 56450  ┆ Hawaii        ┆ 23592     │\n",
       "└────────────────┴───────────────────────┴────────┴───────────────┴───────────┘"
      ]
     },
     "execution_count": 52,
     "metadata": {},
     "output_type": "execute_result"
    }
   ],
   "source": [
    "df.head(5)"
   ]
  },
  {
   "cell_type": "code",
   "execution_count": 57,
   "metadata": {},
   "outputs": [
    {
     "name": "stdout",
     "output_type": "stream",
     "text": [
      "shape: (63_168, 4)\n",
      "┌────────┬──────────┬─────────────┬───────────────┐\n",
      "│ zip_cd ┆ name_cnt ┆ address_cnt ┆ net_worth_tot │\n",
      "│ ---    ┆ ---      ┆ ---         ┆ ---           │\n",
      "│ str    ┆ u32      ┆ u32         ┆ i64           │\n",
      "╞════════╪══════════╪═════════════╪═══════════════╡\n",
      "│ 95887  ┆ 4        ┆ 4           ┆ 79981         │\n",
      "│ 78005  ┆ 1        ┆ 1           ┆ 13615         │\n",
      "│ 88794  ┆ 1        ┆ 1           ┆ 49062         │\n",
      "│ 40225  ┆ 1        ┆ 1           ┆ 31707         │\n",
      "│ 06088  ┆ 1        ┆ 1           ┆ 5785          │\n",
      "│ …      ┆ …        ┆ …           ┆ …             │\n",
      "│ 90521  ┆ 2        ┆ 2           ┆ 74368         │\n",
      "│ 46583  ┆ 1        ┆ 1           ┆ 47269         │\n",
      "│ 19442  ┆ 1        ┆ 1           ┆ 48631         │\n",
      "│ 32625  ┆ 2        ┆ 2           ┆ 72147         │\n",
      "│ 71798  ┆ 2        ┆ 2           ┆ 51017         │\n",
      "└────────┴──────────┴─────────────┴───────────────┘\n"
     ]
    }
   ],
   "source": [
    "res = df.group_by(pl.col('zip_cd')).agg(pl.col('name').n_unique().name.suffix(\"_cnt\")\n",
    "                                        ,pl.col('address').count().name.suffix(\"_cnt\")\n",
    "                                        ,pl.col('net_worth').sum().name.suffix(\"_tot\")\n",
    "                            )\n",
    "print(res)"
   ]
  },
  {
   "cell_type": "code",
   "execution_count": 62,
   "metadata": {},
   "outputs": [
    {
     "data": {
      "text/plain": [
       "<xlsxwriter.workbook.Workbook at 0x1136d5040>"
      ]
     },
     "execution_count": 62,
     "metadata": {},
     "output_type": "execute_result"
    }
   ],
   "source": [
    "res.write_parquet(\"./agg_pl.parquet\")\n",
    "res.write_excel(\"./test.xlsx\")"
   ]
  }
 ],
 "metadata": {
  "kernelspec": {
   "display_name": ".venv",
   "language": "python",
   "name": "python3"
  },
  "language_info": {
   "codemirror_mode": {
    "name": "ipython",
    "version": 3
   },
   "file_extension": ".py",
   "mimetype": "text/x-python",
   "name": "python",
   "nbconvert_exporter": "python",
   "pygments_lexer": "ipython3",
   "version": "3.12.0"
  }
 },
 "nbformat": 4,
 "nbformat_minor": 2
}
