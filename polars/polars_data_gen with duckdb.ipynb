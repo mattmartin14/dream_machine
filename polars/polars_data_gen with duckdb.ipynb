{
 "cells": [
  {
   "cell_type": "code",
   "execution_count": 1,
   "metadata": {},
   "outputs": [],
   "source": [
    "import polars as pl\n",
    "from mimesis import Person, Address, Numeric\n",
    "import duckdb\n",
    "import pyarrow"
   ]
  },
  {
   "cell_type": "code",
   "execution_count": 2,
   "metadata": {},
   "outputs": [],
   "source": [
    "peep = Person()\n",
    "adrs = Address()\n",
    "num = Numeric()"
   ]
  },
  {
   "cell_type": "code",
   "execution_count": 3,
   "metadata": {},
   "outputs": [],
   "source": [
    "data = []\n",
    "for _ in range(100_000):\n",
    "    data.append({'name':peep.full_name(), 'address':adrs.address(), 'zip_cd':adrs.zip_code()\n",
    "                 , 'state':adrs.state(), 'net_worth':num.integer_number(5000,50000)})"
   ]
  },
  {
   "cell_type": "code",
   "execution_count": 4,
   "metadata": {},
   "outputs": [],
   "source": [
    "df = pl.DataFrame(data)"
   ]
  },
  {
   "cell_type": "code",
   "execution_count": 7,
   "metadata": {},
   "outputs": [
    {
     "name": "stdout",
     "output_type": "stream",
     "text": [
      "┌─────────┬────────┬──────────┬───────────────┐\n",
      "│ zip_cd  │ nm_cnt │ adrs_cnt │ tot_net_worth │\n",
      "│ varchar │ int64  │  int64   │    int128     │\n",
      "├─────────┼────────┼──────────┼───────────────┤\n",
      "│ 00001   │      2 │        2 │         59113 │\n",
      "│ 00004   │      1 │        1 │         10175 │\n",
      "│ 00005   │      2 │        2 │         33547 │\n",
      "│ 00006   │      2 │        2 │         46552 │\n",
      "│ 00008   │      1 │        1 │         26245 │\n",
      "└─────────┴────────┴──────────┴───────────────┘\n",
      "\n"
     ]
    }
   ],
   "source": [
    "sql = \"\"\"\n",
    "    select zip_cd, count(distinct name) as nm_cnt\n",
    "        ,count(distinct address) as adrs_cnt\n",
    "        ,sum(net_worth) as tot_net_worth\n",
    "    from df\n",
    "    group by all\n",
    "    order by 1\n",
    "    limit 5\n",
    "\"\"\"\n",
    "duckdb.sql(sql).show()"
   ]
  }
 ],
 "metadata": {
  "kernelspec": {
   "display_name": ".venv",
   "language": "python",
   "name": "python3"
  },
  "language_info": {
   "codemirror_mode": {
    "name": "ipython",
    "version": 3
   },
   "file_extension": ".py",
   "mimetype": "text/x-python",
   "name": "python",
   "nbconvert_exporter": "python",
   "pygments_lexer": "ipython3",
   "version": "3.12.0"
  }
 },
 "nbformat": 4,
 "nbformat_minor": 2
}
