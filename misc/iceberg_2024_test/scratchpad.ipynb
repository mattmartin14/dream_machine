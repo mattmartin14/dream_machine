{
 "cells": [
  {
   "cell_type": "code",
   "execution_count": 9,
   "metadata": {},
   "outputs": [],
   "source": [
    "import utils\n"
   ]
  },
  {
   "cell_type": "code",
   "execution_count": null,
   "metadata": {},
   "outputs": [],
   "source": [
    "# get iceberg runtime\n",
    "spark_version = \"3.5\"\n",
    "scala_version = \"2.12\"\n",
    "iceberg_version = \"1.7.0\"\n",
    "target_dir = \"~/spark_jars/iceberg\"\n",
    "\n",
    "jar_path = utils.download_iceberg_jar(spark_version, scala_version, iceberg_version, target_dir)\n",
    "print(f\"JAR saved at: {jar_path}\")"
   ]
  },
  {
   "cell_type": "code",
   "execution_count": 11,
   "metadata": {},
   "outputs": [],
   "source": [
    "from pyspark.sql import SparkSession\n",
    "\n",
    "catalog_name = \"iceberg\"\n",
    "\n",
    "# Initialize Spark session with Iceberg configuration\n",
    "spark = SparkSession.builder \\\n",
    "    .appName(\"IcebergLocalExample\") \\\n",
    "    .config(\"spark.sql.extensions\", \"org.apache.iceberg.spark.extensions.IcebergSparkSessionExtensions\") \\\n",
    "    .config(f\"spark.sql.catalog.{catalog_name}\", \"org.apache.iceberg.spark.SparkCatalog\") \\\n",
    "    .config(f\"spark.sql.catalog.{catalog_name}.type\", \"hadoop\") \\\n",
    "    .config(f\"spark.sql.catalog.{catalog_name}.warehouse\", \"./icehouse\") \\\n",
    "    .config(\"spark.jars\", jar_path) \\\n",
    "    .getOrCreate()\n"
   ]
  },
  {
   "cell_type": "code",
   "execution_count": 12,
   "metadata": {},
   "outputs": [],
   "source": [
    "data = [(1, \"Alice\", \"2024-11-28 12:00:00\"),\n",
    "        (2, \"Bob\", \"2024-11-28 13:00:00\")]\n",
    "columns = [\"id\", \"name\", \"ts\"]\n",
    "\n",
    "df = spark.createDataFrame(data, columns)\n",
    "\n",
    "table_name = \"test_tbl2\"\n",
    "\n",
    "# # Write the DataFrame to Iceberg\n",
    "df.writeTo(f\"{catalog_name}.default.{table_name}\") \\\n",
    "    .using(\"iceberg\") \\\n",
    "    .tableProperty(\"write.format.default\", \"parquet\") \\\n",
    "    .createOrReplace()\n",
    "\n"
   ]
  }
 ],
 "metadata": {
  "kernelspec": {
   "display_name": ".venv",
   "language": "python",
   "name": "python3"
  },
  "language_info": {
   "codemirror_mode": {
    "name": "ipython",
    "version": 3
   },
   "file_extension": ".py",
   "mimetype": "text/x-python",
   "name": "python",
   "nbconvert_exporter": "python",
   "pygments_lexer": "ipython3",
   "version": "3.12.3"
  }
 },
 "nbformat": 4,
 "nbformat_minor": 2
}
