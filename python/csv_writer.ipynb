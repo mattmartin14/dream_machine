{
 "cells": [
  {
   "cell_type": "code",
   "execution_count": 2,
   "metadata": {},
   "outputs": [],
   "source": [
    "import csv\n",
    "import os"
   ]
  },
  {
   "cell_type": "code",
   "execution_count": 10,
   "metadata": {},
   "outputs": [],
   "source": [
    "\n",
    "def create_csv_int_file(numRows):\n",
    "    \n",
    "    home_dir = os.path.expanduser(\"~\")\n",
    "    f_path = \"{0}/test_dummy_data/python/test_data.csv\".format(home_dir)\n",
    "\n",
    "    with open(f_path, 'w', newline='\\n') as csvfile:\n",
    "            csv_writer = csv.writer(csvfile)\n",
    "\n",
    "            for i in range(1,numRows+1):\n",
    "                csv_writer.writerow([i])\n"
   ]
  },
  {
   "cell_type": "code",
   "execution_count": 16,
   "metadata": {},
   "outputs": [],
   "source": [
    "create_csv_int_file(100000000)"
   ]
  }
 ],
 "metadata": {
  "kernelspec": {
   "display_name": "Python 3",
   "language": "python",
   "name": "python3"
  },
  "language_info": {
   "codemirror_mode": {
    "name": "ipython",
    "version": 3
   },
   "file_extension": ".py",
   "mimetype": "text/x-python",
   "name": "python",
   "nbconvert_exporter": "python",
   "pygments_lexer": "ipython3",
   "version": "3.11.4"
  },
  "orig_nbformat": 4
 },
 "nbformat": 4,
 "nbformat_minor": 2
}
