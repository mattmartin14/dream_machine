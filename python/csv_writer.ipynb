{
 "cells": [
  {
   "cell_type": "code",
   "execution_count": 1,
   "metadata": {},
   "outputs": [],
   "source": [
    "import csv\n",
    "import os\n",
    "import time"
   ]
  },
  {
   "cell_type": "code",
   "execution_count": 16,
   "metadata": {},
   "outputs": [],
   "source": [
    "\n",
    "def create_csv_int_file(numRows, buffer_size):\n",
    "    \n",
    "    start_ts = time.time()\n",
    "\n",
    "    home_dir = os.path.expanduser(\"~\")\n",
    "    f_path = \"{0}/test_dummy_data/python/test_data.csv\".format(home_dir)\n",
    "    with open(f_path, 'w', newline='\\n', buffering=buffer_size) as csvfile:\n",
    "            csv_writer = csv.writer(csvfile)\n",
    "\n",
    "            for i in range(1,numRows+1):\n",
    "                csv_writer.writerow([i])\n",
    "\n",
    "    end_ts = time.time()\n",
    "\n",
    "    elapsed_time = round(end_ts - start_ts,2)\n",
    "\n",
    "    msg = \"Wrote {0} rows in {1} seconds\".format('{:,}'.format(numRows),elapsed_time)\n",
    "\n",
    "    print(msg)\n"
   ]
  },
  {
   "cell_type": "code",
   "execution_count": 19,
   "metadata": {},
   "outputs": [
    {
     "name": "stdout",
     "output_type": "stream",
     "text": [
      "Wrote 100,000,000 rows in 19.24 seconds\n"
     ]
    }
   ],
   "source": [
    "create_csv_int_file(100000000, 1024 * 1024*10)"
   ]
  }
 ],
 "metadata": {
  "kernelspec": {
   "display_name": "Python 3",
   "language": "python",
   "name": "python3"
  },
  "language_info": {
   "codemirror_mode": {
    "name": "ipython",
    "version": 3
   },
   "file_extension": ".py",
   "mimetype": "text/x-python",
   "name": "python",
   "nbconvert_exporter": "python",
   "pygments_lexer": "ipython3",
   "version": "3.11.4"
  },
  "orig_nbformat": 4
 },
 "nbformat": 4,
 "nbformat_minor": 2
}
