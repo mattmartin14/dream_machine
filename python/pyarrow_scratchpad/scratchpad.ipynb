{
 "cells": [
  {
   "cell_type": "code",
   "execution_count": null,
   "metadata": {},
   "outputs": [
    {
     "ename": "ArrowInvalid",
     "evalue": "No match for FieldRef.Name(order_amt) in order_id: int64",
     "output_type": "error",
     "traceback": [
      "\u001b[0;31m---------------------------------------------------------------------------\u001b[0m",
      "\u001b[0;31mArrowInvalid\u001b[0m                              Traceback (most recent call last)",
      "Cell \u001b[0;32mIn[7], line 10\u001b[0m\n\u001b[1;32m      1\u001b[0m \u001b[38;5;28;01mimport\u001b[39;00m\u001b[38;5;250m \u001b[39m\u001b[38;5;21;01mpyarrow\u001b[39;00m\u001b[38;5;250m \u001b[39m\u001b[38;5;28;01mas\u001b[39;00m\u001b[38;5;250m \u001b[39m\u001b[38;5;21;01mpa\u001b[39;00m\n\u001b[1;32m      3\u001b[0m table \u001b[38;5;241m=\u001b[39m pa\u001b[38;5;241m.\u001b[39mtable({\n\u001b[1;32m      4\u001b[0m     \u001b[38;5;124m\"\u001b[39m\u001b[38;5;124morder_id\u001b[39m\u001b[38;5;124m\"\u001b[39m: [\u001b[38;5;241m1\u001b[39m, \u001b[38;5;241m2\u001b[39m, \u001b[38;5;241m3\u001b[39m],\n\u001b[1;32m      5\u001b[0m     \u001b[38;5;124m\"\u001b[39m\u001b[38;5;124morder_date\u001b[39m\u001b[38;5;124m\"\u001b[39m: [\u001b[38;5;124m\"\u001b[39m\u001b[38;5;124m2025-02-01\u001b[39m\u001b[38;5;124m\"\u001b[39m, \u001b[38;5;124m\"\u001b[39m\u001b[38;5;124m2025-02-02\u001b[39m\u001b[38;5;124m\"\u001b[39m, \u001b[38;5;124m\"\u001b[39m\u001b[38;5;124m2025-02-03\u001b[39m\u001b[38;5;124m\"\u001b[39m],\n\u001b[1;32m      6\u001b[0m     \u001b[38;5;124m\"\u001b[39m\u001b[38;5;124morder_type\u001b[39m\u001b[38;5;124m\"\u001b[39m: [\u001b[38;5;124m\"\u001b[39m\u001b[38;5;124mOnline\u001b[39m\u001b[38;5;124m\"\u001b[39m, \u001b[38;5;124m\"\u001b[39m\u001b[38;5;124mIn-Store\u001b[39m\u001b[38;5;124m\"\u001b[39m, \u001b[38;5;124m\"\u001b[39m\u001b[38;5;124mOnline\u001b[39m\u001b[38;5;124m\"\u001b[39m],\n\u001b[1;32m      7\u001b[0m     \u001b[38;5;124m\"\u001b[39m\u001b[38;5;124morder_amt\u001b[39m\u001b[38;5;124m\"\u001b[39m: [\u001b[38;5;241m100.5\u001b[39m, \u001b[38;5;241m200.75\u001b[39m, \u001b[38;5;241m150.0\u001b[39m]\n\u001b[1;32m      8\u001b[0m })\n\u001b[0;32m---> 10\u001b[0m x \u001b[38;5;241m=\u001b[39m \u001b[43mtable\u001b[49m\u001b[38;5;241;43m.\u001b[39;49m\u001b[43mselect\u001b[49m\u001b[43m(\u001b[49m\u001b[43m[\u001b[49m\u001b[38;5;124;43m'\u001b[39;49m\u001b[38;5;124;43morder_id\u001b[39;49m\u001b[38;5;124;43m'\u001b[39;49m\u001b[43m]\u001b[49m\u001b[43m)\u001b[49m\u001b[38;5;241;43m.\u001b[39;49m\u001b[43mgroup_by\u001b[49m\u001b[43m(\u001b[49m\u001b[43m[\u001b[49m\u001b[38;5;124;43m'\u001b[39;49m\u001b[38;5;124;43morder_id\u001b[39;49m\u001b[38;5;124;43m'\u001b[39;49m\u001b[43m]\u001b[49m\u001b[43m)\u001b[49m\u001b[38;5;241;43m.\u001b[39;49m\u001b[43maggregate\u001b[49m\u001b[43m(\u001b[49m\u001b[43m[\u001b[49m\u001b[43m(\u001b[49m\u001b[38;5;124;43m\"\u001b[39;49m\u001b[38;5;124;43morder_amt\u001b[39;49m\u001b[38;5;124;43m\"\u001b[39;49m\u001b[43m,\u001b[49m\u001b[43m \u001b[49m\u001b[38;5;124;43m\"\u001b[39;49m\u001b[38;5;124;43msum\u001b[39;49m\u001b[38;5;124;43m\"\u001b[39;49m\u001b[43m)\u001b[49m\u001b[43m]\u001b[49m\u001b[43m)\u001b[49m\n\u001b[1;32m     11\u001b[0m \u001b[38;5;28mprint\u001b[39m(x)\n",
      "File \u001b[0;32m~/dream_machine/python/pyarrow_scratchpad/.venv/lib/python3.13/site-packages/pyarrow/table.pxi:6560\u001b[0m, in \u001b[0;36mpyarrow.lib.TableGroupBy.aggregate\u001b[0;34m()\u001b[0m\n",
      "File \u001b[0;32m~/dream_machine/python/pyarrow_scratchpad/.venv/lib/python3.13/site-packages/pyarrow/acero.py:410\u001b[0m, in \u001b[0;36m_group_by\u001b[0;34m(table, aggregates, keys, use_threads)\u001b[0m\n\u001b[1;32m    404\u001b[0m \u001b[38;5;28;01mdef\u001b[39;00m\u001b[38;5;250m \u001b[39m\u001b[38;5;21m_group_by\u001b[39m(table, aggregates, keys, use_threads\u001b[38;5;241m=\u001b[39m\u001b[38;5;28;01mTrue\u001b[39;00m):\n\u001b[1;32m    406\u001b[0m     decl \u001b[38;5;241m=\u001b[39m Declaration\u001b[38;5;241m.\u001b[39mfrom_sequence([\n\u001b[1;32m    407\u001b[0m         Declaration(\u001b[38;5;124m\"\u001b[39m\u001b[38;5;124mtable_source\u001b[39m\u001b[38;5;124m\"\u001b[39m, TableSourceNodeOptions(table)),\n\u001b[1;32m    408\u001b[0m         Declaration(\u001b[38;5;124m\"\u001b[39m\u001b[38;5;124maggregate\u001b[39m\u001b[38;5;124m\"\u001b[39m, AggregateNodeOptions(aggregates, keys\u001b[38;5;241m=\u001b[39mkeys))\n\u001b[1;32m    409\u001b[0m     ])\n\u001b[0;32m--> 410\u001b[0m     \u001b[38;5;28;01mreturn\u001b[39;00m \u001b[43mdecl\u001b[49m\u001b[38;5;241;43m.\u001b[39;49m\u001b[43mto_table\u001b[49m\u001b[43m(\u001b[49m\u001b[43muse_threads\u001b[49m\u001b[38;5;241;43m=\u001b[39;49m\u001b[43muse_threads\u001b[49m\u001b[43m)\u001b[49m\n",
      "File \u001b[0;32m~/dream_machine/python/pyarrow_scratchpad/.venv/lib/python3.13/site-packages/pyarrow/_acero.pyx:590\u001b[0m, in \u001b[0;36mpyarrow._acero.Declaration.to_table\u001b[0;34m()\u001b[0m\n",
      "File \u001b[0;32m~/dream_machine/python/pyarrow_scratchpad/.venv/lib/python3.13/site-packages/pyarrow/error.pxi:155\u001b[0m, in \u001b[0;36mpyarrow.lib.pyarrow_internal_check_status\u001b[0;34m()\u001b[0m\n",
      "File \u001b[0;32m~/dream_machine/python/pyarrow_scratchpad/.venv/lib/python3.13/site-packages/pyarrow/error.pxi:92\u001b[0m, in \u001b[0;36mpyarrow.lib.check_status\u001b[0;34m()\u001b[0m\n",
      "\u001b[0;31mArrowInvalid\u001b[0m: No match for FieldRef.Name(order_amt) in order_id: int64"
     ]
    }
   ],
   "source": [
    "import pyarrow as pa\n",
    "\n",
    "table = pa.table({\n",
    "    \"order_id\": [1, 2, 3],\n",
    "    \"order_date\": [\"2025-02-01\", \"2025-02-02\", \"2025-02-03\"],\n",
    "    \"order_type\": [\"Online\", \"In-Store\", \"Online\"],\n",
    "    \"order_amt\": [100.5, 200.75, 150.0]\n",
    "})\n",
    "\n",
    "x = table.select(['order_id']).group_by(['order_id']).aggregate([])\n",
    "print(x)\n"
   ]
  },
  {
   "cell_type": "code",
   "execution_count": 9,
   "metadata": {},
   "outputs": [
    {
     "name": "stdout",
     "output_type": "stream",
     "text": [
      "pyarrow.Table\n",
      "order_id: int64\n",
      "order_amt_sum: double\n",
      "----\n",
      "order_id: [[1,2,3]]\n",
      "order_amt_sum: [[151,301,225]]\n"
     ]
    }
   ],
   "source": [
    "import pyarrow as pa\n",
    "\n",
    "table = pa.table({\n",
    "    \"order_id\": [1, 2, 3, 1, 2, 3],\n",
    "    \"order_date\": [\"2025-02-01\", \"2025-02-02\", \"2025-02-03\", \n",
    "                   \"2025-02-04\", \"2025-02-05\", \"2025-02-06\"],\n",
    "    \"order_type\": [\"Online\", \"In-Store\", \"Online\", \"Online\", \"In-Store\", \"Online\"],\n",
    "    \"order_amt\": [100.5, 200.75, 150.0, 50.5, 100.25, 75.0]\n",
    "})\n",
    "\n",
    "grouped = table.group_by([\"order_id\"]).aggregate([(\"order_amt\", \"sum\")])\n",
    "\n",
    "print(grouped)\n"
   ]
  }
 ],
 "metadata": {
  "kernelspec": {
   "display_name": ".venv",
   "language": "python",
   "name": "python3"
  },
  "language_info": {
   "codemirror_mode": {
    "name": "ipython",
    "version": 3
   },
   "file_extension": ".py",
   "mimetype": "text/x-python",
   "name": "python",
   "nbconvert_exporter": "python",
   "pygments_lexer": "ipython3",
   "version": "3.13.1"
  }
 },
 "nbformat": 4,
 "nbformat_minor": 2
}
