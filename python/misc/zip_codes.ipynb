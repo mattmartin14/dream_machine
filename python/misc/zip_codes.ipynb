{
 "cells": [
  {
   "cell_type": "code",
   "execution_count": 52,
   "metadata": {},
   "outputs": [],
   "source": [
    "### Author: Matt Martin\n",
    "### Date: 1/30/24\n",
    "### Desc: Fetch Zip code info via python\n",
    "## %pip install uszipcode\n",
    "## https://uszipcode.readthedocs.io/02-Advanced-Tutorial/index.html#search-by-range-of-xxx"
   ]
  },
  {
   "cell_type": "code",
   "execution_count": 15,
   "metadata": {},
   "outputs": [],
   "source": [
    "from uszipcode import SearchEngine\n",
    "\n",
    "def get_zip_info_by_state(state: str, fetch_limit=-1) -> list:\n",
    "    search = SearchEngine(simple_or_comprehensive=SearchEngine.SimpleOrComprehensiveArgEnum.simple)\n",
    "    zip_data = search.by_state(state=state, returns=fetch_limit)\n",
    "    zip_list = []\n",
    "    for zip in zip_data:\n",
    "        zip_list.append({'zipcode':zip.zipcode, 'major_city':zip.major_city, 'population':zip.population})\n",
    "    return zip_list\n"
   ]
  },
  {
   "cell_type": "code",
   "execution_count": 16,
   "metadata": {},
   "outputs": [
    {
     "name": "stdout",
     "output_type": "stream",
     "text": [
      "{'zipcode': '32003', 'major_city': 'Fleming Island', 'population': 27126}\n",
      "{'zipcode': '32008', 'major_city': 'Branford', 'population': 5309}\n",
      "{'zipcode': '32009', 'major_city': 'Bryceville', 'population': 3325}\n",
      "{'zipcode': '32011', 'major_city': 'Callahan', 'population': 13854}\n",
      "{'zipcode': '32024', 'major_city': 'Lake City', 'population': 18733}\n"
     ]
    }
   ],
   "source": [
    "zips = get_zip_info_by_state(\"FL\", 5)\n",
    "for zip in zips:\n",
    "    print(zip)"
   ]
  },
  {
   "cell_type": "code",
   "execution_count": 17,
   "metadata": {},
   "outputs": [],
   "source": [
    "def get_all_zip_codes() -> list:\n",
    "    search = SearchEngine(simple_or_comprehensive=SearchEngine.SimpleOrComprehensiveArgEnum.simple)\n",
    "    result = search.by_population(lower=-1, upper=100000000, returns=-1, zipcode_type=None)\n",
    "    data = []\n",
    "    for item in result:\n",
    "        data.append({'zipcode': item.zipcode, 'state':item.state})\n",
    "    return data"
   ]
  },
  {
   "cell_type": "code",
   "execution_count": null,
   "metadata": {},
   "outputs": [],
   "source": [
    "zip_list = get_all_zip_codes()\n",
    "for zip in zip_list:\n",
    "    print(zip)"
   ]
  }
 ],
 "metadata": {
  "kernelspec": {
   "display_name": ".venv",
   "language": "python",
   "name": "python3"
  },
  "language_info": {
   "codemirror_mode": {
    "name": "ipython",
    "version": 3
   },
   "file_extension": ".py",
   "mimetype": "text/x-python",
   "name": "python",
   "nbconvert_exporter": "python",
   "pygments_lexer": "ipython3",
   "version": "3.10.13"
  }
 },
 "nbformat": 4,
 "nbformat_minor": 2
}
