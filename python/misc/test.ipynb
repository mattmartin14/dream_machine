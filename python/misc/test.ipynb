{
 "cells": [
  {
   "cell_type": "code",
   "execution_count": 15,
   "metadata": {},
   "outputs": [],
   "source": [
    "import glob\n",
    "import os"
   ]
  },
  {
   "cell_type": "code",
   "execution_count": 23,
   "metadata": {},
   "outputs": [],
   "source": [
    "file_list = glob.glob(pathname=os.path.expanduser(\"~/test_dummy_data/**/*.csv\"), recursive=True)"
   ]
  },
  {
   "cell_type": "code",
   "execution_count": null,
   "metadata": {},
   "outputs": [],
   "source": [
    "for file in file_list:\n",
    "    print(file)\n",
    "    print(os.path.basename(file))"
   ]
  },
  {
   "cell_type": "code",
   "execution_count": 5,
   "metadata": {},
   "outputs": [],
   "source": [
    "def is_even(val) -> (bool):\n",
    "    if val == 1:\n",
    "        return False\n",
    "    elif val == 0:\n",
    "        return True\n",
    "    else:\n",
    "        return is_even(val-2)"
   ]
  },
  {
   "cell_type": "code",
   "execution_count": 11,
   "metadata": {},
   "outputs": [
    {
     "data": {
      "text/plain": [
       "True"
      ]
     },
     "execution_count": 11,
     "metadata": {},
     "output_type": "execute_result"
    }
   ],
   "source": [
    "is_even(2090)"
   ]
  },
  {
   "cell_type": "code",
   "execution_count": 1,
   "metadata": {},
   "outputs": [],
   "source": [
    "def add_some_numbers(a: int, b: int) -> int:\n",
    "    return a+b"
   ]
  },
  {
   "cell_type": "code",
   "execution_count": 4,
   "metadata": {},
   "outputs": [
    {
     "data": {
      "text/plain": [
       "5"
      ]
     },
     "execution_count": 4,
     "metadata": {},
     "output_type": "execute_result"
    }
   ],
   "source": [
    "add_some_numbers(1,4)"
   ]
  },
  {
   "cell_type": "code",
   "execution_count": 5,
   "metadata": {},
   "outputs": [],
   "source": [
    "def concat_stuff(a: str, b: str) -> str:\n",
    "    return a+b"
   ]
  },
  {
   "cell_type": "code",
   "execution_count": 6,
   "metadata": {},
   "outputs": [
    {
     "data": {
      "text/plain": [
       "'ax'"
      ]
     },
     "execution_count": 6,
     "metadata": {},
     "output_type": "execute_result"
    }
   ],
   "source": [
    "concat_stuff('a','x')"
   ]
  },
  {
   "cell_type": "code",
   "execution_count": 11,
   "metadata": {},
   "outputs": [],
   "source": [
    "def merge_arrays(a1: list, a2: list) -> list:\n",
    "    return sorted(a1+a2,reverse=True)"
   ]
  },
  {
   "cell_type": "code",
   "execution_count": 13,
   "metadata": {},
   "outputs": [],
   "source": [
    "a1 = [1,2,4]\n",
    "a2 = [68,3,27]\n",
    "x = merge_arrays(a1,a2)"
   ]
  },
  {
   "cell_type": "code",
   "execution_count": 20,
   "metadata": {},
   "outputs": [
    {
     "name": "stdout",
     "output_type": "stream",
     "text": [
      "6\n",
      "3\n"
     ]
    }
   ],
   "source": [
    "y = len(x)\n",
    "print(y)\n",
    "halfed = int(y/2)\n",
    "print(halfed)"
   ]
  },
  {
   "cell_type": "code",
   "execution_count": 23,
   "metadata": {},
   "outputs": [
    {
     "name": "stdout",
     "output_type": "stream",
     "text": [
      "3\n",
      "[68, 27, 4, 3, 2, 1]\n"
     ]
    }
   ],
   "source": [
    "mid = x[halfed]\n",
    "print(mid)\n",
    "print(x)"
   ]
  },
  {
   "cell_type": "code",
   "execution_count": 25,
   "metadata": {},
   "outputs": [
    {
     "name": "stdout",
     "output_type": "stream",
     "text": [
      "17.5\n"
     ]
    }
   ],
   "source": [
    "avg = sum(x)/len(x)\n",
    "print(avg)"
   ]
  },
  {
   "cell_type": "code",
   "execution_count": 26,
   "metadata": {},
   "outputs": [
    {
     "name": "stdout",
     "output_type": "stream",
     "text": [
      "Hash Join Result:\n",
      "{'id': 1, 'name': 'Alice', 'age': 25}\n",
      "{'id': 2, 'name': 'Bob', 'age': 30}\n"
     ]
    }
   ],
   "source": [
    "# Sample data for demonstration\n",
    "data1 = [\n",
    "    {'id': 1, 'name': 'Alice'},\n",
    "    {'id': 2, 'name': 'Bob'},\n",
    "    {'id': 3, 'name': 'Charlie'},\n",
    "]\n",
    "\n",
    "data2 = [\n",
    "    {'id': 1, 'age': 25},\n",
    "    {'id': 2, 'age': 30},\n",
    "    {'id': 4, 'age': 28},\n",
    "]\n",
    "\n",
    "# Hash join function\n",
    "def hash_join(data1, data2, key):\n",
    "    hash_table = {}\n",
    "    result = []\n",
    "\n",
    "    # Hashing elements from data2\n",
    "    for entry in data2:\n",
    "        hash_key = entry[key]\n",
    "        if hash_key in hash_table:\n",
    "            hash_table[hash_key].append(entry)\n",
    "        else:\n",
    "            hash_table[hash_key] = [entry]\n",
    "\n",
    "    # Performing the join\n",
    "    for entry in data1:\n",
    "        hash_key = entry[key]\n",
    "        if hash_key in hash_table:\n",
    "            for matching_entry in hash_table[hash_key]:\n",
    "                joined_entry = {**entry, **matching_entry}  # Merge dictionaries\n",
    "                result.append(joined_entry)\n",
    "\n",
    "    return result\n",
    "\n",
    "# Perform hash join on 'id' key\n",
    "result = hash_join(data1, data2, 'id')\n",
    "print(\"Hash Join Result:\")\n",
    "for entry in result:\n",
    "    print(entry)\n"
   ]
  },
  {
   "cell_type": "code",
   "execution_count": 28,
   "metadata": {},
   "outputs": [
    {
     "name": "stdout",
     "output_type": "stream",
     "text": [
      "Hash key for 'hello': -1054097019485168222\n"
     ]
    }
   ],
   "source": [
    "hash_key_1 = hash(\"hello\")  # Generating hash key for the string \"hello\"\n",
    "print(\"Hash key for 'hello':\", hash_key_1)"
   ]
  },
  {
   "cell_type": "code",
   "execution_count": 27,
   "metadata": {},
   "outputs": [
    {
     "name": "stdout",
     "output_type": "stream",
     "text": [
      "1\n",
      "2\n",
      "4\n"
     ]
    }
   ],
   "source": [
    "data2 = [\n",
    "    {'id': 1, 'age': 25},\n",
    "    {'id': 2, 'age': 30},\n",
    "    {'id': 4, 'age': 28},\n",
    "]\n",
    "hash_table = {}\n",
    "result = []\n",
    "key = \"id\"\n",
    "\n",
    "for entry in data2:\n",
    "    hash_key = entry[key]\n",
    "    print(hash_key)\n",
    "    if hash_key in hash_table:\n",
    "        hash_table[hash_key].append(entry)\n",
    "    else:\n",
    "        hash_table[hash_key] = [entry]"
   ]
  },
  {
   "cell_type": "code",
   "execution_count": 33,
   "metadata": {},
   "outputs": [
    {
     "name": "stdout",
     "output_type": "stream",
     "text": [
      "1300716330296482199\n",
      "-8236793689237841509\n",
      "-2030856491210118132\n",
      "Hash Join Result:\n",
      "{'id': 1, 'name': 'Alice', 'age': 25}\n",
      "{'id': 2, 'name': 'Bob', 'age': 30}\n",
      "{'id': 4, 'name': 'Charlie', 'age': 28}\n"
     ]
    }
   ],
   "source": [
    "# Sample data for demonstration\n",
    "data1 = [\n",
    "    {'id': 1, 'name': 'Alice'},\n",
    "    {'id': 2, 'name': 'Bob'},\n",
    "    {'id': 3, 'name': 'Charlie'},\n",
    "]\n",
    "\n",
    "data2 = [\n",
    "    {'id': 1, 'age': 25, 'name': 'Alice'},\n",
    "    {'id': 2, 'age': 30, 'name': 'Bob'},\n",
    "    {'id': 4, 'age': 28, 'name': 'Charlie'},\n",
    "]\n",
    "\n",
    "# Perform hash join using hash keys generated from 'id' values\n",
    "hash_table = {}\n",
    "result = []\n",
    "\n",
    "# Create hash table using hashed 'id' values from data2\n",
    "for entry in data2:\n",
    "    hash_key = hash(entry['name'])\n",
    "    print(hash_key)\n",
    "    if hash_key in hash_table:\n",
    "        hash_table[hash_key].append(entry)\n",
    "    else:\n",
    "        hash_table[hash_key] = [entry]\n",
    "\n",
    "# Perform join using hashed 'id' values from data1\n",
    "for entry in data1:\n",
    "    hash_key = hash(entry['name'])\n",
    "    if hash_key in hash_table:\n",
    "        for matching_entry in hash_table[hash_key]:\n",
    "            joined_entry = {**entry, **matching_entry}  # Merge dictionaries\n",
    "            result.append(joined_entry)\n",
    "\n",
    "# Display hash join result\n",
    "print(\"Hash Join Result:\")\n",
    "for entry in result:\n",
    "    print(entry)\n"
   ]
  }
 ],
 "metadata": {
  "kernelspec": {
   "display_name": "Python 3",
   "language": "python",
   "name": "python3"
  },
  "language_info": {
   "codemirror_mode": {
    "name": "ipython",
    "version": 3
   },
   "file_extension": ".py",
   "mimetype": "text/x-python",
   "name": "python",
   "nbconvert_exporter": "python",
   "pygments_lexer": "ipython3",
   "version": "3.11.5"
  },
  "orig_nbformat": 4
 },
 "nbformat": 4,
 "nbformat_minor": 2
}
