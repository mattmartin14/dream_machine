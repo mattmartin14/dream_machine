{
 "cells": [
  {
   "cell_type": "code",
   "execution_count": 8,
   "metadata": {},
   "outputs": [
    {
     "name": "stdout",
     "output_type": "stream",
     "text": [
      "[1, 2, 3, 4, 5, 7]\n",
      "['apple', 'banana', 'kiwi', 'mango', 'orange', 'peach', 'pear']\n"
     ]
    }
   ],
   "source": [
    "def bub_sort(arr: list) -> list:\n",
    "    n = len(arr)\n",
    "\n",
    "    for i in range(n):\n",
    "        for j in range(0, n-i-1):\n",
    "            if arr[j] > arr[j+1]:\n",
    "                #swap them\n",
    "                arr[j+1], arr[j] = arr[j], arr[j+1]\n",
    "    return arr\n",
    "\n",
    "\n",
    "arr_num = [5,3,2,1,7,4]\n",
    "arr_txt = [\"pear\",\"kiwi\",\"orange\",\"mango\",\"banana\",\"peach\",\"apple\"]\n",
    "arr_num_sorted = bub_sort(arr_num)\n",
    "arr_txt_sorted = bub_sort(arr_txt)\n",
    "print(arr_num_sorted)\n",
    "print(arr_txt_sorted)"
   ]
  },
  {
   "cell_type": "code",
   "execution_count": 2,
   "metadata": {},
   "outputs": [
    {
     "name": "stdout",
     "output_type": "stream",
     "text": [
      "[7, 5, 4, 3, 2, 1]\n",
      "['pear', 'peach', 'orange', 'mango', 'kiwi', 'banana', 'apple']\n"
     ]
    }
   ],
   "source": [
    "def bub_sort_desc(arr: list) -> list:\n",
    "    n = len(arr)\n",
    "\n",
    "    for i in range(n):\n",
    "        for j in range(0, n-i-1):\n",
    "            if arr[j] < arr[j+1]:\n",
    "                #swap them\n",
    "                arr[j+1], arr[j] = arr[j], arr[j+1]\n",
    "    return arr\n",
    "\n",
    "\n",
    "arr_num = [5,3,2,1,7,4]\n",
    "arr_txt = [\"pear\",\"kiwi\",\"orange\",\"mango\",\"banana\",\"peach\",\"apple\"]\n",
    "arr_num_sorted = bub_sort_desc(arr_num)\n",
    "arr_txt_sorted = bub_sort_desc(arr_txt)\n",
    "print(arr_num_sorted)\n",
    "print(arr_txt_sorted)"
   ]
  }
 ],
 "metadata": {
  "kernelspec": {
   "display_name": "Python 3",
   "language": "python",
   "name": "python3"
  },
  "language_info": {
   "codemirror_mode": {
    "name": "ipython",
    "version": 3
   },
   "file_extension": ".py",
   "mimetype": "text/x-python",
   "name": "python",
   "nbconvert_exporter": "python",
   "pygments_lexer": "ipython3",
   "version": "3.11.3"
  }
 },
 "nbformat": 4,
 "nbformat_minor": 2
}
