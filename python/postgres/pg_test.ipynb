{
 "cells": [
  {
   "cell_type": "code",
   "execution_count": null,
   "metadata": {},
   "outputs": [],
   "source": [
    "#%pip install sqlalchemy\n",
    "#%pip install psycopg2-binary\n",
    "#%pip install prettytable\n",
    "\n",
    "## next steps, work on dbeaver with this stuff"
   ]
  },
  {
   "cell_type": "code",
   "execution_count": 11,
   "metadata": {},
   "outputs": [],
   "source": [
    "def get_cn_str():\n",
    "    import os\n",
    "\n",
    "    file_path = os.path.expanduser('~/misc/pgcn.txt')\n",
    "    with open(file_path, 'r') as file:\n",
    "        return file.read()\n"
   ]
  },
  {
   "cell_type": "code",
   "execution_count": null,
   "metadata": {},
   "outputs": [],
   "source": [
    "from sqlalchemy import create_engine, text\n",
    "from prettytable import PrettyTable\n",
    "\n",
    "engine = create_engine(get_cn_str())\n",
    "\n",
    "sql = text(\"select * from test_sch1.ppl\")\n",
    "\n",
    "# Execute the SQL statement\n",
    "with engine.connect() as connection:\n",
    "    result = connection.execute(sql)\n",
    "    rows = result.fetchall()\n",
    "\n",
    "# Get the column names\n",
    "columns = result.keys()\n",
    "\n",
    "# Create a PrettyTable instance and set the field names (headers)\n",
    "table = PrettyTable(columns)\n",
    "\n",
    "# Add the rows to the table\n",
    "for row in rows:\n",
    "    table.add_row(row)\n",
    "\n",
    "# Set the style of the table (optional)\n",
    "table.border = True\n",
    "table.header = True\n",
    "\n",
    "# Print the table\n",
    "print(table)\n",
    "\n"
   ]
  }
 ],
 "metadata": {
  "kernelspec": {
   "display_name": "Python 3",
   "language": "python",
   "name": "python3"
  },
  "language_info": {
   "codemirror_mode": {
    "name": "ipython",
    "version": 3
   },
   "file_extension": ".py",
   "mimetype": "text/x-python",
   "name": "python",
   "nbconvert_exporter": "python",
   "pygments_lexer": "ipython3",
   "version": "3.11.5"
  },
  "orig_nbformat": 4
 },
 "nbformat": 4,
 "nbformat_minor": 2
}
