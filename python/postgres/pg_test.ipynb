{
 "cells": [
  {
   "cell_type": "code",
   "execution_count": null,
   "metadata": {},
   "outputs": [],
   "source": [
    "#%pip install sqlalchemy\n",
    "#%pip install psycopg2-binary\n",
    "#%pip install prettytable"
   ]
  },
  {
   "cell_type": "code",
   "execution_count": 1,
   "metadata": {},
   "outputs": [],
   "source": [
    "def get_cn_str():\n",
    "    import os\n",
    "\n",
    "    file_path = os.path.expanduser('~/misc/pgcn1.txt')\n",
    "    with open(file_path, 'r') as file:\n",
    "        return file.read()\n"
   ]
  },
  {
   "cell_type": "code",
   "execution_count": null,
   "metadata": {},
   "outputs": [],
   "source": [
    "from sqlalchemy import create_engine, text\n",
    "from prettytable import PrettyTable\n",
    "\n",
    "engine = create_engine(\"postgresql://localhost/testdb1\")\n",
    "\n",
    "sql = text(\"select current_user\")\n",
    "\n",
    "# Execute the SQL statement\n",
    "with engine.connect() as connection:\n",
    "    result = connection.execute(sql)\n",
    "    \n",
    "    try:\n",
    "        rows = result.fetchall()\n",
    "    except:\n",
    "        rows = None\n",
    "\n",
    "if rows:\n",
    "\n",
    "    # Get the column names\n",
    "    columns = result.keys()\n",
    "\n",
    "    # Create a PrettyTable instance and set the field names (headers)\n",
    "    table = PrettyTable(columns)\n",
    "\n",
    "    # Add the rows to the table\n",
    "    for row in rows:\n",
    "        table.add_row(row)\n",
    "\n",
    "    # Set the style of the table (optional)\n",
    "    table.border = True\n",
    "    table.header = True\n",
    "\n",
    "    # Print the table\n",
    "    print(table)"
   ]
  },
  {
   "cell_type": "code",
   "execution_count": 31,
   "metadata": {},
   "outputs": [],
   "source": [
    "from sqlalchemy import create_engine\n",
    "engine = create_engine(\"postgresql://localhost/testdb1\")\n",
    "sql = text(\"\"\"create table test_sch1.authors4 (author_id int, author_name varchar(250))\"\"\")\n",
    "\n",
    "with engine.connect() as cn:\n",
    "    cn.execute(sql)\n",
    "    cn.commit()"
   ]
  },
  {
   "cell_type": "code",
   "execution_count": null,
   "metadata": {},
   "outputs": [],
   "source": [
    "import psycopg2\n",
    "\n",
    "sql = \"create table test_sch1.authors7 (author_id int, author_name varchar(250))\"\n",
    "\n",
    "with psycopg2.connect(host=\"localhost\", database=\"testdb1\") as cn:\n",
    "    with cn.cursor() as cur:\n",
    "        cur.execute(sql)\n",
    "        cn.commit()"
   ]
  }
 ],
 "metadata": {
  "kernelspec": {
   "display_name": "Python 3",
   "language": "python",
   "name": "python3"
  },
  "language_info": {
   "codemirror_mode": {
    "name": "ipython",
    "version": 3
   },
   "file_extension": ".py",
   "mimetype": "text/x-python",
   "name": "python",
   "nbconvert_exporter": "python",
   "pygments_lexer": "ipython3",
   "version": "3.11.5"
  },
  "orig_nbformat": 4
 },
 "nbformat": 4,
 "nbformat_minor": 2
}
