{
 "cells": [
  {
   "cell_type": "code",
   "execution_count": 11,
   "metadata": {},
   "outputs": [
    {
     "name": "stdout",
     "output_type": "stream",
     "text": [
      "{'categories': ['movie'], 'created_at': '2020-01-05 13:42:19.576875', 'icon_url': 'https://assets.chucknorris.host/img/avatar/chuck-norris.png', 'id': 'h6t1xcbws6m8k_pduoznwg', 'updated_at': '2020-01-05 13:42:19.576875', 'url': 'https://api.chucknorris.io/jokes/h6t1xcbws6m8k_pduoznwg', 'value': 'MacGyver can build an airplane out of gum and paper clips, but Chuck Norris can roundhouse-kick his head through a wall and take it.'}\n"
     ]
    }
   ],
   "source": [
    "\"\"\"\n",
    "\n",
    "This demonstrates pinging an API, cleaning the response, then loading to GBQ\n",
    "\n",
    "\"\"\"\n",
    "\n",
    "import requests\n",
    "import json\n",
    "\n",
    "url = \"https://api.chucknorris.io/jokes/random\"\n",
    "\n",
    "resp = json.loads(requests.get(url).content)\n",
    "\n",
    "print(resp)\n"
   ]
  },
  {
   "cell_type": "code",
   "execution_count": 12,
   "metadata": {},
   "outputs": [
    {
     "name": "stdout",
     "output_type": "stream",
     "text": [
      "{'created_at': '2020-01-05 13:42:19.576875', 'icon_url': 'https://assets.chucknorris.host/img/avatar/chuck-norris.png', 'id': 'h6t1xcbws6m8k_pduoznwg', 'updated_at': '2020-01-05 13:42:19.576875', 'url': 'https://api.chucknorris.io/jokes/h6t1xcbws6m8k_pduoznwg', 'joke': 'MacGyver can build an airplane out of gum and paper clips, but Chuck Norris can roundhouse-kick his head through a wall and take it.'}\n"
     ]
    }
   ],
   "source": [
    "\n",
    "#remove unneeded stuff here\n",
    "resp.pop(\"categories\")\n",
    "\n",
    "#rename the value field to \"joke\"\n",
    "resp['joke'] = resp.pop('value')\n",
    "\n",
    "print(resp)"
   ]
  },
  {
   "cell_type": "code",
   "execution_count": 10,
   "metadata": {},
   "outputs": [
    {
     "name": "stdout",
     "output_type": "stream",
     "text": [
      "{'created_at': '2020-01-05 13:42:25.628594', 'icon_url': 'https://assets.chucknorris.host/img/avatar/chuck-norris.png', 'id': 'KCU9OG3ERpC1nuIvOVxLKQ', 'updated_at': '2020-01-05 13:42:25.628594', 'url': 'https://api.chucknorris.io/jokes/KCU9OG3ERpC1nuIvOVxLKQ', 'value': 'Chuck Norris challenged a staring contest with Weegee then Weegee turned into Chuck Norris'}\n"
     ]
    }
   ],
   "source": [
    "print(resp)\n",
    "\n",
    "project_id = os.getenv(\"GBQ_PROJECT_ID\")\n",
    "table_id = \"{0}.ds1_test.orders_test\".format(project_id)"
   ]
  },
  {
   "cell_type": "code",
   "execution_count": 13,
   "metadata": {},
   "outputs": [],
   "source": [
    "import os\n",
    "project_id = os.getenv(\"GBQ_PROJECT_ID\")\n",
    "table_id = \"{0}.api_test.chuck\".format(project_id)\n"
   ]
  },
  {
   "cell_type": "code",
   "execution_count": 14,
   "metadata": {},
   "outputs": [],
   "source": [
    "from google.cloud import bigquery\n",
    "client = bigquery.Client(project=project_id)"
   ]
  },
  {
   "cell_type": "code",
   "execution_count": 15,
   "metadata": {},
   "outputs": [
    {
     "name": "stdout",
     "output_type": "stream",
     "text": [
      "orders loaded to target\n"
     ]
    }
   ],
   "source": [
    "errs = client.insert_rows_json(table_id, [resp])\n",
    "if errs != []:\n",
    "    print('errors while attempting insert: {0}'.format(errs))\n",
    "else:\n",
    "    print('joke loaded to target')"
   ]
  }
 ],
 "metadata": {
  "kernelspec": {
   "display_name": "Python 3",
   "language": "python",
   "name": "python3"
  },
  "language_info": {
   "codemirror_mode": {
    "name": "ipython",
    "version": 3
   },
   "file_extension": ".py",
   "mimetype": "text/x-python",
   "name": "python",
   "nbconvert_exporter": "python",
   "pygments_lexer": "ipython3",
   "version": "3.11.5"
  }
 },
 "nbformat": 4,
 "nbformat_minor": 2
}
