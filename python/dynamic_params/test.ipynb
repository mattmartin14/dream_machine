{
 "cells": [
  {
   "cell_type": "code",
   "execution_count": 35,
   "metadata": {},
   "outputs": [
    {
     "name": "stdout",
     "output_type": "stream",
     "text": [
      "2\n",
      "4\n"
     ]
    },
    {
     "data": {
      "text/plain": [
       "6"
      ]
     },
     "execution_count": 35,
     "metadata": {},
     "output_type": "execute_result"
    }
   ],
   "source": [
    "def add_stuff(*args, **kwargs):\n",
    "\n",
    "    params_list = ['y','z','b']\n",
    "    sum=0\n",
    "    for arg in args:\n",
    "        if isinstance(arg, int):\n",
    "            sum+=arg\n",
    "            print(arg)\n",
    "\n",
    "    for key, value in kwargs.items():\n",
    "\n",
    "        if key not in params_list:\n",
    "            print('key \"{0}\" is not a valid parameter'.format(key))\n",
    "\n",
    "        print(key)\n",
    "        print(value)\n",
    "\n",
    "    y = kwargs.get('y',0)\n",
    "    z = kwargs.get('z',0)\n",
    "    a = kwargs.get('a',0)\n",
    "    b = kwargs.get('b',0)\n",
    "\n",
    "    return y+z+b+sum\n",
    "\n",
    "add_stuff(2,'3',4)"
   ]
  },
  {
   "cell_type": "code",
   "execution_count": 37,
   "metadata": {},
   "outputs": [
    {
     "name": "stdout",
     "output_type": "stream",
     "text": [
      "1\n",
      "2\n",
      "3\n",
      "y\n",
      "2\n",
      "z\n",
      "3\n",
      "key \"a\" is not a valid parameter\n",
      "a\n",
      "4\n",
      "b\n",
      "7\n"
     ]
    },
    {
     "data": {
      "text/plain": [
       "18"
      ]
     },
     "execution_count": 37,
     "metadata": {},
     "output_type": "execute_result"
    }
   ],
   "source": [
    "add_stuff(1,2,3,y=2,z=3,a=4,b=7)"
   ]
  },
  {
   "cell_type": "code",
   "execution_count": 36,
   "metadata": {},
   "outputs": [
    {
     "name": "stdout",
     "output_type": "stream",
     "text": [
      "y\n",
      "2\n",
      "z\n",
      "3\n",
      "key \"a\" is not a valid parameter\n",
      "a\n",
      "4\n",
      "b\n",
      "7\n"
     ]
    },
    {
     "data": {
      "text/plain": [
       "12"
      ]
     },
     "execution_count": 36,
     "metadata": {},
     "output_type": "execute_result"
    }
   ],
   "source": [
    "add_stuff(y=2,z=3,a=4,b=7)\n"
   ]
  }
 ],
 "metadata": {
  "kernelspec": {
   "display_name": "Python 3",
   "language": "python",
   "name": "python3"
  },
  "language_info": {
   "codemirror_mode": {
    "name": "ipython",
    "version": 3
   },
   "file_extension": ".py",
   "mimetype": "text/x-python",
   "name": "python",
   "nbconvert_exporter": "python",
   "pygments_lexer": "ipython3",
   "version": "3.11.5"
  },
  "orig_nbformat": 4
 },
 "nbformat": 4,
 "nbformat_minor": 2
}
