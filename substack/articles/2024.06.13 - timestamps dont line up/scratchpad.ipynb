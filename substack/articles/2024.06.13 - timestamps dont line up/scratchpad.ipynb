{
 "cells": [
  {
   "cell_type": "code",
   "execution_count": 8,
   "metadata": {},
   "outputs": [],
   "source": [
    "import duckdb"
   ]
  },
  {
   "cell_type": "code",
   "execution_count": 15,
   "metadata": {},
   "outputs": [],
   "source": [
    "cn = duckdb.connect(\"order_repo.db\")"
   ]
  },
  {
   "cell_type": "code",
   "execution_count": 16,
   "metadata": {},
   "outputs": [
    {
     "name": "stdout",
     "output_type": "stream",
     "text": [
      "┌──────────┬────────────┬────────────┬─────────────────────┐\n",
      "│ order_id │ event_type │ event_desc │      event_ts       │\n",
      "│  int32   │   int32    │  varchar   │      timestamp      │\n",
      "├──────────┼────────────┼────────────┼─────────────────────┤\n",
      "│        3 │         99 │ exception  │ 2024-01-06 08:12:02 │\n",
      "│        3 │         99 │ exception  │ 2024-01-06 10:08:11 │\n",
      "└──────────┴────────────┴────────────┴─────────────────────┘\n",
      "\n"
     ]
    }
   ],
   "source": [
    "sql = \"\"\"\n",
    "    select *\n",
    "    from order_event_dtl\n",
    "    where order_id = 3\n",
    "        and event_type = 99\n",
    "\"\"\"\n",
    "cn.sql(sql).show()"
   ]
  },
  {
   "cell_type": "code",
   "execution_count": 17,
   "metadata": {},
   "outputs": [
    {
     "name": "stdout",
     "output_type": "stream",
     "text": [
      "┌──────────┬─────────────────────┬───────────────────────────────┐\n",
      "│ order_id │      except_ts      │            ex_desc            │\n",
      "│  int32   │      timestamp      │            varchar            │\n",
      "├──────────┼─────────────────────┼───────────────────────────────┤\n",
      "│        3 │ 2024-01-06 08:15:05 │ order lost - creating new one │\n",
      "│        3 │ 2024-01-06 10:10:16 │ package fell off conveyor     │\n",
      "└──────────┴─────────────────────┴───────────────────────────────┘\n",
      "\n"
     ]
    }
   ],
   "source": [
    "sql = \"\"\"\n",
    "    select *\n",
    "    from order_event_ex\n",
    "    where order_id = 3\n",
    "\"\"\"\n",
    "cn.sql(sql).show()"
   ]
  },
  {
   "cell_type": "code",
   "execution_count": 29,
   "metadata": {},
   "outputs": [
    {
     "name": "stdout",
     "output_type": "stream",
     "text": [
      "┌──────────┬──────────┬─────────────────────┬─────────────────────┬───────────────────────────────┐\n",
      "│ order_id │ order_id │      event_ts       │      except_ts      │            ex_desc            │\n",
      "│  int32   │  int32   │      timestamp      │      timestamp      │            varchar            │\n",
      "├──────────┼──────────┼─────────────────────┼─────────────────────┼───────────────────────────────┤\n",
      "│        3 │        3 │ 2024-01-06 08:12:02 │ 2024-01-06 08:15:05 │ order lost - creating new one │\n",
      "│        3 │        3 │ 2024-01-06 10:08:11 │ 2024-01-06 10:10:16 │ package fell off conveyor     │\n",
      "│        1 │     NULL │ NULL                │ NULL                │ NULL                          │\n",
      "│        1 │     NULL │ NULL                │ NULL                │ NULL                          │\n",
      "│        1 │     NULL │ NULL                │ NULL                │ NULL                          │\n",
      "│        1 │     NULL │ NULL                │ NULL                │ NULL                          │\n",
      "│        1 │     NULL │ NULL                │ NULL                │ NULL                          │\n",
      "│        1 │     NULL │ NULL                │ NULL                │ NULL                          │\n",
      "│        1 │     NULL │ NULL                │ NULL                │ NULL                          │\n",
      "│        2 │     NULL │ NULL                │ NULL                │ NULL                          │\n",
      "│        2 │     NULL │ NULL                │ NULL                │ NULL                          │\n",
      "│        2 │     NULL │ NULL                │ NULL                │ NULL                          │\n",
      "│        2 │     NULL │ NULL                │ NULL                │ NULL                          │\n",
      "│        2 │     NULL │ NULL                │ NULL                │ NULL                          │\n",
      "│        3 │     NULL │ NULL                │ NULL                │ NULL                          │\n",
      "│        3 │     NULL │ NULL                │ NULL                │ NULL                          │\n",
      "│        3 │     NULL │ NULL                │ NULL                │ NULL                          │\n",
      "│        3 │     NULL │ NULL                │ NULL                │ NULL                          │\n",
      "│        3 │     NULL │ NULL                │ NULL                │ NULL                          │\n",
      "│        3 │     NULL │ NULL                │ NULL                │ NULL                          │\n",
      "│        3 │     NULL │ NULL                │ NULL                │ NULL                          │\n",
      "│        3 │     NULL │ NULL                │ NULL                │ NULL                          │\n",
      "│        3 │     NULL │ NULL                │ NULL                │ NULL                          │\n",
      "├──────────┴──────────┴─────────────────────┴─────────────────────┴───────────────────────────────┤\n",
      "│ 23 rows                                                                               5 columns │\n",
      "└─────────────────────────────────────────────────────────────────────────────────────────────────┘\n",
      "\n"
     ]
    }
   ],
   "source": [
    "\"\"\"\n",
    "to do:\n",
    "    harder this query\n",
    "    explain the load shell script and chmod stuff\n",
    "    publish\n",
    "\"\"\"\n",
    "\n",
    "sql = \"\"\"\n",
    "    with exd as (\n",
    "        select dtl.order_id, dtl.event_ts, ex.except_ts, ex.ex_desc\n",
    "        from order_event_dtl as dtl\n",
    "            inner join order_event_ex as ex\n",
    "                on dtl.order_id = ex.order_id\n",
    "        where dtl.order_id = 3\n",
    "            and dtl.event_type = 99\n",
    "            and datediff('minute', dtl.event_ts, ex.except_ts) between 0 and 5\n",
    "    )\n",
    "\n",
    "    select hdr.order_id\n",
    "        ,exd.*\n",
    "    from order_hdr as hdr\n",
    "        inner join order_event_dtl as ev\n",
    "            on hdr.order_id = ev.order_id\n",
    "        left join exd \n",
    "            on ev.order_id = exd.order_id and ev.event_ts = exd.event_ts\n",
    "\n",
    "\"\"\"\n",
    "cn.sql(sql).show()"
   ]
  },
  {
   "cell_type": "code",
   "execution_count": 6,
   "metadata": {},
   "outputs": [
    {
     "name": "stdout",
     "output_type": "stream",
     "text": [
      "┌──────────┬─────────────────────┬─────────────────────────┬────────────┬─────────┐\n",
      "│ order_id │      event_ts       │       event_desc        │ event_type │ ts_diff │\n",
      "│  int32   │      timestamp      │         varchar         │   int32    │  int64  │\n",
      "├──────────┼─────────────────────┼─────────────────────────┼────────────┼─────────┤\n",
      "│        1 │ 2024-01-01 08:05:32 │ order_create            │          1 │       9 │\n",
      "│        1 │ 2024-01-01 09:13:44 │ order_pack              │          2 │    4101 │\n",
      "│        1 │ 2024-01-01 09:15:12 │ conveyor_load           │          3 │    4189 │\n",
      "│        1 │ 2024-01-01 09:35:03 │ exception_missing_label │         99 │    5380 │\n",
      "│        1 │ 2024-01-01 18:34:16 │ order_shipped           │          4 │   37733 │\n",
      "│        1 │ 2024-01-03 07:09:33 │ order_delivered         │          5 │  169450 │\n",
      "└──────────┴─────────────────────┴─────────────────────────┴────────────┴─────────┘\n",
      "\n"
     ]
    }
   ],
   "source": [
    "sql = \"\"\"\n",
    "    SELECT h.order_id, ev.event_ts, ev.event_desc, ev.event_type\n",
    "        ,datediff('second', h.crt_ts, ev.event_ts) as ts_diff\n",
    "    FROM order_hdr as h\n",
    "        inner join order_event as ev\n",
    "            on h.order_id = ev.order_id\n",
    "    where h.order_id = 1\n",
    "    qualify 1 = rank() over(partition by ev.order_id, ev.event_type order by abs(datediff('second', h.crt_ts, ev.event_ts)))\n",
    "    order by event_ts\n",
    "\"\"\"\n",
    "cn.sql(sql).show()"
   ]
  },
  {
   "cell_type": "code",
   "execution_count": 14,
   "metadata": {},
   "outputs": [],
   "source": [
    "cn.close()"
   ]
  }
 ],
 "metadata": {
  "kernelspec": {
   "display_name": ".venv",
   "language": "python",
   "name": "python3"
  },
  "language_info": {
   "codemirror_mode": {
    "name": "ipython",
    "version": 3
   },
   "file_extension": ".py",
   "mimetype": "text/x-python",
   "name": "python",
   "nbconvert_exporter": "python",
   "pygments_lexer": "ipython3",
   "version": "3.12.3"
  }
 },
 "nbformat": 4,
 "nbformat_minor": 2
}
