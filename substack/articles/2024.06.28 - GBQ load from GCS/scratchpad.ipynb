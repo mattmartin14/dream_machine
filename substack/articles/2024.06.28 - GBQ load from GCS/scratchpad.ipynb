{
 "cells": [
  {
   "cell_type": "code",
   "execution_count": 3,
   "metadata": {},
   "outputs": [],
   "source": [
    "import os\n",
    "from google.cloud import bigquery, storage"
   ]
  },
  {
   "cell_type": "code",
   "execution_count": 4,
   "metadata": {},
   "outputs": [],
   "source": [
    "project_id = os.getenv(\"GBQ_PROJECT_ID\")\n",
    "dataset_id = \"test_ds\"\n",
    "table_id = \"test_tbl\"\n",
    "bucket_name = os.getenv(\"GCS_BUCKET\")\n",
    "gcs_folder = \"test_data\""
   ]
  },
  {
   "cell_type": "code",
   "execution_count": null,
   "metadata": {},
   "outputs": [],
   "source": [
    "bq_client = bigquery.Client()\n",
    "gcs_client = storage.Client()"
   ]
  },
  {
   "cell_type": "code",
   "execution_count": 9,
   "metadata": {},
   "outputs": [
    {
     "name": "stdout",
     "output_type": "stream",
     "text": [
      "Loading test_data/data1.csv to BQ table test_tbl\n",
      "Loading test_data/data2.csv to BQ table test_tbl\n",
      "Loading test_data/data3.csv to BQ table test_tbl\n",
      "Loading test_data/data4.csv to BQ table test_tbl\n",
      "Loading test_data/data5.csv to BQ table test_tbl\n"
     ]
    }
   ],
   "source": [
    "bucket = gcs_client.bucket(bucket_name)\n",
    "blobs = bucket.list_blobs(prefix=gcs_folder)\n",
    "for blob in blobs:\n",
    "    if blob.name.endswith('.csv'):\n",
    "        uri = f\"gs://{bucket_name}/{blob.name}\"\n",
    "        print(f\"Loading {blob.name} to BQ table {table_id}\")\n",
    "\n",
    "        job_config = bigquery.LoadJobConfig(\n",
    "            source_format=bigquery.SourceFormat.CSV,\n",
    "            skip_leading_rows=1,\n",
    "            autodetect=True,\n",
    "            write_disposition=bigquery.WriteDisposition.WRITE_APPEND,\n",
    "            create_disposition = bigquery.CreateDisposition.CREATE_IF_NEEDED\n",
    "        )\n",
    "\n",
    "        load_job = bq_client.load_table_from_uri(\n",
    "            uri,\n",
    "            bq_client.dataset(dataset_id).table(table_id),\n",
    "            job_config=job_config\n",
    "        )\n",
    "\n",
    "        load_job.result()"
   ]
  },
  {
   "cell_type": "code",
   "execution_count": null,
   "metadata": {},
   "outputs": [],
   "source": []
  }
 ],
 "metadata": {
  "kernelspec": {
   "display_name": "Python 3",
   "language": "python",
   "name": "python3"
  },
  "language_info": {
   "codemirror_mode": {
    "name": "ipython",
    "version": 3
   },
   "file_extension": ".py",
   "mimetype": "text/x-python",
   "name": "python",
   "nbconvert_exporter": "python",
   "pygments_lexer": "ipython3",
   "version": "3.12.3"
  }
 },
 "nbformat": 4,
 "nbformat_minor": 2
}
