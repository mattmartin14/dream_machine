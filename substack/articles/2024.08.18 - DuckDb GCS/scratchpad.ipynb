{
 "cells": [
  {
   "cell_type": "code",
   "execution_count": null,
   "metadata": {},
   "outputs": [],
   "source": [
    "#%pip install gcsfs ffspec"
   ]
  },
  {
   "cell_type": "code",
   "execution_count": 1,
   "metadata": {},
   "outputs": [],
   "source": [
    "import duckdb, os\n",
    "from fsspec import filesystem"
   ]
  },
  {
   "cell_type": "code",
   "execution_count": 3,
   "metadata": {},
   "outputs": [
    {
     "name": "stdout",
     "output_type": "stream",
     "text": [
      "┌────────────┬─────────────┬─────────────────────┬──────────────┬───────────┬──────────────────────────────────────┐\n",
      "│  Latitude  │  Longitude  │        Email        │ PhoneNumber  │ FirstName │                TxnKey                │\n",
      "│   double   │   double    │       varchar       │   varchar    │  varchar  │               varchar                │\n",
      "├────────────┼─────────────┼─────────────────────┼──────────────┼───────────┼──────────────────────────────────────┤\n",
      "│  63.305305 │ -154.303574 │ WMUVtRc@RfjZciH.com │ 410-815-2637 │ Bertrand  │ 6b691a43-73d9-4784-9397-5a8317418b0f │\n",
      "│ -48.165188 │  -37.616329 │ MxnNAYJ@ExcgPvo.ru  │ 927-108-4615 │ Ivah      │ c76a1661-006e-4824-b8aa-5c6cdb5b888b │\n",
      "│ -10.703768 │   80.755714 │ esLuYnd@gnCGTpb.ru  │ 794-536-1081 │ Milo      │ 438be42c-17a8-4cbd-b099-3819c6c95aa6 │\n",
      "│  -86.62632 │ -160.920425 │ nbTewVT@BeugcbE.net │ 326-711-0895 │ Serenity  │ babd20ec-0e09-4c24-8cd5-5c4ce92b846a │\n",
      "│ -86.868187 │  -13.870378 │ lDvdkXc@DicIGal.ru  │ 871-069-3124 │ Nicole    │ fe10e21b-758e-49ed-bb52-d82babf5a4ef │\n",
      "└────────────┴─────────────┴─────────────────────┴──────────────┴───────────┴──────────────────────────────────────┘\n",
      "\n"
     ]
    }
   ],
   "source": [
    "cn = duckdb.connect()\n",
    "cn.register_filesystem(filesystem('gcs'))\n",
    "bucket = os.getenv('GCS_BUCKET')\n",
    "gs_path = f\"gs://{bucket}/test_data/data*.csv\"\n",
    "sql = f\"select latitude, longitude, email, phonenumber, firstname, txnkey from read_csv_auto('{gs_path}') limit 5\"\n",
    "cn.sql(sql).show(max_width = 1000)"
   ]
  },
  {
   "cell_type": "code",
   "execution_count": 11,
   "metadata": {},
   "outputs": [
    {
     "name": "stdout",
     "output_type": "stream",
     "text": [
      "┌────────────┬─────────┬────────────────────┬───────────┐\n",
      "│   rpt_dt   │ row_cnt │   tot_net_worth    │ fName_cnt │\n",
      "│    date    │  int64  │       double       │   int64   │\n",
      "├────────────┼─────────┼────────────────────┼───────────┤\n",
      "│ 2018-05-23 │       7 │          218364.03 │         7 │\n",
      "│ 1980-04-29 │       8 │ 16767798.470000003 │         8 │\n",
      "│ 1988-10-28 │       8 │  7925525.859999999 │         8 │\n",
      "│ 1982-01-28 │       6 │ 1612222.1700000002 │         6 │\n",
      "│ 1972-05-19 │      10 │         1576071.71 │        10 │\n",
      "└────────────┴─────────┴────────────────────┴───────────┘\n",
      "\n"
     ]
    }
   ],
   "source": [
    "b_sql = f\"\"\"\n",
    "select Date as rpt_dt \n",
    "    ,count(*) as row_cnt\n",
    "    ,sum(NetWorth) as tot_net_worth\n",
    "    ,count(distinct firstName) as fName_cnt\n",
    "from read_csv_auto('{gs_path}')\n",
    "group by all\n",
    "limit 5\n",
    "\"\"\"\n",
    "cn.sql(b_sql).show()"
   ]
  },
  {
   "cell_type": "code",
   "execution_count": 12,
   "metadata": {},
   "outputs": [
    {
     "data": {
      "text/plain": [
       "<duckdb.duckdb.DuckDBPyConnection at 0x108583530>"
      ]
     },
     "execution_count": 12,
     "metadata": {},
     "output_type": "execute_result"
    }
   ],
   "source": [
    "b_sql = f\"\"\"\n",
    "select Date as rpt_dt \n",
    "    ,count(*) as row_cnt\n",
    "    ,sum(NetWorth) as tot_net_worth\n",
    "    ,count(distinct firstName) as fName_cnt\n",
    "from read_csv_auto('{gs_path}')\n",
    "group by all\n",
    "\"\"\"\n",
    "\n",
    "gs_write_path = f\"gs://{bucket}/test_data/data_tsfm.parquet\"\n",
    "sql = f\"\"\"\n",
    "COPY ({b_sql}) to '{gs_write_path}' (FORMAT PARQUET)\n",
    "\"\"\"\n",
    "\n",
    "cn.execute(sql)"
   ]
  },
  {
   "cell_type": "code",
   "execution_count": 4,
   "metadata": {},
   "outputs": [
    {
     "name": "stdout",
     "output_type": "stream",
     "text": [
      "┌────────────┬─────────┬────────────────────┬───────────┐\n",
      "│   rpt_dt   │ row_cnt │   tot_net_worth    │ fName_cnt │\n",
      "│    date    │  int64  │       double       │   int64   │\n",
      "├────────────┼─────────┼────────────────────┼───────────┤\n",
      "│ 2015-04-01 │       6 │           892983.0 │         6 │\n",
      "│ 1988-02-21 │      11 │           81258.47 │        11 │\n",
      "│ 1978-03-13 │       8 │ 1488752.5000000002 │         8 │\n",
      "│ 1997-10-25 │       6 │           11133.06 │         6 │\n",
      "│ 1972-06-25 │       6 │          533678.01 │         6 │\n",
      "│ 1985-02-15 │      12 │  7248005.140000001 │        12 │\n",
      "│ 1979-10-14 │       5 │         1318613.63 │         5 │\n",
      "│ 1982-02-28 │       5 │ 2319481.6800000006 │         5 │\n",
      "│ 1995-05-02 │       9 │         4321988.57 │         9 │\n",
      "│ 2000-06-14 │       8 │  6842205.899999999 │         8 │\n",
      "│     ·      │       · │              ·     │         · │\n",
      "│     ·      │       · │              ·     │         · │\n",
      "│     ·      │       · │              ·     │         · │\n",
      "│ 2000-07-27 │       5 │          127629.64 │         5 │\n",
      "│ 1987-12-24 │       3 │         2726097.44 │         3 │\n",
      "│ 2008-07-14 │       5 │  5887390.029999999 │         5 │\n",
      "│ 2009-11-06 │      11 │  6338512.299999999 │        11 │\n",
      "│ 1988-05-28 │       9 │  971432.1599999999 │         9 │\n",
      "│ 1971-11-16 │       4 │ 1627826.9100000001 │         4 │\n",
      "│ 1991-10-20 │       3 │         3826269.02 │         3 │\n",
      "│ 2023-08-15 │       4 │ 11441.189999999999 │         4 │\n",
      "│ 1979-12-24 │       6 │         3721647.26 │         6 │\n",
      "│ 2021-05-09 │       5 │          550414.67 │         5 │\n",
      "├────────────┴─────────┴────────────────────┴───────────┤\n",
      "│ ? rows (>9999 rows, 20 shown)               4 columns │\n",
      "└───────────────────────────────────────────────────────┘\n",
      "\n"
     ]
    }
   ],
   "source": [
    "sql = f\"\"\"\n",
    "select *\n",
    "from read_parquet('gs://{bucket}/test_data/data_tsfm.parquet')\n",
    "\"\"\"\n",
    "cn.sql(sql).show()"
   ]
  }
 ],
 "metadata": {
  "kernelspec": {
   "display_name": "Python 3",
   "language": "python",
   "name": "python3"
  },
  "language_info": {
   "codemirror_mode": {
    "name": "ipython",
    "version": 3
   },
   "file_extension": ".py",
   "mimetype": "text/x-python",
   "name": "python",
   "nbconvert_exporter": "python",
   "pygments_lexer": "ipython3",
   "version": "3.11.5"
  }
 },
 "nbformat": 4,
 "nbformat_minor": 2
}
