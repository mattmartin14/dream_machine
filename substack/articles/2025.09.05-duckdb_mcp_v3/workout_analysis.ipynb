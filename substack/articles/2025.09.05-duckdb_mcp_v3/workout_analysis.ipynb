{
 "cells": [
  {
   "cell_type": "markdown",
   "id": "3b3d5e70",
   "metadata": {},
   "source": [
    "# Workout Data Analysis Notebook\n",
    "\n",
    "This notebook provides an interactive way to query your workout database using natural language questions.\n",
    "\n",
    "The notebook uses the `workout_assistant.py` module we created to convert your questions into SQL queries and display the results."
   ]
  },
  {
   "cell_type": "code",
   "execution_count": 30,
   "id": "b32c3f51",
   "metadata": {},
   "outputs": [
    {
     "name": "stdout",
     "output_type": "stream",
     "text": [
      "Using enhanced fallback SQL generation (no AI API key found)\n",
      "Tip: Set OPENAI_API_KEY or ANTHROPIC_API_KEY environment variable for smarter queries\n",
      "Workout Assistant loaded successfully!\n",
      "You can now ask natural language questions about your workout data.\n"
     ]
    }
   ],
   "source": [
    "# Import required libraries\n",
    "import sys\n",
    "import os\n",
    "import duckdb\n",
    "import pandas as pd\n",
    "import importlib\n",
    "\n",
    "# Import our workout assistant functions\n",
    "import workout_assistant\n",
    "importlib.reload(workout_assistant)  # Force reload to pick up changes\n",
    "from workout_assistant import generate_sql_fallback, execute_query, format_results\n",
    "\n",
    "print(\"Workout Assistant loaded successfully!\")\n",
    "print(\"You can now ask natural language questions about your workout data.\")"
   ]
  },
  {
   "cell_type": "markdown",
   "id": "bd9096aa",
   "metadata": {},
   "source": [
    "## Quick Database Overview\n",
    "\n",
    "Let's first take a look at the structure and recent data in your workout database."
   ]
  },
  {
   "cell_type": "code",
   "execution_count": 2,
   "id": "6955d262",
   "metadata": {},
   "outputs": [
    {
     "name": "stdout",
     "output_type": "stream",
     "text": [
      "Total workouts in database: 221\n",
      "Date range: 2024-04-03 05:48:00 to 2025-09-04 06:04:00\n",
      "\n",
      "Workouts by equipment type:\n",
      "     Type  count\n",
      "0  SkiErg     44\n",
      "1  RowErg    177\n"
     ]
    }
   ],
   "source": [
    "# Connect to database and show basic info\n",
    "con = duckdb.connect('c2_data.db')\n",
    "\n",
    "# Show total number of workouts\n",
    "total_workouts = con.execute(\"SELECT COUNT(*) as total FROM v_summary_workouts\").fetchone()[0]\n",
    "print(f\"Total workouts in database: {total_workouts}\")\n",
    "\n",
    "# Show date range\n",
    "date_range = con.execute(\"SELECT MIN(Date) as earliest, MAX(Date) as latest FROM v_summary_workouts\").fetchone()\n",
    "print(f\"Date range: {date_range[0]} to {date_range[1]}\")\n",
    "\n",
    "# Show equipment types\n",
    "equipment_counts = con.execute(\"SELECT Type, COUNT(*) as count FROM v_summary_workouts GROUP BY Type\").df()\n",
    "print(\"\\nWorkouts by equipment type:\")\n",
    "print(equipment_counts)\n",
    "\n",
    "con.close()"
   ]
  },
  {
   "cell_type": "markdown",
   "id": "b35a2661",
   "metadata": {},
   "source": [
    "## Interactive Question Function\n",
    "\n",
    "This function allows you to ask natural language questions about your workout data."
   ]
  },
  {
   "cell_type": "code",
   "execution_count": 31,
   "id": "65c9471b",
   "metadata": {},
   "outputs": [
    {
     "name": "stdout",
     "output_type": "stream",
     "text": [
      "Function ready! Use ask_workout_question('your question here')\n"
     ]
    }
   ],
   "source": [
    "def ask_workout_question(question):\n",
    "    \"\"\"\n",
    "    Ask a natural language question about your workout data.\n",
    "    \n",
    "    Args:\n",
    "        question (str): Your question in natural language\n",
    "    \n",
    "    Returns:\n",
    "        Displays the SQL query generated and the results\n",
    "    \"\"\"\n",
    "    print(f\"Question: {question}\")\n",
    "    print(\"=\" * (len(question) + 10))\n",
    "    \n",
    "    # Generate SQL using the fallback method\n",
    "    sql = generate_sql_fallback(question)\n",
    "    print(f\"\\nGenerated SQL:\")\n",
    "    print(sql)\n",
    "    print()\n",
    "    \n",
    "    # Execute the query\n",
    "    result = execute_query(sql)\n",
    "    \n",
    "    if result is not None:\n",
    "        if len(result) == 0:\n",
    "            print(\"No results found.\")\n",
    "        elif len(result) == 1:\n",
    "            # Single result - show as key-value pairs\n",
    "            for col in result.columns:\n",
    "                value = result[col].iloc[0]\n",
    "                if pd.isna(value):\n",
    "                    continue\n",
    "                if isinstance(value, float):\n",
    "                    if 'distance' in col.lower():\n",
    "                        print(f\"{col}: {value:,.0f} meters\")\n",
    "                    elif 'avg' in col.lower():\n",
    "                        print(f\"{col}: {value:,.1f}\")\n",
    "                    else:\n",
    "                        print(f\"{col}: {value:.2f}\")\n",
    "                else:\n",
    "                    print(f\"{col}: {value}\")\n",
    "        else:\n",
    "            # Multiple results - show as dataframe\n",
    "            print(result.to_string(index=False))\n",
    "    else:\n",
    "        print(\"Error executing query.\")\n",
    "    \n",
    "    print(\"\\n\" + \"-\"*50 + \"\\n\")\n",
    "\n",
    "# Test the function\n",
    "print(\"Function ready! Use ask_workout_question('your question here')\")"
   ]
  },
  {
   "cell_type": "markdown",
   "id": "9c604600",
   "metadata": {},
   "source": [
    "## Example Questions\n",
    "\n",
    "Here are some example questions you can ask. Run the cells below to see the results!"
   ]
  },
  {
   "cell_type": "code",
   "execution_count": 4,
   "id": "c49f7c5d",
   "metadata": {},
   "outputs": [
    {
     "name": "stdout",
     "output_type": "stream",
     "text": [
      "Question: What was my longest workout?\n",
      "======================================\n",
      "\n",
      "Generated SQL:\n",
      "SELECT \"Date\", \"Description\", \"Work Distance\", \"Work Time (Formatted)\", \"Type\" FROM v_summary_workouts ORDER BY \"Work Distance\" DESC LIMIT 1;\n",
      "\n",
      "Date: 2025-02-04 05:59:00\n",
      "Description: 40:44 row\n",
      "Work Distance: 10212\n",
      "Work Time (Formatted): 40:44.7\n",
      "Type: RowErg\n",
      "\n",
      "--------------------------------------------------\n",
      "\n"
     ]
    }
   ],
   "source": [
    "# Example 1: Find your longest workout\n",
    "ask_workout_question(\"What was my longest workout?\")"
   ]
  },
  {
   "cell_type": "code",
   "execution_count": 5,
   "id": "3ee00cfe",
   "metadata": {},
   "outputs": [
    {
     "name": "stdout",
     "output_type": "stream",
     "text": [
      "Question: What's my fastest pace for 5k workouts?\n",
      "=================================================\n",
      "\n",
      "Generated SQL:\n",
      "SELECT \"Date\", \"Description\", \"Pace\", \"Work Distance\", \"Type\" FROM v_summary_workouts WHERE \"Work Distance\" > 5000 ORDER BY \"Pace\" ASC LIMIT 1;\n",
      "\n",
      "Date: 2025-03-13 05:49:00\n",
      "Description: 6000m row\n",
      "Pace: 1:52.3\n",
      "Work Distance: 6000\n",
      "Type: RowErg\n",
      "\n",
      "--------------------------------------------------\n",
      "\n"
     ]
    }
   ],
   "source": [
    "# Example 2: Find your fastest pace for 5k+ workouts\n",
    "ask_workout_question(\"What's my fastest pace for 5k workouts?\")"
   ]
  },
  {
   "cell_type": "code",
   "execution_count": null,
   "id": "18bdbe8e",
   "metadata": {},
   "outputs": [],
   "source": [
    "# Example 3: Get statistics for 2025\n",
    "ask_workout_question(\"How many workouts did I do in 2025?\")"
   ]
  },
  {
   "cell_type": "code",
   "execution_count": null,
   "id": "84daae08",
   "metadata": {},
   "outputs": [],
   "source": [
    "# Example 4: Average distance by equipment type\n",
    "ask_workout_question(\"What's my average distance by equipment type?\")"
   ]
  },
  {
   "cell_type": "code",
   "execution_count": null,
   "id": "a937fe09",
   "metadata": {},
   "outputs": [],
   "source": [
    "# Example 5: Recent workouts\n",
    "ask_workout_question(\"Show me my recent workouts\")"
   ]
  },
  {
   "cell_type": "markdown",
   "id": "528e135f",
   "metadata": {},
   "source": [
    "## Ask Your Own Questions\n",
    "\n",
    "Use the cell below to ask your own questions about your workout data!"
   ]
  },
  {
   "cell_type": "code",
   "execution_count": 28,
   "id": "f01fc0e1",
   "metadata": {},
   "outputs": [
    {
     "name": "stdout",
     "output_type": "stream",
     "text": [
      "Question: What was my total distance in years 2023 - 2025?\n",
      "==========================================================\n",
      "\n",
      "Generated SQL:\n",
      "SELECT SUM(\"Work Distance\") AS total_distance, COUNT(*) AS workouts FROM v_summary_workouts WHERE strftime('%Y', \"Date\") BETWEEN '2023' AND '2025';\n",
      "\n",
      "total_distance: 1,257,978 meters\n",
      "workouts: 221\n",
      "\n",
      "--------------------------------------------------\n",
      "\n"
     ]
    }
   ],
   "source": [
    "# Test complex date range question\n",
    "your_question = \"What was my total distance in years 2023 - 2025?\"\n",
    "ask_workout_question(your_question)"
   ]
  },
  {
   "cell_type": "code",
   "execution_count": 32,
   "id": "b8471efd",
   "metadata": {},
   "outputs": [
    {
     "name": "stdout",
     "output_type": "stream",
     "text": [
      "Question: Show me workout stats from 2024 to 2025\n",
      "=================================================\n",
      "\n",
      "Generated SQL:\n",
      "SELECT strftime('%Y', \"Date\") AS year, COUNT(*) AS workouts, AVG(\"Work Distance\") AS avg_distance, SUM(\"Work Distance\") AS total_distance FROM v_summary_workouts WHERE strftime('%Y', \"Date\") BETWEEN '2024' AND '2025' GROUP BY year ORDER BY year;\n",
      "\n",
      "year  workouts  avg_distance  total_distance\n",
      "2024        90   6611.044444        594994.0\n",
      "2025       131   5060.946565        662984.0\n",
      "\n",
      "--------------------------------------------------\n",
      "\n"
     ]
    }
   ],
   "source": [
    "# Test different date range format\n",
    "ask_workout_question(\"Show me workout stats from 2024 to 2025\")"
   ]
  }
 ],
 "metadata": {
  "kernelspec": {
   "display_name": ".venv (3.13.5)",
   "language": "python",
   "name": "python3"
  },
  "language_info": {
   "codemirror_mode": {
    "name": "ipython",
    "version": 3
   },
   "file_extension": ".py",
   "mimetype": "text/x-python",
   "name": "python",
   "nbconvert_exporter": "python",
   "pygments_lexer": "ipython3",
   "version": "3.13.5"
  }
 },
 "nbformat": 4,
 "nbformat_minor": 5
}
