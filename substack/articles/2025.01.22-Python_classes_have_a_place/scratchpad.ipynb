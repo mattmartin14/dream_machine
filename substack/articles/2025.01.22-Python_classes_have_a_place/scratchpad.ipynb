{
 "cells": [
  {
   "cell_type": "code",
   "execution_count": null,
   "metadata": {},
   "outputs": [],
   "source": [
    "%pip install polars deltalake"
   ]
  },
  {
   "cell_type": "code",
   "execution_count": null,
   "metadata": {},
   "outputs": [],
   "source": [
    "import polars as pl\n",
    "\n",
    "df = pl.DataFrame(data = {\"user_id\": [1, 2], \"user_name\": [\"bob\", \"amy\"]})\n",
    "\n",
    "df.write_delta(\"some_delta_table\", mode=\"merge\",\n",
    "               delta_merge_options={\n",
    "                   \"predicate\": \"a.user_id = b.user_id\",\n",
    "                   \"source_alias\": \"a\",\n",
    "                   \"target_alias\": \"b\"\n",
    "               },\n",
    "        ).when_matched_update_all() \\\n",
    "        .when_not_matched_insert_all() \\\n",
    "        .execute()\n",
    "\n"
   ]
  },
  {
   "cell_type": "code",
   "execution_count": null,
   "metadata": {},
   "outputs": [],
   "source": [
    "df.write_parquet(\"data.parquet\")\n",
    "    .partition_on_year()\n",
    "    .compact()\n",
    "    .execute()"
   ]
  },
  {
   "cell_type": "markdown",
   "metadata": {},
   "source": [
    "df.write_parquet(\"data.parquet\")\n",
    "    .partition_on_year()\n",
    "    .compact_aggressive()\n",
    "    .include_write_ts_suffix()\n",
    "    .execute()"
   ]
  }
 ],
 "metadata": {
  "kernelspec": {
   "display_name": ".venv",
   "language": "python",
   "name": "python3"
  },
  "language_info": {
   "codemirror_mode": {
    "name": "ipython",
    "version": 3
   },
   "file_extension": ".py",
   "mimetype": "text/x-python",
   "name": "python",
   "nbconvert_exporter": "python",
   "pygments_lexer": "ipython3",
   "version": "3.13.1"
  }
 },
 "nbformat": 4,
 "nbformat_minor": 2
}
