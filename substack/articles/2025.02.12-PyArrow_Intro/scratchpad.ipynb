{
 "cells": [
  {
   "cell_type": "markdown",
   "metadata": {},
   "source": [
    "### Create a Table"
   ]
  },
  {
   "cell_type": "code",
   "execution_count": 2,
   "metadata": {},
   "outputs": [
    {
     "name": "stdout",
     "output_type": "stream",
     "text": [
      "pyarrow.Table\n",
      "order_id: int32\n",
      "order_type: string\n",
      "price: double\n",
      "----\n",
      "order_id: [[1,2,3,4]]\n",
      "order_type: [[\"online\",\"instore\",\"instore\",\"online\"]]\n",
      "price: [[20.03,19.44,28.45,45.04]]\n"
     ]
    }
   ],
   "source": [
    "import pyarrow as pa\n",
    "\n",
    "schema = pa.schema([\n",
    "    ('order_id', pa.int32()),\n",
    "    ('order_type', pa.string()),\n",
    "    ('price', pa.float64())\n",
    "])\n",
    "\n",
    "data = [\n",
    "    [1, 'online', 20.03],\n",
    "    [2, 'instore', 19.44],\n",
    "    [3, 'instore', 28.45],\n",
    "    [4, 'online', 45.04]\n",
    "]\n",
    "\n",
    "table = pa.Table.from_pylist([{\n",
    "        'order_id': row[0],\n",
    "        'order_type': row[1],\n",
    "        'price': row[2]\n",
    "    }\n",
    "for row in data], schema=schema)\n",
    "\n",
    "print(table)"
   ]
  },
  {
   "cell_type": "markdown",
   "metadata": {},
   "source": [
    "### Filter with a simple mask"
   ]
  },
  {
   "cell_type": "code",
   "execution_count": 3,
   "metadata": {},
   "outputs": [
    {
     "name": "stdout",
     "output_type": "stream",
     "text": [
      "pyarrow.Table\n",
      "order_id: int32\n",
      "order_type: string\n",
      "price: double\n",
      "----\n",
      "order_id: [[1,4]]\n",
      "order_type: [[\"online\",\"online\"]]\n",
      "price: [[20.03,45.04]]\n"
     ]
    }
   ],
   "source": [
    "mask = [True, False, False, True]\n",
    "\n",
    "print(table.filter(mask))"
   ]
  },
  {
   "cell_type": "markdown",
   "metadata": {},
   "source": [
    "### Filtering on a Criteria"
   ]
  },
  {
   "cell_type": "code",
   "execution_count": 4,
   "metadata": {},
   "outputs": [
    {
     "name": "stdout",
     "output_type": "stream",
     "text": [
      "pyarrow.Table\n",
      "order_id: int32\n",
      "order_type: string\n",
      "price: double\n",
      "----\n",
      "order_id: [[3,4]]\n",
      "order_type: [[\"instore\",\"online\"]]\n",
      "price: [[28.45,45.04]]\n"
     ]
    }
   ],
   "source": [
    "mask_dy = []\n",
    "for row in data:\n",
    "    if row[2] >= 21:\n",
    "        mask_dy.append(True)\n",
    "    else:\n",
    "        mask_dy.append(False)\n",
    "\n",
    "print(table.filter(mask_dy))"
   ]
  },
  {
   "cell_type": "markdown",
   "metadata": {},
   "source": [
    "### Use PyArrow Compute"
   ]
  },
  {
   "cell_type": "code",
   "execution_count": 5,
   "metadata": {},
   "outputs": [
    {
     "name": "stdout",
     "output_type": "stream",
     "text": [
      "pyarrow.Table\n",
      "order_id: int32\n",
      "order_type: string\n",
      "price: double\n",
      "----\n",
      "order_id: [[3,4]]\n",
      "order_type: [[\"instore\",\"online\"]]\n",
      "price: [[28.45,45.04]]\n"
     ]
    }
   ],
   "source": [
    "import pyarrow.compute as pc\n",
    "\n",
    "price_mask = pc.greater_equal(table['price'],21)\n",
    "print(table.filter(price_mask))"
   ]
  },
  {
   "cell_type": "markdown",
   "metadata": {},
   "source": [
    "### Aggregation"
   ]
  },
  {
   "cell_type": "code",
   "execution_count": 6,
   "metadata": {},
   "outputs": [
    {
     "name": "stdout",
     "output_type": "stream",
     "text": [
      "pyarrow.Table\n",
      "order_type: string\n",
      "price_sum: double\n",
      "----\n",
      "order_type: [[\"online\",\"instore\"]]\n",
      "price_sum: [[65.07,47.89]]\n"
     ]
    }
   ],
   "source": [
    "grouped = table.group_by(['order_type']).aggregate([('price','sum')])\n",
    "\n",
    "print(grouped)"
   ]
  }
 ],
 "metadata": {
  "kernelspec": {
   "display_name": "venv",
   "language": "python",
   "name": "python3"
  },
  "language_info": {
   "codemirror_mode": {
    "name": "ipython",
    "version": 3
   },
   "file_extension": ".py",
   "mimetype": "text/x-python",
   "name": "python",
   "nbconvert_exporter": "python",
   "pygments_lexer": "ipython3",
   "version": "3.13.1"
  }
 },
 "nbformat": 4,
 "nbformat_minor": 2
}
