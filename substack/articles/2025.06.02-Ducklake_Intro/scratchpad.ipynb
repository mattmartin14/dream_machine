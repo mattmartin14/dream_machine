{
 "cells": [
  {
   "cell_type": "code",
   "execution_count": null,
   "id": "74c42151",
   "metadata": {},
   "outputs": [],
   "source": [
    "#%pip install duckdb fsspec gcsfs"
   ]
  },
  {
   "cell_type": "code",
   "execution_count": 2,
   "id": "f4c2a507",
   "metadata": {},
   "outputs": [],
   "source": [
    "import duckdb\n",
    "from fsspec import filesystem\n",
    "import os"
   ]
  },
  {
   "cell_type": "code",
   "execution_count": null,
   "id": "ba727c97",
   "metadata": {},
   "outputs": [],
   "source": [
    "cn = duckdb.connect()\n",
    "cn.register_filesystem(filesystem('gcs'))\n",
    "cn.execute(\"INSTALL ducklake\")"
   ]
  },
  {
   "cell_type": "code",
   "execution_count": 4,
   "id": "7edec4e0",
   "metadata": {},
   "outputs": [
    {
     "data": {
      "text/plain": [
       "<duckdb.duckdb.DuckDBPyConnection at 0x1069279f0>"
      ]
     },
     "execution_count": 4,
     "metadata": {},
     "output_type": "execute_result"
    }
   ],
   "source": [
    "GCS_BUCKET = os.environ.get('GCS_BUCKET')\n",
    "cn.execute(f\"ATTACH 'ducklake:gcs_flock.ducklake' as gcs_flock (DATA_PATH 'gs://{GCS_BUCKET}/gcs_flock')\")\n",
    "cn.execute(\"USE gcs_flock\")"
   ]
  },
  {
   "cell_type": "code",
   "execution_count": null,
   "id": "a3d19e9e",
   "metadata": {},
   "outputs": [],
   "source": [
    "cn.execute(f\"ATTACH 'ducklake:local_flock.ducklake' as local_flock\")"
   ]
  },
  {
   "cell_type": "code",
   "execution_count": null,
   "id": "f3d3bda7",
   "metadata": {},
   "outputs": [
    {
     "data": {
      "text/plain": [
       "<duckdb.duckdb.DuckDBPyConnection at 0x105caebb0>"
      ]
     },
     "execution_count": 10,
     "metadata": {},
     "output_type": "execute_result"
    }
   ],
   "source": [
    "sql = \"\"\"\n",
    "create or replace table gcs_flock.order_header \n",
    "as \n",
    "select 1 as order_id, date('2023-01-01') as order_dt, 1001 as cust_id, 250.75 as ord_amount\n",
    "union all select 2, date('2023-01-02'), 1002, 150.50\n",
    "union all select 3, date('2023-01-03'), 1003, 300.00\n",
    "\"\"\"\n",
    "cn.execute(sql)"
   ]
  },
  {
   "cell_type": "code",
   "execution_count": 6,
   "id": "74355e56",
   "metadata": {},
   "outputs": [
    {
     "data": {
      "text/plain": [
       "<duckdb.duckdb.DuckDBPyConnection at 0x1069279f0>"
      ]
     },
     "execution_count": 6,
     "metadata": {},
     "output_type": "execute_result"
    }
   ],
   "source": [
    "sql = \"\"\"\n",
    "create or replace table local_flock.order_header_spi\n",
    "as \n",
    "select 1 as order_id, 'John Doe' as cust_name, date('1987-01-01') as dob\n",
    "union all select 2, 'Jane Doe', date('1992-03-05')\n",
    "union all select 3, 'Tom Brady', date('1977-08-14')\n",
    "\"\"\"\n",
    "cn.execute(sql)"
   ]
  },
  {
   "cell_type": "code",
   "execution_count": 11,
   "id": "0e90eed3",
   "metadata": {},
   "outputs": [
    {
     "data": {
      "text/plain": [
       "<duckdb.duckdb.DuckDBPyConnection at 0x105caebb0>"
      ]
     },
     "execution_count": 11,
     "metadata": {},
     "output_type": "execute_result"
    }
   ],
   "source": [
    "sql = \"\"\"\n",
    "update order_header\n",
    "set ord_amount = ord_amount * 1.1\n",
    "where order_id = 2\n",
    "\"\"\"\n",
    "cn.execute(sql)"
   ]
  },
  {
   "cell_type": "code",
   "execution_count": 7,
   "id": "70b2b1c1",
   "metadata": {},
   "outputs": [
    {
     "name": "stdout",
     "output_type": "stream",
     "text": [
      "┌──────────┬────────────┬─────────┬──────────────┐\n",
      "│ order_id │  order_dt  │ cust_id │  ord_amount  │\n",
      "│  int32   │    date    │  int32  │ decimal(5,2) │\n",
      "├──────────┼────────────┼─────────┼──────────────┤\n",
      "│        1 │ 2023-01-01 │    1001 │       250.75 │\n",
      "│        3 │ 2023-01-03 │    1003 │       300.00 │\n",
      "│        2 │ 2023-01-02 │    1002 │       165.55 │\n",
      "└──────────┴────────────┴─────────┴──────────────┘\n",
      "\n"
     ]
    }
   ],
   "source": [
    "cn.sql(\"from gcs_flock.order_header\").show()"
   ]
  },
  {
   "cell_type": "code",
   "execution_count": 9,
   "id": "6c9705d8",
   "metadata": {},
   "outputs": [
    {
     "name": "stdout",
     "output_type": "stream",
     "text": [
      "┌──────────┬────────────┬─────────┬──────────────┬───────────┬────────────┐\n",
      "│ order_id │  order_dt  │ cust_id │  ord_amount  │ cust_name │    dob     │\n",
      "│  int32   │    date    │  int32  │ decimal(5,2) │  varchar  │    date    │\n",
      "├──────────┼────────────┼─────────┼──────────────┼───────────┼────────────┤\n",
      "│        1 │ 2023-01-01 │    1001 │       250.75 │ John Doe  │ 1987-01-01 │\n",
      "│        3 │ 2023-01-03 │    1003 │       300.00 │ Tom Brady │ 1977-08-14 │\n",
      "└──────────┴────────────┴─────────┴──────────────┴───────────┴────────────┘\n",
      "\n"
     ]
    }
   ],
   "source": [
    "sql = \"\"\"\n",
    "    select oh.order_id, oh.order_dt, oh.cust_id, oh.ord_amount, oh_spi.cust_name, oh_spi.dob\n",
    "    from gcs_flock.order_header oh\n",
    "    join local_flock.order_header_spi oh_spi\n",
    "    on oh.order_id = oh_spi.order_id\n",
    "    where oh.ord_amount > 200\n",
    "    order by oh.order_id\n",
    "\"\"\"\n",
    "cn.sql(sql).show()"
   ]
  }
 ],
 "metadata": {
  "kernelspec": {
   "display_name": ".venv",
   "language": "python",
   "name": "python3"
  },
  "language_info": {
   "codemirror_mode": {
    "name": "ipython",
    "version": 3
   },
   "file_extension": ".py",
   "mimetype": "text/x-python",
   "name": "python",
   "nbconvert_exporter": "python",
   "pygments_lexer": "ipython3",
   "version": "3.13.1"
  }
 },
 "nbformat": 4,
 "nbformat_minor": 5
}
