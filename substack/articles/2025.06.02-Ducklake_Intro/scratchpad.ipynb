{
 "cells": [
  {
   "cell_type": "code",
   "execution_count": null,
   "id": "74c42151",
   "metadata": {},
   "outputs": [],
   "source": [
    "#%pip install duckdb fsspec gcsfs"
   ]
  },
  {
   "cell_type": "code",
   "execution_count": 2,
   "id": "f4c2a507",
   "metadata": {},
   "outputs": [],
   "source": [
    "import duckdb\n",
    "from fsspec import filesystem\n",
    "import os"
   ]
  },
  {
   "cell_type": "code",
   "execution_count": null,
   "id": "ba727c97",
   "metadata": {},
   "outputs": [],
   "source": [
    "cn = duckdb.connect()\n",
    "cn.register_filesystem(filesystem('gcs'))\n",
    "cn.execute(\"INSTALL ducklake\")"
   ]
  },
  {
   "cell_type": "code",
   "execution_count": 4,
   "id": "7edec4e0",
   "metadata": {},
   "outputs": [
    {
     "data": {
      "text/plain": [
       "<duckdb.duckdb.DuckDBPyConnection at 0x105caebb0>"
      ]
     },
     "execution_count": 4,
     "metadata": {},
     "output_type": "execute_result"
    }
   ],
   "source": [
    "GCS_BUCKET = os.environ.get('GCS_BUCKET')\n",
    "cn.execute(f\"ATTACH 'ducklake:gcs_flock.ducklake' as gcs_flock (DATA_PATH 'gs://{GCS_BUCKET}/gcs_flock')\")\n",
    "cn.execute(\"USE gcs_flock\")"
   ]
  },
  {
   "cell_type": "code",
   "execution_count": 10,
   "id": "f3d3bda7",
   "metadata": {},
   "outputs": [
    {
     "data": {
      "text/plain": [
       "<duckdb.duckdb.DuckDBPyConnection at 0x105caebb0>"
      ]
     },
     "execution_count": 10,
     "metadata": {},
     "output_type": "execute_result"
    }
   ],
   "source": [
    "sql = \"\"\"\n",
    "create or replace table order_header \n",
    "as \n",
    "select 1 as order_id, date('2023-01-01') as order_dt, 1001 as cust_id, 250.75 as ord_amount\n",
    "union all select 2, date('2023-01-02'), 1002, 150.50\n",
    "union all select 3, date('2023-01-03'), 1003, 300.00\n",
    "\"\"\"\n",
    "cn.execute(sql)"
   ]
  },
  {
   "cell_type": "code",
   "execution_count": 11,
   "id": "0e90eed3",
   "metadata": {},
   "outputs": [
    {
     "data": {
      "text/plain": [
       "<duckdb.duckdb.DuckDBPyConnection at 0x105caebb0>"
      ]
     },
     "execution_count": 11,
     "metadata": {},
     "output_type": "execute_result"
    }
   ],
   "source": [
    "sql = \"\"\"\n",
    "update order_header\n",
    "set ord_amount = ord_amount * 1.1\n",
    "where order_id = 2\n",
    "\"\"\"\n",
    "cn.execute(sql)"
   ]
  },
  {
   "cell_type": "code",
   "execution_count": 12,
   "id": "70b2b1c1",
   "metadata": {},
   "outputs": [
    {
     "name": "stdout",
     "output_type": "stream",
     "text": [
      "┌──────────┬────────────┬─────────┬──────────────┐\n",
      "│ order_id │  order_dt  │ cust_id │  ord_amount  │\n",
      "│  int32   │    date    │  int32  │ decimal(5,2) │\n",
      "├──────────┼────────────┼─────────┼──────────────┤\n",
      "│        1 │ 2023-01-01 │    1001 │       250.75 │\n",
      "│        3 │ 2023-01-03 │    1003 │       300.00 │\n",
      "│        2 │ 2023-01-02 │    1002 │       165.55 │\n",
      "└──────────┴────────────┴─────────┴──────────────┘\n",
      "\n"
     ]
    }
   ],
   "source": [
    "cn.sql(\"from order_header\").show()"
   ]
  }
 ],
 "metadata": {
  "kernelspec": {
   "display_name": ".venv",
   "language": "python",
   "name": "python3"
  },
  "language_info": {
   "codemirror_mode": {
    "name": "ipython",
    "version": 3
   },
   "file_extension": ".py",
   "mimetype": "text/x-python",
   "name": "python",
   "nbconvert_exporter": "python",
   "pygments_lexer": "ipython3",
   "version": "3.13.1"
  }
 },
 "nbformat": 4,
 "nbformat_minor": 5
}
