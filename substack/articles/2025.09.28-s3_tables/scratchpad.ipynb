{
 "cells": [
  {
   "cell_type": "markdown",
   "id": "a57c8246",
   "metadata": {},
   "source": [
    "### Overview testing s3 tables with duckdb via attach statement\n",
    "- can create and drop tables\n",
    "- can insert recs\n",
    "- cannot delete, update, insert"
   ]
  },
  {
   "cell_type": "code",
   "execution_count": 1,
   "id": "4ca557ce",
   "metadata": {},
   "outputs": [],
   "source": [
    "from setup_env import set_aws_creds\n",
    "set_aws_creds()\n",
    "import os\n",
    "aws_acct_id = os.getenv(\"aws_acct_nbr\")"
   ]
  },
  {
   "cell_type": "code",
   "execution_count": 8,
   "id": "50f960b0",
   "metadata": {},
   "outputs": [
    {
     "data": {
      "text/plain": [
       "<_duckdb.DuckDBPyConnection at 0x121a13f30>"
      ]
     },
     "execution_count": 8,
     "metadata": {},
     "output_type": "execute_result"
    }
   ],
   "source": [
    "import duckdb\n",
    "\n",
    "\n",
    "cn = duckdb.connect()\n",
    "cn.execute(\"install iceberg; load iceberg;\")\n",
    "\n",
    "cn.execute(\"create or replace secret aws_sec (type s3, provider credential_chain)\")\n",
    "\n",
    "cn.execute(f\"\"\"\n",
    "   attach or replace 'arn:aws:s3tables:us-east-1:{aws_acct_id}:bucket/icehouse-tbl-bucket1' as s3cat (\n",
    "       type iceberg,\n",
    "       endpoint_type s3_tables\n",
    "    )\n",
    "\"\"\")"
   ]
  },
  {
   "cell_type": "code",
   "execution_count": null,
   "id": "22d96b4b",
   "metadata": {},
   "outputs": [],
   "source": [
    "#create a table\n",
    "cn.execute(\"\"\"\n",
    "    create table if not exists s3cat.ns1.tbl1 (\n",
    "        id integer,\n",
    "        data string\n",
    "    )\n",
    "\"\"\")"
   ]
  },
  {
   "cell_type": "code",
   "execution_count": null,
   "id": "28c0097e",
   "metadata": {},
   "outputs": [],
   "source": [
    "cn.execute(\"insert into s3cat.ns1.tbl1 values (1, 'a'), (2, 'b'), (3, 'c')\")"
   ]
  },
  {
   "cell_type": "code",
   "execution_count": null,
   "id": "865d16e9",
   "metadata": {},
   "outputs": [],
   "source": [
    "#update a record (no dice)\n",
    "cn.execute(\"update s3cat.ns1.tbl1 set data='z' where id=2\")"
   ]
  },
  {
   "cell_type": "code",
   "execution_count": null,
   "id": "8baf74dc",
   "metadata": {},
   "outputs": [],
   "source": [
    "#delete a record (also no dice)\n",
    "cn.execute(\"delete from s3cat.ns1.tbl1 where id=3\") "
   ]
  },
  {
   "cell_type": "code",
   "execution_count": null,
   "id": "aa2cc534",
   "metadata": {},
   "outputs": [],
   "source": [
    "#read\n",
    "cn.sql(\"select * from s3cat.ns1.tbl1\")"
   ]
  },
  {
   "cell_type": "markdown",
   "id": "cae8e7f1",
   "metadata": {},
   "source": [
    "### let's do it with pyiceberg then\n",
    "\n",
    "- to get this to work, had to enable lake formation, add the iam role as a lake formation admin\n",
    "- then had to explicitely give the id the ability to read all tables in the namespace\n",
    "- what's interesting is that duckdb didn't require any lake formation stuff; pyiceberg is using LF but duckdb is somehow backdooring it's way"
   ]
  },
  {
   "cell_type": "code",
   "execution_count": 2,
   "id": "45e55b5b",
   "metadata": {},
   "outputs": [],
   "source": [
    "from pyiceberg.catalog import load_catalog\n",
    "catalog = load_catalog(\n",
    "        \"glue\",\n",
    "        **{\n",
    "            \"type\": \"rest\",\n",
    "            \"uri\": \"https://glue.us-east-1.amazonaws.com/iceberg\",\n",
    "            \"warehouse\": f\"{aws_acct_id}:s3tablescatalog/icehouse-tbl-bucket1\",\n",
    "            \"rest.sigv4-enabled\": \"true\",\n",
    "            \"rest.signing-name\": \"glue\",\n",
    "            \"rest.signing-region\": \"us-east-1\"\n",
    "        }\n",
    "    )\n"
   ]
  },
  {
   "cell_type": "code",
   "execution_count": null,
   "id": "80bf775c",
   "metadata": {},
   "outputs": [
    {
     "data": {
      "text/plain": [
       "┌───────┬─────────┐\n",
       "│  id   │  data   │\n",
       "│ int32 │ varchar │\n",
       "├───────┼─────────┤\n",
       "│     1 │ a       │\n",
       "│     2 │ b       │\n",
       "│     3 │ c       │\n",
       "└───────┴─────────┘"
      ]
     },
     "execution_count": 9,
     "metadata": {},
     "output_type": "execute_result"
    }
   ],
   "source": [
    "#read via pyiceberg (so pyiceberg can read it; athena cannot)\n",
    "table = catalog.load_table(\"ns1.tbl1\")\n",
    "cn.register(\"tbl1\", table.scan().to_arrow() )\n",
    "cn.sql(\"select * from tbl1\")\n"
   ]
  },
  {
   "cell_type": "code",
   "execution_count": 10,
   "id": "b5e3de58",
   "metadata": {},
   "outputs": [],
   "source": [
    "def generate_test_data(cn, num_rows=100):\n",
    "    cn.execute(f\"\"\"\n",
    "        CREATE OR REPLACE VIEW v_data_gen AS\n",
    "        SELECT \n",
    "            t.row_id, \n",
    "            uuid()::varchar as txn_key,  -- Cast to varchar to avoid binary UUID issues\n",
    "            current_date as rpt_dt,\n",
    "            round(random() * 100, 2) as some_val\n",
    "        FROM generate_series(1, {num_rows}) t(row_id)\n",
    "    \"\"\")\n",
    "    \n",
    "    return True"
   ]
  },
  {
   "cell_type": "code",
   "execution_count": 11,
   "id": "e56ba55d",
   "metadata": {},
   "outputs": [
    {
     "data": {
      "text/plain": [
       "True"
      ]
     },
     "execution_count": 11,
     "metadata": {},
     "output_type": "execute_result"
    }
   ],
   "source": [
    "generate_test_data(cn, 10)"
   ]
  },
  {
   "cell_type": "code",
   "execution_count": null,
   "id": "e2933db3",
   "metadata": {},
   "outputs": [],
   "source": [
    "#create a new table via pyiceberg\n",
    "df = cn.execute(\"select * from v_data_gen\")\n",
    "ar_tbl = df.arrow().read_all()\n",
    "\n",
    "ice_tbl = catalog.create_table(\"ns1.tbl2\", schema=ar_tbl.schema)\n",
    "ice_tbl.append(ar_tbl)"
   ]
  },
  {
   "cell_type": "code",
   "execution_count": 14,
   "id": "995a0da5",
   "metadata": {},
   "outputs": [
    {
     "data": {
      "text/plain": [
       "UpsertResult(rows_updated=5, rows_inserted=0)"
      ]
     },
     "execution_count": 14,
     "metadata": {},
     "output_type": "execute_result"
    }
   ],
   "source": [
    "#upsert\n",
    "df2 = cn.execute(\"\"\"select * from v_data_gen limit 5\"\"\").arrow().read_all()\n",
    "ice_tbl.upsert(df2, join_cols=[\"row_id\"])"
   ]
  }
 ],
 "metadata": {
  "kernelspec": {
   "display_name": ".venv (3.13.7)",
   "language": "python",
   "name": "python3"
  },
  "language_info": {
   "codemirror_mode": {
    "name": "ipython",
    "version": 3
   },
   "file_extension": ".py",
   "mimetype": "text/x-python",
   "name": "python",
   "nbconvert_exporter": "python",
   "pygments_lexer": "ipython3",
   "version": "3.13.7"
  }
 },
 "nbformat": 4,
 "nbformat_minor": 5
}
