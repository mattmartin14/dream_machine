{
 "cells": [
  {
   "cell_type": "code",
   "execution_count": 3,
   "id": "a3a7b0cb",
   "metadata": {},
   "outputs": [],
   "source": [
    "import duckdb\n",
    "cn = duckdb.connect()"
   ]
  },
  {
   "cell_type": "code",
   "execution_count": 4,
   "id": "61972b69",
   "metadata": {},
   "outputs": [
    {
     "data": {
      "text/plain": [
       "<duckdb.duckdb.DuckDBPyConnection at 0x107d33d30>"
      ]
     },
     "execution_count": 4,
     "metadata": {},
     "output_type": "execute_result"
    }
   ],
   "source": [
    "sql = \"\"\"\n",
    "    create or replace table grocery_categories (\n",
    "        item_pattern text,\n",
    "        item_category text\n",
    "    )\n",
    "\"\"\"\n",
    "cn.execute(sql)\n",
    "\n",
    "sql = \"\"\"\n",
    "INSERT INTO grocery_categories (item_pattern, item_category) VALUES\n",
    "    ('%banana%', 'fruit'),\n",
    "    ('%apple%', 'fruit'),\n",
    "    ('%orange%', 'fruit'),\n",
    "    ('%grape%', 'fruit'),\n",
    "    ('%strawberry%', 'fruit'),\n",
    "    ('%lettuce%', 'vegetable'),\n",
    "    ('%spinach%', 'vegetable'),\n",
    "    ('%carrot%', 'vegetable'),\n",
    "    ('%broccoli%', 'vegetable'),\n",
    "    ('%cucumber%', 'vegetable'),\n",
    "    ('%chicken%', 'meat'),\n",
    "    ('%beef%', 'meat'),\n",
    "    ('%pork%', 'meat'),\n",
    "    ('%salmon%', 'seafood'),\n",
    "    ('%shrimp%', 'seafood'),\n",
    "    ('%milk%', 'dairy'),\n",
    "    ('%cheese%', 'dairy'),\n",
    "    ('%yogurt%', 'dairy'),\n",
    "    ('%bread%', 'bakery'),\n",
    "    ('%bagel%', 'bakery');\n",
    "\"\"\"\n",
    "\n",
    "cn.execute(sql)"
   ]
  },
  {
   "cell_type": "code",
   "execution_count": 10,
   "id": "c9037496",
   "metadata": {},
   "outputs": [
    {
     "data": {
      "text/plain": [
       "<duckdb.duckdb.DuckDBPyConnection at 0x107d33d30>"
      ]
     },
     "execution_count": 10,
     "metadata": {},
     "output_type": "execute_result"
    }
   ],
   "source": [
    "# Create the txns table\n",
    "cn.execute(\"\"\"\n",
    "    CREATE OR REPLACE TABLE txns (\n",
    "        pstd_dt DATE,\n",
    "        item_desc TEXT,\n",
    "        charge_amt DECIMAL(10,2)\n",
    "    )\n",
    "\"\"\")\n",
    "\n",
    "# Insert records with hardcoded random dates\n",
    "cn.execute(\"\"\"\n",
    "    INSERT INTO txns (pstd_dt, item_desc, charge_amt) VALUES\n",
    "        ('2024-05-01', '4 Pack Banana', 2.99),\n",
    "        ('2024-05-03', 'Shrimp 3 lbs', 15.50),\n",
    "        ('2024-05-05', 'organic Apple', 1.25),\n",
    "        ('2024-05-07', 'Whole milk', 3.49),\n",
    "        ('2024-05-09', 'Bagel Dozen', 5.99),\n",
    "        ('2024-05-11', 'CHEDDAR cheese', 4.25),\n",
    "        ('2024-05-13', 'Baby Spinach', 2.50),\n",
    "        ('2024-05-15', 'Carrot bunch', 1.99),\n",
    "        ('2024-05-17', 'Beef Steak', 12.99),\n",
    "        ('2024-05-19', 'Salmon Fillet', 13.75),\n",
    "        ('2024-05-21', 'Grape Bunch', 3.10),\n",
    "        ('2024-05-23', 'Lettuce Head', 1.75),\n",
    "        ('2024-05-25', 'Pork Chops', 9.50),\n",
    "        ('2024-05-27', 'YOGURT cup', 1.10),\n",
    "        ('2024-05-29', 'Cucumber', 1.00),\n",
    "        ('2024-06-01', 'Chicken breast', 8.25),\n",
    "        ('2024-06-03', 'Strawberry Box', 4.00),\n",
    "        ('2024-06-05', 'Orange Juice', 3.99),\n",
    "        ('2024-06-07', 'Whole Wheat bread', 2.50),\n",
    "        ('2024-06-09', 'Broccoli Crown', 2.20),\n",
    "        ('2024-06-11', 'Bagel SANDWICH', 6.50),\n",
    "        ('2024-06-13', 'Spinach Salad', 5.00),\n",
    "        ('2024-06-15', 'Cheese PLATTER', 10.00),\n",
    "        ('2024-06-17', 'Milk Chocolate', 2.75),\n",
    "        ('2024-06-19', 'Apple Pie', 7.00),\n",
    "        ('2024-06-21', 'Shrimp COCKTAIL', 14.00),\n",
    "        ('2024-06-23', 'Banana Bread', 4.50),\n",
    "        ('2024-06-25', 'Beef BURGER', 11.00),\n",
    "        ('2024-06-27', 'PORK ribs', 13.00),\n",
    "        ('2024-06-29', 'Grape Jelly', 2.80),\n",
    "\"\"\")\n"
   ]
  },
  {
   "cell_type": "code",
   "execution_count": 11,
   "id": "f7d0588c",
   "metadata": {
    "vscode": {
     "languageId": "sql"
    }
   },
   "outputs": [
    {
     "name": "stdout",
     "output_type": "stream",
     "text": [
      "┌────────────┬──────────────────┬───────────────┐\n",
      "│ pstd_month │ grocery_category │ total_charges │\n",
      "│   int64    │     varchar      │ decimal(38,2) │\n",
      "├────────────┼──────────────────┼───────────────┤\n",
      "│          5 │ fruit            │          7.34 │\n",
      "│          6 │ dairy            │         12.75 │\n",
      "│          6 │ meat             │         32.25 │\n",
      "│          6 │ vegetable        │          7.20 │\n",
      "│          6 │ seafood          │         14.00 │\n",
      "│          6 │ bakery           │         13.50 │\n",
      "│          5 │ vegetable        │          7.24 │\n",
      "│          5 │ seafood          │         29.25 │\n",
      "│          5 │ bakery           │          5.99 │\n",
      "│          5 │ meat             │         22.49 │\n",
      "│          5 │ dairy            │          8.84 │\n",
      "│          6 │ fruit            │         22.29 │\n",
      "├────────────┴──────────────────┴───────────────┤\n",
      "│ 12 rows                             3 columns │\n",
      "└───────────────────────────────────────────────┘\n",
      "\n"
     ]
    }
   ],
   "source": [
    "sql = \"\"\"\n",
    "    select month(t.pstd_dt) as pstd_month\n",
    "        ,gc.item_category as grocery_category\n",
    "        ,sum(t.charge_amt) as total_charges\n",
    "    from txns as t\n",
    "        left join grocery_categories as gc \n",
    "            on t.item_desc ilike gc.item_pattern\n",
    "    group by all\n",
    "\"\"\"\n",
    "cn.sql(sql).show()"
   ]
  }
 ],
 "metadata": {
  "kernelspec": {
   "display_name": ".venv (3.13.5)",
   "language": "python",
   "name": "python3"
  },
  "language_info": {
   "codemirror_mode": {
    "name": "ipython",
    "version": 3
   },
   "file_extension": ".py",
   "mimetype": "text/x-python",
   "name": "python",
   "nbconvert_exporter": "python",
   "pygments_lexer": "ipython3",
   "version": "3.13.5"
  }
 },
 "nbformat": 4,
 "nbformat_minor": 5
}
