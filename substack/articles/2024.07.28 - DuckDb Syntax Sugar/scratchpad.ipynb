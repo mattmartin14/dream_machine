{
 "cells": [
  {
   "cell_type": "code",
   "execution_count": 1,
   "metadata": {},
   "outputs": [],
   "source": [
    "import duckdb"
   ]
  },
  {
   "cell_type": "code",
   "execution_count": 20,
   "metadata": {},
   "outputs": [],
   "source": [
    "cn = duckdb.connect(\"orders.db\")"
   ]
  },
  {
   "cell_type": "code",
   "execution_count": null,
   "metadata": {},
   "outputs": [],
   "source": [
    "sql = \"\"\"\n",
    "create or replace table order_hdr (order_nbr int, order_crt_dt date, region_office string, ord_qty int, sales_amt decimal(8,2), cogs decimal(8,2));\n",
    "INSERT INTO order_hdr VALUES\n",
    "    (1, '2021-01-01', 'North', 7, 23.49, 8.32),\n",
    "    (2, '2021-02-05', 'North', 4, 86.34, 51.34),\n",
    "    (3, '2021-02-18', 'West', 12, 67.13, 40.88),\n",
    "    (4, '2021-03-07', 'West', 10, 103.34, 90.18),\n",
    "    (5, '2021-05-12', 'South', 6, 12.01, 7.99),\n",
    "    (6, '2022-05-12', 'North', 23, 18.34, 14.99),\n",
    "    (7, '2022-05-12', 'South', 1, 5.99, 3.50),\n",
    "    (8, '2022-05-12', 'West', 3, 27.88, 19.12),\n",
    "    (9, '2022-05-12', 'East', 7, 46.03, 30.00),\n",
    "    (10, '2022-05-12', 'North', 3, 137.31, 89.54),\n",
    "\"\"\"\n",
    "cn.execute(sql)"
   ]
  },
  {
   "cell_type": "code",
   "execution_count": 36,
   "metadata": {},
   "outputs": [
    {
     "name": "stdout",
     "output_type": "stream",
     "text": [
      "┌───────────┬──────────────┬───────────────┬─────────┬──────────────┬──────────────┐\n",
      "│ order_nbr │ order_crt_dt │ region_office │ ord_qty │  sales_amt   │     cogs     │\n",
      "│   int32   │     date     │    varchar    │  int32  │ decimal(8,2) │ decimal(8,2) │\n",
      "├───────────┼──────────────┼───────────────┼─────────┼──────────────┼──────────────┤\n",
      "│         1 │ 2021-01-01   │ North         │       7 │        23.49 │         8.32 │\n",
      "│         2 │ 2021-02-05   │ North         │       4 │        86.34 │        51.34 │\n",
      "│         3 │ 2021-02-18   │ West          │      12 │        67.13 │        40.88 │\n",
      "│         4 │ 2021-03-07   │ West          │      10 │       103.34 │        90.18 │\n",
      "│         5 │ 2021-05-12   │ South         │       6 │        12.01 │         7.99 │\n",
      "│         6 │ 2022-05-12   │ North         │      23 │        18.34 │        14.99 │\n",
      "│         7 │ 2022-05-12   │ South         │       1 │         5.99 │         3.50 │\n",
      "│         8 │ 2022-05-12   │ West          │       3 │        27.88 │        19.12 │\n",
      "│         9 │ 2022-05-12   │ East          │       7 │        46.03 │        30.00 │\n",
      "│        10 │ 2022-05-12   │ North         │       3 │       137.31 │        89.54 │\n",
      "├───────────┴──────────────┴───────────────┴─────────┴──────────────┴──────────────┤\n",
      "│ 10 rows                                                                6 columns │\n",
      "└──────────────────────────────────────────────────────────────────────────────────┘\n",
      "\n"
     ]
    }
   ],
   "source": [
    "cn.sql('from order_hdr').show()"
   ]
  },
  {
   "cell_type": "markdown",
   "metadata": {},
   "source": [
    "### Using qualify statement to grab top order amounts by region"
   ]
  },
  {
   "cell_type": "code",
   "execution_count": 37,
   "metadata": {},
   "outputs": [
    {
     "name": "stdout",
     "output_type": "stream",
     "text": [
      "┌───────────┬──────────────┬───────────────┬─────────┬──────────────┬──────────────┐\n",
      "│ order_nbr │ order_crt_dt │ region_office │ ord_qty │  sales_amt   │     cogs     │\n",
      "│   int32   │     date     │    varchar    │  int32  │ decimal(8,2) │ decimal(8,2) │\n",
      "├───────────┼──────────────┼───────────────┼─────────┼──────────────┼──────────────┤\n",
      "│        10 │ 2022-05-12   │ North         │       3 │       137.31 │        89.54 │\n",
      "│         9 │ 2022-05-12   │ East          │       7 │        46.03 │        30.00 │\n",
      "│         5 │ 2021-05-12   │ South         │       6 │        12.01 │         7.99 │\n",
      "│         4 │ 2021-03-07   │ West          │      10 │       103.34 │        90.18 │\n",
      "└───────────┴──────────────┴───────────────┴─────────┴──────────────┴──────────────┘\n",
      "\n"
     ]
    }
   ],
   "source": [
    "sql = \"\"\"\n",
    "select *\n",
    "from order_hdr\n",
    "qualify 1 = rank() over(partition by region_office order by sales_amt desc)\n",
    "\"\"\"\n",
    "cn.sql(sql).show()"
   ]
  },
  {
   "cell_type": "markdown",
   "metadata": {},
   "source": [
    "### Union All By Name"
   ]
  },
  {
   "cell_type": "code",
   "execution_count": 71,
   "metadata": {},
   "outputs": [
    {
     "name": "stdout",
     "output_type": "stream",
     "text": [
      "┌───────────┬───────────────┬──────────────┬──────────────┐\n",
      "│ order_nbr │ region_office │  sales_amt   │     cogs     │\n",
      "│   int32   │    varchar    │ decimal(8,2) │ decimal(8,2) │\n",
      "├───────────┼───────────────┼──────────────┼──────────────┤\n",
      "│        28 │ North         │        33.33 │        26.41 │\n",
      "│        23 │ South         │        18.67 │        15.59 │\n",
      "│        34 │ East          │        19.99 │         7.29 │\n",
      "└───────────┴───────────────┴──────────────┴──────────────┘\n",
      "\n"
     ]
    }
   ],
   "source": [
    "sql = \"\"\"\n",
    "create or replace table order_hdr_legacy (order_nbr int, region_office string, sales_amt decimal(8,2), cogs decimal(8,2));\n",
    "\n",
    "insert into order_hdr_legacy values \n",
    "    (28, 'North', 33.33, 26.41)\n",
    "    ,(23, 'South', 18.67, 15.59)\n",
    "    ,(34, 'East', 19.99, 7.29)\n",
    ";\n",
    "\"\"\"\n",
    "cn.execute(sql)\n",
    "cn.sql(\"from order_hdr_legacy\").show()"
   ]
  },
  {
   "cell_type": "code",
   "execution_count": 72,
   "metadata": {},
   "outputs": [
    {
     "name": "stdout",
     "output_type": "stream",
     "text": [
      "┌───────────┬──────────────┬───────────────┬─────────┬──────────────┬──────────────┐\n",
      "│ order_nbr │ order_crt_dt │ region_office │ ord_qty │  sales_amt   │     cogs     │\n",
      "│   int32   │     date     │    varchar    │  int32  │ decimal(8,2) │ decimal(8,2) │\n",
      "├───────────┼──────────────┼───────────────┼─────────┼──────────────┼──────────────┤\n",
      "│         1 │ 2021-01-01   │ North         │       7 │        23.49 │         8.32 │\n",
      "│         2 │ 2021-02-05   │ North         │       4 │        86.34 │        51.34 │\n",
      "│         3 │ 2021-02-18   │ West          │      12 │        67.13 │        40.88 │\n",
      "│         4 │ 2021-03-07   │ West          │      10 │       103.34 │        90.18 │\n",
      "│         5 │ 2021-05-12   │ South         │       6 │        12.01 │         7.99 │\n",
      "│         6 │ 2022-05-12   │ North         │      23 │        18.34 │        14.99 │\n",
      "│         7 │ 2022-05-12   │ South         │       1 │         5.99 │         3.50 │\n",
      "│         8 │ 2022-05-12   │ West          │       3 │        27.88 │        19.12 │\n",
      "│         9 │ 2022-05-12   │ East          │       7 │        46.03 │        30.00 │\n",
      "│        10 │ 2022-05-12   │ North         │       3 │       137.31 │        89.54 │\n",
      "│        28 │ NULL         │ North         │    NULL │        33.33 │        26.41 │\n",
      "│        23 │ NULL         │ South         │    NULL │        18.67 │        15.59 │\n",
      "│        34 │ NULL         │ East          │    NULL │        19.99 │         7.29 │\n",
      "├───────────┴──────────────┴───────────────┴─────────┴──────────────┴──────────────┤\n",
      "│ 13 rows                                                                6 columns │\n",
      "└──────────────────────────────────────────────────────────────────────────────────┘\n",
      "\n"
     ]
    }
   ],
   "source": [
    "sql = \"\"\"\n",
    "create or replace table order_hdr_combined\n",
    "as\n",
    "select *\n",
    "from order_hdr\n",
    "union all by name\n",
    "select *\n",
    "from order_hdr_legacy\n",
    "\"\"\"\n",
    "\n",
    "cn.execute(sql)\n",
    "cn.sql(\"from order_hdr_combined\").show()\n"
   ]
  },
  {
   "cell_type": "code",
   "execution_count": 44,
   "metadata": {},
   "outputs": [
    {
     "name": "stdout",
     "output_type": "stream",
     "text": [
      "┌───────────┬──────────────┬───────────────┬─────────┬──────────────┬──────────────┐\n",
      "│ order_nbr │ order_crt_dt │ region_office │ ord_qty │  sales_amt   │     cogs     │\n",
      "│   int32   │     date     │    varchar    │  int32  │ decimal(8,2) │ decimal(8,2) │\n",
      "├───────────┼──────────────┼───────────────┼─────────┼──────────────┼──────────────┤\n",
      "│         1 │ 2021-01-01   │ North         │       7 │        23.49 │         8.32 │\n",
      "│         2 │ 2021-02-05   │ North         │       4 │        86.34 │        51.34 │\n",
      "│         3 │ 2021-02-18   │ West          │      12 │        67.13 │        40.88 │\n",
      "│         4 │ 2021-03-07   │ West          │      10 │       103.34 │        90.18 │\n",
      "│         5 │ 2021-05-12   │ South         │       6 │        12.01 │         7.99 │\n",
      "│         6 │ 2022-05-12   │ North         │      23 │        18.34 │        14.99 │\n",
      "│         7 │ 2022-05-12   │ South         │       1 │         5.99 │         3.50 │\n",
      "│         8 │ 2022-05-12   │ West          │       3 │        27.88 │        19.12 │\n",
      "│         9 │ 2022-05-12   │ East          │       7 │        46.03 │        30.00 │\n",
      "│        10 │ 2022-05-12   │ North         │       3 │       137.31 │        89.54 │\n",
      "│        28 │ NULL         │ North         │    NULL │        33.33 │        26.41 │\n",
      "│        23 │ NULL         │ South         │    NULL │        18.67 │        15.59 │\n",
      "│        34 │ NULL         │ East          │    NULL │        19.99 │         7.29 │\n",
      "├───────────┴──────────────┴───────────────┴─────────┴──────────────┴──────────────┤\n",
      "│ 13 rows                                                                6 columns │\n",
      "└──────────────────────────────────────────────────────────────────────────────────┘\n",
      "\n"
     ]
    }
   ],
   "source": [
    "cn.sql(\"from order_hdr_combined\").show()"
   ]
  },
  {
   "cell_type": "markdown",
   "metadata": {},
   "source": [
    "### Lateral Alias"
   ]
  },
  {
   "cell_type": "code",
   "execution_count": 73,
   "metadata": {},
   "outputs": [
    {
     "name": "stdout",
     "output_type": "stream",
     "text": [
      "┌───────────────┬───────────────┬──────────────┐\n",
      "│ region_office │ gross_profit  │ gross_margin │\n",
      "│    varchar    │ decimal(38,2) │   varchar    │\n",
      "├───────────────┼───────────────┼──────────────┤\n",
      "│ East          │         28.73 │ 43.52%       │\n",
      "│ North         │        108.21 │ 36.21%       │\n",
      "│ South         │          9.59 │ 26.15%       │\n",
      "│ West          │         48.17 │ 24.29%       │\n",
      "└───────────────┴───────────────┴──────────────┘\n",
      "\n"
     ]
    }
   ],
   "source": [
    "sql = \"\"\"\n",
    "select region_office\n",
    "    ,tot_sales - tot_cogs as gross_profit\n",
    "    ,concat(round((tot_sales - tot_cogs)/tot_sales*100,2),'%') as gross_margin\n",
    "from (\n",
    "    select region_office, sum(sales_amt) as tot_sales, sum(cogs) as tot_cogs\n",
    "    from order_hdr_combined\n",
    "    group by all\n",
    ") as sub\n",
    "order by region_office\n",
    "\"\"\"\n",
    "cn.sql(sql).show()"
   ]
  },
  {
   "cell_type": "code",
   "execution_count": 48,
   "metadata": {},
   "outputs": [
    {
     "name": "stdout",
     "output_type": "stream",
     "text": [
      "┌───────────────┬───────────────┬──────────────┐\n",
      "│ region_office │ gross_profit  │ gross_margin │\n",
      "│    varchar    │ decimal(38,2) │   varchar    │\n",
      "├───────────────┼───────────────┼──────────────┤\n",
      "│ East          │         28.73 │ 43.52%       │\n",
      "│ North         │        108.21 │ 36.21%       │\n",
      "│ South         │          9.59 │ 26.15%       │\n",
      "│ West          │         48.17 │ 24.29%       │\n",
      "└───────────────┴───────────────┴──────────────┘\n",
      "\n"
     ]
    }
   ],
   "source": [
    "sql = \"\"\"\n",
    "select region_office\n",
    "    ,tot_sales - tot_cogs as gross_profit\n",
    "    ,concat(round(gross_profit/tot_sales*100,2),'%') as gross_margin\n",
    "from (\n",
    "    select region_office, sum(sales_amt) as tot_sales, sum(cogs) as tot_cogs\n",
    "    from order_hdr_combined\n",
    "    group by all\n",
    ") as sub\n",
    "order by region_office\n",
    "\"\"\"\n",
    "cn.sql(sql).show()"
   ]
  },
  {
   "cell_type": "markdown",
   "metadata": {},
   "source": [
    "### Dynamic Pivot"
   ]
  },
  {
   "cell_type": "code",
   "execution_count": 49,
   "metadata": {},
   "outputs": [
    {
     "name": "stdout",
     "output_type": "stream",
     "text": [
      "┌───────┬───────────────┬───────────────┬───────────────┬───────────────┐\n",
      "│ year  │     East      │     North     │     South     │     West      │\n",
      "│ int64 │ decimal(38,2) │ decimal(38,2) │ decimal(38,2) │ decimal(38,2) │\n",
      "├───────┼───────────────┼───────────────┼───────────────┼───────────────┤\n",
      "│  NULL │         19.99 │         33.33 │         18.67 │          NULL │\n",
      "│  2021 │          NULL │        109.83 │         12.01 │        170.47 │\n",
      "│  2022 │         46.03 │        155.65 │          5.99 │         27.88 │\n",
      "└───────┴───────────────┴───────────────┴───────────────┴───────────────┘\n",
      "\n"
     ]
    }
   ],
   "source": [
    "sql = \"\"\"\n",
    "with data as (select extract(year from order_crt_dt) as year, region_office, sales_amt from order_hdr_combined)\n",
    "\n",
    "pivot data\n",
    "on region_office\n",
    "using sum(sales_amt)\n",
    "\"\"\"\n",
    "cn.sql(sql).show()"
   ]
  },
  {
   "cell_type": "code",
   "execution_count": 76,
   "metadata": {},
   "outputs": [
    {
     "name": "stdout",
     "output_type": "stream",
     "text": [
      "┌───────┬───────────────┬───────────────┬───────────────┬───────────────┐\n",
      "│ year  │     East      │     North     │     South     │     West      │\n",
      "│ int64 │ decimal(38,2) │ decimal(38,2) │ decimal(38,2) │ decimal(38,2) │\n",
      "├───────┼───────────────┼───────────────┼───────────────┼───────────────┤\n",
      "│  NULL │         19.99 │         33.33 │         18.67 │          NULL │\n",
      "│  2021 │          NULL │        109.83 │         12.01 │        170.47 │\n",
      "│  2022 │         46.03 │        155.65 │          5.99 │         27.88 │\n",
      "└───────┴───────────────┴───────────────┴───────────────┴───────────────┘\n",
      "\n"
     ]
    }
   ],
   "source": [
    "sql = \"\"\"\n",
    "with data as (select extract(year from order_crt_dt) as year, region_office, sales_amt from order_hdr_combined)\n",
    "\n",
    "select year, \"East\", \"North\", \"South\", \"West\"\n",
    "from data\n",
    "pivot (sum(sales_amt) for region_office in (\"North\",\"South\",\"East\",\"West\"))\n",
    "\"\"\"\n",
    "cn.sql(sql).show()"
   ]
  },
  {
   "cell_type": "code",
   "execution_count": null,
   "metadata": {},
   "outputs": [],
   "source": [
    "\n",
    "declare @sql nvarchar(max);\n",
    "declare @list nvarchar(max);\n",
    "\n",
    "set @list = STUFF((select concat('[', some_col,']' for xml path ('')),1,1);\n",
    "\n",
    "set @sql = N'select grouping_col, @list from some_table pivot(sum(some_other col) for col_list in @list)\n",
    "\n",
    "exec sp_executesql @sql\n"
   ]
  },
  {
   "cell_type": "markdown",
   "metadata": {},
   "source": [
    "### Excluding columns from final output"
   ]
  },
  {
   "cell_type": "code",
   "execution_count": 70,
   "metadata": {},
   "outputs": [
    {
     "name": "stdout",
     "output_type": "stream",
     "text": [
      "┌───────────────┬───────────────┬──────────────┬─────────┬─────────┐\n",
      "│ region_office │ gross_profit  │ gross_margin │ 75_ind  │ 95_ind  │\n",
      "│    varchar    │ decimal(38,2) │    double    │ varchar │ varchar │\n",
      "├───────────────┼───────────────┼──────────────┼─────────┼─────────┤\n",
      "│ East          │         28.73 │        43.52 │ good    │ good    │\n",
      "│ North         │        108.21 │        36.21 │ good    │ bad     │\n",
      "│ South         │          9.59 │        26.15 │ bad     │ bad     │\n",
      "│ West          │         48.17 │        24.29 │ bad     │ bad     │\n",
      "└───────────────┴───────────────┴──────────────┴─────────┴─────────┘\n",
      "\n"
     ]
    }
   ],
   "source": [
    "sql = \"\"\"\n",
    "    select * exclude(\"75_percentile\", \"95_percentile\")\n",
    "    from (\n",
    "        select\n",
    "            *\n",
    "            ,case when \"75_percentile\" >= 25 then 'good' else 'bad' end as \"75_ind\"\n",
    "            ,case when \"75_percentile\" >= 30 then 'good' else 'bad' end as \"95_ind\"\n",
    "        from (\n",
    "            select\n",
    "                region_office\n",
    "                ,sum(sales_amt - cogs) as gross_profit\n",
    "                ,round(gross_profit/sum(sales_amt)*100,2) as gross_margin\n",
    "                ,gross_margin * .95 as \"95_percentile\"\n",
    "                ,gross_margin * .75 as \"75_percentile\"\n",
    "            from order_hdr_combined\n",
    "            group by all\n",
    "        ) as sub\n",
    "    ) as sub2\n",
    "    order by 1\n",
    "\"\"\"\n",
    "cn.sql(sql).show()"
   ]
  },
  {
   "cell_type": "code",
   "execution_count": null,
   "metadata": {},
   "outputs": [],
   "source": [
    "sql = \"\"\"\n",
    "    SELECT\n",
    "        ORDER_NBR, ORDER_CRT_DT, REGION_OFFICE, STORE_NBR, ORD_AMT, ORD_QTY\n",
    "    FROM order_hdr_modern\n",
    "    UNION ALL\n",
    "    SELECT\n",
    "        ORDER_NBR, ORDER_CRT_DT, CAST(NULL AS VARCHAR(10)) AS REGION_OFFICE, CAST(NULL AS INT) AS STORE_NBR, ORD_AMT, CAST(NULL AS INT) AS ORD_QTY\n",
    "    FROM order_hdr_legacy\n",
    "\n",
    "\n",
    "\"\"\""
   ]
  }
 ],
 "metadata": {
  "kernelspec": {
   "display_name": ".venv",
   "language": "python",
   "name": "python3"
  },
  "language_info": {
   "codemirror_mode": {
    "name": "ipython",
    "version": 3
   },
   "file_extension": ".py",
   "mimetype": "text/x-python",
   "name": "python",
   "nbconvert_exporter": "python",
   "pygments_lexer": "ipython3",
   "version": "3.12.3"
  }
 },
 "nbformat": 4,
 "nbformat_minor": 2
}
