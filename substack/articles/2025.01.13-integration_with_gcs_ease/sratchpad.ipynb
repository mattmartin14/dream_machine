{
 "cells": [
  {
   "cell_type": "code",
   "execution_count": 21,
   "metadata": {},
   "outputs": [],
   "source": [
    "#%pip install -r requirements.txt\n",
    "import warnings\n",
    "\n",
    "# Suppress specific Google Cloud SDK warning\n",
    "warnings.filterwarnings(\n",
    "    \"ignore\",\n",
    "    message=\"Your application has authenticated using end user credentials.*\",\n",
    "    category=UserWarning,\n",
    "    module=\"google.auth._default\"\n",
    ")\n",
    "import os\n",
    "bucket = os.getenv(\"GCS_BUCKET\")"
   ]
  },
  {
   "cell_type": "markdown",
   "metadata": {},
   "source": [
    "#### Duckdb Integration"
   ]
  },
  {
   "cell_type": "code",
   "execution_count": 17,
   "metadata": {},
   "outputs": [
    {
     "data": {
      "text/plain": [
       "┌───────┬───────┬───────┐\n",
       "│   a   │   b   │   c   │\n",
       "│ int64 │ int64 │ int64 │\n",
       "├───────┼───────┼───────┤\n",
       "│     1 │     2 │     3 │\n",
       "│     4 │     5 │     6 │\n",
       "└───────┴───────┴───────┘"
      ]
     },
     "execution_count": 17,
     "metadata": {},
     "output_type": "execute_result"
    }
   ],
   "source": [
    "import duckdb\n",
    "from fsspec import filesystem\n",
    "duckdb.register_filesystem(filesystem('gcs'))\n",
    "\n",
    "#duckdb read\n",
    "duckdb.sql(f\"select * from read_csv('gs://{bucket}/test.csv')\")"
   ]
  },
  {
   "cell_type": "code",
   "execution_count": 20,
   "metadata": {},
   "outputs": [],
   "source": [
    "#duckdb write\n",
    "duckdb.sql(f\"copy (select * from read_csv('gs://{bucket}/test.csv')) to 'gs://{bucket}/ducks_out.csv'\")"
   ]
  },
  {
   "cell_type": "markdown",
   "metadata": {},
   "source": [
    "#### Polars Integration"
   ]
  },
  {
   "cell_type": "code",
   "execution_count": 22,
   "metadata": {},
   "outputs": [
    {
     "data": {
      "text/html": [
       "<div><style>\n",
       ".dataframe > thead > tr,\n",
       ".dataframe > tbody > tr {\n",
       "  text-align: right;\n",
       "  white-space: pre-wrap;\n",
       "}\n",
       "</style>\n",
       "<small>shape: (2, 3)</small><table border=\"1\" class=\"dataframe\"><thead><tr><th>a</th><th>b</th><th>c</th></tr><tr><td>i64</td><td>i64</td><td>i64</td></tr></thead><tbody><tr><td>1</td><td>2</td><td>3</td></tr><tr><td>4</td><td>5</td><td>6</td></tr></tbody></table></div>"
      ],
      "text/plain": [
       "shape: (2, 3)\n",
       "┌─────┬─────┬─────┐\n",
       "│ a   ┆ b   ┆ c   │\n",
       "│ --- ┆ --- ┆ --- │\n",
       "│ i64 ┆ i64 ┆ i64 │\n",
       "╞═════╪═════╪═════╡\n",
       "│ 1   ┆ 2   ┆ 3   │\n",
       "│ 4   ┆ 5   ┆ 6   │\n",
       "└─────┴─────┴─────┘"
      ]
     },
     "execution_count": 22,
     "metadata": {},
     "output_type": "execute_result"
    }
   ],
   "source": [
    "import polars as pl\n",
    "\n",
    "#polars read\n",
    "df = pl.read_csv(f'gs://{bucket}/test.csv')\n",
    "df.head()"
   ]
  },
  {
   "cell_type": "code",
   "execution_count": 23,
   "metadata": {},
   "outputs": [],
   "source": [
    "df.write_csv(f\"gs://{bucket}/polars_out.csv\")"
   ]
  },
  {
   "cell_type": "markdown",
   "metadata": {},
   "source": [
    "#### Daft Integration"
   ]
  },
  {
   "cell_type": "code",
   "execution_count": 24,
   "metadata": {},
   "outputs": [
    {
     "data": {
      "text/html": [
       "<div>\n",
       "<table class=\"dataframe\">\n",
       "<thead><tr><th style=\"text-wrap: nowrap; max-width:192px; overflow:auto; text-align:left\">a<br />Int64</th><th style=\"text-wrap: nowrap; max-width:192px; overflow:auto; text-align:left\">b<br />Int64</th><th style=\"text-wrap: nowrap; max-width:192px; overflow:auto; text-align:left\">c<br />Int64</th></tr></thead>\n",
       "<tbody>\n",
       "<tr><td><div style=\"text-align:left; max-width:192px; max-height:64px; overflow:auto\">1</div></td><td><div style=\"text-align:left; max-width:192px; max-height:64px; overflow:auto\">2</div></td><td><div style=\"text-align:left; max-width:192px; max-height:64px; overflow:auto\">3</div></td></tr>\n",
       "<tr><td><div style=\"text-align:left; max-width:192px; max-height:64px; overflow:auto\">4</div></td><td><div style=\"text-align:left; max-width:192px; max-height:64px; overflow:auto\">5</div></td><td><div style=\"text-align:left; max-width:192px; max-height:64px; overflow:auto\">6</div></td></tr>\n",
       "</tbody>\n",
       "</table>\n",
       "<small>(Showing first 2 of 2 rows)</small>\n",
       "</div>"
      ],
      "text/plain": [
       "╭───────┬───────┬───────╮\n",
       "│ a     ┆ b     ┆ c     │\n",
       "│ ---   ┆ ---   ┆ ---   │\n",
       "│ Int64 ┆ Int64 ┆ Int64 │\n",
       "╞═══════╪═══════╪═══════╡\n",
       "│ 1     ┆ 2     ┆ 3     │\n",
       "├╌╌╌╌╌╌╌┼╌╌╌╌╌╌╌┼╌╌╌╌╌╌╌┤\n",
       "│ 4     ┆ 5     ┆ 6     │\n",
       "╰───────┴───────┴───────╯\n",
       "\n",
       "(Showing first 2 of 2 rows)"
      ]
     },
     "metadata": {},
     "output_type": "display_data"
    }
   ],
   "source": [
    "import daft\n",
    "\n",
    "#read\n",
    "df = daft.read_csv(f'gs://{bucket}/test.csv')\n",
    "df.show()"
   ]
  },
  {
   "cell_type": "code",
   "execution_count": null,
   "metadata": {},
   "outputs": [],
   "source": [
    "#daft write #will create a random guid for the file name...\n",
    "df.write_csv(f'gs://{bucket}/daft_out')"
   ]
  },
  {
   "cell_type": "markdown",
   "metadata": {},
   "source": [
    "#### Datafusion Integration"
   ]
  },
  {
   "cell_type": "code",
   "execution_count": 26,
   "metadata": {},
   "outputs": [],
   "source": [
    "#https://datafusion.apache.org/python/user-guide/data-sources.html#object-store\n",
    "from datafusion import SessionContext\n",
    "ctx = SessionContext()"
   ]
  },
  {
   "cell_type": "code",
   "execution_count": 27,
   "metadata": {},
   "outputs": [
    {
     "name": "stdout",
     "output_type": "stream",
     "text": [
      "DataFrame()\n",
      "+---+---+---+\n",
      "| a | b | c |\n",
      "+---+---+---+\n",
      "| 1 | 2 | 3 |\n",
      "| 4 | 5 | 6 |\n",
      "+---+---+---+\n"
     ]
    }
   ],
   "source": [
    "from datafusion.object_store import GoogleCloud\n",
    "gs = GoogleCloud(bucket_name = bucket)\n",
    "ctx.register_object_store(\"gs://\", gs, None)\n",
    "sql = f\"\"\"\n",
    "    CREATE EXTERNAL TABLE test_data (\n",
    "        a int, b int, c int\n",
    "    )\n",
    "    stored as csv\n",
    "    location 'gs://{bucket}/test.csv'\n",
    "\"\"\"\n",
    "ctx.sql(sql)\n",
    "ctx.sql(\"select * from test_data\").show()"
   ]
  },
  {
   "cell_type": "code",
   "execution_count": 28,
   "metadata": {},
   "outputs": [
    {
     "data": {
      "text/html": [
       "<table border='1'>\n",
       "<tr><th>count</td></tr>\n",
       "<tr><td>2</td></tr>\n",
       "</table>\n"
      ],
      "text/plain": [
       "DataFrame()\n",
       "+-------+\n",
       "| count |\n",
       "+-------+\n",
       "| 2     |\n",
       "+-------+"
      ]
     },
     "execution_count": 28,
     "metadata": {},
     "output_type": "execute_result"
    }
   ],
   "source": [
    "#test wrting\n",
    "gs_path = f\"gs://{bucket}/agg.csv\"\n",
    "ctx.sql(f\"copy (select * from test_data) to '{gs_path}'\")"
   ]
  }
 ],
 "metadata": {
  "kernelspec": {
   "display_name": ".venv",
   "language": "python",
   "name": "python3"
  },
  "language_info": {
   "codemirror_mode": {
    "name": "ipython",
    "version": 3
   },
   "file_extension": ".py",
   "mimetype": "text/x-python",
   "name": "python",
   "nbconvert_exporter": "python",
   "pygments_lexer": "ipython3",
   "version": "3.13.1"
  }
 },
 "nbformat": 4,
 "nbformat_minor": 2
}
