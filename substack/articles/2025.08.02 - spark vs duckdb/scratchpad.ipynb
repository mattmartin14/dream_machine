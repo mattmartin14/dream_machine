{
 "cells": [
  {
   "cell_type": "code",
   "execution_count": 32,
   "id": "9c098e78",
   "metadata": {},
   "outputs": [],
   "source": [
    "import os\n",
    "import duckdb\n",
    "import time"
   ]
  },
  {
   "cell_type": "code",
   "execution_count": null,
   "id": "5048ea8e",
   "metadata": {},
   "outputs": [],
   "source": [
    "# Generate dummy data using DuckDB SQL\n",
    "def gen_dataset(rows):\n",
    "\n",
    "    lower_bound = \"2020-01-01\"\n",
    "    upper_bound = \"2025-01-01\"  \n",
    "\n",
    "    duckdb.execute(f\"\"\"\n",
    "        COPY (\n",
    "        select  \n",
    "              t.row_id\n",
    "            , cast(uuid() as varchar(30)) as txn_key\n",
    "            , date '{lower_bound}' \n",
    "            + (random() * (date_diff('day', date '{lower_bound}', date '{upper_bound}')))::int as rand_dt\n",
    "            , round(random() * 100, 2) as rand_val\n",
    "            , substr(\n",
    "                  'abcdefghijklmnopqrstuvwxyzABCDEFGHIJKLMNOPQRSTUVWXYZ0123456789', \n",
    "                  1, \n",
    "                  1 + (random() * 25)::int\n",
    "              ) as rand_str\n",
    "        from generate_series(1,{rows}) t(row_id)\n",
    "        ) TO '~/dummy_data/duckb_dataset_{rows}.parquet' (FORMAT 'parquet')\n",
    "    \"\"\")\n"
   ]
  },
  {
   "cell_type": "code",
   "execution_count": 23,
   "id": "27e14ced",
   "metadata": {},
   "outputs": [],
   "source": [
    "gen_dataset(500)\n",
    "gen_dataset(5_000)\n",
    "gen_dataset(50_000)\n",
    "gen_dataset(500_000)\n",
    "gen_dataset(5_000_000)\n",
    "gen_dataset(50_000_000)\n",
    "gen_dataset(500_000_000)\n"
   ]
  },
  {
   "cell_type": "code",
   "execution_count": 29,
   "id": "6a4701cd",
   "metadata": {},
   "outputs": [
    {
     "name": "stdout",
     "output_type": "stream",
     "text": [
      "┌────────┬──────────────────────────────────────┬────────────┬──────────┬───────────────────────────┐\n",
      "│ row_id │               txn_key                │  rand_dt   │ rand_val │         rand_str          │\n",
      "│ int64  │               varchar                │    date    │  double  │          varchar          │\n",
      "├────────┼──────────────────────────────────────┼────────────┼──────────┼───────────────────────────┤\n",
      "│      1 │ 6e7dae11-f7a0-45fc-99e4-b1835d580061 │ 2022-10-04 │    88.15 │ abcdefghijklmnopqrstuvwxy │\n",
      "│      2 │ 358a0dd5-548a-4177-8d0c-d1166591738f │ 2021-10-12 │    53.25 │ abcdefghijklm             │\n",
      "│      3 │ 819dcc8e-23cc-4a6e-92b6-a03bfc3adbac │ 2024-04-11 │     43.2 │ abcdefghijklmnop          │\n",
      "│      4 │ 14d193b8-8de1-417c-a8b5-f06b8cba57bb │ 2021-07-09 │     0.89 │ abcdefghijklmnop          │\n",
      "│      5 │ de3bc394-edc5-4494-91a7-196f5500b82b │ 2023-11-26 │    22.45 │ abcdefghijkl              │\n",
      "└────────┴──────────────────────────────────────┴────────────┴──────────┴───────────────────────────┘\n",
      "\n"
     ]
    }
   ],
   "source": [
    "f_path = os.path.expanduser(\"~/dummy_data/duckb_dataset_*.parquet\")\n",
    "\n",
    "duckdb.sql(f\"from read_parquet('{f_path}') limit 5\").show()"
   ]
  },
  {
   "cell_type": "code",
   "execution_count": 51,
   "id": "67acffe2",
   "metadata": {},
   "outputs": [],
   "source": [
    "from pyspark.sql import SparkSession\n",
    "from pyspark.sql import functions as F\n",
    "\n",
    "spark = (SparkSession.builder \n",
    "        .appName(\"Sledgehammer\") \n",
    "        .getOrCreate()  \n",
    ")"
   ]
  },
  {
   "cell_type": "code",
   "execution_count": null,
   "id": "5e308862",
   "metadata": {},
   "outputs": [
    {
     "name": "stdout",
     "output_type": "stream",
     "text": [
      "DuckDB | duckb_dataset_500.parquet | 500 rows | 7.28 ms\n",
      "DuckDB | duckb_dataset_5000.parquet | 5,000 rows | 5.02 ms\n",
      "DuckDB | duckb_dataset_50000.parquet | 50,000 rows | 7.07 ms\n",
      "DuckDB | duckb_dataset_500000.parquet | 500,000 rows | 12.71 ms\n",
      "DuckDB | duckb_dataset_5000000.parquet | 5,000,000 rows | 79.35 ms\n",
      "DuckDB | duckb_dataset_50000000.parquet | 50,000,000 rows | 341.16 ms\n",
      "DuckDB | duckb_dataset_500000000.parquet | 500,000,000 rows | 2648.06 ms\n",
      "Spark  | duckb_dataset_500.parquet | 500 rows | 210.74 ms\n",
      "Spark  | duckb_dataset_5000.parquet | 5,000 rows | 184.39 ms\n",
      "Spark  | duckb_dataset_50000.parquet | 50,000 rows | 202.29 ms\n",
      "Spark  | duckb_dataset_500000.parquet | 500,000 rows | 257.04 ms\n",
      "Spark  | duckb_dataset_5000000.parquet | 5,000,000 rows | 561.60 ms\n"
     ]
    },
    {
     "name": "stderr",
     "output_type": "stream",
     "text": [
      "                                                                                \r"
     ]
    },
    {
     "name": "stdout",
     "output_type": "stream",
     "text": [
      "Spark  | duckb_dataset_50000000.parquet | 50,000,000 rows | 1341.11 ms\n"
     ]
    },
    {
     "name": "stderr",
     "output_type": "stream",
     "text": [
      "[Stage 793:==========================================>         (143 + 12) / 174]\r"
     ]
    },
    {
     "name": "stdout",
     "output_type": "stream",
     "text": [
      "Spark  | duckb_dataset_500000000.parquet | 500,000,000 rows | 10150.79 ms\n"
     ]
    },
    {
     "name": "stderr",
     "output_type": "stream",
     "text": [
      "                                                                                \r"
     ]
    }
   ],
   "source": [
    "import glob\n",
    "import os\n",
    "import time\n",
    "import duckdb\n",
    "\n",
    "def duckdb_benchmark(parquet_files):\n",
    "    cn = duckdb.connect()\n",
    "    results = []\n",
    "    for f_path in parquet_files:\n",
    "        start = time.time()\n",
    "        cn.sql(f\"select rand_dt, count(distinct rand_str) from read_parquet('{f_path}') group by all order by 2 desc\").fetchall()\n",
    "        end = time.time()\n",
    "        elapsed_ms = (end - start) * 1000\n",
    "        row_count = cn.sql(f\"select count(*) from read_parquet('{f_path}')\").fetchone()[0]\n",
    "        results.append((row_count, elapsed_ms))\n",
    "        print(f\"DuckDB | {os.path.basename(f_path)} | {row_count:,} rows | {elapsed_ms:.2f} ms\")\n",
    "    return results\n",
    "\n",
    "def spark_benchmark(parquet_files, spark):\n",
    "    results = []\n",
    "    for f_path in parquet_files:\n",
    "        start = time.time()\n",
    "        df = spark.read.parquet(f_path)\n",
    "        grouped = df.groupBy(\"rand_dt\").agg(F.count_distinct(\"rand_str\").alias(\"distinct_rand_str_count\")).orderBy(\"distinct_rand_str_count\", ascending=False)\n",
    "        grouped.collect()\n",
    "        end = time.time()\n",
    "        elapsed_ms = (end - start) * 1000\n",
    "        row_count = df.count()\n",
    "        results.append((row_count, elapsed_ms))\n",
    "        print(f\"Spark  | {os.path.basename(f_path)} | {row_count:,} rows | {elapsed_ms:.2f} ms\")\n",
    "    return results\n",
    "\n",
    "data_dir = os.path.expanduser(\"~/dummy_data/\")\n",
    "parquet_files = sorted(glob.glob(os.path.join(data_dir, \"duckb_dataset_*.parquet\")))\n",
    "\n",
    "duckdb_results = duckdb_benchmark(parquet_files)\n",
    "spark_results = spark_benchmark(parquet_files, spark)\n",
    "\n"
   ]
  },
  {
   "cell_type": "code",
   "execution_count": 56,
   "id": "f5b2eaaa",
   "metadata": {},
   "outputs": [
    {
     "data": {
      "image/png": "[encoded data removed]",
      "text/plain": [
       "<Figure size 1000x600 with 1 Axes>"
      ]
     },
     "metadata": {},
     "output_type": "display_data"
    }
   ],
   "source": [
    "import matplotlib.pyplot as plt\n",
    "\n",
    "row_counts = [r[0] for r in duckdb_results]\n",
    "duckdb_times = [r[1] for r in duckdb_results]\n",
    "spark_times = [r[1] for r in spark_results]\n",
    "\n",
    "plt.figure(figsize=(10, 6))\n",
    "bar_width = 0.35\n",
    "x = range(len(row_counts))\n",
    "\n",
    "plt.bar(x, duckdb_times, width=bar_width, label='DuckDB', color='orange')\n",
    "plt.bar([i + bar_width for i in x], spark_times, width=bar_width, label='Spark', color='skyblue')\n",
    "\n",
    "plt.xlabel('Row Count')\n",
    "plt.ylabel('Run Time (ms)')\n",
    "plt.title('DuckDB vs Spark Query Run Time by Row Count')\n",
    "plt.xticks([i + bar_width / 2 for i in x], [f\"{rc:,}\" for rc in row_counts], rotation=45)\n",
    "plt.legend()\n",
    "plt.tight_layout()\n",
    "plt.show()"
   ]
  }
 ],
 "metadata": {
  "kernelspec": {
   "display_name": ".venv (3.13.5)",
   "language": "python",
   "name": "python3"
  },
  "language_info": {
   "codemirror_mode": {
    "name": "ipython",
    "version": 3
   },
   "file_extension": ".py",
   "mimetype": "text/x-python",
   "name": "python",
   "nbconvert_exporter": "python",
   "pygments_lexer": "ipython3",
   "version": "3.13.5"
  }
 },
 "nbformat": 4,
 "nbformat_minor": 5
}
