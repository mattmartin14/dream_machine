{
 "cells": [
  {
   "cell_type": "code",
   "execution_count": 1,
   "id": "f41ca1cf",
   "metadata": {},
   "outputs": [
    {
     "name": "stderr",
     "output_type": "stream",
     "text": [
      "WARNING: Using incubator modules: jdk.incubator.vector\n",
      "Using Spark's default log4j profile: org/apache/spark/log4j2-defaults.properties\n",
      "Setting default log level to \"WARN\".\n",
      "To adjust logging level use sc.setLogLevel(newLevel). For SparkR, use setLogLevel(newLevel).\n",
      "25/08/03 06:06:49 WARN NativeCodeLoader: Unable to load native-hadoop library for your platform... using builtin-java classes where applicable\n"
     ]
    }
   ],
   "source": [
    "from pyspark.sql import SparkSession\n",
    "\n",
    "spark = (SparkSession.builder \n",
    "        .appName(\"Sledgehammer\") \n",
    "        .getOrCreate()  \n",
    ")"
   ]
  },
  {
   "cell_type": "code",
   "execution_count": 13,
   "id": "354504dc",
   "metadata": {},
   "outputs": [
    {
     "name": "stdout",
     "output_type": "stream",
     "text": [
      "Time taken to run the query: 0.03596687316894531 seconds\n"
     ]
    }
   ],
   "source": [
    "import time\n",
    "start = time.time()\n",
    "spark.sql(\"select 1\").collect()\n",
    "end = time.time()\n",
    "\n",
    "print(f\"Time taken to run the query: {end - start} seconds\")"
   ]
  },
  {
   "cell_type": "code",
   "execution_count": 28,
   "id": "9c098e78",
   "metadata": {},
   "outputs": [],
   "source": [
    "import os"
   ]
  },
  {
   "cell_type": "code",
   "execution_count": 4,
   "id": "34b53343",
   "metadata": {},
   "outputs": [],
   "source": [
    "import duckdb\n",
    "cn = duckdb.connect()"
   ]
  },
  {
   "cell_type": "code",
   "execution_count": 14,
   "id": "5316bd0a",
   "metadata": {},
   "outputs": [
    {
     "name": "stdout",
     "output_type": "stream",
     "text": [
      "Time taken to run the query: 0.0009810924530029297 seconds\n"
     ]
    }
   ],
   "source": [
    "start = time.time()\n",
    "cn.execute(\"select 1\").fetchall()\n",
    "end = time.time()   \n",
    "\n",
    "print(f\"Time taken to run the query: {end - start} seconds\")"
   ]
  },
  {
   "cell_type": "code",
   "execution_count": 33,
   "id": "5048ea8e",
   "metadata": {},
   "outputs": [
    {
     "data": {
      "text/plain": [
       "<duckdb.duckdb.DuckDBPyConnection at 0x10594e330>"
      ]
     },
     "execution_count": 33,
     "metadata": {},
     "output_type": "execute_result"
    }
   ],
   "source": [
    "# Generate dummy data using DuckDB SQL\n",
    "rows = 500_000\n",
    "\n",
    "lower_bound = \"2020-01-01\"\n",
    "upper_bound = \"2025-01-01\"\n",
    "\n",
    "sql = f\"\"\"\n",
    "    select  \n",
    "          t.row_id\n",
    "        , cast(uuid() as varchar(30)) as txn_key\n",
    "        , date '{lower_bound}' \n",
    "            + (random() * (date_diff('day', date '{lower_bound}', date '{upper_bound}')))::int as rpt_dt\n",
    "        ,round(random() * 100,2) as some_val\n",
    "    from generate_series(1,{rows}) t(row_id)\n",
    "\"\"\"\n",
    "\n",
    "# Write to Parquet\n",
    "f_path = os.path.expanduser(\"~/dummy_data/dummy_data.parquet\")\n",
    "\n",
    "cn.execute(f\"COPY ({sql}) TO '{f_path}' (FORMAT 'parquet')\")\n"
   ]
  },
  {
   "cell_type": "code",
   "execution_count": 34,
   "id": "9085f24a",
   "metadata": {},
   "outputs": [
    {
     "name": "stdout",
     "output_type": "stream",
     "text": [
      "Time taken to run the query in duckdb: 0.004390239715576172 seconds\n",
      "Time taken to run the query in Spark: 0.23548316955566406 seconds\n"
     ]
    }
   ],
   "source": [
    "start = time.time()\n",
    "cn.sql(f\"select rpt_dt, count(*) from read_parquet('{f_path}') group by all order by 2 desc limit 30\").fetchall()\n",
    "end = time.time()\n",
    "\n",
    "print(f\"Time taken to run the query in duckdb: {end - start} seconds\")\n",
    "\n",
    "start = time.time()\n",
    "spark.read.parquet(f_path).groupBy(\"rpt_dt\").count().orderBy(\"count\", ascending=False).collect()\n",
    "end = time.time()\n",
    "\n",
    "print(f\"Time taken to run the query in Spark: {end - start} seconds\")"
   ]
  }
 ],
 "metadata": {
  "kernelspec": {
   "display_name": ".venv (3.13.5)",
   "language": "python",
   "name": "python3"
  },
  "language_info": {
   "codemirror_mode": {
    "name": "ipython",
    "version": 3
   },
   "file_extension": ".py",
   "mimetype": "text/x-python",
   "name": "python",
   "nbconvert_exporter": "python",
   "pygments_lexer": "ipython3",
   "version": "3.13.5"
  }
 },
 "nbformat": 4,
 "nbformat_minor": 5
}
