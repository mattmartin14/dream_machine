{
 "cells": [
  {
   "cell_type": "code",
   "execution_count": 1,
   "id": "9c098e78",
   "metadata": {},
   "outputs": [],
   "source": [
    "import os\n",
    "import duckdb\n",
    "import time"
   ]
  },
  {
   "cell_type": "markdown",
   "id": "1aa1063d",
   "metadata": {},
   "source": [
    "### Data Gen Code"
   ]
  },
  {
   "cell_type": "code",
   "execution_count": null,
   "id": "5048ea8e",
   "metadata": {},
   "outputs": [],
   "source": [
    "# Generate dummy data using DuckDB SQL\n",
    "def gen_dataset(rows):\n",
    "\n",
    "    lower_bound = \"2020-01-01\"\n",
    "    upper_bound = \"2025-01-01\"  \n",
    "\n",
    "    duckdb.execute(f\"\"\"\n",
    "        COPY (\n",
    "        select  \n",
    "              t.row_id\n",
    "            , cast(uuid() as varchar(30)) as txn_key\n",
    "            , date '{lower_bound}' \n",
    "            + (random() * (date_diff('day', date '{lower_bound}', date '{upper_bound}')))::int as rand_dt\n",
    "            , round(random() * 100, 2) as rand_val\n",
    "            , substr(\n",
    "                  'abcdefghijklmnopqrstuvwxyzABCDEFGHIJKLMNOPQRSTUVWXYZ0123456789', \n",
    "                  1, \n",
    "                  1 + (random() * 25)::int\n",
    "              ) as rand_str\n",
    "        from generate_series(1,{rows}) t(row_id)\n",
    "        ) TO '~/dummy_data/ds_{rows}_rows.parquet' (FORMAT 'parquet')\n",
    "    \"\"\")\n"
   ]
  },
  {
   "cell_type": "code",
   "execution_count": null,
   "id": "27e14ced",
   "metadata": {},
   "outputs": [],
   "source": [
    "gen_dataset(500)\n",
    "gen_dataset(5_000)\n",
    "gen_dataset(50_000)\n",
    "gen_dataset(500_000)\n",
    "gen_dataset(5_000_000)\n",
    "gen_dataset(50_000_000)\n",
    "gen_dataset(500_000_000)"
   ]
  },
  {
   "cell_type": "code",
   "execution_count": null,
   "id": "67acffe2",
   "metadata": {},
   "outputs": [],
   "source": [
    "from pyspark.sql import SparkSession\n",
    "from pyspark.sql import functions as F\n",
    "\n",
    "spark = SparkSession.builder.appName(\"Sledgehammer\").getOrCreate()  "
   ]
  },
  {
   "cell_type": "markdown",
   "id": "c9a0de23",
   "metadata": {},
   "source": [
    "### Benchmark Code"
   ]
  },
  {
   "cell_type": "code",
   "execution_count": 3,
   "id": "5e308862",
   "metadata": {},
   "outputs": [
    {
     "name": "stderr",
     "output_type": "stream",
     "text": [
      "                                                                                \r"
     ]
    }
   ],
   "source": [
    "import glob\n",
    "import os\n",
    "import time\n",
    "import pandas as pd\n",
    "\n",
    "def duckdb_benchmark(parquet_files):\n",
    "    cn = duckdb.connect()\n",
    "    results = []\n",
    "    for f_path in parquet_files:\n",
    "        start = time.time()\n",
    "        cn.sql(f\"select rand_dt, count(distinct rand_str) from read_parquet('{f_path}') group by all order by 2 desc\").fetchall()\n",
    "        end = time.time()\n",
    "        elapsed_ms = (end - start) * 1000\n",
    "        row_count = cn.sql(f\"select count(*) from read_parquet('{f_path}')\").fetchone()[0]\n",
    "        results.append({\"Engine\": \"DuckDB\", \"File\": os.path.basename(f_path), \"Rows\": f\"{row_count:,}\", \"Run Time (ms)\": f\"{elapsed_ms:.2f}\"})\n",
    "    return results\n",
    "\n",
    "def spark_benchmark(parquet_files, spark):\n",
    "    results = []\n",
    "    for f_path in parquet_files:\n",
    "        start = time.time()\n",
    "        df = spark.read.parquet(f_path)\n",
    "        grouped = df.groupBy(\"rand_dt\").agg(F.count_distinct(\"rand_str\").alias(\"distinct_rand_str_count\")).orderBy(\"distinct_rand_str_count\", ascending=False)\n",
    "        grouped.collect()\n",
    "        end = time.time()\n",
    "        elapsed_ms = (end - start) * 1000\n",
    "        row_count = df.count()\n",
    "        results.append({\"Engine\": \"Spark\", \"File\": os.path.basename(f_path), \"Rows\": f\"{row_count:,}\", \"Run Time (ms)\": f\"{elapsed_ms:.2f}\"})\n",
    "    return results\n",
    "\n",
    "data_dir = os.path.expanduser(\"~/dummy_data/\")\n",
    "parquet_files = sorted(glob.glob(os.path.join(data_dir, \"ds_*.parquet\")))\n",
    "\n",
    "duckdb_results = duckdb_benchmark(parquet_files)\n",
    "spark_results = spark_benchmark(parquet_files, spark)\n"
   ]
  },
  {
   "cell_type": "markdown",
   "id": "10c8923e",
   "metadata": {},
   "source": [
    "### Format the run time results as a table"
   ]
  },
  {
   "cell_type": "code",
   "execution_count": 5,
   "id": "319cec8a",
   "metadata": {},
   "outputs": [
    {
     "data": {
      "text/html": [
       "<style type=\"text/css\">\n",
       "#T_c71fb_row0_col0, #T_c71fb_row2_col0, #T_c71fb_row4_col0, #T_c71fb_row6_col0 {\n",
       "  background-color: #ffffff;\n",
       "  color: #000000;\n",
       "  font-weight: bold;\n",
       "  text-align: left;\n",
       "  color: #000000;\n",
       "  font-weight: bold;\n",
       "}\n",
       "#T_c71fb_row0_col1, #T_c71fb_row0_col2, #T_c71fb_row2_col1, #T_c71fb_row2_col2, #T_c71fb_row4_col1, #T_c71fb_row4_col2, #T_c71fb_row6_col1, #T_c71fb_row6_col2 {\n",
       "  background-color: #ffffff;\n",
       "  color: #000000;\n",
       "  font-weight: bold;\n",
       "  text-align: center;\n",
       "  color: #000000;\n",
       "  font-weight: bold;\n",
       "}\n",
       "#T_c71fb_row1_col0, #T_c71fb_row3_col0, #T_c71fb_row5_col0 {\n",
       "  background-color: #ffd699;\n",
       "  color: #000000;\n",
       "  font-weight: bold;\n",
       "  text-align: left;\n",
       "  color: #000000;\n",
       "  font-weight: bold;\n",
       "}\n",
       "#T_c71fb_row1_col1, #T_c71fb_row1_col2, #T_c71fb_row3_col1, #T_c71fb_row3_col2, #T_c71fb_row5_col1, #T_c71fb_row5_col2 {\n",
       "  background-color: #ffd699;\n",
       "  color: #000000;\n",
       "  font-weight: bold;\n",
       "  text-align: center;\n",
       "  color: #000000;\n",
       "  font-weight: bold;\n",
       "}\n",
       "</style>\n",
       "<table id=\"T_c71fb\">\n",
       "  <thead>\n",
       "    <tr>\n",
       "      <th id=\"T_c71fb_level0_col0\" class=\"col_heading level0 col0\" >Row Count</th>\n",
       "      <th id=\"T_c71fb_level0_col1\" class=\"col_heading level0 col1\" >DuckDb Runtime</th>\n",
       "      <th id=\"T_c71fb_level0_col2\" class=\"col_heading level0 col2\" >Spark Runtime</th>\n",
       "    </tr>\n",
       "  </thead>\n",
       "  <tbody>\n",
       "    <tr>\n",
       "      <td id=\"T_c71fb_row0_col0\" class=\"data row0 col0\" >500</td>\n",
       "      <td id=\"T_c71fb_row0_col1\" class=\"data row0 col1\" >3.53</td>\n",
       "      <td id=\"T_c71fb_row0_col2\" class=\"data row0 col2\" >224.03</td>\n",
       "    </tr>\n",
       "    <tr>\n",
       "      <td id=\"T_c71fb_row1_col0\" class=\"data row1 col0\" >5k</td>\n",
       "      <td id=\"T_c71fb_row1_col1\" class=\"data row1 col1\" >5.52</td>\n",
       "      <td id=\"T_c71fb_row1_col2\" class=\"data row1 col2\" >211.97</td>\n",
       "    </tr>\n",
       "    <tr>\n",
       "      <td id=\"T_c71fb_row2_col0\" class=\"data row2 col0\" >50k</td>\n",
       "      <td id=\"T_c71fb_row2_col1\" class=\"data row2 col1\" >5.97</td>\n",
       "      <td id=\"T_c71fb_row2_col2\" class=\"data row2 col2\" >256.29</td>\n",
       "    </tr>\n",
       "    <tr>\n",
       "      <td id=\"T_c71fb_row3_col0\" class=\"data row3 col0\" >500k</td>\n",
       "      <td id=\"T_c71fb_row3_col1\" class=\"data row3 col1\" >14.38</td>\n",
       "      <td id=\"T_c71fb_row3_col2\" class=\"data row3 col2\" >285.92</td>\n",
       "    </tr>\n",
       "    <tr>\n",
       "      <td id=\"T_c71fb_row4_col0\" class=\"data row4 col0\" >5M</td>\n",
       "      <td id=\"T_c71fb_row4_col1\" class=\"data row4 col1\" >55.27</td>\n",
       "      <td id=\"T_c71fb_row4_col2\" class=\"data row4 col2\" >646.64</td>\n",
       "    </tr>\n",
       "    <tr>\n",
       "      <td id=\"T_c71fb_row5_col0\" class=\"data row5 col0\" >50M</td>\n",
       "      <td id=\"T_c71fb_row5_col1\" class=\"data row5 col1\" >309.45</td>\n",
       "      <td id=\"T_c71fb_row5_col2\" class=\"data row5 col2\" >1563.99</td>\n",
       "    </tr>\n",
       "    <tr>\n",
       "      <td id=\"T_c71fb_row6_col0\" class=\"data row6 col0\" >500M</td>\n",
       "      <td id=\"T_c71fb_row6_col1\" class=\"data row6 col1\" >2623.37</td>\n",
       "      <td id=\"T_c71fb_row6_col2\" class=\"data row6 col2\" >13055.49</td>\n",
       "    </tr>\n",
       "  </tbody>\n",
       "</table>\n"
      ],
      "text/plain": [
       "<IPython.core.display.HTML object>"
      ]
     },
     "metadata": {},
     "output_type": "display_data"
    }
   ],
   "source": [
    "from IPython.display import display, HTML\n",
    "\n",
    "# Combine results and create DataFrame\n",
    "all_results = duckdb_results + spark_results\n",
    "df_results = pd.DataFrame(all_results)\n",
    "\n",
    "# Convert columns to numeric for pivoting\n",
    "df_results[\"Rows\"] = df_results[\"Rows\"].str.replace(\",\", \"\").astype(int)\n",
    "df_results[\"Run Time (ms)\"] = df_results[\"Run Time (ms)\"].astype(float)\n",
    "\n",
    "# Pivot and format table\n",
    "pivot_df = df_results.pivot(index=\"Rows\", columns=\"Engine\", values=\"Run Time (ms)\").sort_index()\n",
    "pivot_df = pivot_df.rename_axis(None, axis=1).reset_index()\n",
    "pivot_df = pivot_df.rename(columns={\"Rows\": \"Row Count\", \"DuckDB\": \"DuckDb Runtime\", \"Spark\": \"Spark Runtime\"})\n",
    "\n",
    "def abbreviate_number(n):\n",
    "    if n >= 1_000_000_000:\n",
    "        return f\"{int(n/1_000_000_000)}B\"\n",
    "    elif n >= 1_000_000:\n",
    "        return f\"{int(n/1_000_000)}M\"\n",
    "    elif n >= 1_000:\n",
    "        return f\"{int(n/1_000)}k\"\n",
    "    else:\n",
    "        return str(n)\n",
    "\n",
    "pivot_df[\"Row Count\"] = pivot_df[\"Row Count\"].apply(abbreviate_number)\n",
    "\n",
    "# Style table with alternating row colors\n",
    "def highlight_rows(row):\n",
    "    color = '#ffd699' if row.name % 2 else '#ffffff'\n",
    "    return [f'background-color: {color}; color: #000000; font-weight: bold;' for _ in row]\n",
    "\n",
    "styled_table = (\n",
    "    pivot_df[[\"Row Count\", \"DuckDb Runtime\", \"Spark Runtime\"]]\n",
    "    .style\n",
    "    .apply(highlight_rows, axis=1)\n",
    "    .set_properties(subset=[\"Row Count\"], **{'text-align': 'left', 'color': '#000000', 'font-weight': 'bold'})\n",
    "    .set_properties(subset=[\"DuckDb Runtime\", \"Spark Runtime\"], **{'text-align': 'center', 'color': '#000000', 'font-weight': 'bold'})\n",
    "    .format({\"DuckDb Runtime\": \"{:.2f}\", \"Spark Runtime\": \"{:.2f}\"})\n",
    "    .hide(axis=\"index\")\n",
    ")\n",
    "\n",
    "display(HTML(styled_table.to_html()))"
   ]
  },
  {
   "cell_type": "code",
   "execution_count": 6,
   "id": "f5b2eaaa",
   "metadata": {},
   "outputs": [
    {
     "data": {
      "image/png": "[encoded data removed]",
      "text/plain": [
       "<Figure size 1000x600 with 1 Axes>"
      ]
     },
     "metadata": {},
     "output_type": "display_data"
    }
   ],
   "source": [
    "import matplotlib.pyplot as plt\n",
    "from matplotlib.ticker import FuncFormatter\n",
    "\n",
    "df_results[\"Rows\"] = df_results[\"Rows\"].astype(int)\n",
    "df_results[\"Run Time (ms)\"] = df_results[\"Run Time (ms)\"].astype(float)\n",
    "\n",
    "pivot_df = df_results.pivot(index=\"Rows\", columns=\"Engine\", values=\"Run Time (ms)\").sort_index()\n",
    "\n",
    "plt.figure(figsize=(10, 6))\n",
    "bar_width = 0.35\n",
    "x = range(len(pivot_df.index))\n",
    "\n",
    "plt.bar(x, pivot_df[\"DuckDB\"], width=bar_width, label='DuckDB', color='orange')\n",
    "plt.bar([i + bar_width for i in x], pivot_df[\"Spark\"], width=bar_width, label='Spark', color='skyblue')\n",
    "\n",
    "plt.xlabel('Row Count')\n",
    "plt.ylabel('Run Time (ms)')\n",
    "plt.title('DuckDB vs Spark Query Run Time by Row Count')\n",
    "plt.xticks(\n",
    "    [i + bar_width / 2 for i in x],\n",
    "    [abbreviate_number(rc) for rc in pivot_df.index],\n",
    "    rotation=45\n",
    ")\n",
    "plt.gca().get_yaxis().set_major_formatter(FuncFormatter(lambda x, _: f\"{int(x):,}\"))\n",
    "\n",
    "plt.legend()\n",
    "plt.tight_layout()\n",
    "plt.show()"
   ]
  }
 ],
 "metadata": {
  "kernelspec": {
   "display_name": ".venv (3.13.5)",
   "language": "python",
   "name": "python3"
  },
  "language_info": {
   "codemirror_mode": {
    "name": "ipython",
    "version": 3
   },
   "file_extension": ".py",
   "mimetype": "text/x-python",
   "name": "python",
   "nbconvert_exporter": "python",
   "pygments_lexer": "ipython3",
   "version": "3.13.5"
  }
 },
 "nbformat": 4,
 "nbformat_minor": 5
}
