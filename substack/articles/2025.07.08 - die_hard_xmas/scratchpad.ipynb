{
 "cells": [
  {
   "cell_type": "code",
   "execution_count": null,
   "id": "15f026ff",
   "metadata": {},
   "outputs": [],
   "source": [
    "%pip install requests bs4"
   ]
  },
  {
   "cell_type": "code",
   "execution_count": 9,
   "id": "64f6a16f",
   "metadata": {},
   "outputs": [
    {
     "name": "stdout",
     "output_type": "stream",
     "text": [
      "Word frequency for Christmas-related terms:\n",
      "\n",
      "christmas: 18\n",
      "tree: 2\n",
      "santa: 4\n",
      "holiday: 2\n",
      "presents: 1\n",
      "snow: 7\n",
      "jingle: 0\n",
      "bells: 0\n",
      "festive: 0\n",
      "miracle: 2\n",
      "joy: 0\n",
      "carol: 0\n",
      "reindeer: 0\n",
      "\n",
      "--- Analysis ---\n",
      "Total words in script: 27201\n",
      "Total sentences in script: 2613\n",
      "Total mentions of 'christmas': 18\n",
      "Average number of words between mentions: 1591.29\n",
      "Average number of sentences between mentions: 153.41\n"
     ]
    }
   ],
   "source": [
    "import requests\n",
    "from bs4 import BeautifulSoup\n",
    "from collections import Counter\n",
    "import re\n",
    "\n",
    "# --- 1. Fetch and clean the script ---\n",
    "url = 'https://imsdb.com/scripts/Die-Hard.html'\n",
    "response = requests.get(url)\n",
    "soup = BeautifulSoup(response.text, 'html.parser')\n",
    "pre_tag = soup.find('pre')  # The script is inside <pre>\n",
    "script = pre_tag.get_text().lower()  # Convert to lowercase for uniformity\n",
    "\n",
    "# --- 2. Tokenize words and compute frequency ---\n",
    "words = re.findall(r'\\b\\w+\\b', script)\n",
    "word_counts = Counter(words)\n",
    "\n",
    "# --- 3. Find word-level positions for 'christmas' ---\n",
    "word_positions = [i for i, word in enumerate(words) if word == \"christmas\"]\n",
    "\n",
    "# --- 4. Sentence-level analysis ---\n",
    "# Rough sentence split based on punctuation\n",
    "sentences = re.split(r'(?<=[.!?])\\s+', script)\n",
    "sentence_positions = []\n",
    "\n",
    "# Track which sentence index each \"christmas\" occurs in\n",
    "for i, sentence in enumerate(sentences):\n",
    "    if \"christmas\" in sentence:\n",
    "        # Count how many times it appears in this sentence (could be multiple)\n",
    "        count = sentence.count(\"christmas\")\n",
    "        sentence_positions.extend([i] * count)\n",
    "\n",
    "# --- 5. Calculate word and sentence distances ---\n",
    "word_distances = [word_positions[i+1] - word_positions[i] for i in range(len(word_positions) - 1)]\n",
    "sentence_distances = [sentence_positions[i+1] - sentence_positions[i] for i in range(len(sentence_positions) - 1)]\n",
    "\n",
    "# --- 6. Final results ---\n",
    "average_word_gap = sum(word_distances) / len(word_distances) if word_distances else 0\n",
    "average_sentence_gap = sum(sentence_distances) / len(sentence_distances) if sentence_distances else 0\n",
    "\n",
    "# --- 7. Print results ---\n",
    "print(\"Word frequency for Christmas-related terms:\\n\")\n",
    "christmas_terms = [\n",
    "    \"christmas\", \"tree\", \"santa\", \"holiday\", \"presents\", \"snow\",\n",
    "    \"jingle\", \"bells\", \"festive\", \"miracle\", \"joy\", \"carol\", \"reindeer\"\n",
    "]\n",
    "for term in christmas_terms:\n",
    "    print(f\"{term}: {word_counts[term]}\")\n",
    "\n",
    "print(\"\\n--- Analysis ---\")\n",
    "print(f\"Total words in script: {len(words)}\")\n",
    "print(f\"Total sentences in script: {len(sentences)}\")\n",
    "print(f\"Total mentions of 'christmas': {word_counts['christmas']}\")\n",
    "print(f\"Average number of words between mentions: {average_word_gap:.2f}\")\n",
    "print(f\"Average number of sentences between mentions: {average_sentence_gap:.2f}\")\n"
   ]
  },
  {
   "cell_type": "code",
   "execution_count": null,
   "id": "f92312b9",
   "metadata": {},
   "outputs": [],
   "source": [
    "%pip install pandas seaborn matplotlib"
   ]
  },
  {
   "cell_type": "code",
   "execution_count": 13,
   "id": "6cdbb0c9",
   "metadata": {},
   "outputs": [
    {
     "data": {
      "image/png": "[encoded data removed]",
      "text/plain": [
       "<Figure size 1000x400 with 1 Axes>"
      ]
     },
     "metadata": {},
     "output_type": "display_data"
    }
   ],
   "source": [
    "import requests\n",
    "from bs4 import BeautifulSoup\n",
    "import re\n",
    "import pandas as pd\n",
    "import matplotlib.pyplot as plt\n",
    "import seaborn as sns\n",
    "\n",
    "# Load the Die Hard script from IMSDb\n",
    "url = 'https://imsdb.com/scripts/Die-Hard.html'\n",
    "response = requests.get(url)\n",
    "soup = BeautifulSoup(response.text, 'html.parser')\n",
    "pre_tag = soup.find('pre')\n",
    "script = pre_tag.get_text().lower()\n",
    "\n",
    "# Tokenize into words (excluding punctuation)\n",
    "words = re.findall(r'\\b\\w+\\b', script)\n",
    "total_words = len(words)\n",
    "\n",
    "# Find actual word positions of 'christmas'\n",
    "positions = [i for i, word in enumerate(words) if word == \"christmas\"]\n",
    "\n",
    "# Convert positions to percent-of-script for plotting\n",
    "percent_through_script = [pos * 100 / total_words for pos in positions]\n",
    "\n",
    "# Create DataFrame\n",
    "df = pd.DataFrame({\n",
    "    \"Script Progress (%)\": percent_through_script,\n",
    "    \"Mention\": [\"Christmas\"] * len(percent_through_script)\n",
    "})\n",
    "\n",
    "# Plot with ggplot style\n",
    "plt.style.use(\"ggplot\")\n",
    "plt.figure(figsize=(10, 4))\n",
    "sns.scatterplot(\n",
    "    x=\"Script Progress (%)\",\n",
    "    y=[\"\"] * len(df),  # flat line\n",
    "    data=df,\n",
    "    color=\"red\",\n",
    "    s=100,\n",
    "    label=\"Christmas Mention\"\n",
    ")\n",
    "plt.title(\"Actual Distribution of 'Christmas' Mentions in Die Hard Script\")\n",
    "plt.xlabel(\"Progress Through Script (%)\")\n",
    "plt.yticks([])\n",
    "plt.grid(True, axis='x', linestyle='--', alpha=0.5)\n",
    "plt.tight_layout()\n",
    "plt.legend()\n",
    "plt.show()\n"
   ]
  }
 ],
 "metadata": {
  "kernelspec": {
   "display_name": ".venv",
   "language": "python",
   "name": "python3"
  },
  "language_info": {
   "codemirror_mode": {
    "name": "ipython",
    "version": 3
   },
   "file_extension": ".py",
   "mimetype": "text/x-python",
   "name": "python",
   "nbconvert_exporter": "python",
   "pygments_lexer": "ipython3",
   "version": "3.13.5"
  }
 },
 "nbformat": 4,
 "nbformat_minor": 5
}
