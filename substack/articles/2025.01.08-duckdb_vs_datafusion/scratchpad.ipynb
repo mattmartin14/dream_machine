{
 "cells": [
  {
   "cell_type": "code",
   "execution_count": 1,
   "metadata": {},
   "outputs": [],
   "source": [
    "import duckdb\n",
    "from datafusion import SessionContext\n",
    "from pyarrow import dataset as ds\n",
    "ctx = SessionContext()"
   ]
  },
  {
   "cell_type": "markdown",
   "metadata": {},
   "source": [
    "### Example 1: The Answer to all things in the Universe"
   ]
  },
  {
   "cell_type": "code",
   "execution_count": 6,
   "metadata": {},
   "outputs": [
    {
     "name": "stdout",
     "output_type": "stream",
     "text": [
      "┌───────┐\n",
      "│   x   │\n",
      "│ int32 │\n",
      "├───────┤\n",
      "│    42 │\n",
      "└───────┘\n",
      "\n",
      "DataFrame()\n",
      "+----+\n",
      "| x  |\n",
      "+----+\n",
      "| 42 |\n",
      "+----+\n"
     ]
    }
   ],
   "source": [
    "sql = \"select 42 as x\"\n",
    "duckdb.sql(sql).show()\n",
    "ctx.sql(sql).show()"
   ]
  },
  {
   "cell_type": "markdown",
   "metadata": {},
   "source": [
    "#### Example 2: Reading Data"
   ]
  },
  {
   "cell_type": "code",
   "execution_count": 7,
   "metadata": {},
   "outputs": [
    {
     "name": "stdout",
     "output_type": "stream",
     "text": [
      "┌───────┬───────┬───────┐\n",
      "│   a   │   b   │   c   │\n",
      "│ int64 │ int64 │ int64 │\n",
      "├───────┼───────┼───────┤\n",
      "│     1 │     2 │     3 │\n",
      "│     4 │     5 │     6 │\n",
      "│     7 │     8 │     9 │\n",
      "│    10 │    11 │    12 │\n",
      "└───────┴───────┴───────┘\n",
      "\n"
     ]
    }
   ],
   "source": [
    "duckdb.sql(\"select * from read_csv('./dummy_data/*')\").show()"
   ]
  },
  {
   "cell_type": "code",
   "execution_count": null,
   "metadata": {},
   "outputs": [],
   "source": [
    "ctx.register_csv(\"csv_data1\", './dummy_data/*')\n",
    "ctx.sql(\"select * from csv_data1\").show()"
   ]
  },
  {
   "cell_type": "markdown",
   "metadata": {},
   "source": [
    "#### Example 3: Exporting Data"
   ]
  },
  {
   "cell_type": "code",
   "execution_count": 4,
   "metadata": {},
   "outputs": [],
   "source": [
    "duckdb.sql(\"copy (select * from read_csv('./dummy_data/*')) to 'ducks.parquet'\")"
   ]
  },
  {
   "cell_type": "code",
   "execution_count": 5,
   "metadata": {},
   "outputs": [
    {
     "data": {
      "text/html": [
       "<table border='1'>\n",
       "<tr><th>count</td></tr>\n",
       "<tr><td>4</td></tr>\n",
       "</table>\n"
      ],
      "text/plain": [
       "DataFrame()\n",
       "+-------+\n",
       "| count |\n",
       "+-------+\n",
       "| 4     |\n",
       "+-------+"
      ]
     },
     "execution_count": 5,
     "metadata": {},
     "output_type": "execute_result"
    }
   ],
   "source": [
    "ctx.sql(\"copy (select * from csv_data1) to 'datafusion1.parquet'\")"
   ]
  },
  {
   "cell_type": "markdown",
   "metadata": {},
   "source": [
    "#### Example 4: Generating Test Data"
   ]
  },
  {
   "cell_type": "code",
   "execution_count": 9,
   "metadata": {},
   "outputs": [
    {
     "name": "stdout",
     "output_type": "stream",
     "text": [
      "┌────────┬──────────────────────────────────────┬────────────┬──────────┐\n",
      "│ row_id │               txn_key                │   rpt_dt   │ some_val │\n",
      "│ int64  │                 uuid                 │    date    │  double  │\n",
      "├────────┼──────────────────────────────────────┼────────────┼──────────┤\n",
      "│      1 │ 319095da-9b93-436b-8d9a-f6c6f6fb9ebb │ 2025-01-08 │    48.52 │\n",
      "│      2 │ 5bc675b3-6500-47fc-9577-f7b576fd14c3 │ 2025-01-08 │    55.86 │\n",
      "│      3 │ 7b96e8e8-01c8-44e3-b8b7-8031a12acaab │ 2025-01-08 │    84.67 │\n",
      "│      4 │ 5c77279c-532f-47f2-bc31-334d1ff7fe13 │ 2025-01-08 │     4.37 │\n",
      "│      5 │ ba12879d-5875-4f78-b4af-749a4ab679c3 │ 2025-01-08 │     9.81 │\n",
      "└────────┴──────────────────────────────────────┴────────────┴──────────┘\n",
      "\n",
      "DataFrame()\n",
      "+--------+--------------------------------------+------------+----------+\n",
      "| row_id | txn_key                              | rpt_dt     | some_val |\n",
      "+--------+--------------------------------------+------------+----------+\n",
      "| 1      | 053c65db-ebc5-4217-9ad2-6bdfa3134688 | 2025-01-08 | 4.13     |\n",
      "| 2      | 2a00ae1b-ae71-4a40-a87a-9079bc67948d | 2025-01-08 | 17.81    |\n",
      "| 3      | 25373f44-128f-4dfe-82b6-c2168223d637 | 2025-01-08 | 20.17    |\n",
      "| 4      | c24c0ad3-8227-4694-9bd4-9d054caf2d53 | 2025-01-08 | 16.69    |\n",
      "| 5      | a2b8da92-6ffb-470b-b054-2a5be713cb42 | 2025-01-08 | 55.63    |\n",
      "+--------+--------------------------------------+------------+----------+\n"
     ]
    }
   ],
   "source": [
    "row_cnt = 5\n",
    "sql =f\"\"\"\n",
    "    select t.row_id, uuid() as txn_key, current_date as rpt_dt\n",
    "        ,round(random() * 100,2) as some_val\n",
    "    from generate_series(1,{row_cnt}) t(row_id)\n",
    "\"\"\"\n",
    "duckdb.sql(sql).show()\n",
    "\n",
    "sql = f\"\"\"\n",
    "    with data as (select unnest(range(1,{row_cnt}+1)) as x)\n",
    "    select x as row_id, uuid() as txn_key, current_date as rpt_dt\n",
    "        ,round(random()*100 ,2) as some_val\n",
    "    from data\n",
    "\"\"\"\n",
    "ctx.sql(sql).show()"
   ]
  },
  {
   "cell_type": "markdown",
   "metadata": {},
   "source": [
    "#### Example 5: Reading an Iceberg Table"
   ]
  },
  {
   "cell_type": "code",
   "execution_count": 2,
   "metadata": {},
   "outputs": [],
   "source": [
    "from pyiceberg.catalog.sql import SqlCatalog\n",
    "warehouse_path = \"./icehouse\"\n",
    "catalog = SqlCatalog(\n",
    "    \"default\",\n",
    "    **{\n",
    "        \"uri\": f\"sqlite:///{warehouse_path}/icyhot.db\",\n",
    "        \"warehouse\": f\"file://{warehouse_path}\",\n",
    "    },\n",
    ")\n",
    "ice_table = catalog.load_table(\"test_ns.test_data\")"
   ]
  },
  {
   "cell_type": "code",
   "execution_count": 3,
   "metadata": {},
   "outputs": [
    {
     "name": "stdout",
     "output_type": "stream",
     "text": [
      "┌────────┬──────────────────────────────────────┬────────────┬──────────┐\n",
      "│ row_id │               txn_key                │   rpt_dt   │ some_val │\n",
      "│ int64  │               varchar                │    date    │  double  │\n",
      "├────────┼──────────────────────────────────────┼────────────┼──────────┤\n",
      "│      1 │ e5fe0c33-8cf3-4045-a967-aed4bba95663 │ 2025-01-08 │    98.23 │\n",
      "│      2 │ c123ce95-7538-4dca-8a71-45de321c2891 │ 2025-01-08 │    66.35 │\n",
      "│      3 │ 235c36a0-c6b4-474b-82de-e9f3437c696c │ 2025-01-08 │    96.33 │\n",
      "│      4 │ f8799d9f-e48a-4e93-aa73-692930391172 │ 2025-01-08 │    82.08 │\n",
      "│      5 │ 4da16506-76ca-46ae-b044-00a1cfa355c9 │ 2025-01-08 │    43.91 │\n",
      "└────────┴──────────────────────────────────────┴────────────┴──────────┘\n",
      "\n"
     ]
    }
   ],
   "source": [
    "cn = duckdb.connect()\n",
    "ice_table.scan().to_duckdb(connection=cn, table_name=\"duck_iceberg\")\n",
    "cn.sql(\"select * from duck_iceberg limit 5\").show()"
   ]
  },
  {
   "cell_type": "code",
   "execution_count": 4,
   "metadata": {},
   "outputs": [
    {
     "name": "stdout",
     "output_type": "stream",
     "text": [
      "DataFrame()\n",
      "+--------+--------------------------------------+------------+----------+\n",
      "| row_id | txn_key                              | rpt_dt     | some_val |\n",
      "+--------+--------------------------------------+------------+----------+\n",
      "| 1      | e5fe0c33-8cf3-4045-a967-aed4bba95663 | 2025-01-08 | 98.23    |\n",
      "| 2      | c123ce95-7538-4dca-8a71-45de321c2891 | 2025-01-08 | 66.35    |\n",
      "| 3      | 235c36a0-c6b4-474b-82de-e9f3437c696c | 2025-01-08 | 96.33    |\n",
      "| 4      | f8799d9f-e48a-4e93-aa73-692930391172 | 2025-01-08 | 82.08    |\n",
      "| 5      | 4da16506-76ca-46ae-b044-00a1cfa355c9 | 2025-01-08 | 43.91    |\n",
      "+--------+--------------------------------------+------------+----------+\n"
     ]
    }
   ],
   "source": [
    "ctx.register_dataset(\"datafusion_iceberg\", ds.dataset(ice_table.scan().to_arrow()))\n",
    "ctx.sql(\"select * from datafusion_iceberg limit 5\").show()"
   ]
  }
 ],
 "metadata": {
  "kernelspec": {
   "display_name": ".venv",
   "language": "python",
   "name": "python3"
  },
  "language_info": {
   "codemirror_mode": {
    "name": "ipython",
    "version": 3
   },
   "file_extension": ".py",
   "mimetype": "text/x-python",
   "name": "python",
   "nbconvert_exporter": "python",
   "pygments_lexer": "ipython3",
   "version": "3.13.1"
  }
 },
 "nbformat": 4,
 "nbformat_minor": 2
}
