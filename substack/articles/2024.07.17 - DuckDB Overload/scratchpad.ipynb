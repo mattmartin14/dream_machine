{
 "cells": [
  {
   "cell_type": "code",
   "execution_count": 2,
   "metadata": {},
   "outputs": [],
   "source": [
    "import duckdb"
   ]
  },
  {
   "cell_type": "code",
   "execution_count": 7,
   "metadata": {},
   "outputs": [],
   "source": [
    "cn = duckdb.connect()"
   ]
  },
  {
   "cell_type": "code",
   "execution_count": 10,
   "metadata": {},
   "outputs": [
    {
     "name": "stdout",
     "output_type": "stream",
     "text": [
      "┌──────────────────┬─────────────┬─────────┬─────────┬─────────┬─────────┐\n",
      "│   column_name    │ column_type │  null   │   key   │ default │  extra  │\n",
      "│     varchar      │   varchar   │ varchar │ varchar │ varchar │ varchar │\n",
      "├──────────────────┼─────────────┼─────────┼─────────┼─────────┼─────────┤\n",
      "│ Latitude         │ DOUBLE      │ YES     │ NULL    │ NULL    │ NULL    │\n",
      "│ Longitude        │ DOUBLE      │ YES     │ NULL    │ NULL    │ NULL    │\n",
      "│ CreditCardNumber │ BIGINT      │ YES     │ NULL    │ NULL    │ NULL    │\n",
      "│ Email            │ VARCHAR     │ YES     │ NULL    │ NULL    │ NULL    │\n",
      "│ PhoneNumber      │ VARCHAR     │ YES     │ NULL    │ NULL    │ NULL    │\n",
      "│ FirstName        │ VARCHAR     │ YES     │ NULL    │ NULL    │ NULL    │\n",
      "│ LastName         │ VARCHAR     │ YES     │ NULL    │ NULL    │ NULL    │\n",
      "│ Date             │ DATE        │ YES     │ NULL    │ NULL    │ NULL    │\n",
      "│ NetWorth         │ DOUBLE      │ YES     │ NULL    │ NULL    │ NULL    │\n",
      "│ TxnKey           │ VARCHAR     │ YES     │ NULL    │ NULL    │ NULL    │\n",
      "├──────────────────┴─────────────┴─────────┴─────────┴─────────┴─────────┤\n",
      "│ 10 rows                                                      6 columns │\n",
      "└────────────────────────────────────────────────────────────────────────┘\n",
      "\n"
     ]
    }
   ],
   "source": [
    "sql = \"\"\"select * from read_csv_auto('~/test_dummy_data/fd/data1.csv') limit 5\"\"\"\n",
    "sql = \"describe table '~/test_dummy_data/fd/data1.csv'\"\n",
    "cn.sql(sql).show()"
   ]
  },
  {
   "cell_type": "code",
   "execution_count": 11,
   "metadata": {},
   "outputs": [
    {
     "name": "stdout",
     "output_type": "stream",
     "text": [
      "┌────────────────────┬────────────────────┬───────────┬───────────┬───┬──────────┬────────────────────┬───────────┐\n",
      "│      lat_sum       │      long_sum      │  cc_cnt   │  eml_cnt  │ … │ date_cnt │     tot_worth      │  key_cnt  │\n",
      "│       double       │       double       │   int64   │   int64   │   │  int64   │       double       │   int64   │\n",
      "├────────────────────┼────────────────────┼───────────┼───────────┼───┼──────────┼────────────────────┼───────────┤\n",
      "│ -87215.07131394715 │ -455544.6890631681 │ 149999983 │ 150000000 │ … │    19923 │ 104209050687803.66 │ 150000000 │\n",
      "├────────────────────┴────────────────────┴───────────┴───────────┴───┴──────────┴────────────────────┴───────────┤\n",
      "│ 1 rows                                                                                     10 columns (7 shown) │\n",
      "└─────────────────────────────────────────────────────────────────────────────────────────────────────────────────┘\n",
      "\n"
     ]
    }
   ],
   "source": [
    "sql = \"\"\"\n",
    "select \n",
    "     sum(latitude) as lat_sum\n",
    "    ,sum(longitude) as long_sum\n",
    "    ,count(distinct CreditCardNumber) as cc_cnt\n",
    "    ,count(distinct email) as eml_cnt\n",
    "    ,count(distinct PhoneNumber) as p_cnt\n",
    "    ,count(distinct FirstName) as Fname_cnt\n",
    "    ,count(distinct LastName) as lname_cnt\n",
    "    ,count(distinct Date) as date_cnt\n",
    "    ,sum(NetWorth) as tot_worth\n",
    "    ,count(distinct TxnKey) as key_cnt\n",
    "from read_csv_auto('~/test_dummy_data/fd/data*.csv')\n",
    "\"\"\"\n",
    "cn.sql(sql).show()"
   ]
  },
  {
   "cell_type": "code",
   "execution_count": 12,
   "metadata": {},
   "outputs": [],
   "source": [
    "cn.close()"
   ]
  }
 ],
 "metadata": {
  "kernelspec": {
   "display_name": ".venv",
   "language": "python",
   "name": "python3"
  },
  "language_info": {
   "codemirror_mode": {
    "name": "ipython",
    "version": 3
   },
   "file_extension": ".py",
   "mimetype": "text/x-python",
   "name": "python",
   "nbconvert_exporter": "python",
   "pygments_lexer": "ipython3",
   "version": "3.12.3"
  }
 },
 "nbformat": 4,
 "nbformat_minor": 2
}
