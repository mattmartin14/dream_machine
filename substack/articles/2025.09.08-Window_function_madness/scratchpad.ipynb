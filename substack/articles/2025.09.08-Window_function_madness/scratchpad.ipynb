{
 "cells": [
  {
   "cell_type": "code",
   "execution_count": null,
   "id": "01bb3021",
   "metadata": {},
   "outputs": [],
   "source": [
    "import duckdb\n",
    "cn = duckdb.connect()\n",
    "\n",
    "import data_gen\n",
    "data_gen.generate_bicycle_orders(cn, target_rows=50_000)\n"
   ]
  },
  {
   "cell_type": "code",
   "execution_count": 4,
   "id": "4ebfdd9c",
   "metadata": {},
   "outputs": [
    {
     "data": {
      "text/plain": [
       "┌────────────┬───────────────┬─────────────────┬───────────────┬────────────────────┬──────────────────┐\n",
       "│ order_date │    amount     │ prev_day_amount │ amount_change │  rolling_3day_avg  │ rolling_7day_sum │\n",
       "│    date    │ decimal(38,2) │  decimal(38,2)  │ decimal(38,2) │       double       │  decimal(38,2)   │\n",
       "├────────────┼───────────────┼─────────────────┼───────────────┼────────────────────┼──────────────────┤\n",
       "│ 2024-01-01 │     276209.23 │            NULL │          NULL │          276209.23 │        276209.23 │\n",
       "│ 2024-01-02 │     351490.41 │       276209.23 │      75281.18 │          313849.82 │        627699.64 │\n",
       "│ 2024-01-03 │     355623.71 │       351490.41 │       4133.30 │          327774.45 │        983323.35 │\n",
       "│ 2024-01-04 │     317801.30 │       355623.71 │     -37822.41 │  341638.4733333333 │       1301124.65 │\n",
       "│ 2024-01-05 │     328590.53 │       317801.30 │      10789.23 │          334005.18 │       1629715.18 │\n",
       "│ 2024-01-06 │     393924.69 │       328590.53 │      65334.16 │ 346772.17333333334 │       2023639.87 │\n",
       "│ 2024-01-07 │     389471.48 │       393924.69 │      -4453.21 │ 370662.23333333334 │       2413111.35 │\n",
       "│ 2024-01-08 │     370684.34 │       389471.48 │     -18787.14 │ 384693.50333333336 │       2507586.46 │\n",
       "│ 2024-01-09 │     355438.06 │       370684.34 │     -15246.28 │ 371864.62666666665 │       2511534.11 │\n",
       "│ 2024-01-10 │     323696.17 │       355438.06 │     -31741.89 │  349939.5233333333 │       2479606.57 │\n",
       "├────────────┴───────────────┴─────────────────┴───────────────┴────────────────────┴──────────────────┤\n",
       "│ 10 rows                                                                                    6 columns │\n",
       "└──────────────────────────────────────────────────────────────────────────────────────────────────────┘"
      ]
     },
     "execution_count": 4,
     "metadata": {},
     "output_type": "execute_result"
    }
   ],
   "source": [
    "\n",
    "sql = \"\"\"\n",
    "with agg as (\n",
    "    select order_date, sum(amount) as amount\n",
    "    from bicycle_orders\n",
    "    group by all\n",
    ")\n",
    "SELECT \n",
    "    order_date,\n",
    "    amount,\n",
    "    LAG(amount, 1) OVER (ORDER BY order_date) as prev_day_amount,\n",
    "    amount - prev_day_amount as amount_change,\n",
    "    AVG(amount) OVER (ORDER BY order_date ROWS BETWEEN 2 PRECEDING AND CURRENT ROW) as rolling_3day_avg,\n",
    "    SUM(amount) OVER (ORDER BY order_date ROWS BETWEEN 6 PRECEDING AND CURRENT ROW) as rolling_7day_sum\n",
    "FROM agg\n",
    "ORDER BY order_date\n",
    "limit 10\n",
    "\"\"\"\n",
    "\n",
    "cn.sql(sql)"
   ]
  }
 ],
 "metadata": {
  "kernelspec": {
   "display_name": ".venv (3.13.5)",
   "language": "python",
   "name": "python3"
  },
  "language_info": {
   "codemirror_mode": {
    "name": "ipython",
    "version": 3
   },
   "file_extension": ".py",
   "mimetype": "text/x-python",
   "name": "python",
   "nbconvert_exporter": "python",
   "pygments_lexer": "ipython3",
   "version": "3.13.5"
  }
 },
 "nbformat": 4,
 "nbformat_minor": 5
}
