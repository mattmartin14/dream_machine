{
 "cells": [
  {
   "cell_type": "code",
   "execution_count": null,
   "metadata": {},
   "outputs": [],
   "source": [
    "#%pip install -r requirements.txt"
   ]
  },
  {
   "cell_type": "code",
   "execution_count": null,
   "metadata": {},
   "outputs": [],
   "source": [
    "spark_version = \"3.5\"\n",
    "scala_version = \"2.12\"\n",
    "iceberg_version = \"1.7.0\"\n",
    "\n",
    "from pyspark.sql import SparkSession\n",
    "from pyspark.sql.functions import current_date, rand, floor, expr\n",
    "\n",
    "catalog_name = \"iceberg\"\n",
    "warehouse_path = \"./icehouse\"\n",
    "\n",
    "spark = SparkSession.builder \\\n",
    "    .appName(\"iceberg_timetravel_stuff\") \\\n",
    "    .config(\"spark.sql.extensions\", \"org.apache.iceberg.spark.extensions.IcebergSparkSessionExtensions\") \\\n",
    "    .config(f\"spark.sql.catalog.{catalog_name}\", \"org.apache.iceberg.spark.SparkCatalog\") \\\n",
    "    .config(f\"spark.sql.catalog.{catalog_name}.type\", \"hadoop\") \\\n",
    "    .config(f\"spark.sql.catalog.{catalog_name}.warehouse\", warehouse_path) \\\n",
    "    .config(\"spark.jars.packages\", f\"org.apache.iceberg:iceberg-spark-runtime-{spark_version}_{scala_version}:{iceberg_version}\") \\\n",
    "    .config(\"spark.driver.bindAddress\",\"127.0.0.1\") \\\n",
    "    .config(\"spark.driver.host\", \"localhost\") \\\n",
    "    .getOrCreate()\n",
    "\n",
    "namespace = \"stock_stuff\"\n",
    "spark.sql(f\"create namespace {namespace}\")"
   ]
  },
  {
   "cell_type": "code",
   "execution_count": null,
   "metadata": {},
   "outputs": [],
   "source": [
    "spark.sql(f\"\"\"create or replace table {catalog_name}.{namespace}.tickers\n",
    "        using iceberg\n",
    "        as\n",
    "        select 'MSFT' as ticker_symbol, 23.99 as price\n",
    "        union all\n",
    "        select 'SNOW', 34.99 as price\n",
    "        \"\"\")\n"
   ]
  },
  {
   "cell_type": "code",
   "execution_count": 5,
   "metadata": {},
   "outputs": [
    {
     "name": "stdout",
     "output_type": "stream",
     "text": [
      "+-------------+-----+\n",
      "|ticker_symbol|price|\n",
      "+-------------+-----+\n",
      "|         MSFT|23.99|\n",
      "|         SNOW|34.99|\n",
      "+-------------+-----+\n",
      "\n"
     ]
    }
   ],
   "source": [
    "spark.sql(f\"select * from {catalog_name}.{namespace}.tickers\").show()"
   ]
  },
  {
   "cell_type": "code",
   "execution_count": 6,
   "metadata": {},
   "outputs": [],
   "source": [
    "df = spark.sql(\"\"\"\n",
    "    select 'MSFT' as ticker_symbol, 21.45 as price\n",
    "\"\"\")\n",
    "df.createOrReplaceTempView(\"data\")"
   ]
  },
  {
   "cell_type": "code",
   "execution_count": 7,
   "metadata": {},
   "outputs": [
    {
     "data": {
      "text/plain": [
       "DataFrame[]"
      ]
     },
     "execution_count": 7,
     "metadata": {},
     "output_type": "execute_result"
    }
   ],
   "source": [
    "spark.sql(f\"\"\"\n",
    "    MERGE INTO {catalog_name}.{namespace}.tickers as tgt\n",
    "        USING data as src\n",
    "            on tgt.ticker_symbol = src.ticker_symbol\n",
    "        WHEN MATCHED THEN UPDATE set tgt.price = src.price\n",
    "        WHEN NOT MATCHED THEN INSERT *\n",
    "\"\"\")"
   ]
  },
  {
   "cell_type": "code",
   "execution_count": 8,
   "metadata": {},
   "outputs": [
    {
     "name": "stdout",
     "output_type": "stream",
     "text": [
      "+-------------+-----+\n",
      "|ticker_symbol|price|\n",
      "+-------------+-----+\n",
      "|         MSFT|21.45|\n",
      "|         SNOW|34.99|\n",
      "+-------------+-----+\n",
      "\n"
     ]
    }
   ],
   "source": [
    "spark.sql(f\"select * from {catalog_name}.{namespace}.tickers\").show()"
   ]
  },
  {
   "cell_type": "code",
   "execution_count": 29,
   "metadata": {},
   "outputs": [
    {
     "name": "stdout",
     "output_type": "stream",
     "text": [
      "+-----------------------+-------------------+-------------------+-------------------+\n",
      "|made_current_at        |snapshot_id        |parent_id          |is_current_ancestor|\n",
      "+-----------------------+-------------------+-------------------+-------------------+\n",
      "|2025-04-28 08:50:01.7  |7391578844974642703|NULL               |true               |\n",
      "|2025-04-28 08:50:10.306|8879485710628370466|7391578844974642703|true               |\n",
      "+-----------------------+-------------------+-------------------+-------------------+\n",
      "\n"
     ]
    }
   ],
   "source": [
    "spark.sql(f\"select * from {catalog_name}.{namespace}.tickers.history\").show(truncate=False)"
   ]
  },
  {
   "cell_type": "code",
   "execution_count": 31,
   "metadata": {},
   "outputs": [
    {
     "name": "stdout",
     "output_type": "stream",
     "text": [
      "+-------------+-----+\n",
      "|ticker_symbol|price|\n",
      "+-------------+-----+\n",
      "|         MSFT|23.99|\n",
      "+-------------+-----+\n",
      "\n",
      "+-------------+-----+\n",
      "|ticker_symbol|price|\n",
      "+-------------+-----+\n",
      "|         MSFT|21.45|\n",
      "+-------------+-----+\n",
      "\n"
     ]
    }
   ],
   "source": [
    "spark.sql(f\"select * from {catalog_name}.{namespace}.tickers TIMESTAMP AS OF '2025-04-28 08:50:01.7' WHERE ticker_symbol = 'MSFT'\").show()\n",
    "spark.sql(f\"select * from {catalog_name}.{namespace}.tickers TIMESTAMP AS OF '2025-04-28 08:50:11' WHERE ticker_symbol = 'MSFT'\").show()"
   ]
  },
  {
   "cell_type": "code",
   "execution_count": null,
   "metadata": {},
   "outputs": [
    {
     "data": {
      "text/plain": [
       "DataFrame[]"
      ]
     },
     "execution_count": 32,
     "metadata": {},
     "output_type": "execute_result"
    }
   ],
   "source": [
    "spark.sql(f\"\"\"\n",
    "   create or replace table {catalog_name}.{namespace}.tickers\n",
    "   using iceberg\n",
    "   AS\n",
    "   SELECT * \n",
    "   FROM {catalog_name}.{namespace}.tickers    \n",
    "   TIMESTAMP AS OF '2025-04-28 08:50:01.7'   \n",
    "\"\"\")\n"
   ]
  },
  {
   "cell_type": "code",
   "execution_count": 33,
   "metadata": {},
   "outputs": [
    {
     "name": "stdout",
     "output_type": "stream",
     "text": [
      "+-------------+-----+\n",
      "|ticker_symbol|price|\n",
      "+-------------+-----+\n",
      "|         MSFT|23.99|\n",
      "|         SNOW|34.99|\n",
      "+-------------+-----+\n",
      "\n"
     ]
    }
   ],
   "source": [
    "spark.sql(f\"select * from {catalog_name}.{namespace}.tickers\").show()"
   ]
  }
 ],
 "metadata": {
  "kernelspec": {
   "display_name": ".venv",
   "language": "python",
   "name": "python3"
  },
  "language_info": {
   "codemirror_mode": {
    "name": "ipython",
    "version": 3
   },
   "file_extension": ".py",
   "mimetype": "text/x-python",
   "name": "python",
   "nbconvert_exporter": "python",
   "pygments_lexer": "ipython3",
   "version": "3.13.1"
  }
 },
 "nbformat": 4,
 "nbformat_minor": 2
}
