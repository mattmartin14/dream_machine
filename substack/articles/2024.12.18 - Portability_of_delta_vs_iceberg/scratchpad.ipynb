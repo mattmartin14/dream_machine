{
 "cells": [
  {
   "cell_type": "code",
   "execution_count": null,
   "metadata": {},
   "outputs": [],
   "source": [
    "%pip install -r requirements.txt"
   ]
  },
  {
   "cell_type": "code",
   "execution_count": 1,
   "metadata": {},
   "outputs": [],
   "source": [
    "import polars as pl\n",
    "import df_gen as dg\n",
    "df = dg.generate_dummy_order_data(100)"
   ]
  },
  {
   "cell_type": "code",
   "execution_count": 9,
   "metadata": {},
   "outputs": [],
   "source": [
    "#here's what we need to do to generate a delta table\n",
    "df.write_delta('./delta_warehouse/orders')"
   ]
  },
  {
   "cell_type": "code",
   "execution_count": null,
   "metadata": {},
   "outputs": [],
   "source": [
    "# heres what we have to do to generate an iceberg table\n",
    "from pyiceberg.catalog.sql import SqlCatalog\n",
    "warehouse_path = \"./iceberg_warehouse\"\n",
    "catalog = SqlCatalog(\"default\", **{\"uri\": \"sqlite:///:memory:\", \"warehouse\": f\"file://{warehouse_path}\",})\n",
    "df_ice = df.to_arrow()\n",
    "catalog.create_namespace_if_not_exists(\"dummy_data\")\n",
    "ice_table = catalog.create_table(\"dummy_data.orders\",schema=df_ice.schema)\n",
    "ice_table.append(df_ice)\n",
    "# need this to get the latest metadata file to point to\n",
    "print(ice_table.metadata_location)"
   ]
  },
  {
   "cell_type": "code",
   "execution_count": null,
   "metadata": {},
   "outputs": [],
   "source": [
    "print(ice_table.metadata_location)"
   ]
  },
  {
   "cell_type": "code",
   "execution_count": null,
   "metadata": {},
   "outputs": [],
   "source": [
    "#gcs\n",
    "import os\n",
    "bucket = os.getenv(\"GCS_BUCKET\")\n",
    "project = os.getenv(\"GBQ_PROJECT_ID\")\n",
    "\n",
    "from pyiceberg.catalog.sql import SqlCatalog\n",
    "warehouse_path = f\"gs://{bucket}/icehouse1\"\n",
    "catalog = SqlCatalog(\"default\",\n",
    "                      **{\"uri\": \"sqlite:///:memory:\",\n",
    "                         \"warehouse\": warehouse_path,\n",
    "                         \"gcs.project-id\": project,\n",
    "                        },\n",
    "                    )\n",
    "df_ice = df.to_arrow()\n",
    "catalog.create_namespace_if_not_exists(\"dummy_data\")\n",
    "ice_table = catalog.create_table(\"dummy_data.orders\",schema=df_ice.schema)\n",
    "ice_table.append(df_ice)\n",
    "# need this to get the latest metadata file to point to\n",
    "print(ice_table.metadata_location)"
   ]
  },
  {
   "cell_type": "code",
   "execution_count": null,
   "metadata": {},
   "outputs": [],
   "source": []
  }
 ],
 "metadata": {
  "kernelspec": {
   "display_name": ".venv",
   "language": "python",
   "name": "python3"
  },
  "language_info": {
   "codemirror_mode": {
    "name": "ipython",
    "version": 3
   },
   "file_extension": ".py",
   "mimetype": "text/x-python",
   "name": "python",
   "nbconvert_exporter": "python",
   "pygments_lexer": "ipython3",
   "version": "3.12.3"
  }
 },
 "nbformat": 4,
 "nbformat_minor": 2
}
