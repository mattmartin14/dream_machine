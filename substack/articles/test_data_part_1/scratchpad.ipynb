{
 "cells": [
  {
   "cell_type": "code",
   "execution_count": 2,
   "metadata": {},
   "outputs": [],
   "source": [
    "import duckdb\n",
    "cn = duckdb.connect()"
   ]
  },
  {
   "cell_type": "code",
   "execution_count": 29,
   "metadata": {},
   "outputs": [
    {
     "name": "stdout",
     "output_type": "stream",
     "text": [
      "┌────────┬──────────────────────────────────────┬────────────┬──────────┐\n",
      "│ row_id │               txn_key                │   rpt_dt   │ some_val │\n",
      "│ int64  │                 uuid                 │    date    │  double  │\n",
      "├────────┼──────────────────────────────────────┼────────────┼──────────┤\n",
      "│      1 │ 487012ae-5f21-4c08-a58d-1a336f0aa082 │ 2024-06-03 │    86.98 │\n",
      "│      2 │ 03c0db35-3aa6-4b88-961c-fa60a775b766 │ 2024-06-03 │    24.76 │\n",
      "│      3 │ 9dcca4b4-2fe2-4bcc-bda7-e384cb76c6bd │ 2024-06-03 │    92.82 │\n",
      "│      4 │ f1346cb5-6cfd-493a-8925-3038adf9e582 │ 2024-06-03 │    56.97 │\n",
      "│      5 │ ed9e7129-7159-433e-881d-c590a63fa75b │ 2024-06-03 │    19.96 │\n",
      "└────────┴──────────────────────────────────────┴────────────┴──────────┘\n",
      "\n"
     ]
    }
   ],
   "source": [
    "data_sql = \"\"\"\n",
    "    select t.row_id, uuid() as txn_key, current_date as rpt_dt\n",
    "        ,round(random() * 100,2) as some_val\n",
    "    from generate_series(1,{rows}) t(row_id)\n",
    "\"\"\"\n",
    "\n",
    "# to sample\n",
    "cn.sql(data_sql.format(rows=5)).show()\n",
    "\n",
    "parquet_sql = f\"COPY ({data_sql.format(rows=50000000)}) TO '~/test_dummy_data/duckdb/data1.parquet' (FORMAT PARQUET)\"\n",
    "\n",
    "cn.sql(parquet_sql)\n",
    "\n"
   ]
  },
  {
   "cell_type": "code",
   "execution_count": null,
   "metadata": {},
   "outputs": [],
   "source": [
    "#scale it"
   ]
  }
 ],
 "metadata": {
  "kernelspec": {
   "display_name": ".venv",
   "language": "python",
   "name": "python3"
  },
  "language_info": {
   "codemirror_mode": {
    "name": "ipython",
    "version": 3
   },
   "file_extension": ".py",
   "mimetype": "text/x-python",
   "name": "python",
   "nbconvert_exporter": "python",
   "pygments_lexer": "ipython3",
   "version": "3.12.3"
  }
 },
 "nbformat": 4,
 "nbformat_minor": 2
}
