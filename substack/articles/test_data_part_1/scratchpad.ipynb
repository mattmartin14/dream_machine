{
 "cells": [
  {
   "cell_type": "code",
   "execution_count": 2,
   "metadata": {},
   "outputs": [],
   "source": [
    "import duckdb\n",
    "cn = duckdb.connect()"
   ]
  },
  {
   "cell_type": "code",
   "execution_count": 29,
   "metadata": {},
   "outputs": [
    {
     "name": "stdout",
     "output_type": "stream",
     "text": [
      "┌────────┬──────────────────────────────────────┬────────────┬──────────┐\n",
      "│ row_id │               txn_key                │   rpt_dt   │ some_val │\n",
      "│ int64  │                 uuid                 │    date    │  double  │\n",
      "├────────┼──────────────────────────────────────┼────────────┼──────────┤\n",
      "│      1 │ 487012ae-5f21-4c08-a58d-1a336f0aa082 │ 2024-06-03 │    86.98 │\n",
      "│      2 │ 03c0db35-3aa6-4b88-961c-fa60a775b766 │ 2024-06-03 │    24.76 │\n",
      "│      3 │ 9dcca4b4-2fe2-4bcc-bda7-e384cb76c6bd │ 2024-06-03 │    92.82 │\n",
      "│      4 │ f1346cb5-6cfd-493a-8925-3038adf9e582 │ 2024-06-03 │    56.97 │\n",
      "│      5 │ ed9e7129-7159-433e-881d-c590a63fa75b │ 2024-06-03 │    19.96 │\n",
      "└────────┴──────────────────────────────────────┴────────────┴──────────┘\n",
      "\n"
     ]
    }
   ],
   "source": [
    "data_sql = \"\"\"\n",
    "    select t.row_id, uuid() as txn_key, current_date as rpt_dt\n",
    "        ,round(random() * 100,2) as some_val\n",
    "    from generate_series(1,{rows}) t(row_id)\n",
    "\"\"\"\n",
    "\n",
    "# to sample\n",
    "cn.sql(data_sql.format(rows=5)).show()\n",
    "\n",
    "parquet_sql = f\"COPY ({data_sql.format(rows=50000000)}) TO '~/test_dummy_data/duckdb/data1.parquet' (FORMAT PARQUET)\"\n",
    "\n",
    "cn.sql(parquet_sql)"
   ]
  },
  {
   "cell_type": "code",
   "execution_count": 3,
   "metadata": {},
   "outputs": [
    {
     "name": "stderr",
     "output_type": "stream",
     "text": [
      "Setting default log level to \"WARN\".\n",
      "To adjust logging level use sc.setLogLevel(newLevel). For SparkR, use setLogLevel(newLevel).\n",
      "24/06/04 14:50:44 WARN NativeCodeLoader: Unable to load native-hadoop library for your platform... using builtin-java classes where applicable\n"
     ]
    }
   ],
   "source": [
    "from pyspark.sql import SparkSession\n",
    "spark = SparkSession.builder.getOrCreate()\n"
   ]
  },
  {
   "cell_type": "code",
   "execution_count": 17,
   "metadata": {},
   "outputs": [
    {
     "name": "stdout",
     "output_type": "stream",
     "text": [
      "/Users/matthewmartin\n"
     ]
    }
   ],
   "source": [
    "import uuid, random, os\n",
    "from pyspark.sql.functions import current_date, udf\n",
    "from pyspark.sql.types import StringType, IntegerType\n",
    "\n",
    "def crt_uuid():\n",
    "    return str(uuid.uuid4())\n",
    "\n",
    "def crt_int():\n",
    "    return random.randint(0, 100)\n",
    "\n",
    "s_crt_uuid = udf(crt_uuid, StringType())\n",
    "s_crt_int = udf(crt_int, IntegerType())\n",
    "\n",
    "home_dir = os.path.expanduser(\"~\")\n",
    "print(home_dir)"
   ]
  },
  {
   "cell_type": "code",
   "execution_count": 20,
   "metadata": {},
   "outputs": [
    {
     "name": "stdout",
     "output_type": "stream",
     "text": [
      "/Users/matthewmartin/test_dummy_data/spark/\n"
     ]
    }
   ],
   "source": [
    "df = spark.range(1,5+1) \\\n",
    "    .withColumn(\"uuid\", s_crt_uuid()) \\\n",
    "    .withColumn(\"rpt_dt\", current_date()) \\\n",
    "    .withColumn(\"rand_val\", s_crt_int()) \\\n",
    "    .toDF('row_id', 'uuid', 'rpt_dt', 'rand_val')\n",
    "#df.show()\n",
    "\n",
    "f_path = os.path.join(home_dir, \"test_dummy_data/spark/\")\n",
    "print(f_path)\n",
    "\n",
    "df.write.mode('overwrite').parquet(f_path)\n"
   ]
  }
 ],
 "metadata": {
  "kernelspec": {
   "display_name": ".venv",
   "language": "python",
   "name": "python3"
  },
  "language_info": {
   "codemirror_mode": {
    "name": "ipython",
    "version": 3
   },
   "file_extension": ".py",
   "mimetype": "text/x-python",
   "name": "python",
   "nbconvert_exporter": "python",
   "pygments_lexer": "ipython3",
   "version": "3.12.3"
  }
 },
 "nbformat": 4,
 "nbformat_minor": 2
}
