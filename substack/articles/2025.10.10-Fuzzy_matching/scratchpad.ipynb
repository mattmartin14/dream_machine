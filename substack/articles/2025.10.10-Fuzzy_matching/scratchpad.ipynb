{
 "cells": [
  {
   "cell_type": "code",
   "execution_count": 2,
   "metadata": {},
   "outputs": [],
   "source": [
    "import polars as pl"
   ]
  },
  {
   "cell_type": "code",
   "execution_count": 3,
   "metadata": {},
   "outputs": [
    {
     "name": "stdout",
     "output_type": "stream",
     "text": [
      "shape: (3, 3)\n",
      "┌────────┬────────────┬──────────┐\n",
      "│ txn_id ┆ txn_dt     ┆ ord_type │\n",
      "│ ---    ┆ ---        ┆ ---      │\n",
      "│ i64    ┆ date       ┆ str      │\n",
      "╞════════╪════════════╪══════════╡\n",
      "│ 1      ┆ 2023-01-01 ┆ online   │\n",
      "│ 2      ┆ 2023-02-05 ┆ in-store │\n",
      "│ 3      ┆ 2023-02-08 ┆ online   │\n",
      "└────────┴────────────┴──────────┘\n",
      "shape: (3, 3)\n",
      "┌────────┬────────────┬───────────┐\n",
      "│ txn_id ┆ txn_dt     ┆ ord_price │\n",
      "│ ---    ┆ ---        ┆ ---       │\n",
      "│ i64    ┆ date       ┆ f32       │\n",
      "╞════════╪════════════╪═══════════╡\n",
      "│ 1      ┆ 2023-01-04 ┆ 21.389999 │\n",
      "│ 2      ┆ 2023-02-04 ┆ 26.459999 │\n",
      "│ 3      ┆ 2023-02-09 ┆ 34.330002 │\n",
      "└────────┴────────────┴───────────┘\n"
     ]
    }
   ],
   "source": [
    "txn_ids = [1,2,3]\n",
    "txn_dts = ['2023-01-01','2023-02-05','2023-02-08']\n",
    "ord_types = ['online','in-store','online']\n",
    "\n",
    "df = pl.DataFrame(\n",
    "    {'txn_id': txn_ids, 'txn_dt': txn_dts, 'ord_type': ord_types}, \n",
    "    schema={'txn_id': pl.Int64, 'txn_dt': pl.Date, 'ord_type': pl.Utf8, }\n",
    ")\n",
    "\n",
    "txn_ids = [1,2,3]\n",
    "txn_dts = ['2023-01-04','2023-02-04','2023-02-09']\n",
    "ord_prices = [21.39, 26.46, 34.33]\n",
    "\n",
    "df2 = pl.DataFrame(\n",
    "    {'txn_id': txn_ids, 'txn_dt': txn_dts, 'ord_price': ord_prices}, \n",
    "    schema={'txn_id': pl.Int64, 'txn_dt': pl.Date, 'ord_price': pl.Float32, }\n",
    ")\n",
    "print(df)\n",
    "print(df2)"
   ]
  },
  {
   "cell_type": "code",
   "execution_count": 4,
   "metadata": {},
   "outputs": [
    {
     "name": "stdout",
     "output_type": "stream",
     "text": [
      "shape: (2, 4)\n",
      "┌────────┬────────────┬──────────┬───────────┐\n",
      "│ txn_id ┆ txn_dt     ┆ ord_type ┆ ord_price │\n",
      "│ ---    ┆ ---        ┆ ---      ┆ ---       │\n",
      "│ i64    ┆ date       ┆ str      ┆ f32       │\n",
      "╞════════╪════════════╪══════════╪═══════════╡\n",
      "│ 2      ┆ 2023-02-05 ┆ in-store ┆ 26.459999 │\n",
      "│ 3      ┆ 2023-02-08 ┆ online   ┆ 34.330002 │\n",
      "└────────┴────────────┴──────────┴───────────┘\n"
     ]
    }
   ],
   "source": [
    "joined_df = (\n",
    "    df.join(df2, on=\"txn_id\", how=\"inner\", suffix=\"_right\")\n",
    "    .filter((pl.col(\"txn_dt_right\") - pl.col(\"txn_dt\")).abs() <= pl.duration(days=2))\n",
    "    .select(\"txn_id\", \"txn_dt\", \"ord_type\", \"ord_price\")\n",
    ")\n",
    "print(joined_df)"
   ]
  },
  {
   "cell_type": "code",
   "execution_count": 1,
   "metadata": {},
   "outputs": [],
   "source": [
    "def add(x,y): return x+y\n",
    "def subtract(x,y): return x-y\n",
    "\n",
    "ops = {\n",
    "    \"add\": add,\n",
    "    \"subtract\": subtract\n",
    "}\n",
    "\n",
    "result = ops[\"add\"](3,4)"
   ]
  },
  {
   "cell_type": "code",
   "execution_count": 2,
   "metadata": {},
   "outputs": [
    {
     "name": "stdout",
     "output_type": "stream",
     "text": [
      "7\n"
     ]
    }
   ],
   "source": [
    "print(result)"
   ]
  }
 ],
 "metadata": {
  "kernelspec": {
   "display_name": ".venv",
   "language": "python",
   "name": "python3"
  },
  "language_info": {
   "codemirror_mode": {
    "name": "ipython",
    "version": 3
   },
   "file_extension": ".py",
   "mimetype": "text/x-python",
   "name": "python",
   "nbconvert_exporter": "python",
   "pygments_lexer": "ipython3",
   "version": "3.13.1"
  }
 },
 "nbformat": 4,
 "nbformat_minor": 2
}
