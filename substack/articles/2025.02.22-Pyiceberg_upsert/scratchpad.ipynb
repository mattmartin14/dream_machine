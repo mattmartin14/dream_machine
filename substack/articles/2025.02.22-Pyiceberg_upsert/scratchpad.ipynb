{
 "cells": [
  {
   "cell_type": "code",
   "execution_count": null,
   "metadata": {},
   "outputs": [],
   "source": [
    "%pip install -r requirements.txt"
   ]
  },
  {
   "cell_type": "code",
   "execution_count": null,
   "metadata": {},
   "outputs": [],
   "source": [
    "%pip install \"git+https://github.com/apache/iceberg-python.git#egg=pyiceberg[pyarrow]\""
   ]
  },
  {
   "cell_type": "code",
   "execution_count": 1,
   "metadata": {},
   "outputs": [],
   "source": [
    "import duckdb\n",
    "from pyiceberg.catalog.sql import SqlCatalog\n",
    "\n",
    "warehouse_path = \"./icehouse\"\n",
    "catalog = SqlCatalog(\"default\",**{\"uri\": \"sqlite:///:memory:\", \"warehouse\": f\"file://{warehouse_path}\"})\n",
    "catalog.create_namespace(\"test_ns\")\n",
    "\n",
    "df = duckdb.sql(\"\"\"\n",
    "        select 1 as order_id, 'online' as order_type, 23.99 as price\n",
    "        union all\n",
    "        select 2 as order_id, 'in-store' as order_type, 34.99 as price\n",
    "        \"\"\").arrow()\n",
    "\n",
    "table = catalog.create_table(\"test_ns.orders\", schema=df.schema)\n",
    "table.append(df)"
   ]
  },
  {
   "cell_type": "code",
   "execution_count": 2,
   "metadata": {},
   "outputs": [
    {
     "name": "stdout",
     "output_type": "stream",
     "text": [
      "┌──────────┬────────────┬──────────────┐\n",
      "│ order_id │ order_type │    price     │\n",
      "│  int32   │  varchar   │ decimal(4,2) │\n",
      "├──────────┼────────────┼──────────────┤\n",
      "│        1 │ online     │        23.99 │\n",
      "│        2 │ in-store   │        34.99 │\n",
      "└──────────┴────────────┴──────────────┘\n",
      "\n"
     ]
    }
   ],
   "source": [
    "cn = table.scan().to_duckdb(\"orders\")\n",
    "cn.sql(f\"select * from orders\").show()"
   ]
  },
  {
   "cell_type": "code",
   "execution_count": null,
   "metadata": {},
   "outputs": [],
   "source": []
  },
  {
   "cell_type": "code",
   "execution_count": 3,
   "metadata": {},
   "outputs": [
    {
     "name": "stdout",
     "output_type": "stream",
     "text": [
      "pyarrow.Table\n",
      "order_id: int32\n",
      "order_type: string\n",
      "price: decimal128(4, 2)\n",
      "----\n",
      "order_id: [[3],[2]]\n",
      "order_type: [[\"online\"],[\"in-store\"]]\n",
      "price: [[46.55],[27.81]]\n"
     ]
    }
   ],
   "source": [
    "df2 = duckdb.sql(\"\"\"\n",
    "        select 3 as order_id, 'online' as order_type, 46.55 as price\n",
    "        union all\n",
    "        select 2 as order_id, 'in-store' as order_type, 27.81 as price\n",
    "        \"\"\").arrow()\n",
    "print(df2)"
   ]
  },
  {
   "cell_type": "code",
   "execution_count": 8,
   "metadata": {},
   "outputs": [
    {
     "data": {
      "text/plain": [
       "UpsertResult(rows_updated=1, rows_inserted=1)"
      ]
     },
     "execution_count": 8,
     "metadata": {},
     "output_type": "execute_result"
    }
   ],
   "source": [
    "table.upsert(df2, [\"order_id\"])"
   ]
  },
  {
   "cell_type": "code",
   "execution_count": 16,
   "metadata": {},
   "outputs": [
    {
     "name": "stdout",
     "output_type": "stream",
     "text": [
      "┌──────────┬────────────┬──────────────┐\n",
      "│ order_id │ order_type │    price     │\n",
      "│  int32   │  varchar   │ decimal(4,2) │\n",
      "├──────────┼────────────┼──────────────┤\n",
      "│        3 │ online     │        46.55 │\n",
      "│        2 │ in-store   │        27.81 │\n",
      "│        1 │ online     │        23.99 │\n",
      "└──────────┴────────────┴──────────────┘\n",
      "\n"
     ]
    }
   ],
   "source": [
    "cn = table.scan().to_duckdb(\"orders\")\n",
    "cn.sql(f\"select * from orders\").show()"
   ]
  }
 ],
 "metadata": {
  "kernelspec": {
   "display_name": ".venv",
   "language": "python",
   "name": "python3"
  },
  "language_info": {
   "codemirror_mode": {
    "name": "ipython",
    "version": 3
   },
   "file_extension": ".py",
   "mimetype": "text/x-python",
   "name": "python",
   "nbconvert_exporter": "python",
   "pygments_lexer": "ipython3",
   "version": "3.11.5"
  }
 },
 "nbformat": 4,
 "nbformat_minor": 2
}
