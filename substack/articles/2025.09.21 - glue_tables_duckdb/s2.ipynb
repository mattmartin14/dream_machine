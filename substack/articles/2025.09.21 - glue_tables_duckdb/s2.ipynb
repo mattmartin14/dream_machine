{
 "cells": [
  {
   "cell_type": "code",
   "execution_count": 1,
   "id": "5a72c598",
   "metadata": {},
   "outputs": [],
   "source": [
    "from gen_tables import setup_aws_credentials\n",
    "\n",
    "session, creds = setup_aws_credentials()"
   ]
  },
  {
   "cell_type": "code",
   "execution_count": 8,
   "id": "44e33bf5",
   "metadata": {},
   "outputs": [
    {
     "data": {
      "text/plain": [
       "┌────────┬──────────────────────────────────────┬────────────┬──────────┐\n",
       "│ row_id │               txn_key                │   rpt_dt   │ some_val │\n",
       "│ int64  │               varchar                │    date    │  double  │\n",
       "├────────┼──────────────────────────────────────┼────────────┼──────────┤\n",
       "│      1 │ 0a83d754-9420-4ceb-9eec-3f7ab2495b9f │ 2025-09-21 │    20.05 │\n",
       "│      2 │ aac7a8cf-2ee3-4e88-9fbe-ceaec99e0897 │ 2025-09-21 │    54.37 │\n",
       "│      3 │ 417d33f7-5d43-41ea-b397-d28a88ebf2fd │ 2025-09-21 │    19.81 │\n",
       "│      4 │ b06d7b8e-e3da-4030-a639-5a6830598f40 │ 2025-09-21 │    82.95 │\n",
       "│      5 │ 324e646b-9eaf-4406-b414-73fef3e12ad6 │ 2025-09-21 │     2.37 │\n",
       "│      6 │ 44358344-cee3-42b9-a173-76d9059a256e │ 2025-09-21 │    69.64 │\n",
       "│      7 │ 59da140e-74a7-4ace-bf6b-92d3308f4201 │ 2025-09-21 │    32.54 │\n",
       "│      8 │ d7a09520-7ed6-4af8-ae23-408f788c2dc1 │ 2025-09-21 │    70.97 │\n",
       "│      9 │ 853921e7-4f09-4128-9d51-e08b58b74b0a │ 2025-09-21 │    47.57 │\n",
       "│     10 │ 8fed505d-2880-4ec6-857e-2072a5dc848b │ 2025-09-21 │    11.58 │\n",
       "├────────┴──────────────────────────────────────┴────────────┴──────────┤\n",
       "│ 10 rows                                                     4 columns │\n",
       "└───────────────────────────────────────────────────────────────────────┘"
      ]
     },
     "execution_count": 8,
     "metadata": {},
     "output_type": "execute_result"
    }
   ],
   "source": [
    "import duckdb\n",
    "import os\n",
    "\n",
    "aws_acct_id = os.getenv(\"aws_acct_nbr\")\n",
    "\n",
    "cn = duckdb.connect()\n",
    "cn.execute(\"install iceberg; load iceberg;\")\n",
    "\n",
    "cn.execute(\"\"\"\n",
    "    create or replace secret aws_sec (\n",
    "           type s3,\n",
    "           provider credential_chain\n",
    "           )\n",
    "\"\"\")\n",
    "\n",
    "cn.execute(f\"\"\"\n",
    "   attach '{aws_acct_id}' as iceberg_catalog (\n",
    "       type iceberg,\n",
    "       endpoint_type glue\n",
    "    )\n",
    "\"\"\")\n",
    "\n",
    "cn.sql(\"\"\"\n",
    "    select *\n",
    "    from iceberg_catalog.icebox1.iceberg_test\n",
    "    limit 10   \n",
    "\"\"\")\n"
   ]
  },
  {
   "cell_type": "code",
   "execution_count": null,
   "id": "032eaead",
   "metadata": {},
   "outputs": [
    {
     "data": {
      "text/plain": [
       "<_duckdb.DuckDBPyConnection at 0x1138b9c70>"
      ]
     },
     "execution_count": 5,
     "metadata": {},
     "output_type": "execute_result"
    }
   ],
   "source": []
  },
  {
   "cell_type": "code",
   "execution_count": null,
   "id": "52532243",
   "metadata": {},
   "outputs": [
    {
     "data": {
      "text/plain": [
       "┌────────┬──────────────────────────────────────┬────────────┬──────────┐\n",
       "│ row_id │               txn_key                │   rpt_dt   │ some_val │\n",
       "│ int64  │               varchar                │    date    │  double  │\n",
       "├────────┼──────────────────────────────────────┼────────────┼──────────┤\n",
       "│      1 │ 0a83d754-9420-4ceb-9eec-3f7ab2495b9f │ 2025-09-21 │    20.05 │\n",
       "│      2 │ aac7a8cf-2ee3-4e88-9fbe-ceaec99e0897 │ 2025-09-21 │    54.37 │\n",
       "│      3 │ 417d33f7-5d43-41ea-b397-d28a88ebf2fd │ 2025-09-21 │    19.81 │\n",
       "│      4 │ b06d7b8e-e3da-4030-a639-5a6830598f40 │ 2025-09-21 │    82.95 │\n",
       "│      5 │ 324e646b-9eaf-4406-b414-73fef3e12ad6 │ 2025-09-21 │     2.37 │\n",
       "│      6 │ 44358344-cee3-42b9-a173-76d9059a256e │ 2025-09-21 │    69.64 │\n",
       "│      7 │ 59da140e-74a7-4ace-bf6b-92d3308f4201 │ 2025-09-21 │    32.54 │\n",
       "│      8 │ d7a09520-7ed6-4af8-ae23-408f788c2dc1 │ 2025-09-21 │    70.97 │\n",
       "│      9 │ 853921e7-4f09-4128-9d51-e08b58b74b0a │ 2025-09-21 │    47.57 │\n",
       "│     10 │ 8fed505d-2880-4ec6-857e-2072a5dc848b │ 2025-09-21 │    11.58 │\n",
       "├────────┴──────────────────────────────────────┴────────────┴──────────┤\n",
       "│ 10 rows                                                     4 columns │\n",
       "└───────────────────────────────────────────────────────────────────────┘"
      ]
     },
     "execution_count": 6,
     "metadata": {},
     "output_type": "execute_result"
    }
   ],
   "source": []
  }
 ],
 "metadata": {
  "kernelspec": {
   "display_name": ".venv (3.13.7)",
   "language": "python",
   "name": "python3"
  },
  "language_info": {
   "codemirror_mode": {
    "name": "ipython",
    "version": 3
   },
   "file_extension": ".py",
   "mimetype": "text/x-python",
   "name": "python",
   "nbconvert_exporter": "python",
   "pygments_lexer": "ipython3",
   "version": "3.13.7"
  }
 },
 "nbformat": 4,
 "nbformat_minor": 5
}
