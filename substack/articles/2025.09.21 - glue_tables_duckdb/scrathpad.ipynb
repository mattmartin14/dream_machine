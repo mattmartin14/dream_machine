{
 "cells": [
  {
   "cell_type": "code",
   "execution_count": null,
   "id": "6e26e3cc",
   "metadata": {},
   "outputs": [],
   "source": [
    "#%pip install boto3 duckdb 'pyiceberg[glue]' pyarrow"
   ]
  },
  {
   "cell_type": "code",
   "execution_count": 1,
   "id": "1a0c2ac0",
   "metadata": {},
   "outputs": [],
   "source": [
    "# Import the setup function from gen_tables.py\n",
    "from gen_tables import setup_notebook_environment\n",
    "\n",
    "# Set up all necessary components (DuckDB connection, PyIceberg catalog, Glue client)\n",
    "cn, catalog, glue_client = setup_notebook_environment()"
   ]
  },
  {
   "cell_type": "code",
   "execution_count": 3,
   "id": "95790a89",
   "metadata": {},
   "outputs": [],
   "source": [
    "# Import query functions and create views for all table types\n",
    "from query_glue_table import create_duckdb_view_from_glue_table\n",
    "\n",
    "# Database and tables to work with\n",
    "db_name = \"icebox1\"\n",
    "tables = [\"iceberg_test\", \"parquet_test\", \"csv_test\"]\n",
    "\n",
    "# Create views for individual tables\n",
    "for table in tables:\n",
    "    try:\n",
    "        view_name = create_duckdb_view_from_glue_table(\n",
    "            db_name=db_name, \n",
    "            table_name=table,\n",
    "            glue_client=glue_client, \n",
    "            catalog=catalog, \n",
    "            cn=cn\n",
    "        )\n",
    "    except Exception as e:\n",
    "        print(f\"❌ Failed to create view for {table}: {e}\")"
   ]
  },
  {
   "cell_type": "code",
   "execution_count": 4,
   "id": "8bbba6de",
   "metadata": {},
   "outputs": [
    {
     "name": "stdout",
     "output_type": "stream",
     "text": [
      "Sample from v_iceberg_test:\n",
      "┌────────┬──────────────────────────────────────┬────────────┬──────────┐\n",
      "│ row_id │               txn_key                │   rpt_dt   │ some_val │\n",
      "│ int64  │               varchar                │    date    │  double  │\n",
      "├────────┼──────────────────────────────────────┼────────────┼──────────┤\n",
      "│      1 │ 03724388-b7d8-4999-8589-1031a3562f48 │ 2025-09-20 │     4.89 │\n",
      "│      2 │ 348ce2e6-13b6-489d-8a51-0716f3ce309c │ 2025-09-20 │    91.06 │\n",
      "│      3 │ e18bb457-ebe0-44e7-81a6-e4c1cae31328 │ 2025-09-20 │     3.87 │\n",
      "└────────┴──────────────────────────────────────┴────────────┴──────────┘\n",
      "\n",
      "\n",
      "Sample from v_parquet_test:\n",
      "┌────────┬──────────────────────────────────────┬────────────┬──────────┐\n",
      "│ row_id │               txn_key                │   rpt_dt   │ some_val │\n",
      "│ int64  │               varchar                │    date    │  double  │\n",
      "├────────┼──────────────────────────────────────┼────────────┼──────────┤\n",
      "│      1 │ f551e547-9eb7-417a-b37c-deb9b9a7226a │ 2025-09-20 │    91.45 │\n",
      "│      2 │ 17a9e21a-012c-4f40-8962-a7686833728f │ 2025-09-20 │    47.04 │\n",
      "│      3 │ de4e8587-44f8-4a7c-a87e-afcd9f530e71 │ 2025-09-20 │    83.74 │\n",
      "└────────┴──────────────────────────────────────┴────────────┴──────────┘\n",
      "\n",
      "\n",
      "Sample from v_csv_test:\n",
      "┌────────┬──────────────────────────────────────┬────────────┬──────────┐\n",
      "│ row_id │               txn_key                │   rpt_dt   │ some_val │\n",
      "│ int64  │               varchar                │    date    │  double  │\n",
      "├────────┼──────────────────────────────────────┼────────────┼──────────┤\n",
      "│      1 │ f551e547-9eb7-417a-b37c-deb9b9a7226a │ 2025-09-20 │    91.45 │\n",
      "│      2 │ 17a9e21a-012c-4f40-8962-a7686833728f │ 2025-09-20 │    47.04 │\n",
      "│      3 │ de4e8587-44f8-4a7c-a87e-afcd9f530e71 │ 2025-09-20 │    83.74 │\n",
      "└────────┴──────────────────────────────────────┴────────────┴──────────┘\n",
      "\n",
      "\n",
      "Sample from v_csv_test:\n",
      "┌────────┬──────────────────────────────────────┬────────────┬──────────┐\n",
      "│ row_id │               txn_key                │   rpt_dt   │ some_val │\n",
      "│ int64  │               varchar                │    date    │  double  │\n",
      "├────────┼──────────────────────────────────────┼────────────┼──────────┤\n",
      "│      1 │ 482c1878-5f0d-46db-82e9-9ac8efc2e266 │ 2025-09-20 │     1.81 │\n",
      "│      2 │ aff2a6d3-3595-400e-abe2-22e26ba9ffdf │ 2025-09-20 │    73.47 │\n",
      "│      3 │ feb13688-c801-4321-bf2c-8a481d649dfd │ 2025-09-20 │    29.46 │\n",
      "└────────┴──────────────────────────────────────┴────────────┴──────────┘\n",
      "\n",
      "\n",
      "┌────────┬──────────────────────────────────────┬────────────┬──────────┐\n",
      "│ row_id │               txn_key                │   rpt_dt   │ some_val │\n",
      "│ int64  │               varchar                │    date    │  double  │\n",
      "├────────┼──────────────────────────────────────┼────────────┼──────────┤\n",
      "│      1 │ 482c1878-5f0d-46db-82e9-9ac8efc2e266 │ 2025-09-20 │     1.81 │\n",
      "│      2 │ aff2a6d3-3595-400e-abe2-22e26ba9ffdf │ 2025-09-20 │    73.47 │\n",
      "│      3 │ feb13688-c801-4321-bf2c-8a481d649dfd │ 2025-09-20 │    29.46 │\n",
      "└────────┴──────────────────────────────────────┴────────────┴──────────┘\n",
      "\n",
      "\n"
     ]
    }
   ],
   "source": [
    "# Show sample data from each created view\n",
    "view_names = [\"v_iceberg_test\", \"v_parquet_test\", \"v_csv_test\"]\n",
    "\n",
    "for view_name in view_names:\n",
    "    try:\n",
    "        print(f\"Sample from {view_name}:\")\n",
    "        sample = cn.sql(f\"SELECT * FROM {view_name} LIMIT 3\")\n",
    "        print(sample)\n",
    "        print()\n",
    "    except Exception as e:\n",
    "        print(f\"❌ Could not query {view_name}: {e}\")"
   ]
  }
 ],
 "metadata": {
  "kernelspec": {
   "display_name": ".venv (3.13.7)",
   "language": "python",
   "name": "python3"
  },
  "language_info": {
   "codemirror_mode": {
    "name": "ipython",
    "version": 3
   },
   "file_extension": ".py",
   "mimetype": "text/x-python",
   "name": "python",
   "nbconvert_exporter": "python",
   "pygments_lexer": "ipython3",
   "version": "3.13.7"
  }
 },
 "nbformat": 4,
 "nbformat_minor": 5
}
