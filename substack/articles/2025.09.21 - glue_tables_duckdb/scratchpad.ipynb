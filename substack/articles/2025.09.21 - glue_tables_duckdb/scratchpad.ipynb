{
 "cells": [
  {
   "cell_type": "code",
   "execution_count": null,
   "id": "1a0c2ac0",
   "metadata": {},
   "outputs": [],
   "source": [
    "%run gen_tables.py"
   ]
  },
  {
   "cell_type": "code",
   "execution_count": null,
   "id": "6d6f22de",
   "metadata": {},
   "outputs": [],
   "source": [
    "from aws_auth import setup_aws_environment\n",
    "setup_aws_environment()"
   ]
  },
  {
   "cell_type": "code",
   "execution_count": 18,
   "id": "a7839885",
   "metadata": {},
   "outputs": [],
   "source": [
    "\n",
    "import config_duckdb\n",
    "cn = config_duckdb.config_duckdb_conn()\n",
    "\n",
    "import register_glue_tables as g\n",
    "\n",
    "catalog_name = \"glue_catalog\"\n",
    "g.attach_catalog(cn, catalog_name)\n"
   ]
  },
  {
   "cell_type": "code",
   "execution_count": 19,
   "id": "a0d7c403",
   "metadata": {},
   "outputs": [],
   "source": [
    "glue_db_name = \"icebox1\"\n",
    "g.register_table(cn, catalog_name, glue_db_name, \"parquet_test\")\n",
    "g.register_table(cn, catalog_name, glue_db_name, \"csv_test\")\n",
    "g.register_table(cn, catalog_name, glue_db_name, \"iceberg_test\")"
   ]
  },
  {
   "cell_type": "code",
   "execution_count": 20,
   "id": "93951608",
   "metadata": {},
   "outputs": [
    {
     "data": {
      "text/plain": [
       "┌────────┬──────────┬──────────────────────────────────────┐\n",
       "│ row_id │ some_val │               txn_key                │\n",
       "│ int64  │  double  │               varchar                │\n",
       "├────────┼──────────┼──────────────────────────────────────┤\n",
       "│      1 │     0.52 │ 41771975-9714-4e17-a6e9-ba8fa6ab51f1 │\n",
       "│      2 │    32.39 │ 39aeaf7e-cd68-4be6-bc65-e39712b9b751 │\n",
       "│      3 │    82.26 │ 861060b7-2763-466e-b67c-309e01a9af28 │\n",
       "│      4 │    70.38 │ 9d7ec48a-000e-4bd5-9565-d3f3494ad30f │\n",
       "│      5 │    27.51 │ b39e4f6c-e983-46aa-a5bf-456b0aa45e13 │\n",
       "│      6 │    80.44 │ 889874ef-20bd-4016-bc60-9efb53bf62ba │\n",
       "│      7 │     29.2 │ e2ad02e3-e980-4243-96ab-666aec4ff280 │\n",
       "│      8 │    50.49 │ 9b8375fb-b4d6-4975-94cf-832f3dc11090 │\n",
       "│      9 │    76.97 │ 4a05749c-3810-4f19-8ab5-24d00dd72039 │\n",
       "│     10 │    73.02 │ 48866898-f9f5-4f26-978d-a9cef9bae48a │\n",
       "├────────┴──────────┴──────────────────────────────────────┤\n",
       "│ 10 rows                                        3 columns │\n",
       "└──────────────────────────────────────────────────────────┘"
      ]
     },
     "execution_count": 20,
     "metadata": {},
     "output_type": "execute_result"
    }
   ],
   "source": [
    "sql = f\"\"\"\n",
    "    select i.row_id, p.some_val, i.txn_key\n",
    "    from glue_catalog.iceberg_test as i\n",
    "        left join glue_catalog.parquet_test as p\n",
    "            on i.row_id = p.row_id\n",
    "    limit 10\n",
    "\"\"\"\n",
    "cn.sql(sql)"
   ]
  }
 ],
 "metadata": {
  "kernelspec": {
   "display_name": ".venv (3.13.7)",
   "language": "python",
   "name": "python3"
  },
  "language_info": {
   "codemirror_mode": {
    "name": "ipython",
    "version": 3
   },
   "file_extension": ".py",
   "mimetype": "text/x-python",
   "name": "python",
   "nbconvert_exporter": "python",
   "pygments_lexer": "ipython3",
   "version": "3.13.7"
  }
 },
 "nbformat": 4,
 "nbformat_minor": 5
}
