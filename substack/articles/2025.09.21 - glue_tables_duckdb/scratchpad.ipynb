{
 "cells": [
  {
   "cell_type": "code",
   "execution_count": null,
   "id": "1a0c2ac0",
   "metadata": {},
   "outputs": [],
   "source": [
    "%run gen_tables.py"
   ]
  },
  {
   "cell_type": "code",
   "execution_count": null,
   "id": "6d6f22de",
   "metadata": {},
   "outputs": [],
   "source": [
    "from aws_auth import setup_aws_environment\n",
    "setup_aws_environment()"
   ]
  },
  {
   "cell_type": "code",
   "execution_count": null,
   "id": "a7839885",
   "metadata": {},
   "outputs": [],
   "source": [
    "\n",
    "import config_duckdb\n",
    "cn = config_duckdb.config_duckdb_conn()\n",
    "\n",
    "import register_glue_tables as g\n",
    "\n",
    "catalog_name = \"glue_catalog\"\n",
    "g.attach_catalog(cn, catalog_name)\n"
   ]
  },
  {
   "cell_type": "code",
   "execution_count": 11,
   "id": "a0d7c403",
   "metadata": {},
   "outputs": [],
   "source": [
    "glue_db_name = \"icebox1\"\n",
    "g.register_table(cn, catalog_name, glue_db_name, \"parquet_test\")\n",
    "g.register_table(cn, catalog_name, glue_db_name, \"csv_test\")\n",
    "g.register_table(cn, catalog_name, glue_db_name, \"iceberg_test\")"
   ]
  },
  {
   "cell_type": "code",
   "execution_count": 13,
   "id": "93951608",
   "metadata": {},
   "outputs": [
    {
     "data": {
      "text/plain": [
       "┌────────┬──────────┬──────────────────────────────────────┐\n",
       "│ row_id │ some_val │               txn_key                │\n",
       "│ int64  │  double  │               varchar                │\n",
       "├────────┼──────────┼──────────────────────────────────────┤\n",
       "│      1 │    90.96 │ b67bda7a-aaa0-43c0-9419-08ea7be53639 │\n",
       "│      2 │    13.92 │ d1a93fee-b440-45a1-bb19-b5f139037990 │\n",
       "│      3 │    47.09 │ 8a510e46-a0a4-4a48-9749-42c3d961be8a │\n",
       "│      4 │    16.58 │ 890ff0d9-b226-4d3f-817b-4aafac86743e │\n",
       "│      5 │    57.76 │ 965b7345-1b58-4d32-a4c6-77bfb70eaa4d │\n",
       "│      6 │    58.48 │ f7ecb982-2177-4a98-98ce-2358d8ab4989 │\n",
       "│      7 │    16.26 │ d0eeb81f-3a67-4c01-bcf7-b6a36a0b4d92 │\n",
       "│      8 │    69.95 │ 72095105-ecbc-492c-9a93-e619c061ce61 │\n",
       "│      9 │    19.65 │ 6cf5e68a-a604-45cc-8d5e-34ecada02727 │\n",
       "│     10 │    29.61 │ 3e9560cf-3bcb-444a-97b0-d98737800a40 │\n",
       "├────────┴──────────┴──────────────────────────────────────┤\n",
       "│ 10 rows                                        3 columns │\n",
       "└──────────────────────────────────────────────────────────┘"
      ]
     },
     "execution_count": 13,
     "metadata": {},
     "output_type": "execute_result"
    }
   ],
   "source": [
    "sql = f\"\"\"\n",
    "    select i.row_id, p.some_val, i.txn_key\n",
    "    from glue_catalog.iceberg_test as i\n",
    "        left join glue_catalog.parquet_test as p\n",
    "            on i.row_id = p.row_id\n",
    "    limit 10\n",
    "\"\"\"\n",
    "cn.sql(sql)"
   ]
  }
 ],
 "metadata": {
  "kernelspec": {
   "display_name": ".venv (3.13.7)",
   "language": "python",
   "name": "python3"
  },
  "language_info": {
   "codemirror_mode": {
    "name": "ipython",
    "version": 3
   },
   "file_extension": ".py",
   "mimetype": "text/x-python",
   "name": "python",
   "nbconvert_exporter": "python",
   "pygments_lexer": "ipython3",
   "version": "3.13.7"
  }
 },
 "nbformat": 4,
 "nbformat_minor": 5
}
