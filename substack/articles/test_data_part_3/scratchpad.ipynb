{
 "cells": [
  {
   "cell_type": "code",
   "execution_count": 44,
   "metadata": {},
   "outputs": [],
   "source": [
    "from mimesis import Person, Address\n",
    "from mimesis.locales import Locale\n",
    "import polars as pl"
   ]
  },
  {
   "cell_type": "code",
   "execution_count": 72,
   "metadata": {},
   "outputs": [],
   "source": [
    "from mimesis import Person, Address\n",
    "from mimesis.locales import Locale\n",
    "from mimesis import Datetime\n",
    "\n",
    "peep = Person(Locale.EN)\n",
    "adrs = Address(Locale.EN)\n",
    "\n",
    "\n",
    "rows = 50_000\n",
    "\n",
    "data = []\n",
    "for i in range(rows):\n",
    "    data.append([peep.first_name(), peep.last_name(), peep.email(), adrs.country(), adrs.zip_code(), adrs.city()])\n",
    "\n"
   ]
  },
  {
   "cell_type": "code",
   "execution_count": 73,
   "metadata": {},
   "outputs": [],
   "source": [
    "sch = {\n",
    "    \"first_name\":pl.String,\n",
    "    \"last_name\":pl.String,\n",
    "    \"email_adrs\":pl.String,\n",
    "    \"country\":pl.String,\n",
    "    \"zip_cd\":pl.String,\n",
    "    \"city\":pl.String\n",
    "}"
   ]
  },
  {
   "cell_type": "code",
   "execution_count": 76,
   "metadata": {},
   "outputs": [
    {
     "data": {
      "text/html": [
       "<div><style>\n",
       ".dataframe > thead > tr,\n",
       ".dataframe > tbody > tr {\n",
       "  text-align: right;\n",
       "  white-space: pre-wrap;\n",
       "}\n",
       "</style>\n",
       "<small>shape: (5, 6)</small><table border=\"1\" class=\"dataframe\"><thead><tr><th>first_name</th><th>last_name</th><th>email_adrs</th><th>country</th><th>zip_cd</th><th>city</th></tr><tr><td>str</td><td>str</td><td>str</td><td>str</td><td>str</td><td>str</td></tr></thead><tbody><tr><td>&quot;Stacey&quot;</td><td>&quot;Best&quot;</td><td>&quot;notice1896@yahoo.com&quot;</td><td>&quot;Barbados&quot;</td><td>&quot;34050&quot;</td><td>&quot;Richardson&quot;</td></tr><tr><td>&quot;Ray&quot;</td><td>&quot;Haynes&quot;</td><td>&quot;satellite1881@outlook.com&quot;</td><td>&quot;Djibouti&quot;</td><td>&quot;56830&quot;</td><td>&quot;Valparaiso&quot;</td></tr><tr><td>&quot;Bernetta&quot;</td><td>&quot;Rowland&quot;</td><td>&quot;partnership1904@live.com&quot;</td><td>&quot;Russia&quot;</td><td>&quot;98723&quot;</td><td>&quot;Michigan City&quot;</td></tr><tr><td>&quot;Gus&quot;</td><td>&quot;Weeks&quot;</td><td>&quot;costumes2043@yandex.com&quot;</td><td>&quot;Tanzania&quot;</td><td>&quot;84184&quot;</td><td>&quot;North Canton&quot;</td></tr><tr><td>&quot;Yuonne&quot;</td><td>&quot;Waller&quot;</td><td>&quot;garmin1892@example.org&quot;</td><td>&quot;Tonga&quot;</td><td>&quot;39254&quot;</td><td>&quot;Cutler Bay&quot;</td></tr></tbody></table></div>"
      ],
      "text/plain": [
       "shape: (5, 6)\n",
       "┌────────────┬───────────┬───────────────────────────┬──────────┬────────┬───────────────┐\n",
       "│ first_name ┆ last_name ┆ email_adrs                ┆ country  ┆ zip_cd ┆ city          │\n",
       "│ ---        ┆ ---       ┆ ---                       ┆ ---      ┆ ---    ┆ ---           │\n",
       "│ str        ┆ str       ┆ str                       ┆ str      ┆ str    ┆ str           │\n",
       "╞════════════╪═══════════╪═══════════════════════════╪══════════╪════════╪═══════════════╡\n",
       "│ Stacey     ┆ Best      ┆ notice1896@yahoo.com      ┆ Barbados ┆ 34050  ┆ Richardson    │\n",
       "│ Ray        ┆ Haynes    ┆ satellite1881@outlook.com ┆ Djibouti ┆ 56830  ┆ Valparaiso    │\n",
       "│ Bernetta   ┆ Rowland   ┆ partnership1904@live.com  ┆ Russia   ┆ 98723  ┆ Michigan City │\n",
       "│ Gus        ┆ Weeks     ┆ costumes2043@yandex.com   ┆ Tanzania ┆ 84184  ┆ North Canton  │\n",
       "│ Yuonne     ┆ Waller    ┆ garmin1892@example.org    ┆ Tonga    ┆ 39254  ┆ Cutler Bay    │\n",
       "└────────────┴───────────┴───────────────────────────┴──────────┴────────┴───────────────┘"
      ]
     },
     "execution_count": 76,
     "metadata": {},
     "output_type": "execute_result"
    }
   ],
   "source": [
    "df = pl.DataFrame(data, schema=sch)\n",
    "df.head(5)"
   ]
  },
  {
   "cell_type": "code",
   "execution_count": 75,
   "metadata": {},
   "outputs": [],
   "source": [
    "df.write_parquet('~/test_dummy_data/polars/test.parquet')"
   ]
  }
 ],
 "metadata": {
  "kernelspec": {
   "display_name": ".venv",
   "language": "python",
   "name": "python3"
  },
  "language_info": {
   "codemirror_mode": {
    "name": "ipython",
    "version": 3
   },
   "file_extension": ".py",
   "mimetype": "text/x-python",
   "name": "python",
   "nbconvert_exporter": "python",
   "pygments_lexer": "ipython3",
   "version": "3.12.3"
  }
 },
 "nbformat": 4,
 "nbformat_minor": 2
}
