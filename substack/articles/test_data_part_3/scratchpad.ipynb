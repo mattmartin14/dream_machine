{
 "cells": [
  {
   "cell_type": "code",
   "execution_count": 16,
   "metadata": {},
   "outputs": [],
   "source": [
    "from mimesis import Person, Address, Datetime, Numeric\n",
    "from mimesis.locales import Locale\n",
    "import polars as pl\n",
    "import uuid"
   ]
  },
  {
   "cell_type": "code",
   "execution_count": 45,
   "metadata": {},
   "outputs": [],
   "source": [
    "# from mimesis import Person, Address\n",
    "# from mimesis.locales import Locale\n",
    "# from mimesis import Datetime\n",
    "# import uuid\n",
    "\n",
    "peep = Person(Locale.EN)\n",
    "adrs = Address(Locale.EN)\n",
    "dt = Datetime(Locale.EN)\n",
    "n = Numeric()\n",
    "\n",
    "\n",
    "rows = 50_000\n",
    "\n",
    "data = []\n",
    "for i in range(rows):\n",
    "    data.append([peep.first_name(), peep.last_name(), dt.date(), peep.email()\n",
    "                 , adrs.country(), adrs.zip_code(), adrs.city(), str(adrs.latitude(False)), str(adrs.longitude(False))\n",
    "                 , dt.date()\n",
    "                 , str(uuid.uuid4())\n",
    "                 , n.integer_number(100,5000)\n",
    "                 ])\n",
    "\n"
   ]
  },
  {
   "cell_type": "code",
   "execution_count": 46,
   "metadata": {},
   "outputs": [],
   "source": [
    "sch = {\n",
    "    \"first_name\": pl.String,\n",
    "    \"last_name\": pl.String,\n",
    "    \"birth_dt\": pl.Date,\n",
    "    \"email_adrs\": pl.String,\n",
    "    \"country\": pl.String,\n",
    "    \"zip_cd\": pl.String,\n",
    "    \"city\": pl.String,\n",
    "    \"lat\": pl.String,\n",
    "    \"long\": pl.String,\n",
    "    \"hire_dt\": pl.Date,\n",
    "    \"txn_key\": pl.String,\n",
    "    \"net_worth\": pl.Int32\n",
    "}"
   ]
  },
  {
   "cell_type": "code",
   "execution_count": 47,
   "metadata": {},
   "outputs": [
    {
     "data": {
      "text/html": [
       "<div><style>\n",
       ".dataframe > thead > tr,\n",
       ".dataframe > tbody > tr {\n",
       "  text-align: right;\n",
       "  white-space: pre-wrap;\n",
       "}\n",
       "</style>\n",
       "<small>shape: (5, 12)</small><table border=\"1\" class=\"dataframe\"><thead><tr><th>first_name</th><th>last_name</th><th>birth_dt</th><th>email_adrs</th><th>country</th><th>zip_cd</th><th>city</th><th>lat</th><th>long</th><th>hire_dt</th><th>txn_key</th><th>net_worth</th></tr><tr><td>str</td><td>str</td><td>date</td><td>str</td><td>str</td><td>str</td><td>str</td><td>str</td><td>str</td><td>date</td><td>str</td><td>i32</td></tr></thead><tbody><tr><td>&quot;Darius&quot;</td><td>&quot;Patel&quot;</td><td>2000-06-25</td><td>&quot;spyware2070@example.org&quot;</td><td>&quot;Solomon Islands&quot;</td><td>&quot;67917&quot;</td><td>&quot;Yorba Linda&quot;</td><td>&quot;-60.568324&quot;</td><td>&quot;50.64682&quot;</td><td>2006-05-14</td><td>&quot;e723045c-a36b-463b-a88b-3278dd…</td><td>4248</td></tr><tr><td>&quot;Maida&quot;</td><td>&quot;Spence&quot;</td><td>2011-12-04</td><td>&quot;program2054@gmail.com&quot;</td><td>&quot;Liberia&quot;</td><td>&quot;49130&quot;</td><td>&quot;Lindenhurst&quot;</td><td>&quot;40.912338&quot;</td><td>&quot;-159.554376&quot;</td><td>2003-07-23</td><td>&quot;46663766-127b-4cea-a791-0657b8…</td><td>1235</td></tr><tr><td>&quot;Toney&quot;</td><td>&quot;Bowen&quot;</td><td>2023-08-16</td><td>&quot;towers2076@example.org&quot;</td><td>&quot;Solomon Islands&quot;</td><td>&quot;15211&quot;</td><td>&quot;Plymouth&quot;</td><td>&quot;-65.142757&quot;</td><td>&quot;-89.534378&quot;</td><td>2024-07-28</td><td>&quot;386fb4cb-0827-4792-a430-5008ce…</td><td>1241</td></tr><tr><td>&quot;Lavone&quot;</td><td>&quot;Ray&quot;</td><td>2007-12-04</td><td>&quot;actively1878@yandex.com&quot;</td><td>&quot;Curaçao&quot;</td><td>&quot;24573&quot;</td><td>&quot;Adelanto&quot;</td><td>&quot;41.481122&quot;</td><td>&quot;-128.827087&quot;</td><td>2017-03-16</td><td>&quot;267c4de2-1946-49e3-ad0d-d4d7ec…</td><td>2163</td></tr><tr><td>&quot;Michel&quot;</td><td>&quot;Barron&quot;</td><td>2004-04-17</td><td>&quot;affiliation2092@yandex.com&quot;</td><td>&quot;Yemen&quot;</td><td>&quot;62563&quot;</td><td>&quot;Alamo&quot;</td><td>&quot;-84.891145&quot;</td><td>&quot;-174.07288&quot;</td><td>2019-08-07</td><td>&quot;d1ee8552-fda4-4dda-b6e9-06c35a…</td><td>2565</td></tr></tbody></table></div>"
      ],
      "text/plain": [
       "shape: (5, 12)\n",
       "┌───────────┬───────────┬───────────┬───────────┬───┬───────────┬───────────┬───────────┬──────────┐\n",
       "│ first_nam ┆ last_name ┆ birth_dt  ┆ email_adr ┆ … ┆ long      ┆ hire_dt   ┆ txn_key   ┆ net_wort │\n",
       "│ e         ┆ ---       ┆ ---       ┆ s         ┆   ┆ ---       ┆ ---       ┆ ---       ┆ h        │\n",
       "│ ---       ┆ str       ┆ date      ┆ ---       ┆   ┆ str       ┆ date      ┆ str       ┆ ---      │\n",
       "│ str       ┆           ┆           ┆ str       ┆   ┆           ┆           ┆           ┆ i32      │\n",
       "╞═══════════╪═══════════╪═══════════╪═══════════╪═══╪═══════════╪═══════════╪═══════════╪══════════╡\n",
       "│ Darius    ┆ Patel     ┆ 2000-06-2 ┆ spyware20 ┆ … ┆ 50.64682  ┆ 2006-05-1 ┆ e723045c- ┆ 4248     │\n",
       "│           ┆           ┆ 5         ┆ 70@exampl ┆   ┆           ┆ 4         ┆ a36b-463b ┆          │\n",
       "│           ┆           ┆           ┆ e.org     ┆   ┆           ┆           ┆ -a88b-327 ┆          │\n",
       "│           ┆           ┆           ┆           ┆   ┆           ┆           ┆ 8dd…      ┆          │\n",
       "│ Maida     ┆ Spence    ┆ 2011-12-0 ┆ program20 ┆ … ┆ -159.5543 ┆ 2003-07-2 ┆ 46663766- ┆ 1235     │\n",
       "│           ┆           ┆ 4         ┆ 54@gmail. ┆   ┆ 76        ┆ 3         ┆ 127b-4cea ┆          │\n",
       "│           ┆           ┆           ┆ com       ┆   ┆           ┆           ┆ -a791-065 ┆          │\n",
       "│           ┆           ┆           ┆           ┆   ┆           ┆           ┆ 7b8…      ┆          │\n",
       "│ Toney     ┆ Bowen     ┆ 2023-08-1 ┆ towers207 ┆ … ┆ -89.53437 ┆ 2024-07-2 ┆ 386fb4cb- ┆ 1241     │\n",
       "│           ┆           ┆ 6         ┆ 6@example ┆   ┆ 8         ┆ 8         ┆ 0827-4792 ┆          │\n",
       "│           ┆           ┆           ┆ .org      ┆   ┆           ┆           ┆ -a430-500 ┆          │\n",
       "│           ┆           ┆           ┆           ┆   ┆           ┆           ┆ 8ce…      ┆          │\n",
       "│ Lavone    ┆ Ray       ┆ 2007-12-0 ┆ actively1 ┆ … ┆ -128.8270 ┆ 2017-03-1 ┆ 267c4de2- ┆ 2163     │\n",
       "│           ┆           ┆ 4         ┆ 878@yande ┆   ┆ 87        ┆ 6         ┆ 1946-49e3 ┆          │\n",
       "│           ┆           ┆           ┆ x.com     ┆   ┆           ┆           ┆ -ad0d-d4d ┆          │\n",
       "│           ┆           ┆           ┆           ┆   ┆           ┆           ┆ 7ec…      ┆          │\n",
       "│ Michel    ┆ Barron    ┆ 2004-04-1 ┆ affiliati ┆ … ┆ -174.0728 ┆ 2019-08-0 ┆ d1ee8552- ┆ 2565     │\n",
       "│           ┆           ┆ 7         ┆ on2092@ya ┆   ┆ 8         ┆ 7         ┆ fda4-4dda ┆          │\n",
       "│           ┆           ┆           ┆ ndex.com  ┆   ┆           ┆           ┆ -b6e9-06c ┆          │\n",
       "│           ┆           ┆           ┆           ┆   ┆           ┆           ┆ 35a…      ┆          │\n",
       "└───────────┴───────────┴───────────┴───────────┴───┴───────────┴───────────┴───────────┴──────────┘"
      ]
     },
     "execution_count": 47,
     "metadata": {},
     "output_type": "execute_result"
    }
   ],
   "source": [
    "df = pl.DataFrame(data, schema=sch)\n",
    "df.head(5)"
   ]
  },
  {
   "cell_type": "code",
   "execution_count": 48,
   "metadata": {},
   "outputs": [],
   "source": [
    "df.write_parquet('~/test_dummy_data/polars/test.parquet')"
   ]
  }
 ],
 "metadata": {
  "kernelspec": {
   "display_name": ".venv",
   "language": "python",
   "name": "python3"
  },
  "language_info": {
   "codemirror_mode": {
    "name": "ipython",
    "version": 3
   },
   "file_extension": ".py",
   "mimetype": "text/x-python",
   "name": "python",
   "nbconvert_exporter": "python",
   "pygments_lexer": "ipython3",
   "version": "3.12.3"
  }
 },
 "nbformat": 4,
 "nbformat_minor": 2
}
