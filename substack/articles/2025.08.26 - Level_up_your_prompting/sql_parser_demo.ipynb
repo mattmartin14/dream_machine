{
 "cells": [
  {
   "cell_type": "markdown",
   "id": "2005818c",
   "metadata": {},
   "source": [
    "# SQL Parser Demonstration\n",
    "\n",
    "This notebook demonstrates the usage of our custom SQL parser that extracts table names, aliases, and columns from SQL queries."
   ]
  },
  {
   "cell_type": "code",
   "execution_count": 1,
   "id": "a5e3f87f",
   "metadata": {},
   "outputs": [],
   "source": [
    "# Import required modules\n",
    "import sys\n",
    "import os\n",
    "import json\n",
    "\n",
    "# Add the src directory to path so we can import our parser\n",
    "sys.path.append(os.path.join(os.getcwd(), 'src'))\n",
    "\n",
    "from sql_parser import parse_sql"
   ]
  },
  {
   "cell_type": "markdown",
   "id": "3955d630",
   "metadata": {},
   "source": [
    "## Example 1: Basic JOIN Query (from requirements)\n",
    "\n",
    "Let's start with the example SQL query from the project requirements:"
   ]
  },
  {
   "cell_type": "code",
   "execution_count": 2,
   "id": "4564cce5",
   "metadata": {},
   "outputs": [
    {
     "name": "stdout",
     "output_type": "stream",
     "text": [
      "SQL Query:\n",
      "select a.order_id, a.order_dt, b.sku_nbr, b.cost_amt, b.quantity\n",
      "from orders as a\n",
      "    join order_details as b\n",
      "        on a.order_id = b.order_id\n",
      "\n",
      "Parsed Result:\n",
      "{\n",
      "  \"tables\": [\n",
      "    {\n",
      "      \"table_name\": \"orders\",\n",
      "      \"alias\": \"a\",\n",
      "      \"columns\": [\n",
      "        \"order_dt\",\n",
      "        \"order_id\"\n",
      "      ]\n",
      "    },\n",
      "    {\n",
      "      \"table_name\": \"order_details\",\n",
      "      \"alias\": \"b\",\n",
      "      \"columns\": [\n",
      "        \"cost_amt\",\n",
      "        \"quantity\",\n",
      "        \"sku_nbr\"\n",
      "      ]\n",
      "    }\n",
      "  ]\n",
      "}\n"
     ]
    }
   ],
   "source": [
    "# Example from project requirements\n",
    "sql1 = \"\"\"\n",
    "select a.order_id, a.order_dt, b.sku_nbr, b.cost_amt, b.quantity\n",
    "from orders as a\n",
    "    join order_details as b\n",
    "        on a.order_id = b.order_id\n",
    "\"\"\"\n",
    "\n",
    "result1 = parse_sql(sql1)\n",
    "print(\"SQL Query:\")\n",
    "print(sql1.strip())\n",
    "print(\"\\nParsed Result:\")\n",
    "print(result1)"
   ]
  },
  {
   "cell_type": "markdown",
   "id": "262e578e",
   "metadata": {},
   "source": [
    "## Example 2: Multiple JOINs\n",
    "\n",
    "Let's test with a more complex query involving multiple tables:"
   ]
  },
  {
   "cell_type": "code",
   "execution_count": null,
   "id": "dc9ad3ea",
   "metadata": {},
   "outputs": [],
   "source": [
    "sql2 = \"\"\"\n",
    "select \n",
    "    c.customer_name, \n",
    "    o.order_date, \n",
    "    p.product_name, \n",
    "    od.quantity\n",
    "from customers as c\n",
    "    join orders as o on c.customer_id = o.customer_id\n",
    "    join order_details as od on o.order_id = od.order_id\n",
    "    join products as p on od.product_id = p.product_id\n",
    "\"\"\"\n",
    "\n",
    "result2 = parse_sql(sql2)\n",
    "print(\"SQL Query:\")\n",
    "print(sql2.strip())\n",
    "print(\"\\nParsed Result:\")\n",
    "print(result2)"
   ]
  },
  {
   "cell_type": "markdown",
   "id": "ac19143d",
   "metadata": {},
   "source": [
    "## Example 3: Simple SELECT without aliases\n",
    "\n",
    "Testing with a simple query that doesn't use table aliases:"
   ]
  },
  {
   "cell_type": "code",
   "execution_count": null,
   "id": "7de5f329",
   "metadata": {},
   "outputs": [],
   "source": [
    "sql3 = \"\"\"\n",
    "select employees.name, employees.salary, departments.dept_name\n",
    "from employees\n",
    "    join departments on employees.dept_id = departments.dept_id\n",
    "\"\"\"\n",
    "\n",
    "result3 = parse_sql(sql3)\n",
    "print(\"SQL Query:\")\n",
    "print(sql3.strip())\n",
    "print(\"\\nParsed Result:\")\n",
    "print(result3)"
   ]
  },
  {
   "cell_type": "markdown",
   "id": "744af6c2",
   "metadata": {},
   "source": [
    "## Example 4: LEFT JOIN with different alias styles\n",
    "\n",
    "Testing with LEFT JOIN and different ways of specifying aliases:"
   ]
  },
  {
   "cell_type": "code",
   "execution_count": null,
   "id": "567b7988",
   "metadata": {},
   "outputs": [],
   "source": [
    "sql4 = \"\"\"\n",
    "select \n",
    "    u.username,\n",
    "    u.email,\n",
    "    prof.bio,\n",
    "    prof.avatar_url\n",
    "from users u\n",
    "    left join user_profiles as prof on u.user_id = prof.user_id\n",
    "\"\"\"\n",
    "\n",
    "result4 = parse_sql(sql4)\n",
    "print(\"SQL Query:\")\n",
    "print(sql4.strip())\n",
    "print(\"\\nParsed Result:\")\n",
    "print(result4)"
   ]
  },
  {
   "cell_type": "markdown",
   "id": "bd514439",
   "metadata": {},
   "source": [
    "## Pretty Print Function\n",
    "\n",
    "Let's create a helper function to make the JSON output even more readable:"
   ]
  },
  {
   "cell_type": "code",
   "execution_count": 3,
   "id": "03a90014",
   "metadata": {},
   "outputs": [
    {
     "name": "stdout",
     "output_type": "stream",
     "text": [
      "============================================================\n",
      "SQL Query:\n",
      "--------------------\n",
      "select a.order_id, a.order_dt, b.sku_nbr, b.cost_amt, b.quantity\n",
      "from orders as a\n",
      "    join order_details as b\n",
      "        on a.order_id = b.order_id\n",
      "\n",
      "Parsed Tables and Columns:\n",
      "------------------------------\n",
      "1. Table: orders (alias: a)\n",
      "   Columns: order_dt, order_id\n",
      "\n",
      "2. Table: order_details (alias: b)\n",
      "   Columns: cost_amt, quantity, sku_nbr\n",
      "\n",
      "Raw JSON Output:\n",
      "------------------\n",
      "{\n",
      "  \"tables\": [\n",
      "    {\n",
      "      \"table_name\": \"orders\",\n",
      "      \"alias\": \"a\",\n",
      "      \"columns\": [\n",
      "        \"order_dt\",\n",
      "        \"order_id\"\n",
      "      ]\n",
      "    },\n",
      "    {\n",
      "      \"table_name\": \"order_details\",\n",
      "      \"alias\": \"b\",\n",
      "      \"columns\": [\n",
      "        \"cost_amt\",\n",
      "        \"quantity\",\n",
      "        \"sku_nbr\"\n",
      "      ]\n",
      "    }\n",
      "  ]\n",
      "}\n",
      "============================================================\n"
     ]
    }
   ],
   "source": [
    "def pretty_print_sql_parse(sql_query: str):\n",
    "    \"\"\"\n",
    "    Parse SQL and display results in a formatted way\n",
    "    \"\"\"\n",
    "    print(\"=\" * 60)\n",
    "    print(\"SQL Query:\")\n",
    "    print(\"-\" * 20)\n",
    "    print(sql_query.strip())\n",
    "    \n",
    "    result_json = parse_sql(sql_query)\n",
    "    result_dict = json.loads(result_json)\n",
    "    \n",
    "    print(\"\\nParsed Tables and Columns:\")\n",
    "    print(\"-\" * 30)\n",
    "    \n",
    "    for i, table in enumerate(result_dict['tables'], 1):\n",
    "        alias_text = f\" (alias: {table['alias']})\" if table['alias'] else \"\"\n",
    "        print(f\"{i}. Table: {table['table_name']}{alias_text}\")\n",
    "        print(f\"   Columns: {', '.join(table['columns'])}\")\n",
    "        print()\n",
    "    \n",
    "    print(\"Raw JSON Output:\")\n",
    "    print(\"-\" * 18)\n",
    "    print(result_json)\n",
    "    print(\"=\" * 60)\n",
    "\n",
    "# Test with our first example\n",
    "pretty_print_sql_parse(sql1)"
   ]
  }
 ],
 "metadata": {
  "kernelspec": {
   "display_name": "sql_parser_env (3.13.5)",
   "language": "python",
   "name": "python3"
  },
  "language_info": {
   "codemirror_mode": {
    "name": "ipython",
    "version": 3
   },
   "file_extension": ".py",
   "mimetype": "text/x-python",
   "name": "python",
   "nbconvert_exporter": "python",
   "pygments_lexer": "ipython3",
   "version": "3.13.5"
  }
 },
 "nbformat": 4,
 "nbformat_minor": 5
}
