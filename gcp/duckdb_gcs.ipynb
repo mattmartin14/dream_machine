{
 "cells": [
  {
   "cell_type": "code",
   "execution_count": null,
   "metadata": {},
   "outputs": [],
   "source": [
    "import duckdb\n",
    "from fsspec import filesystem\n",
    "import os\n",
    "cn = duckdb.connect()\n",
    "cn.register_filesystem(filesystem('gcs'))"
   ]
  },
  {
   "cell_type": "code",
   "execution_count": 2,
   "metadata": {},
   "outputs": [
    {
     "name": "stdout",
     "output_type": "stream",
     "text": [
      "┌────────────┬─────────────┬──────────────────┬──────────────────────┬──────────────┬───────────┬───────────┬────────────┬────────────┬──────────────────────────────────────┐\n",
      "│  Latitude  │  Longitude  │ CreditCardNumber │        Email         │ PhoneNumber  │ FirstName │ LastName  │    Date    │  NetWorth  │                TxnKey                │\n",
      "│   double   │   double    │      int64       │       varchar        │   varchar    │  varchar  │  varchar  │    date    │   double   │               varchar                │\n",
      "├────────────┼─────────────┼──────────────────┼──────────────────────┼──────────────┼───────────┼───────────┼────────────┼────────────┼──────────────────────────────────────┤\n",
      "│  63.305305 │ -154.303574 │ 6011517609545153 │ WMUVtRc@RfjZciH.com  │ 410-815-2637 │ Bertrand  │ Gutkowski │ 2018-05-23 │      10.16 │ 6b691a43-73d9-4784-9397-5a8317418b0f │\n",
      "│ -48.165188 │  -37.616329 │ 6011504282599022 │ MxnNAYJ@ExcgPvo.ru   │ 927-108-4615 │ Ivah      │ Hoeger    │ 1980-04-29 │        1.7 │ c76a1661-006e-4824-b8aa-5c6cdb5b888b │\n",
      "│ -10.703768 │   80.755714 │ 6011250327514008 │ esLuYnd@gnCGTpb.ru   │ 794-536-1081 │ Milo      │ Kris      │ 2015-04-01 │       62.5 │ 438be42c-17a8-4cbd-b099-3819c6c95aa6 │\n",
      "│  -86.62632 │ -160.920425 │ 6011659499022067 │ nbTewVT@BeugcbE.net  │ 326-711-0895 │ Serenity  │ Swift     │ 1991-08-01 │        2.8 │ babd20ec-0e09-4c24-8cd5-5c4ce92b846a │\n",
      "│ -86.868187 │  -13.870378 │ 6011648226760259 │ lDvdkXc@DicIGal.ru   │ 871-069-3124 │ Nicole    │ Klein     │ 1983-12-16 │  736127.59 │ fe10e21b-758e-49ed-bb52-d82babf5a4ef │\n",
      "│   6.446378 │  -96.131538 │ 6011828189991685 │ RhExpiy@rrYjRey.org  │ 151-082-6947 │ Allen     │ Block     │ 1972-03-27 │  404844.38 │ 7fafee08-6277-4096-9cfa-984afd8551c3 │\n",
      "│   4.628109 │  134.412033 │ 6011033175756363 │ HMCZTlH@UkyfIPW.ru   │ 410-793-8512 │ Luna      │ Wolff     │ 1988-10-28 │  710189.08 │ 77d5683b-213b-47d6-9505-02d327f6d7ae │\n",
      "│  -3.582986 │  -56.134216 │ 6011458730949396 │ nISntEc@pVPoGLq.info │ 957-102-1386 │ Leora     │ McKenzie  │ 2023-09-02 │    38880.5 │ bd4215bc-8fc8-44d4-9e3c-eb23ab2ae134 │\n",
      "│  58.092495 │ -164.416946 │ 6011932718907905 │ fgalToM@hGwCJEm.net  │ 987-452-6103 │ Shana     │ Roob      │ 1982-01-28 │  731036.63 │ 01a65f86-78ee-467e-ada2-7c083c35c682 │\n",
      "│  33.663731 │  175.896835 │ 6011823207144006 │ tvFMwZV@WorrdvN.net  │ 910-843-5217 │ Ottilie   │ Dietrich  │ 1980-07-16 │     469.55 │ fcdf4473-6ddc-46dd-9993-2c8a12bd3603 │\n",
      "│      ·     │        ·    │         ·        │          ·           │      ·       │   ·       │  ·        │     ·      │        ·   │                  ·                   │\n",
      "│      ·     │        ·    │         ·        │          ·           │      ·       │   ·       │  ·        │     ·      │        ·   │                  ·                   │\n",
      "│      ·     │        ·    │         ·        │          ·           │      ·       │   ·       │  ·        │     ·      │        ·   │                  ·                   │\n",
      "│  55.754028 │    34.65118 │ 6011601727838406 │ vLZfEUq@wfaqqZB.net  │ 104-395-6271 │ Verner    │ Yost      │ 2000-06-14 │     372.17 │ a670b7f2-d496-4fad-a699-d87049c89f8d │\n",
      "│  23.349134 │  161.512909 │ 6011458151930960 │ yAdPRKw@QEMSChQ.com  │ 761-958-2410 │ Jermaine  │ Moen      │ 1975-03-06 │ 2533542.96 │ d22f5559-1c85-4853-8a09-75ed5c61486a │\n",
      "│ -51.184238 │  161.435837 │ 6011310276898940 │ JmGyCyo@uCrlxXB.info │ 348-752-6109 │ Nick      │ Bashirian │ 1974-01-19 │ 4254348.76 │ 780d4fd3-a2cf-4bcd-998c-c19c8ec9ecfa │\n",
      "│ -45.999794 │ -105.809792 │ 6011901194404098 │ UgLuPrR@FBWJdLd.org  │ 311-024-8956 │ Stephon   │ Raynor    │ 1988-01-27 │     252.63 │ 3eea08f6-6879-494f-b8f8-8b543fb87c75 │\n",
      "│  80.197906 │   84.941422 │ 6011619921238065 │ uuEnISs@bdKhIIt.info │ 174-689-5103 │ Jonatan   │ Keeling   │ 2009-06-19 │     6487.6 │ 31a898c1-5ab1-4218-af1e-a0df0091f0a1 │\n",
      "│ -84.236855 │ -144.019379 │ 6011599663452473 │ hAafXPF@daHTSiG.ru   │ 429-101-8365 │ Lennie    │ Kutch     │ 1998-12-17 │      55.05 │ b6181751-18b1-4ef3-b4dd-fb51bbf21ff5 │\n",
      "│ -78.382088 │    1.621449 │ 6011420160856236 │ LLUlRjx@NDPhTwy.ru   │ 791-103-6485 │ Walker    │ Dicki     │ 2008-09-07 │ 8909793.52 │ 769cc9c3-ad0e-43f5-b572-989d43ca736c │\n",
      "│  50.500404 │    -4.20065 │ 6011812792886489 │ xZGgDaT@OLvUbJd.biz  │ 794-106-1258 │ Effie     │ Sanford   │ 1970-10-15 │ 4207844.19 │ 9b65b504-cc0b-4da4-af28-3fb5279583fb │\n",
      "│ -53.322727 │    5.214922 │ 6011617933751548 │ hCkSasU@AZblDmV.ru   │ 104-923-1768 │ Breanne   │ Kautzer   │ 2023-12-06 │       0.53 │ 09e6762a-bc99-42da-a8b5-3701bf40ba19 │\n",
      "│  78.675972 │  -35.939262 │ 6011306579733905 │ SicXJaE@mprfWXl.ru   │ 287-341-1059 │ Sage      │ Crooks    │ 1970-05-20 │        8.1 │ f9eba670-c955-4d93-8cef-294ebb2de432 │\n",
      "├────────────┴─────────────┴──────────────────┴──────────────────────┴──────────────┴───────────┴───────────┴────────────┴────────────┴──────────────────────────────────────┤\n",
      "│ 50 rows (20 shown)                                                                                                                                              10 columns │\n",
      "└────────────────────────────────────────────────────────────────────────────────────────────────────────────────────────────────────────────────────────────────────────────┘\n",
      "\n"
     ]
    }
   ],
   "source": [
    "bucket = os.getenv('GCS_BUCKET')\n",
    "gs_path = f\"gs://{bucket}/test_data/data*.csv\"\n",
    "sql = f\"select * from read_csv_auto('{gs_path}') limit 50\"\n",
    "cn.sql(sql).show(max_width = 1000)"
   ]
  },
  {
   "cell_type": "code",
   "execution_count": 3,
   "metadata": {},
   "outputs": [
    {
     "name": "stdout",
     "output_type": "stream",
     "text": [
      "┌────────────┬─────────┬────────────────────┬───────────┐\n",
      "│   rpt_dt   │ row_cnt │   tot_net_worth    │ fName_cnt │\n",
      "│    date    │  int64  │       double       │   int64   │\n",
      "├────────────┼─────────┼────────────────────┼───────────┤\n",
      "│ 1986-05-27 │       4 │  6160931.680000001 │         4 │\n",
      "│ 1977-10-23 │       6 │            14263.1 │         6 │\n",
      "│ 2006-02-02 │       7 │           121700.7 │         7 │\n",
      "│ 1979-09-24 │       6 │         1307989.06 │         6 │\n",
      "│ 2011-09-21 │       3 │          611845.71 │         3 │\n",
      "│ 1991-04-04 │      11 │         4839451.42 │        11 │\n",
      "│ 2007-11-06 │       6 │ 3289598.9299999997 │         6 │\n",
      "│ 1988-04-13 │       8 │ 15826.199999999997 │         8 │\n",
      "│ 1995-09-23 │       7 │ 3227815.2199999997 │         7 │\n",
      "│ 1982-10-07 │       3 │          362582.35 │         3 │\n",
      "│     ·      │       · │              ·     │         · │\n",
      "│     ·      │       · │              ·     │         · │\n",
      "│     ·      │       · │              ·     │         · │\n",
      "│ 1998-12-06 │       6 │         5851003.88 │         6 │\n",
      "│ 1978-10-31 │       4 │         1059561.55 │         4 │\n",
      "│ 2017-08-27 │      10 │         4775039.93 │        10 │\n",
      "│ 1985-08-21 │       5 │           542658.1 │         5 │\n",
      "│ 1981-03-19 │       7 │         3627564.03 │         7 │\n",
      "│ 1990-09-23 │       4 │ 361790.88999999996 │         4 │\n",
      "│ 2017-03-27 │       4 │          499411.62 │         4 │\n",
      "│ 2018-06-07 │       9 │  561127.7100000002 │         9 │\n",
      "│ 2020-12-10 │       6 │        15302655.11 │         6 │\n",
      "│ 2016-11-24 │       5 │            73947.1 │         5 │\n",
      "├────────────┴─────────┴────────────────────┴───────────┤\n",
      "│ ? rows (>9999 rows, 20 shown)               4 columns │\n",
      "└───────────────────────────────────────────────────────┘\n",
      "\n"
     ]
    }
   ],
   "source": [
    "b_sql = f\"\"\"\n",
    "select Date as rpt_dt \n",
    "    ,count(*) as row_cnt\n",
    "    ,sum(NetWorth) as tot_net_worth\n",
    "    ,count(distinct firstName) as fName_cnt\n",
    "from read_csv_auto('{gs_path}')\n",
    "group by all\n",
    "\"\"\"\n",
    "cn.sql(b_sql).show()"
   ]
  },
  {
   "cell_type": "code",
   "execution_count": 4,
   "metadata": {},
   "outputs": [
    {
     "data": {
      "text/plain": [
       "<duckdb.duckdb.DuckDBPyConnection at 0x1038731b0>"
      ]
     },
     "execution_count": 4,
     "metadata": {},
     "output_type": "execute_result"
    }
   ],
   "source": [
    "b_sql = f\"\"\"\n",
    "select Date as rpt_dt \n",
    "    ,count(*) as row_cnt\n",
    "    ,sum(NetWorth) as tot_net_worth\n",
    "    ,count(distinct firstName) as fName_cnt\n",
    "from read_csv_auto('{gs_path}')\n",
    "group by all\n",
    "\"\"\"\n",
    "\n",
    "gs_write_path = f\"gs://{bucket}/test_data/data_tsfm.parquet\"\n",
    "sql = f\"\"\"\n",
    "COPY ({b_sql}) to '{gs_write_path}' (FORMAT PARQUET)\n",
    "\"\"\"\n",
    "\n",
    "cn.execute(sql)"
   ]
  },
  {
   "cell_type": "code",
   "execution_count": 5,
   "metadata": {},
   "outputs": [
    {
     "name": "stdout",
     "output_type": "stream",
     "text": [
      "┌────────────┬─────────┬────────────────────┬───────────┐\n",
      "│   rpt_dt   │ row_cnt │   tot_net_worth    │ fName_cnt │\n",
      "│    date    │  int64  │       double       │   int64   │\n",
      "├────────────┼─────────┼────────────────────┼───────────┤\n",
      "│ 1972-03-27 │       3 │ 427365.48000000004 │         3 │\n",
      "│ 2002-10-18 │       7 │          567661.53 │         7 │\n",
      "│ 1980-11-03 │       5 │  7905259.649999999 │         5 │\n",
      "│ 1995-01-14 │       5 │         1052403.82 │         5 │\n",
      "│ 1975-03-06 │       7 │  8872927.620000001 │         7 │\n",
      "│ 1974-01-19 │       9 │         5837204.09 │         9 │\n",
      "│ 1970-05-20 │       7 │         2234565.54 │         7 │\n",
      "│ 2019-04-19 │       1 │               2.03 │         1 │\n",
      "│ 1995-09-16 │       6 │  82717.98000000001 │         6 │\n",
      "│ 1984-11-25 │       5 │ 2491062.0100000002 │         5 │\n",
      "│     ·      │       · │              ·     │         · │\n",
      "│     ·      │       · │              ·     │         · │\n",
      "│     ·      │       · │              ·     │         · │\n",
      "│ 2016-10-12 │       6 │         7471343.38 │         6 │\n",
      "│ 1983-02-08 │       8 │          9413673.6 │         8 │\n",
      "│ 1986-02-07 │       7 │         3183873.51 │         7 │\n",
      "│ 1974-01-29 │      14 │        32195265.95 │        14 │\n",
      "│ 2014-05-21 │       7 │         4657624.72 │         7 │\n",
      "│ 1999-09-19 │      10 │         7338474.41 │        10 │\n",
      "│ 1989-08-20 │       6 │           87327.29 │         6 │\n",
      "│ 1991-01-18 │       6 │         9868503.43 │         6 │\n",
      "│ 2011-12-20 │       8 │         6345918.91 │         8 │\n",
      "│ 2020-01-04 │       8 │ 390281.58999999997 │         8 │\n",
      "├────────────┴─────────┴────────────────────┴───────────┤\n",
      "│ ? rows (>9999 rows, 20 shown)               4 columns │\n",
      "└───────────────────────────────────────────────────────┘\n",
      "\n"
     ]
    }
   ],
   "source": [
    "sql = f\"\"\"\n",
    "select *\n",
    "from read_parquet('gs://{bucket}/test_data/data_tsfm.parquet')\n",
    "\"\"\"\n",
    "cn.sql(sql).show()"
   ]
  }
 ],
 "metadata": {
  "kernelspec": {
   "display_name": ".venv",
   "language": "python",
   "name": "python3"
  },
  "language_info": {
   "codemirror_mode": {
    "name": "ipython",
    "version": 3
   },
   "file_extension": ".py",
   "mimetype": "text/x-python",
   "name": "python",
   "nbconvert_exporter": "python",
   "pygments_lexer": "ipython3",
   "version": "3.12.3"
  }
 },
 "nbformat": 4,
 "nbformat_minor": 2
}
