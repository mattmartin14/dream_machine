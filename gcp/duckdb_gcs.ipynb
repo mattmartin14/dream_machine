{
 "cells": [
  {
   "cell_type": "code",
   "execution_count": 8,
   "metadata": {},
   "outputs": [],
   "source": [
    "import duckdb\n",
    "from fsspec import filesystem\n",
    "import os"
   ]
  },
  {
   "cell_type": "code",
   "execution_count": 9,
   "metadata": {},
   "outputs": [
    {
     "name": "stdout",
     "output_type": "stream",
     "text": [
      "┌────────────┬─────────────┬──────────────────────┬──────────────┬───────────┬──────────────────────────────────────┐\n",
      "│  Latitude  │  Longitude  │        Email         │ PhoneNumber  │ FirstName │                TxnKey                │\n",
      "│   double   │   double    │       varchar        │   varchar    │  varchar  │               varchar                │\n",
      "├────────────┼─────────────┼──────────────────────┼──────────────┼───────────┼──────────────────────────────────────┤\n",
      "│  63.305305 │ -154.303574 │ WMUVtRc@RfjZciH.com  │ 410-815-2637 │ Bertrand  │ 6b691a43-73d9-4784-9397-5a8317418b0f │\n",
      "│ -48.165188 │  -37.616329 │ MxnNAYJ@ExcgPvo.ru   │ 927-108-4615 │ Ivah      │ c76a1661-006e-4824-b8aa-5c6cdb5b888b │\n",
      "│ -10.703768 │   80.755714 │ esLuYnd@gnCGTpb.ru   │ 794-536-1081 │ Milo      │ 438be42c-17a8-4cbd-b099-3819c6c95aa6 │\n",
      "│  -86.62632 │ -160.920425 │ nbTewVT@BeugcbE.net  │ 326-711-0895 │ Serenity  │ babd20ec-0e09-4c24-8cd5-5c4ce92b846a │\n",
      "│ -86.868187 │  -13.870378 │ lDvdkXc@DicIGal.ru   │ 871-069-3124 │ Nicole    │ fe10e21b-758e-49ed-bb52-d82babf5a4ef │\n",
      "│   6.446378 │  -96.131538 │ RhExpiy@rrYjRey.org  │ 151-082-6947 │ Allen     │ 7fafee08-6277-4096-9cfa-984afd8551c3 │\n",
      "│   4.628109 │  134.412033 │ HMCZTlH@UkyfIPW.ru   │ 410-793-8512 │ Luna      │ 77d5683b-213b-47d6-9505-02d327f6d7ae │\n",
      "│  -3.582986 │  -56.134216 │ nISntEc@pVPoGLq.info │ 957-102-1386 │ Leora     │ bd4215bc-8fc8-44d4-9e3c-eb23ab2ae134 │\n",
      "│  58.092495 │ -164.416946 │ fgalToM@hGwCJEm.net  │ 987-452-6103 │ Shana     │ 01a65f86-78ee-467e-ada2-7c083c35c682 │\n",
      "│  33.663731 │  175.896835 │ tvFMwZV@WorrdvN.net  │ 910-843-5217 │ Ottilie   │ fcdf4473-6ddc-46dd-9993-2c8a12bd3603 │\n",
      "├────────────┴─────────────┴──────────────────────┴──────────────┴───────────┴──────────────────────────────────────┤\n",
      "│ 10 rows                                                                                                 6 columns │\n",
      "└───────────────────────────────────────────────────────────────────────────────────────────────────────────────────┘\n",
      "\n"
     ]
    }
   ],
   "source": [
    "cn = duckdb.connect()\n",
    "cn.register_filesystem(filesystem('gcs'))\n",
    "bucket = os.getenv('GCS_BUCKET')\n",
    "gs_path = f\"gs://{bucket}/test_data/data*.csv\"\n",
    "sql = f\"select latitude, longitude, email, phonenumber, firstname, txnkey from read_csv_auto('{gs_path}') limit 10\"\n",
    "cn.sql(sql).show(max_width = 1000)"
   ]
  },
  {
   "cell_type": "code",
   "execution_count": 3,
   "metadata": {},
   "outputs": [
    {
     "name": "stdout",
     "output_type": "stream",
     "text": [
      "┌────────────┬─────────┬────────────────────┬───────────┐\n",
      "│   rpt_dt   │ row_cnt │   tot_net_worth    │ fName_cnt │\n",
      "│    date    │  int64  │       double       │   int64   │\n",
      "├────────────┼─────────┼────────────────────┼───────────┤\n",
      "│ 1986-05-27 │       4 │  6160931.680000001 │         4 │\n",
      "│ 1977-10-23 │       6 │            14263.1 │         6 │\n",
      "│ 2006-02-02 │       7 │           121700.7 │         7 │\n",
      "│ 1979-09-24 │       6 │         1307989.06 │         6 │\n",
      "│ 2011-09-21 │       3 │          611845.71 │         3 │\n",
      "│ 1991-04-04 │      11 │         4839451.42 │        11 │\n",
      "│ 2007-11-06 │       6 │ 3289598.9299999997 │         6 │\n",
      "│ 1988-04-13 │       8 │ 15826.199999999997 │         8 │\n",
      "│ 1995-09-23 │       7 │ 3227815.2199999997 │         7 │\n",
      "│ 1982-10-07 │       3 │          362582.35 │         3 │\n",
      "│     ·      │       · │              ·     │         · │\n",
      "│     ·      │       · │              ·     │         · │\n",
      "│     ·      │       · │              ·     │         · │\n",
      "│ 1998-12-06 │       6 │         5851003.88 │         6 │\n",
      "│ 1978-10-31 │       4 │         1059561.55 │         4 │\n",
      "│ 2017-08-27 │      10 │         4775039.93 │        10 │\n",
      "│ 1985-08-21 │       5 │           542658.1 │         5 │\n",
      "│ 1981-03-19 │       7 │         3627564.03 │         7 │\n",
      "│ 1990-09-23 │       4 │ 361790.88999999996 │         4 │\n",
      "│ 2017-03-27 │       4 │          499411.62 │         4 │\n",
      "│ 2018-06-07 │       9 │  561127.7100000002 │         9 │\n",
      "│ 2020-12-10 │       6 │        15302655.11 │         6 │\n",
      "│ 2016-11-24 │       5 │            73947.1 │         5 │\n",
      "├────────────┴─────────┴────────────────────┴───────────┤\n",
      "│ ? rows (>9999 rows, 20 shown)               4 columns │\n",
      "└───────────────────────────────────────────────────────┘\n",
      "\n"
     ]
    }
   ],
   "source": [
    "b_sql = f\"\"\"\n",
    "select Date as rpt_dt \n",
    "    ,count(*) as row_cnt\n",
    "    ,sum(NetWorth) as tot_net_worth\n",
    "    ,count(distinct firstName) as fName_cnt\n",
    "from read_csv_auto('{gs_path}')\n",
    "group by all\n",
    "\"\"\"\n",
    "cn.sql(b_sql).show()"
   ]
  },
  {
   "cell_type": "code",
   "execution_count": 4,
   "metadata": {},
   "outputs": [
    {
     "data": {
      "text/plain": [
       "<duckdb.duckdb.DuckDBPyConnection at 0x1038731b0>"
      ]
     },
     "execution_count": 4,
     "metadata": {},
     "output_type": "execute_result"
    }
   ],
   "source": [
    "#run query to read csv's from gcs and write results back out to gcs in parquet\n",
    "b_sql = f\"\"\"\n",
    "select Date as rpt_dt \n",
    "    ,count(*) as row_cnt\n",
    "    ,sum(NetWorth) as tot_net_worth\n",
    "    ,count(distinct firstName) as fName_cnt\n",
    "from read_csv_auto('{gs_path}')\n",
    "group by all\n",
    "\"\"\"\n",
    "\n",
    "gs_write_path = f\"gs://{bucket}/test_data/data_tsfm.parquet\"\n",
    "sql = f\"\"\"\n",
    "COPY ({b_sql}) to '{gs_write_path}' (FORMAT PARQUET)\n",
    "\"\"\"\n",
    "\n",
    "cn.execute(sql)"
   ]
  },
  {
   "cell_type": "code",
   "execution_count": 5,
   "metadata": {},
   "outputs": [
    {
     "name": "stdout",
     "output_type": "stream",
     "text": [
      "┌────────────┬─────────┬────────────────────┬───────────┐\n",
      "│   rpt_dt   │ row_cnt │   tot_net_worth    │ fName_cnt │\n",
      "│    date    │  int64  │       double       │   int64   │\n",
      "├────────────┼─────────┼────────────────────┼───────────┤\n",
      "│ 1972-03-27 │       3 │ 427365.48000000004 │         3 │\n",
      "│ 2002-10-18 │       7 │          567661.53 │         7 │\n",
      "│ 1980-11-03 │       5 │  7905259.649999999 │         5 │\n",
      "│ 1995-01-14 │       5 │         1052403.82 │         5 │\n",
      "│ 1975-03-06 │       7 │  8872927.620000001 │         7 │\n",
      "│ 1974-01-19 │       9 │         5837204.09 │         9 │\n",
      "│ 1970-05-20 │       7 │         2234565.54 │         7 │\n",
      "│ 2019-04-19 │       1 │               2.03 │         1 │\n",
      "│ 1995-09-16 │       6 │  82717.98000000001 │         6 │\n",
      "│ 1984-11-25 │       5 │ 2491062.0100000002 │         5 │\n",
      "│     ·      │       · │              ·     │         · │\n",
      "│     ·      │       · │              ·     │         · │\n",
      "│     ·      │       · │              ·     │         · │\n",
      "│ 2016-10-12 │       6 │         7471343.38 │         6 │\n",
      "│ 1983-02-08 │       8 │          9413673.6 │         8 │\n",
      "│ 1986-02-07 │       7 │         3183873.51 │         7 │\n",
      "│ 1974-01-29 │      14 │        32195265.95 │        14 │\n",
      "│ 2014-05-21 │       7 │         4657624.72 │         7 │\n",
      "│ 1999-09-19 │      10 │         7338474.41 │        10 │\n",
      "│ 1989-08-20 │       6 │           87327.29 │         6 │\n",
      "│ 1991-01-18 │       6 │         9868503.43 │         6 │\n",
      "│ 2011-12-20 │       8 │         6345918.91 │         8 │\n",
      "│ 2020-01-04 │       8 │ 390281.58999999997 │         8 │\n",
      "├────────────┴─────────┴────────────────────┴───────────┤\n",
      "│ ? rows (>9999 rows, 20 shown)               4 columns │\n",
      "└───────────────────────────────────────────────────────┘\n",
      "\n"
     ]
    }
   ],
   "source": [
    "sql = f\"\"\"\n",
    "select *\n",
    "from read_parquet('gs://{bucket}/test_data/data_tsfm.parquet')\n",
    "\"\"\"\n",
    "cn.sql(sql).show()"
   ]
  }
 ],
 "metadata": {
  "kernelspec": {
   "display_name": ".venv",
   "language": "python",
   "name": "python3"
  },
  "language_info": {
   "codemirror_mode": {
    "name": "ipython",
    "version": 3
   },
   "file_extension": ".py",
   "mimetype": "text/x-python",
   "name": "python",
   "nbconvert_exporter": "python",
   "pygments_lexer": "ipython3",
   "version": "3.12.3"
  }
 },
 "nbformat": 4,
 "nbformat_minor": 2
}
