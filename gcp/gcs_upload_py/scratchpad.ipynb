{
 "cells": [
  {
   "cell_type": "code",
   "execution_count": 1,
   "metadata": {},
   "outputs": [],
   "source": [
    "\"\"\"\n",
    "    generated test data with: fd create -f 5 -t csv -o ~/test_dummy_data/fd -p data -r 100000\n",
    "\n",
    "\n",
    "    make sure to use default creds for google cloud\n",
    "    \n",
    "\"\"\"\n",
    "\n",
    "import os\n",
    "from google.cloud import storage"
   ]
  },
  {
   "cell_type": "code",
   "execution_count": null,
   "metadata": {},
   "outputs": [],
   "source": [
    "def upload_files_to_gcs_bucket(local_dir: str, gcs_folder: str) -> None:\n",
    "    client = storage.Client()\n",
    "    gcs_bucket_name = os.getenv(\"GCS_BUCKET\")\n",
    "    bucket = client.bucket(gcs_bucket_name)\n",
    "\n",
    "    local_dir = os.path.expanduser(local_dir)\n",
    "\n",
    "    for fname in os.listdir(local_dir):\n",
    "        if fname.endswith(\".csv\"):\n",
    "            f_path = os.path.join(local_dir, fname)\n",
    "            gcs_path = f\"{gcs_folder}/{fname}\"\n",
    "\n",
    "            blob = bucket.blob(gcs_path)\n",
    "            blob.upload_from_filename(f_path)\n",
    "\n",
    "gcs_path = \"test_data\"\n",
    "local_dir = \"~/test_dummy_data/fd/\"\n",
    "upload_files_to_gcs_bucket(local_dir, gcs_path)"
   ]
  },
  {
   "cell_type": "code",
   "execution_count": null,
   "metadata": {},
   "outputs": [],
   "source": [
    "import os\n",
    "from concurrent.futures import ThreadPoolExecutor\n",
    "from google.cloud import storage\n",
    "from google.auth.exceptions import RefreshError\n",
    "\n",
    "def upload_file(bucket, f_path, gcs_path):\n",
    "    try:\n",
    "        blob = bucket.blob(gcs_path)\n",
    "        blob.upload_from_filename(f_path)\n",
    "    except Exception as e:\n",
    "        print(f\"Failed to upload {f_path}: {e}\")\n",
    "\n",
    "\n",
    "def upload_files_par_to_gcs_bucket(local_dir: str, gcs_folder: str) -> None:\n",
    "    try:\n",
    "        client = storage.Client()\n",
    "        gcs_bucket_name = os.getenv(\"GCS_BUCKET\")\n",
    "        \n",
    "        bucket = client.bucket(gcs_bucket_name)\n",
    "        local_dir = os.path.expanduser(local_dir)\n",
    "\n",
    "        with ThreadPoolExecutor() as executor:\n",
    "            for fname in os.listdir(local_dir):\n",
    "                if fname.endswith(\".csv\"):\n",
    "                    f_path = os.path.join(local_dir, fname)\n",
    "                    gcs_path = f\"{gcs_folder}/{fname}\"\n",
    "                    \n",
    "                    executor.submit(upload_file, bucket, f_path, gcs_path)\n",
    "    except RefreshError as e:\n",
    "        print(f\"RefreshError: {e}\")\n",
    "    except Exception as e:\n",
    "        print(f\"An error occurred: {e}\")\n",
    "\n",
    "local_dir = \"~/test_dummy_data/fd/\"\n",
    "gcs_folder = \"test_data\"\n",
    "upload_files_par_to_gcs_bucket(local_dir, gcs_folder)\n"
   ]
  }
 ],
 "metadata": {
  "kernelspec": {
   "display_name": ".venv",
   "language": "python",
   "name": "python3"
  },
  "language_info": {
   "codemirror_mode": {
    "name": "ipython",
    "version": 3
   },
   "file_extension": ".py",
   "mimetype": "text/x-python",
   "name": "python",
   "nbconvert_exporter": "python",
   "pygments_lexer": "ipython3",
   "version": "3.12.3"
  }
 },
 "nbformat": 4,
 "nbformat_minor": 2
}
