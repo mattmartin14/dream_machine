{
 "cells": [
  {
   "cell_type": "code",
   "execution_count": null,
   "metadata": {},
   "outputs": [],
   "source": [
    "from datetime import datetime\n",
    "import pyspark\n",
    "from pyspark.sql.types import StructType, StructField, StringType, IntegerType, DateType\n",
    "from delta import *\n",
    "\n",
    "builder = pyspark.sql.SparkSession.builder.appName(\"MyApp\") \\\n",
    "    .config(\"spark.sql.extensions\", \"io.delta.sql.DeltaSparkSessionExtension\") \\\n",
    "    .config(\"spark.sql.catalog.spark_catalog\", \"org.apache.spark.sql.delta.catalog.DeltaCatalog\")\n",
    "\n",
    "spark = configure_spark_with_delta_pip(builder).getOrCreate()"
   ]
  },
  {
   "cell_type": "code",
   "execution_count": null,
   "metadata": {},
   "outputs": [],
   "source": [
    "def drop_table_if_exists(tbl_path) -> None:\n",
    "    \n",
    "    from delta import DeltaTable\n",
    "\n",
    "    try:\n",
    "        # Load the Delta table\n",
    "        delta_table = DeltaTable.forPath(spark, tbl_path)\n",
    "\n",
    "        # Delete the Delta table\n",
    "        delta_table.delete()\n",
    "    except Exception as e:\n",
    "        pass"
   ]
  },
  {
   "cell_type": "code",
   "execution_count": null,
   "metadata": {},
   "outputs": [],
   "source": [
    "def create_or_replace_delta_table(df, tbl_path) -> None:\n",
    "    try:\n",
    "        df.write.format(\"delta\").mode(\"overwrite\").save(tbl_path)\n",
    "    except Exception as e:\n",
    "        df.write.format(\"delta\").save(tbl_path)"
   ]
  },
  {
   "cell_type": "code",
   "execution_count": null,
   "metadata": {},
   "outputs": [],
   "source": [
    "def build_src_table() -> None:\n",
    "    schema = StructType([\n",
    "        StructField(\"name\", StringType(), True),\n",
    "        StructField(\"age\", IntegerType(), True),\n",
    "        StructField(\"hire_date\", DateType(), True)\n",
    "    ])\n",
    "\n",
    "    data = [\n",
    "        (\"Matt\", 20, datetime(2022,8,19)),\n",
    "        (\"Bill\", 35, datetime(2023,4,15)),\n",
    "        (\"Nancy\", 57, datetime(2022,4,23)),\n",
    "        (\"Rachel\", 19, datetime(2021,6,7)),\n",
    "    ]\n",
    "\n",
    "    df = spark.createDataFrame(data, schema=schema)\n",
    "    create_or_replace_delta_table(df, \"/home/jovyan/work/src_ppl\")"
   ]
  },
  {
   "cell_type": "code",
   "execution_count": null,
   "metadata": {},
   "outputs": [],
   "source": [
    "build_src_table()"
   ]
  }
 ],
 "metadata": {
  "language_info": {
   "name": "python"
  }
 },
 "nbformat": 4,
 "nbformat_minor": 2
}
